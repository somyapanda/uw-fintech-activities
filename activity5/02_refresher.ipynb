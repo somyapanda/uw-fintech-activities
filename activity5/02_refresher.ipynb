{
 "cells": [
  {
   "cell_type": "code",
   "execution_count": 1,
   "metadata": {},
   "outputs": [
    {
     "data": {
      "text/plain": [
       "'Refresher activity.\\n\\nThis script will use variables, conditionals, lists, dicts, and functions\\nto print out different greetings for customers based on their\\nbusiness tier (determined by revenue).\\n'"
      ]
     },
     "execution_count": 1,
     "metadata": {},
     "output_type": "execute_result"
    }
   ],
   "source": [
    "# -*- coding: utf-8 -*-\n",
    "\"\"\"Refresher activity.\n",
    "\n",
    "This script will use variables, conditionals, lists, dicts, and functions\n",
    "to print out different greetings for customers based on their\n",
    "business tier (determined by revenue).\n",
    "\"\"\"\n"
   ]
  },
  {
   "cell_type": "code",
   "execution_count": 3,
   "metadata": {},
   "outputs": [],
   "source": [
    "#List of dicts\n",
    "customers = [\n",
    "    { \"first_name\": \"Tom\", \"last_name\": \"Bell\", \"revenue\": 0 },\n",
    "    { \"first_name\": \"Maggie\", \"last_name\": \"Johnson\", \"revenue\": 1032 },\n",
    "    { \"first_name\": \"John\", \"last_name\": \"Spectre\", \"revenue\": 2543 },\n",
    "    { \"first_name\": \"Susy\", \"last_name\": \"Simmons\", \"revenue\": 5322 }\n",
    "]"
   ]
  },
  {
   "cell_type": "code",
   "execution_count": 10,
   "metadata": {},
   "outputs": [],
   "source": [
    "#Define a function that accepts a customer first_name, last_name, and revenue and returns a custom greeting with the full name.\n",
    "def create_greeting(first_name, last_name, revenue):\n",
    "    \n",
    "    greeting = \"\"\n",
    "    \n",
    "    \"\"\"\n",
    "    Create a customer greetings based on revenue status.\n",
    "    Take parameters as customer's first name, last name and revenue earned by the customer.\n",
    "    Returns customized greeting string.\n",
    "    \n",
    "    \"\"\"\n",
    "    # Use these ranges to determine the business tier (and corresponding message)\n",
    "    # for each customer.\n",
    "    #   Platinum = 3001+\n",
    "    #   Gold = 2001-3000\n",
    "    #   Silver = 1001-2000\n",
    "    #   Bronze = 0-1000\n",
    "    if revenue > 3000:\n",
    "        greeting = f\"Hi {first_name} {last_name}! Thank you for your bussiness of ${revenue}! You are a Platinum member.\"\n",
    "    elif revenue > 2000 and revenue <= 3000:\n",
    "        greeting = f\"Hi {first_name} {last_name}! Thank you for your bussiness of ${revenue}! You are a Gold member.\"\n",
    "    elif revenue > 1000 and revenue <= 2000:\n",
    "        greeting = f\"Hi {first_name} {last_name}! Thank you for your bussiness of ${revenue}! You are a Silver member.\"\n",
    "    elif revenue >= 0 and revenue <= 1000:\n",
    "         greeting = f\"Hi {first_name} {last_name}! Thank you for your bussiness of ${revenue}! You are a Bronze member.\"\n",
    "                \n",
    "    return greeting"
   ]
  },
  {
   "cell_type": "code",
   "execution_count": 11,
   "metadata": {},
   "outputs": [
    {
     "name": "stdout",
     "output_type": "stream",
     "text": [
      "Hi Tom Bell! Thank you for your bussiness of $0! You are a Bronze member.\n",
      "Hi Maggie Johnson! Thank you for your bussiness of $1032! You are a Silver member.\n",
      "Hi John Spectre! Thank you for your bussiness of $2543! You are a Gold member.\n",
      "Hi Susy Simmons! Thank you for your bussiness of $5322! You are a Platinum member.\n"
     ]
    }
   ],
   "source": [
    "#Loop through the list of customers and use your function to print\n",
    "for customer in customers:\n",
    "    greeting = create_greeting(customer['first_name'], customer['last_name'], customer['revenue'])\n",
    "    print(greeting)\n"
   ]
  },
  {
   "cell_type": "code",
   "execution_count": null,
   "metadata": {},
   "outputs": [],
   "source": []
  }
 ],
 "metadata": {
  "kernelspec": {
   "display_name": "Python 3",
   "language": "python",
   "name": "python3"
  },
  "language_info": {
   "codemirror_mode": {
    "name": "ipython",
    "version": 3
   },
   "file_extension": ".py",
   "mimetype": "text/x-python",
   "name": "python",
   "nbconvert_exporter": "python",
   "pygments_lexer": "ipython3",
   "version": "3.7.9"
  }
 },
 "nbformat": 4,
 "nbformat_minor": 4
}
