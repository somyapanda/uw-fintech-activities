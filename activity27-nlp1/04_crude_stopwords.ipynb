{
 "cells": [
  {
   "cell_type": "markdown",
   "metadata": {},
   "source": [
    "# Students Do: Crude Stopwords\n",
    "For this activity, create a function that takes in an article and outputs a list of words that is free of stopwords and any non-letter characters. After looking at the results, define your own list of stopwords to add to the NLTK default set. "
   ]
  },
  {
   "cell_type": "code",
   "execution_count": 1,
   "metadata": {},
   "outputs": [
    {
     "name": "stderr",
     "output_type": "stream",
     "text": [
      "[nltk_data] Downloading package reuters to /Users/soma/nltk_data...\n",
      "[nltk_data]   Package reuters is already up-to-date!\n",
      "[nltk_data] Downloading package punkt to /Users/soma/nltk_data...\n",
      "[nltk_data]   Package punkt is already up-to-date!\n",
      "[nltk_data] Downloading package stopwords to /Users/soma/nltk_data...\n",
      "[nltk_data]   Package stopwords is already up-to-date!\n"
     ]
    },
    {
     "data": {
      "text/plain": [
       "True"
      ]
     },
     "execution_count": 1,
     "metadata": {},
     "output_type": "execute_result"
    }
   ],
   "source": [
    "from nltk.corpus import reuters, stopwords\n",
    "from nltk.tokenize import word_tokenize\n",
    "import re\n",
    "\n",
    "# Code to download corpora\n",
    "import nltk\n",
    "nltk.download('reuters')\n",
    "nltk.download('punkt')\n",
    "nltk.download('stopwords')"
   ]
  },
  {
   "cell_type": "code",
   "execution_count": 2,
   "metadata": {},
   "outputs": [],
   "source": [
    "crude_article = reuters.raw(fileids=reuters.fileids(categories='crude')[2])"
   ]
  },
  {
   "cell_type": "code",
   "execution_count": 3,
   "metadata": {},
   "outputs": [
    {
     "name": "stdout",
     "output_type": "stream",
     "text": [
      "TURKEY CALLS FOR DIALOGUE TO SOLVE DISPUTE\n",
      "  Turkey said today its disputes with\n",
      "  Greece, including rights on the continental shelf in the Aegean\n",
      "  Sea, should be solved through negotiations.\n",
      "      A Foreign Ministry statement said the latest crisis between\n",
      "  the two NATO members stemmed from the continental shelf dispute\n",
      "  and an agreement on this issue would effect the security,\n",
      "  economy and other rights of both countries.\n",
      "      \"As the issue is basicly political, a solution can only be\n",
      "  found by bilateral negotiations,\" the statement said. Greece has\n",
      "  repeatedly said the issue was legal and could be solved at the\n",
      "  International Court of Justice.\n",
      "      The two countries approached armed confrontation last month\n",
      "  after Greece announced it planned oil exploration work in the\n",
      "  Aegean and Turkey said it would also search for oil.\n",
      "      A face-off was averted when Turkey confined its research to\n",
      "  territorrial waters. \"The latest crises created an historic\n",
      "  opportunity to solve the disputes between the two countries,\"\n",
      "  the Foreign Ministry statement said.\n",
      "      Turkey's ambassador in Athens, Nazmi Akiman, was due to\n",
      "  meet Prime Minister Andreas Papandreou today for the Greek\n",
      "  reply to a message sent last week by Turkish Prime Minister\n",
      "  Turgut Ozal. The contents of the message were not disclosed.\n",
      "  \n",
      "\n",
      "\n"
     ]
    }
   ],
   "source": [
    "print(crude_article)"
   ]
  },
  {
   "cell_type": "code",
   "execution_count": 4,
   "metadata": {},
   "outputs": [],
   "source": [
    "# define stopwording and regexsw = set(stopwords.words('english'))\n",
    "def clean_text(article):\n",
    "    sw = set(stopwords.words('english'))\n",
    "    regex = re.compile(\"[^a-zA-Z0-9 ]\")\n",
    "    re_clean = regex.sub('', article)\n",
    "    words = word_tokenize(re_clean)\n",
    "    output = [word.lower() for word in words if word.lower() not in sw.union()]\n",
    "    return output"
   ]
  },
  {
   "cell_type": "code",
   "execution_count": 5,
   "metadata": {},
   "outputs": [
    {
     "name": "stdout",
     "output_type": "stream",
     "text": [
      "{'dispute', 'solved', 'planned', 'armed', 'effect', 'sea', 'nazmi', 'ministry', 'issue', 'historic', 'nato', 'last', 'latest', 'political', 'repeatedly', 'also', 'faceoff', 'ambassador', 'today', 'members', 'said', 'waters', 'approached', 'turkeys', 'solve', 'reply', 'greek', 'sent', 'court', 'search', 'oil', 'prime', 'international', 'turkey', 'created', 'averted', 'disclosed', 'found', 'statement', 'announced', 'rights', 'two', 'could', 'countries', 'economy', 'basicly', 'andreas', 'akiman', 'aegean', 'meet', 'exploration', 'including', 'justice', 'opportunity', 'agreement', 'dialogue', 'confined', 'disputes', 'legal', 'turkish', 'due', 'territorrial', 'crisis', 'continental', 'athens', 'would', 'research', 'turgut', 'security', 'month', 'papandreou', 'calls', 'week', 'contents', 'confrontation', 'bilateral', 'crises', 'solution', 'work', 'ozal', 'greece', 'negotiations', 'stemmed', 'shelf', 'foreign', 'minister', 'message'}\n"
     ]
    }
   ],
   "source": [
    "# inspect the results of clean_text() \n",
    "result = clean_text(crude_article)\n",
    "print(set(result))"
   ]
  },
  {
   "cell_type": "code",
   "execution_count": 6,
   "metadata": {},
   "outputs": [],
   "source": [
    "# second iteration, with custom stopwords\n",
    "def clean_text(article):\n",
    "    sw = set(stopwords.words('english'))\n",
    "    sw_addons = {'said', 'sent', 'found', 'including', 'today', 'announced', 'week', 'basically', 'also'}\n",
    "    regex = re.compile(\"[^a-zA-Z ]\")\n",
    "    re_clean = regex.sub('', article)\n",
    "    words = word_tokenize(re_clean)\n",
    "    output = [word.lower() for word in words if word.lower() not in sw.union(sw_addons)]\n",
    "    return output"
   ]
  },
  {
   "cell_type": "code",
   "execution_count": 7,
   "metadata": {},
   "outputs": [
    {
     "name": "stdout",
     "output_type": "stream",
     "text": [
      "{'dispute', 'solved', 'planned', 'armed', 'effect', 'sea', 'nazmi', 'ministry', 'issue', 'historic', 'nato', 'last', 'latest', 'political', 'repeatedly', 'faceoff', 'ambassador', 'members', 'waters', 'approached', 'turkeys', 'solve', 'reply', 'greek', 'court', 'search', 'oil', 'prime', 'international', 'turkey', 'created', 'averted', 'disclosed', 'statement', 'rights', 'two', 'could', 'countries', 'economy', 'basicly', 'andreas', 'akiman', 'aegean', 'meet', 'exploration', 'justice', 'opportunity', 'agreement', 'dialogue', 'confined', 'disputes', 'legal', 'turkish', 'due', 'territorrial', 'crisis', 'continental', 'athens', 'would', 'research', 'turgut', 'security', 'month', 'papandreou', 'calls', 'contents', 'confrontation', 'bilateral', 'crises', 'solution', 'work', 'ozal', 'greece', 'negotiations', 'stemmed', 'shelf', 'foreign', 'minister', 'message'}\n"
     ]
    }
   ],
   "source": [
    "result2 = clean_text(crude_article)\n",
    "print(set(result2))"
   ]
  },
  {
   "cell_type": "code",
   "execution_count": null,
   "metadata": {},
   "outputs": [],
   "source": []
  }
 ],
 "metadata": {
  "kernelspec": {
   "display_name": "Python 3",
   "language": "python",
   "name": "python3"
  },
  "language_info": {
   "codemirror_mode": {
    "name": "ipython",
    "version": 3
   },
   "file_extension": ".py",
   "mimetype": "text/x-python",
   "name": "python",
   "nbconvert_exporter": "python",
   "pygments_lexer": "ipython3",
   "version": "3.7.7"
  }
 },
 "nbformat": 4,
 "nbformat_minor": 4
}
