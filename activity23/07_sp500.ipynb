{
 "cells": [
  {
   "cell_type": "code",
   "execution_count": 1,
   "metadata": {},
   "outputs": [],
   "source": [
    "import pandas as pd\n",
    "import numpy as np\n",
    "from sklearn.linear_model import LinearRegression\n",
    "%matplotlib inline"
   ]
  },
  {
   "cell_type": "code",
   "execution_count": 2,
   "metadata": {},
   "outputs": [],
   "source": [
    "from pathlib import Path\n",
    "csvpath = Path('Resources/GSPC.csv')\n",
    "df = pd.read_csv(csvpath, parse_dates=True, index_col='Date')"
   ]
  },
  {
   "cell_type": "code",
   "execution_count": 3,
   "metadata": {},
   "outputs": [
    {
     "data": {
      "text/html": [
       "<div>\n",
       "<style scoped>\n",
       "    .dataframe tbody tr th:only-of-type {\n",
       "        vertical-align: middle;\n",
       "    }\n",
       "\n",
       "    .dataframe tbody tr th {\n",
       "        vertical-align: top;\n",
       "    }\n",
       "\n",
       "    .dataframe thead th {\n",
       "        text-align: right;\n",
       "    }\n",
       "</style>\n",
       "<table border=\"1\" class=\"dataframe\">\n",
       "  <thead>\n",
       "    <tr style=\"text-align: right;\">\n",
       "      <th></th>\n",
       "      <th>Open</th>\n",
       "      <th>High</th>\n",
       "      <th>Low</th>\n",
       "      <th>Close</th>\n",
       "      <th>Adj Close</th>\n",
       "      <th>Volume</th>\n",
       "      <th>Return</th>\n",
       "      <th>Lagged_Return</th>\n",
       "    </tr>\n",
       "    <tr>\n",
       "      <th>Date</th>\n",
       "      <th></th>\n",
       "      <th></th>\n",
       "      <th></th>\n",
       "      <th></th>\n",
       "      <th></th>\n",
       "      <th></th>\n",
       "      <th></th>\n",
       "      <th></th>\n",
       "    </tr>\n",
       "  </thead>\n",
       "  <tbody>\n",
       "    <tr>\n",
       "      <th>1997-01-06</th>\n",
       "      <td>748.030029</td>\n",
       "      <td>753.309998</td>\n",
       "      <td>743.820007</td>\n",
       "      <td>747.650024</td>\n",
       "      <td>747.650024</td>\n",
       "      <td>531350000</td>\n",
       "      <td>-0.050801</td>\n",
       "      <td>1.495233</td>\n",
       "    </tr>\n",
       "    <tr>\n",
       "      <th>1997-01-07</th>\n",
       "      <td>747.650024</td>\n",
       "      <td>753.260010</td>\n",
       "      <td>742.179993</td>\n",
       "      <td>753.229980</td>\n",
       "      <td>753.229980</td>\n",
       "      <td>538220000</td>\n",
       "      <td>0.746333</td>\n",
       "      <td>-0.050801</td>\n",
       "    </tr>\n",
       "    <tr>\n",
       "      <th>1997-01-08</th>\n",
       "      <td>753.229980</td>\n",
       "      <td>755.719971</td>\n",
       "      <td>747.710022</td>\n",
       "      <td>748.409973</td>\n",
       "      <td>748.409973</td>\n",
       "      <td>557510000</td>\n",
       "      <td>-0.639912</td>\n",
       "      <td>0.746333</td>\n",
       "    </tr>\n",
       "    <tr>\n",
       "      <th>1997-01-09</th>\n",
       "      <td>748.409973</td>\n",
       "      <td>757.679993</td>\n",
       "      <td>748.409973</td>\n",
       "      <td>754.849976</td>\n",
       "      <td>754.849976</td>\n",
       "      <td>555370000</td>\n",
       "      <td>0.860491</td>\n",
       "      <td>-0.639912</td>\n",
       "    </tr>\n",
       "    <tr>\n",
       "      <th>1997-01-10</th>\n",
       "      <td>754.849976</td>\n",
       "      <td>759.650024</td>\n",
       "      <td>746.919983</td>\n",
       "      <td>759.500000</td>\n",
       "      <td>759.500000</td>\n",
       "      <td>545850000</td>\n",
       "      <td>0.616020</td>\n",
       "      <td>0.860491</td>\n",
       "    </tr>\n",
       "  </tbody>\n",
       "</table>\n",
       "</div>"
      ],
      "text/plain": [
       "                  Open        High         Low       Close   Adj Close  \\\n",
       "Date                                                                     \n",
       "1997-01-06  748.030029  753.309998  743.820007  747.650024  747.650024   \n",
       "1997-01-07  747.650024  753.260010  742.179993  753.229980  753.229980   \n",
       "1997-01-08  753.229980  755.719971  747.710022  748.409973  748.409973   \n",
       "1997-01-09  748.409973  757.679993  748.409973  754.849976  754.849976   \n",
       "1997-01-10  754.849976  759.650024  746.919983  759.500000  759.500000   \n",
       "\n",
       "               Volume    Return  Lagged_Return  \n",
       "Date                                            \n",
       "1997-01-06  531350000 -0.050801       1.495233  \n",
       "1997-01-07  538220000  0.746333      -0.050801  \n",
       "1997-01-08  557510000 -0.639912       0.746333  \n",
       "1997-01-09  555370000  0.860491      -0.639912  \n",
       "1997-01-10  545850000  0.616020       0.860491  "
      ]
     },
     "execution_count": 3,
     "metadata": {},
     "output_type": "execute_result"
    }
   ],
   "source": [
    "df['Return'] = df.Close.pct_change() * 100\n",
    "df['Lagged_Return'] = df.Return.shift()\n",
    "df = df.dropna()\n",
    "df.head()"
   ]
  },
  {
   "cell_type": "code",
   "execution_count": 5,
   "metadata": {},
   "outputs": [
    {
     "data": {
      "text/plain": [
       "PeriodIndex(['1997-01-06/1997-01-12', '1997-01-06/1997-01-12',\n",
       "             '1997-01-06/1997-01-12', '1997-01-06/1997-01-12',\n",
       "             '1997-01-06/1997-01-12', '1997-01-13/1997-01-19',\n",
       "             '1997-01-13/1997-01-19', '1997-01-13/1997-01-19',\n",
       "             '1997-01-13/1997-01-19', '1997-01-13/1997-01-19',\n",
       "             ...\n",
       "             '2013-12-16/2013-12-22', '2013-12-16/2013-12-22',\n",
       "             '2013-12-16/2013-12-22', '2013-12-16/2013-12-22',\n",
       "             '2013-12-23/2013-12-29', '2013-12-23/2013-12-29',\n",
       "             '2013-12-23/2013-12-29', '2013-12-23/2013-12-29',\n",
       "             '2013-12-30/2014-01-05', '2013-12-30/2014-01-05'],\n",
       "            dtype='period[W-SUN]', name='Date', length=4276, freq='W-SUN')"
      ]
     },
     "execution_count": 5,
     "metadata": {},
     "output_type": "execute_result"
    }
   ],
   "source": [
    "# to_period(\"w\") splits the series into weekly increments\n",
    "df.index.to_period(\"w\")"
   ]
  },
  {
   "cell_type": "code",
   "execution_count": 6,
   "metadata": {},
   "outputs": [
    {
     "data": {
      "text/plain": [
       "PeriodIndex(['1997-01-06/1997-01-12', '1997-01-13/1997-01-19',\n",
       "             '1997-01-20/1997-01-26', '1997-01-27/1997-02-02',\n",
       "             '1997-02-03/1997-02-09', '1997-02-10/1997-02-16',\n",
       "             '1997-02-17/1997-02-23', '1997-02-24/1997-03-02',\n",
       "             '1997-03-03/1997-03-09', '1997-03-10/1997-03-16',\n",
       "             ...\n",
       "             '2013-10-28/2013-11-03', '2013-11-04/2013-11-10',\n",
       "             '2013-11-11/2013-11-17', '2013-11-18/2013-11-24',\n",
       "             '2013-11-25/2013-12-01', '2013-12-02/2013-12-08',\n",
       "             '2013-12-09/2013-12-15', '2013-12-16/2013-12-22',\n",
       "             '2013-12-23/2013-12-29', '2013-12-30/2014-01-05'],\n",
       "            dtype='period[W-SUN]', name='Date', length=887, freq='W-SUN')"
      ]
     },
     "execution_count": 6,
     "metadata": {},
     "output_type": "execute_result"
    }
   ],
   "source": [
    "# construct a list of all Pandas weekly periods that are in the dataset:\n",
    "weeks = df.index.to_period(\"w\").unique()\n",
    "weeks"
   ]
  },
  {
   "cell_type": "markdown",
   "metadata": {},
   "source": [
    "### Time Calculations\n",
    "\n",
    "The following example shows the calculations for the first training period and the first testing period"
   ]
  },
  {
   "cell_type": "code",
   "execution_count": 7,
   "metadata": {},
   "outputs": [],
   "source": [
    "# Training Window (26 weeks)\n",
    "training_window = 26"
   ]
  },
  {
   "cell_type": "code",
   "execution_count": 9,
   "metadata": {},
   "outputs": [],
   "source": [
    "def format_datetime(val):\n",
    "    return val.strftime(format=\"%Y-%m-%d\")"
   ]
  },
  {
   "cell_type": "code",
   "execution_count": 10,
   "metadata": {},
   "outputs": [
    {
     "data": {
      "text/plain": [
       "'1997-01-06'"
      ]
     },
     "execution_count": 10,
     "metadata": {},
     "output_type": "execute_result"
    }
   ],
   "source": [
    "# Beginning of training window\n",
    "start_of_training_period = weeks[0].start_time.strftime(format=\"%Y-%m-%d\")\n",
    "start_of_training_period"
   ]
  },
  {
   "cell_type": "code",
   "execution_count": 11,
   "metadata": {},
   "outputs": [
    {
     "data": {
      "text/plain": [
       "'1997-07-07'"
      ]
     },
     "execution_count": 11,
     "metadata": {},
     "output_type": "execute_result"
    }
   ],
   "source": [
    "# End of training window\n",
    "end_of_training_period = weeks[training_window + 0].start_time.strftime(format=\"%Y-%m-%d\")\n",
    "end_of_training_period"
   ]
  },
  {
   "cell_type": "code",
   "execution_count": 12,
   "metadata": {},
   "outputs": [
    {
     "data": {
      "text/plain": [
       "Period('1997-07-14/1997-07-20', 'W-SUN')"
      ]
     },
     "execution_count": 12,
     "metadata": {},
     "output_type": "execute_result"
    }
   ],
   "source": [
    "# The week of the first test window\n",
    "test_week = weeks[training_window + 0 + 1]\n",
    "test_week"
   ]
  },
  {
   "cell_type": "code",
   "execution_count": 13,
   "metadata": {},
   "outputs": [
    {
     "data": {
      "text/plain": [
       "'1997-07-14'"
      ]
     },
     "execution_count": 13,
     "metadata": {},
     "output_type": "execute_result"
    }
   ],
   "source": [
    "# The first day of the test week\n",
    "start_of_test_week  = test_week.start_time.strftime(format=\"%Y-%m-%d\")\n",
    "start_of_test_week"
   ]
  },
  {
   "cell_type": "code",
   "execution_count": 14,
   "metadata": {},
   "outputs": [
    {
     "data": {
      "text/plain": [
       "'1997-07-20'"
      ]
     },
     "execution_count": 14,
     "metadata": {},
     "output_type": "execute_result"
    }
   ],
   "source": [
    "# The last day of the test week\n",
    "end_of_test_week = test_week.end_time.strftime(format=\"%Y-%m-%d\")\n",
    "end_of_test_week"
   ]
  },
  {
   "cell_type": "code",
   "execution_count": 15,
   "metadata": {},
   "outputs": [
    {
     "data": {
      "text/html": [
       "<div>\n",
       "<style scoped>\n",
       "    .dataframe tbody tr th:only-of-type {\n",
       "        vertical-align: middle;\n",
       "    }\n",
       "\n",
       "    .dataframe tbody tr th {\n",
       "        vertical-align: top;\n",
       "    }\n",
       "\n",
       "    .dataframe thead th {\n",
       "        text-align: right;\n",
       "    }\n",
       "</style>\n",
       "<table border=\"1\" class=\"dataframe\">\n",
       "  <thead>\n",
       "    <tr style=\"text-align: right;\">\n",
       "      <th></th>\n",
       "      <th>Open</th>\n",
       "      <th>High</th>\n",
       "      <th>Low</th>\n",
       "      <th>Close</th>\n",
       "      <th>Adj Close</th>\n",
       "      <th>Volume</th>\n",
       "      <th>Return</th>\n",
       "      <th>Lagged_Return</th>\n",
       "    </tr>\n",
       "    <tr>\n",
       "      <th>Date</th>\n",
       "      <th></th>\n",
       "      <th></th>\n",
       "      <th></th>\n",
       "      <th></th>\n",
       "      <th></th>\n",
       "      <th></th>\n",
       "      <th></th>\n",
       "      <th></th>\n",
       "    </tr>\n",
       "  </thead>\n",
       "  <tbody>\n",
       "    <tr>\n",
       "      <th>1997-01-06</th>\n",
       "      <td>748.030029</td>\n",
       "      <td>753.309998</td>\n",
       "      <td>743.820007</td>\n",
       "      <td>747.650024</td>\n",
       "      <td>747.650024</td>\n",
       "      <td>531350000</td>\n",
       "      <td>-0.050801</td>\n",
       "      <td>1.495233</td>\n",
       "    </tr>\n",
       "    <tr>\n",
       "      <th>1997-01-07</th>\n",
       "      <td>747.650024</td>\n",
       "      <td>753.260010</td>\n",
       "      <td>742.179993</td>\n",
       "      <td>753.229980</td>\n",
       "      <td>753.229980</td>\n",
       "      <td>538220000</td>\n",
       "      <td>0.746333</td>\n",
       "      <td>-0.050801</td>\n",
       "    </tr>\n",
       "    <tr>\n",
       "      <th>1997-01-08</th>\n",
       "      <td>753.229980</td>\n",
       "      <td>755.719971</td>\n",
       "      <td>747.710022</td>\n",
       "      <td>748.409973</td>\n",
       "      <td>748.409973</td>\n",
       "      <td>557510000</td>\n",
       "      <td>-0.639912</td>\n",
       "      <td>0.746333</td>\n",
       "    </tr>\n",
       "    <tr>\n",
       "      <th>1997-01-09</th>\n",
       "      <td>748.409973</td>\n",
       "      <td>757.679993</td>\n",
       "      <td>748.409973</td>\n",
       "      <td>754.849976</td>\n",
       "      <td>754.849976</td>\n",
       "      <td>555370000</td>\n",
       "      <td>0.860491</td>\n",
       "      <td>-0.639912</td>\n",
       "    </tr>\n",
       "    <tr>\n",
       "      <th>1997-01-10</th>\n",
       "      <td>754.849976</td>\n",
       "      <td>759.650024</td>\n",
       "      <td>746.919983</td>\n",
       "      <td>759.500000</td>\n",
       "      <td>759.500000</td>\n",
       "      <td>545850000</td>\n",
       "      <td>0.616020</td>\n",
       "      <td>0.860491</td>\n",
       "    </tr>\n",
       "    <tr>\n",
       "      <th>...</th>\n",
       "      <td>...</td>\n",
       "      <td>...</td>\n",
       "      <td>...</td>\n",
       "      <td>...</td>\n",
       "      <td>...</td>\n",
       "      <td>...</td>\n",
       "      <td>...</td>\n",
       "      <td>...</td>\n",
       "    </tr>\n",
       "    <tr>\n",
       "      <th>1997-06-30</th>\n",
       "      <td>887.299988</td>\n",
       "      <td>892.619995</td>\n",
       "      <td>879.820007</td>\n",
       "      <td>885.140015</td>\n",
       "      <td>885.140015</td>\n",
       "      <td>561540000</td>\n",
       "      <td>-0.243432</td>\n",
       "      <td>0.409650</td>\n",
       "    </tr>\n",
       "    <tr>\n",
       "      <th>1997-07-01</th>\n",
       "      <td>885.140015</td>\n",
       "      <td>893.880005</td>\n",
       "      <td>884.539978</td>\n",
       "      <td>891.030029</td>\n",
       "      <td>891.030029</td>\n",
       "      <td>544190000</td>\n",
       "      <td>0.665433</td>\n",
       "      <td>-0.243432</td>\n",
       "    </tr>\n",
       "    <tr>\n",
       "      <th>1997-07-02</th>\n",
       "      <td>891.030029</td>\n",
       "      <td>904.049988</td>\n",
       "      <td>891.030029</td>\n",
       "      <td>904.030029</td>\n",
       "      <td>904.030029</td>\n",
       "      <td>526970000</td>\n",
       "      <td>1.458986</td>\n",
       "      <td>0.665433</td>\n",
       "    </tr>\n",
       "    <tr>\n",
       "      <th>1997-07-03</th>\n",
       "      <td>904.030029</td>\n",
       "      <td>917.820007</td>\n",
       "      <td>904.030029</td>\n",
       "      <td>916.919983</td>\n",
       "      <td>916.919983</td>\n",
       "      <td>374680000</td>\n",
       "      <td>1.425833</td>\n",
       "      <td>1.458986</td>\n",
       "    </tr>\n",
       "    <tr>\n",
       "      <th>1997-07-07</th>\n",
       "      <td>916.919983</td>\n",
       "      <td>923.260010</td>\n",
       "      <td>909.690002</td>\n",
       "      <td>912.200012</td>\n",
       "      <td>912.200012</td>\n",
       "      <td>518780000</td>\n",
       "      <td>-0.514764</td>\n",
       "      <td>1.425833</td>\n",
       "    </tr>\n",
       "  </tbody>\n",
       "</table>\n",
       "<p>127 rows × 8 columns</p>\n",
       "</div>"
      ],
      "text/plain": [
       "                  Open        High         Low       Close   Adj Close  \\\n",
       "Date                                                                     \n",
       "1997-01-06  748.030029  753.309998  743.820007  747.650024  747.650024   \n",
       "1997-01-07  747.650024  753.260010  742.179993  753.229980  753.229980   \n",
       "1997-01-08  753.229980  755.719971  747.710022  748.409973  748.409973   \n",
       "1997-01-09  748.409973  757.679993  748.409973  754.849976  754.849976   \n",
       "1997-01-10  754.849976  759.650024  746.919983  759.500000  759.500000   \n",
       "...                ...         ...         ...         ...         ...   \n",
       "1997-06-30  887.299988  892.619995  879.820007  885.140015  885.140015   \n",
       "1997-07-01  885.140015  893.880005  884.539978  891.030029  891.030029   \n",
       "1997-07-02  891.030029  904.049988  891.030029  904.030029  904.030029   \n",
       "1997-07-03  904.030029  917.820007  904.030029  916.919983  916.919983   \n",
       "1997-07-07  916.919983  923.260010  909.690002  912.200012  912.200012   \n",
       "\n",
       "               Volume    Return  Lagged_Return  \n",
       "Date                                            \n",
       "1997-01-06  531350000 -0.050801       1.495233  \n",
       "1997-01-07  538220000  0.746333      -0.050801  \n",
       "1997-01-08  557510000 -0.639912       0.746333  \n",
       "1997-01-09  555370000  0.860491      -0.639912  \n",
       "1997-01-10  545850000  0.616020       0.860491  \n",
       "...               ...       ...            ...  \n",
       "1997-06-30  561540000 -0.243432       0.409650  \n",
       "1997-07-01  544190000  0.665433      -0.243432  \n",
       "1997-07-02  526970000  1.458986       0.665433  \n",
       "1997-07-03  374680000  1.425833       1.458986  \n",
       "1997-07-07  518780000 -0.514764       1.425833  \n",
       "\n",
       "[127 rows x 8 columns]"
      ]
     },
     "execution_count": 15,
     "metadata": {},
     "output_type": "execute_result"
    }
   ],
   "source": [
    "# Training data with just one window\n",
    "train = df[start_of_training_period:end_of_training_period]\n",
    "train"
   ]
  },
  {
   "cell_type": "code",
   "execution_count": 16,
   "metadata": {},
   "outputs": [
    {
     "data": {
      "text/html": [
       "<div>\n",
       "<style scoped>\n",
       "    .dataframe tbody tr th:only-of-type {\n",
       "        vertical-align: middle;\n",
       "    }\n",
       "\n",
       "    .dataframe tbody tr th {\n",
       "        vertical-align: top;\n",
       "    }\n",
       "\n",
       "    .dataframe thead th {\n",
       "        text-align: right;\n",
       "    }\n",
       "</style>\n",
       "<table border=\"1\" class=\"dataframe\">\n",
       "  <thead>\n",
       "    <tr style=\"text-align: right;\">\n",
       "      <th></th>\n",
       "      <th>Open</th>\n",
       "      <th>High</th>\n",
       "      <th>Low</th>\n",
       "      <th>Close</th>\n",
       "      <th>Adj Close</th>\n",
       "      <th>Volume</th>\n",
       "      <th>Return</th>\n",
       "      <th>Lagged_Return</th>\n",
       "    </tr>\n",
       "    <tr>\n",
       "      <th>Date</th>\n",
       "      <th></th>\n",
       "      <th></th>\n",
       "      <th></th>\n",
       "      <th></th>\n",
       "      <th></th>\n",
       "      <th></th>\n",
       "      <th></th>\n",
       "      <th></th>\n",
       "    </tr>\n",
       "  </thead>\n",
       "  <tbody>\n",
       "    <tr>\n",
       "      <th>1997-07-14</th>\n",
       "      <td>916.679993</td>\n",
       "      <td>921.780029</td>\n",
       "      <td>912.020020</td>\n",
       "      <td>918.380005</td>\n",
       "      <td>918.380005</td>\n",
       "      <td>485960000</td>\n",
       "      <td>0.185453</td>\n",
       "      <td>0.317359</td>\n",
       "    </tr>\n",
       "    <tr>\n",
       "      <th>1997-07-15</th>\n",
       "      <td>918.380005</td>\n",
       "      <td>926.150024</td>\n",
       "      <td>914.520020</td>\n",
       "      <td>925.760010</td>\n",
       "      <td>925.760010</td>\n",
       "      <td>598370000</td>\n",
       "      <td>0.803589</td>\n",
       "      <td>0.185453</td>\n",
       "    </tr>\n",
       "    <tr>\n",
       "      <th>1997-07-16</th>\n",
       "      <td>925.760010</td>\n",
       "      <td>939.320007</td>\n",
       "      <td>925.760010</td>\n",
       "      <td>936.590027</td>\n",
       "      <td>936.590027</td>\n",
       "      <td>647390000</td>\n",
       "      <td>1.169851</td>\n",
       "      <td>0.803589</td>\n",
       "    </tr>\n",
       "    <tr>\n",
       "      <th>1997-07-17</th>\n",
       "      <td>936.590027</td>\n",
       "      <td>936.960022</td>\n",
       "      <td>927.900024</td>\n",
       "      <td>931.609985</td>\n",
       "      <td>931.609985</td>\n",
       "      <td>629250000</td>\n",
       "      <td>-0.531721</td>\n",
       "      <td>1.169851</td>\n",
       "    </tr>\n",
       "    <tr>\n",
       "      <th>1997-07-18</th>\n",
       "      <td>931.609985</td>\n",
       "      <td>931.609985</td>\n",
       "      <td>912.900024</td>\n",
       "      <td>915.299988</td>\n",
       "      <td>915.299988</td>\n",
       "      <td>589710000</td>\n",
       "      <td>-1.750732</td>\n",
       "      <td>-0.531721</td>\n",
       "    </tr>\n",
       "  </tbody>\n",
       "</table>\n",
       "</div>"
      ],
      "text/plain": [
       "                  Open        High         Low       Close   Adj Close  \\\n",
       "Date                                                                     \n",
       "1997-07-14  916.679993  921.780029  912.020020  918.380005  918.380005   \n",
       "1997-07-15  918.380005  926.150024  914.520020  925.760010  925.760010   \n",
       "1997-07-16  925.760010  939.320007  925.760010  936.590027  936.590027   \n",
       "1997-07-17  936.590027  936.960022  927.900024  931.609985  931.609985   \n",
       "1997-07-18  931.609985  931.609985  912.900024  915.299988  915.299988   \n",
       "\n",
       "               Volume    Return  Lagged_Return  \n",
       "Date                                            \n",
       "1997-07-14  485960000  0.185453       0.317359  \n",
       "1997-07-15  598370000  0.803589       0.185453  \n",
       "1997-07-16  647390000  1.169851       0.803589  \n",
       "1997-07-17  629250000 -0.531721       1.169851  \n",
       "1997-07-18  589710000 -1.750732      -0.531721  "
      ]
     },
     "execution_count": 16,
     "metadata": {},
     "output_type": "execute_result"
    }
   ],
   "source": [
    "# Testing data with just one window\n",
    "test = df[start_of_test_week:end_of_test_week]\n",
    "test"
   ]
  },
  {
   "cell_type": "markdown",
   "metadata": {},
   "source": [
    "### Putting it all together"
   ]
  },
  {
   "cell_type": "code",
   "execution_count": 17,
   "metadata": {},
   "outputs": [
    {
     "data": {
      "text/plain": [
       "860"
      ]
     },
     "execution_count": 17,
     "metadata": {},
     "output_type": "execute_result"
    }
   ],
   "source": [
    "# Set the training window as 26 weeks\n",
    "# Total timeframe is 287 weeks\n",
    "training_window = 26\n",
    "timeframe = len(weeks) - training_window - 1\n",
    "timeframe"
   ]
  },
  {
   "cell_type": "code",
   "execution_count": 18,
   "metadata": {},
   "outputs": [
    {
     "data": {
      "text/html": [
       "<div>\n",
       "<style scoped>\n",
       "    .dataframe tbody tr th:only-of-type {\n",
       "        vertical-align: middle;\n",
       "    }\n",
       "\n",
       "    .dataframe tbody tr th {\n",
       "        vertical-align: top;\n",
       "    }\n",
       "\n",
       "    .dataframe thead th {\n",
       "        text-align: right;\n",
       "    }\n",
       "</style>\n",
       "<table border=\"1\" class=\"dataframe\">\n",
       "  <thead>\n",
       "    <tr style=\"text-align: right;\">\n",
       "      <th></th>\n",
       "      <th>Out-of-Sample Predictions</th>\n",
       "    </tr>\n",
       "  </thead>\n",
       "  <tbody>\n",
       "  </tbody>\n",
       "</table>\n",
       "</div>"
      ],
      "text/plain": [
       "Empty DataFrame\n",
       "Columns: [Out-of-Sample Predictions]\n",
       "Index: []"
      ]
     },
     "execution_count": 18,
     "metadata": {},
     "output_type": "execute_result"
    }
   ],
   "source": [
    "# Construct an empty placeholder DataFrame, with a column named \"Out-of-Sample Predictions\"\n",
    "# (Each iteration of the loop, we'll append that week\"s predictions to this DataFrame)\n",
    "all_predictions = pd.DataFrame(columns=[\"Out-of-Sample Predictions\"])\n",
    "all_predictions"
   ]
  },
  {
   "cell_type": "code",
   "execution_count": 19,
   "metadata": {},
   "outputs": [
    {
     "data": {
      "text/html": [
       "<div>\n",
       "<style scoped>\n",
       "    .dataframe tbody tr th:only-of-type {\n",
       "        vertical-align: middle;\n",
       "    }\n",
       "\n",
       "    .dataframe tbody tr th {\n",
       "        vertical-align: top;\n",
       "    }\n",
       "\n",
       "    .dataframe thead th {\n",
       "        text-align: right;\n",
       "    }\n",
       "</style>\n",
       "<table border=\"1\" class=\"dataframe\">\n",
       "  <thead>\n",
       "    <tr style=\"text-align: right;\">\n",
       "      <th></th>\n",
       "      <th>Actual Returns</th>\n",
       "    </tr>\n",
       "  </thead>\n",
       "  <tbody>\n",
       "  </tbody>\n",
       "</table>\n",
       "</div>"
      ],
      "text/plain": [
       "Empty DataFrame\n",
       "Columns: [Actual Returns]\n",
       "Index: []"
      ]
     },
     "execution_count": 19,
     "metadata": {},
     "output_type": "execute_result"
    }
   ],
   "source": [
    "# Construct a separate empty DataFrame for actual data\n",
    "all_actuals = pd.DataFrame(columns=[\"Actual Returns\"])\n",
    "all_actuals"
   ]
  },
  {
   "cell_type": "code",
   "execution_count": 20,
   "metadata": {},
   "outputs": [],
   "source": [
    "for i in range(0, timeframe):\n",
    "    \n",
    "    # Beginning of training window\n",
    "    start_of_training_period = weeks[i].start_time.strftime(format=\"%Y-%m-%d\")\n",
    "    \n",
    "    # End of training window\n",
    "    end_of_training_period = weeks[training_window + i].end_time.strftime(format=\"%Y-%m-%d\")\n",
    "\n",
    "    # Window of test-window data\n",
    "    test_week = weeks[training_window+i+1]\n",
    "    \n",
    "    # String of testing window\n",
    "    start_of_test_week  = test_week.start_time.strftime(format=\"%Y-%m-%d\")\n",
    "    end_of_test_week = test_week.end_time.strftime(format=\"%Y-%m-%d\")\n",
    "    \n",
    "    train = df[start_of_training_period:end_of_training_period]\n",
    "    test = df[start_of_test_week:end_of_test_week]\n",
    "    \n",
    "    # Create new DataFrames:\n",
    "    X_train = train[\"Lagged_Return\"].to_frame()\n",
    "    y_train = train[\"Return\"]\n",
    "    X_test = test[\"Lagged_Return\"].to_frame()\n",
    "    y_test = test[\"Return\"]\n",
    "    \n",
    "    model = LinearRegression()\n",
    "    model.fit(X_train, y_train)\n",
    "    predictions = model.predict(X_test)\n",
    "    # Create a temporary DataFrame to hold predictions\n",
    "    predictions = pd.DataFrame(predictions, index=X_test.index, columns=[\"Out-of-Sample Predictions\"])\n",
    "    # Create a temporary DataFrame of the actual \"y\"s in the test DataFrame, with column name=\"Actual Returns\": \n",
    "    actuals = pd.DataFrame(y_test, index=y_test.index)\n",
    "    actuals.columns = [\"Actual Returns\"]  \n",
    "    # Append these two DataFrames (predictions and actuals) to the two master DataFrames built outside the loop\n",
    "    all_predictions = all_predictions.append(predictions)\n",
    "    all_actuals = all_actuals.append(actuals)"
   ]
  },
  {
   "cell_type": "code",
   "execution_count": 21,
   "metadata": {},
   "outputs": [
    {
     "data": {
      "text/html": [
       "<div>\n",
       "<style scoped>\n",
       "    .dataframe tbody tr th:only-of-type {\n",
       "        vertical-align: middle;\n",
       "    }\n",
       "\n",
       "    .dataframe tbody tr th {\n",
       "        vertical-align: top;\n",
       "    }\n",
       "\n",
       "    .dataframe thead th {\n",
       "        text-align: right;\n",
       "    }\n",
       "</style>\n",
       "<table border=\"1\" class=\"dataframe\">\n",
       "  <thead>\n",
       "    <tr style=\"text-align: right;\">\n",
       "      <th></th>\n",
       "      <th>Actual Returns</th>\n",
       "      <th>Out-of-Sample Predictions</th>\n",
       "    </tr>\n",
       "  </thead>\n",
       "  <tbody>\n",
       "    <tr>\n",
       "      <th>1997-07-14</th>\n",
       "      <td>0.185453</td>\n",
       "      <td>0.168602</td>\n",
       "    </tr>\n",
       "    <tr>\n",
       "      <th>1997-07-15</th>\n",
       "      <td>0.803589</td>\n",
       "      <td>0.160869</td>\n",
       "    </tr>\n",
       "    <tr>\n",
       "      <th>1997-07-16</th>\n",
       "      <td>1.169851</td>\n",
       "      <td>0.197109</td>\n",
       "    </tr>\n",
       "    <tr>\n",
       "      <th>1997-07-17</th>\n",
       "      <td>-0.531721</td>\n",
       "      <td>0.218581</td>\n",
       "    </tr>\n",
       "    <tr>\n",
       "      <th>1997-07-18</th>\n",
       "      <td>-1.750732</td>\n",
       "      <td>0.118824</td>\n",
       "    </tr>\n",
       "  </tbody>\n",
       "</table>\n",
       "</div>"
      ],
      "text/plain": [
       "            Actual Returns  Out-of-Sample Predictions\n",
       "1997-07-14        0.185453                   0.168602\n",
       "1997-07-15        0.803589                   0.160869\n",
       "1997-07-16        1.169851                   0.197109\n",
       "1997-07-17       -0.531721                   0.218581\n",
       "1997-07-18       -1.750732                   0.118824"
      ]
     },
     "execution_count": 21,
     "metadata": {},
     "output_type": "execute_result"
    }
   ],
   "source": [
    "# Once the loop is done, concatenate (combine) the two DataFrames to a final \"Results\" DataFrame:    \n",
    "Results = pd.concat([all_actuals, all_predictions], axis=1)\n",
    "Results.head()"
   ]
  },
  {
   "cell_type": "code",
   "execution_count": 22,
   "metadata": {},
   "outputs": [
    {
     "data": {
      "text/plain": [
       "array([<AxesSubplot:>, <AxesSubplot:>], dtype=object)"
      ]
     },
     "execution_count": 22,
     "metadata": {},
     "output_type": "execute_result"
    },
    {
     "data": {
      "image/png": "[encoded data removed]",
      "text/plain": [
       "<Figure size 432x288 with 2 Axes>"
      ]
     },
     "metadata": {
      "needs_background": "light"
     },
     "output_type": "display_data"
    }
   ],
   "source": [
    "# Plot the first 20 predictions vs the true values\n",
    "Results[:20].plot(subplots=True)"
   ]
  },
  {
   "cell_type": "markdown",
   "metadata": {},
   "source": [
    "### RMSE for Out-of-sample Predictions"
   ]
  },
  {
   "cell_type": "code",
   "execution_count": 23,
   "metadata": {},
   "outputs": [
    {
     "name": "stdout",
     "output_type": "stream",
     "text": [
      "Out-of-Sample Root Mean Squared Error (RMSE): 1.3084028845426936\n"
     ]
    }
   ],
   "source": [
    "from sklearn.metrics import mean_squared_error, r2_score\n",
    "\n",
    "mse = mean_squared_error(\n",
    "    Results[\"Actual Returns\"],\n",
    "    Results[\"Out-of-Sample Predictions\"]\n",
    ")\n",
    "\n",
    "# Using that mean-squared-error, calculate the root-mean-squared error (RMSE):\n",
    "out_of_sample_rmse = np.sqrt(mse)\n",
    "print(f\"Out-of-Sample Root Mean Squared Error (RMSE): {out_of_sample_rmse}\")"
   ]
  },
  {
   "cell_type": "code",
   "execution_count": null,
   "metadata": {},
   "outputs": [],
   "source": []
  }
 ],
 "metadata": {
  "kernelspec": {
   "display_name": "Python 3",
   "language": "python",
   "name": "python3"
  },
  "language_info": {
   "codemirror_mode": {
    "name": "ipython",
    "version": 3
   },
   "file_extension": ".py",
   "mimetype": "text/x-python",
   "name": "python",
   "nbconvert_exporter": "python",
   "pygments_lexer": "ipython3",
   "version": "3.7.7"
  }
 },
 "nbformat": 4,
 "nbformat_minor": 4
}
