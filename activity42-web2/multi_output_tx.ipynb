{
 "cells": [
  {
   "cell_type": "code",
   "execution_count": 1,
   "id": "756b274b-b843-4fb6-aa88-3b10527b9eb1",
   "metadata": {},
   "outputs": [],
   "source": [
    "from bit import wif_to_key\n",
    "from dotenv import load_dotenv\n",
    "import os"
   ]
  },
  {
   "cell_type": "code",
   "execution_count": 2,
   "id": "a86a83ff-0c17-4d39-982b-7b8f794e6ad3",
   "metadata": {},
   "outputs": [
    {
     "data": {
      "text/plain": [
       "True"
      ]
     },
     "execution_count": 2,
     "metadata": {},
     "output_type": "execute_result"
    }
   ],
   "source": [
    "load_dotenv()"
   ]
  },
  {
   "cell_type": "code",
   "execution_count": 3,
   "id": "644b254c-1768-460b-a0ae-f0b0757f6209",
   "metadata": {},
   "outputs": [],
   "source": [
    "key = wif_to_key(os.getenv(\"PRIVATE_KEY\"))"
   ]
  },
  {
   "cell_type": "code",
   "execution_count": 4,
   "id": "3b933252-bcb3-43fc-8232-8dbec8b6a954",
   "metadata": {},
   "outputs": [
    {
     "name": "stdout",
     "output_type": "stream",
     "text": [
      "0.00061852\n"
     ]
    }
   ],
   "source": [
    "print(key.get_balance(\"btc\"))"
   ]
  },
  {
   "cell_type": "code",
   "execution_count": 5,
   "id": "49bbbcce-2523-47ff-ba79-0ac4815fe26b",
   "metadata": {},
   "outputs": [],
   "source": [
    "# replace with different addresses\n",
    "addresses = [\n",
    "    \"mpZWvKYnYMx9mQ5yaZyzGFYnXGgQwqeARi\",\n",
    "    \"mp3yb1XsQqjahxfMgaqAGisTMf6Vr6bRE8\",\n",
    "]"
   ]
  },
  {
   "cell_type": "code",
   "execution_count": 6,
   "id": "1e1e3cd7-fd2c-4b00-9122-14d1f0f9ec46",
   "metadata": {},
   "outputs": [],
   "source": [
    "outputs = []"
   ]
  },
  {
   "cell_type": "code",
   "execution_count": 7,
   "id": "6ae921cc-2e55-4a72-872f-c3ef5bd2271a",
   "metadata": {},
   "outputs": [
    {
     "name": "stdout",
     "output_type": "stream",
     "text": [
      "7195ece352df0f9bec6e1dad1ddfdc598b2b1d535f8d659ca8dcf405eac62db0\n"
     ]
    }
   ],
   "source": [
    "for address in addresses:\n",
    "    outputs.append((address, 0.0001, \"btc\"))\n",
    "\n",
    "print(key.send(outputs))"
   ]
  },
  {
   "cell_type": "code",
   "execution_count": null,
   "id": "2e481167-6ebb-46af-9e77-4b4197975097",
   "metadata": {},
   "outputs": [],
   "source": []
  }
 ],
 "metadata": {
  "kernelspec": {
   "display_name": "Python 3",
   "language": "python",
   "name": "python3"
  },
  "language_info": {
   "codemirror_mode": {
    "name": "ipython",
    "version": 3
   },
   "file_extension": ".py",
   "mimetype": "text/x-python",
   "name": "python",
   "nbconvert_exporter": "python",
   "pygments_lexer": "ipython3",
   "version": "3.8.8"
  }
 },
 "nbformat": 4,
 "nbformat_minor": 5
}
