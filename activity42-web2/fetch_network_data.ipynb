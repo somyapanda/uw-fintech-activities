{
 "cells": [
  {
   "cell_type": "code",
   "execution_count": 1,
   "id": "8b908d1a-504f-416f-8e32-9a461f9ab24d",
   "metadata": {},
   "outputs": [],
   "source": [
    "from bit import wif_to_key"
   ]
  },
  {
   "cell_type": "code",
   "execution_count": 2,
   "id": "90047b60-9eb7-4c6f-9fef-0c1405703d51",
   "metadata": {},
   "outputs": [],
   "source": [
    "from dotenv import load_dotenv\n",
    "import os"
   ]
  },
  {
   "cell_type": "code",
   "execution_count": 3,
   "id": "549244cf-676f-42a5-a282-3c4bd708d14c",
   "metadata": {},
   "outputs": [
    {
     "data": {
      "text/plain": [
       "True"
      ]
     },
     "execution_count": 3,
     "metadata": {},
     "output_type": "execute_result"
    }
   ],
   "source": [
    "load_dotenv()"
   ]
  },
  {
   "cell_type": "code",
   "execution_count": 4,
   "id": "5b0f35ae-c62f-437a-a568-5a93a7afda5a",
   "metadata": {},
   "outputs": [],
   "source": [
    "key = wif_to_key(os.getenv(\"PRIVATE_KEY\"))"
   ]
  },
  {
   "cell_type": "code",
   "execution_count": 5,
   "id": "a7d9b41a-06ac-47b0-b2ec-2c7385adbfa2",
   "metadata": {},
   "outputs": [
    {
     "data": {
      "text/plain": [
       "'0.00010256'"
      ]
     },
     "execution_count": 5,
     "metadata": {},
     "output_type": "execute_result"
    }
   ],
   "source": [
    "# Get your key's balance using the key.get_balance(\"btc\") function.\n",
    "key.get_balance(\"btc\")"
   ]
  },
  {
   "cell_type": "code",
   "execution_count": 6,
   "id": "85ecbe8d-6022-4334-96f2-7f78a9d5aaeb",
   "metadata": {},
   "outputs": [
    {
     "data": {
      "text/plain": [
       "'3.36'"
      ]
     },
     "execution_count": 6,
     "metadata": {},
     "output_type": "execute_result"
    }
   ],
   "source": [
    "# Get your key's balance in USD using the balance_as function\n",
    "key.balance_as(\"usd\")"
   ]
  },
  {
   "cell_type": "code",
   "execution_count": 7,
   "id": "2176abd1-425d-4fb1-97f6-135efa58a249",
   "metadata": {},
   "outputs": [
    {
     "data": {
      "text/plain": [
       "['b4b591400152ec56936e1be21c2056657eab190464b5af568828509a02439376',\n",
       " '92de2a765d631fbd47c2f5fbc7f8713f2d6fb92605bf6fd16cce87b3d6a55c9a',\n",
       " '1e3e1fc9ebd6497493cf9c11248d97708c9af61acc74d936a65dd9dd0d87a99b',\n",
       " '7195ece352df0f9bec6e1dad1ddfdc598b2b1d535f8d659ca8dcf405eac62db0',\n",
       " 'afc8d0f03aa23187ccd4f972d21f226b7e30705512aa8c6a624e1a18c53715a4',\n",
       " 'dd4e1b8d0a88b3317260473412dd514525d92b9bda5e7c5667f77fb18d5eeaef',\n",
       " '41493e11d5e71e97b285de05f454a76abd8640593aa417acb62d72a076a46e7d']"
      ]
     },
     "execution_count": 7,
     "metadata": {},
     "output_type": "execute_result"
    }
   ],
   "source": [
    "# Fetch the latest transactions that your key has sent using the get_transactions() function.\n",
    "key.get_transactions()"
   ]
  },
  {
   "cell_type": "code",
   "execution_count": 8,
   "id": "d09299a5-8e0d-4a2c-bd6c-52d2bd3cc246",
   "metadata": {},
   "outputs": [
    {
     "data": {
      "text/plain": [
       "[Unspent(amount=10, confirmations=2, script='76a9145cf75b0c701387075a51b3a19723804b0cb6432988ac', txid='92de2a765d631fbd47c2f5fbc7f8713f2d6fb92605bf6fd16cce87b3d6a55c9a', txindex=3, segwit=False, sequence=4294967295),\n",
       " Unspent(amount=10, confirmations=1, script='76a9145cf75b0c701387075a51b3a19723804b0cb6432988ac', txid='b4b591400152ec56936e1be21c2056657eab190464b5af568828509a02439376', txindex=0, segwit=False, sequence=4294967295),\n",
       " Unspent(amount=10000, confirmations=3, script='76a9145cf75b0c701387075a51b3a19723804b0cb6432988ac', txid='1e3e1fc9ebd6497493cf9c11248d97708c9af61acc74d936a65dd9dd0d87a99b', txindex=5, segwit=False, sequence=4294967295),\n",
       " Unspent(amount=236, confirmations=3, script='76a9145cf75b0c701387075a51b3a19723804b0cb6432988ac', txid='7195ece352df0f9bec6e1dad1ddfdc598b2b1d535f8d659ca8dcf405eac62db0', txindex=2, segwit=False, sequence=4294967295)]"
      ]
     },
     "execution_count": 8,
     "metadata": {},
     "output_type": "execute_result"
    }
   ],
   "source": [
    "# Fetch the Unspent Transaction Outputs (UTXOs) from your key using the get_unspents() function\n",
    "key.get_unspents()"
   ]
  },
  {
   "cell_type": "code",
   "execution_count": null,
   "id": "3e6a9555-810d-4c66-94dc-ce12cb9eedd4",
   "metadata": {},
   "outputs": [],
   "source": []
  }
 ],
 "metadata": {
  "kernelspec": {
   "display_name": "Python 3",
   "language": "python",
   "name": "python3"
  },
  "language_info": {
   "codemirror_mode": {
    "name": "ipython",
    "version": 3
   },
   "file_extension": ".py",
   "mimetype": "text/x-python",
   "name": "python",
   "nbconvert_exporter": "python",
   "pygments_lexer": "ipython3",
   "version": "3.7.10"
  }
 },
 "nbformat": 4,
 "nbformat_minor": 5
}
