{
 "cells": [
  {
   "cell_type": "markdown",
   "metadata": {},
   "source": [
    "# Time Series Basics"
   ]
  },
  {
   "cell_type": "code",
   "execution_count": 2,
   "metadata": {},
   "outputs": [
    {
     "name": "stderr",
     "output_type": "stream",
     "text": [
      "\n",
      "Bad key \"text.kerning_factor\" on line 4 in\n",
      "/Users/soma/opt/anaconda3/envs/pyvizenv/lib/python3.7/site-packages/matplotlib/mpl-data/stylelib/_classic_test_patch.mplstyle.\n",
      "You probably need to get an updated matplotlibrc file from\n",
      "http://github.com/matplotlib/matplotlib/blob/master/matplotlibrc.template\n",
      "or from the matplotlib source distribution\n"
     ]
    }
   ],
   "source": [
    "import pandas as pd\n",
    "from pathlib import Path\n",
    "%matplotlib inline"
   ]
  },
  {
   "cell_type": "code",
   "execution_count": 3,
   "metadata": {},
   "outputs": [
    {
     "data": {
      "text/html": [
       "<div>\n",
       "<style scoped>\n",
       "    .dataframe tbody tr th:only-of-type {\n",
       "        vertical-align: middle;\n",
       "    }\n",
       "\n",
       "    .dataframe tbody tr th {\n",
       "        vertical-align: top;\n",
       "    }\n",
       "\n",
       "    .dataframe thead th {\n",
       "        text-align: right;\n",
       "    }\n",
       "</style>\n",
       "<table border=\"1\" class=\"dataframe\">\n",
       "  <thead>\n",
       "    <tr style=\"text-align: right;\">\n",
       "      <th></th>\n",
       "      <th>Open</th>\n",
       "      <th>High</th>\n",
       "      <th>Low</th>\n",
       "      <th>Close</th>\n",
       "      <th>Adj Close</th>\n",
       "      <th>Volume</th>\n",
       "    </tr>\n",
       "    <tr>\n",
       "      <th>Date</th>\n",
       "      <th></th>\n",
       "      <th></th>\n",
       "      <th></th>\n",
       "      <th></th>\n",
       "      <th></th>\n",
       "      <th></th>\n",
       "    </tr>\n",
       "  </thead>\n",
       "  <tbody>\n",
       "    <tr>\n",
       "      <th>2019-08-05</th>\n",
       "      <td>1770.219971</td>\n",
       "      <td>1788.670044</td>\n",
       "      <td>1748.780029</td>\n",
       "      <td>1765.130005</td>\n",
       "      <td>1765.130005</td>\n",
       "      <td>6058200</td>\n",
       "    </tr>\n",
       "    <tr>\n",
       "      <th>2019-08-06</th>\n",
       "      <td>1792.229980</td>\n",
       "      <td>1793.770020</td>\n",
       "      <td>1753.400024</td>\n",
       "      <td>1787.829956</td>\n",
       "      <td>1787.829956</td>\n",
       "      <td>5070300</td>\n",
       "    </tr>\n",
       "    <tr>\n",
       "      <th>2019-08-07</th>\n",
       "      <td>1773.989990</td>\n",
       "      <td>1798.930054</td>\n",
       "      <td>1757.000000</td>\n",
       "      <td>1793.400024</td>\n",
       "      <td>1793.400024</td>\n",
       "      <td>4526900</td>\n",
       "    </tr>\n",
       "    <tr>\n",
       "      <th>2019-08-08</th>\n",
       "      <td>1806.000000</td>\n",
       "      <td>1834.260010</td>\n",
       "      <td>1798.109985</td>\n",
       "      <td>1832.890015</td>\n",
       "      <td>1832.890015</td>\n",
       "      <td>3701200</td>\n",
       "    </tr>\n",
       "    <tr>\n",
       "      <th>2019-08-09</th>\n",
       "      <td>1828.949951</td>\n",
       "      <td>1831.089966</td>\n",
       "      <td>1802.219971</td>\n",
       "      <td>1807.579956</td>\n",
       "      <td>1807.579956</td>\n",
       "      <td>2829600</td>\n",
       "    </tr>\n",
       "  </tbody>\n",
       "</table>\n",
       "</div>"
      ],
      "text/plain": [
       "                   Open         High          Low        Close    Adj Close  \\\n",
       "Date                                                                          \n",
       "2019-08-05  1770.219971  1788.670044  1748.780029  1765.130005  1765.130005   \n",
       "2019-08-06  1792.229980  1793.770020  1753.400024  1787.829956  1787.829956   \n",
       "2019-08-07  1773.989990  1798.930054  1757.000000  1793.400024  1793.400024   \n",
       "2019-08-08  1806.000000  1834.260010  1798.109985  1832.890015  1832.890015   \n",
       "2019-08-09  1828.949951  1831.089966  1802.219971  1807.579956  1807.579956   \n",
       "\n",
       "             Volume  \n",
       "Date                 \n",
       "2019-08-05  6058200  \n",
       "2019-08-06  5070300  \n",
       "2019-08-07  4526900  \n",
       "2019-08-08  3701200  \n",
       "2019-08-09  2829600  "
      ]
     },
     "execution_count": 3,
     "metadata": {},
     "output_type": "execute_result"
    }
   ],
   "source": [
    "# Read the Amazon stock prices CSV file as a time series DataFrame \n",
    "# Be sure to set the `Date` column as the index\n",
    "df = pd.read_csv(Path('Resources/amazon.csv'), parse_dates = True, index_col = 'Date')\n",
    "df.tail()"
   ]
  },
  {
   "cell_type": "markdown",
   "metadata": {},
   "source": [
    "### Slice Time Series Data"
   ]
  },
  {
   "cell_type": "code",
   "execution_count": 4,
   "metadata": {},
   "outputs": [
    {
     "data": {
      "text/html": [
       "<div>\n",
       "<style scoped>\n",
       "    .dataframe tbody tr th:only-of-type {\n",
       "        vertical-align: middle;\n",
       "    }\n",
       "\n",
       "    .dataframe tbody tr th {\n",
       "        vertical-align: top;\n",
       "    }\n",
       "\n",
       "    .dataframe thead th {\n",
       "        text-align: right;\n",
       "    }\n",
       "</style>\n",
       "<table border=\"1\" class=\"dataframe\">\n",
       "  <thead>\n",
       "    <tr style=\"text-align: right;\">\n",
       "      <th></th>\n",
       "      <th>Open</th>\n",
       "      <th>High</th>\n",
       "      <th>Low</th>\n",
       "      <th>Close</th>\n",
       "      <th>Adj Close</th>\n",
       "      <th>Volume</th>\n",
       "    </tr>\n",
       "    <tr>\n",
       "      <th>Date</th>\n",
       "      <th></th>\n",
       "      <th></th>\n",
       "      <th></th>\n",
       "      <th></th>\n",
       "      <th></th>\n",
       "      <th></th>\n",
       "    </tr>\n",
       "  </thead>\n",
       "  <tbody>\n",
       "    <tr>\n",
       "      <th>2018-09-24</th>\n",
       "      <td>1903.790039</td>\n",
       "      <td>1936.880005</td>\n",
       "      <td>1865.000000</td>\n",
       "      <td>1934.359985</td>\n",
       "      <td>1934.359985</td>\n",
       "      <td>4213700</td>\n",
       "    </tr>\n",
       "    <tr>\n",
       "      <th>2018-09-25</th>\n",
       "      <td>1942.900024</td>\n",
       "      <td>1975.910034</td>\n",
       "      <td>1938.849976</td>\n",
       "      <td>1974.550049</td>\n",
       "      <td>1974.550049</td>\n",
       "      <td>4538400</td>\n",
       "    </tr>\n",
       "    <tr>\n",
       "      <th>2018-09-26</th>\n",
       "      <td>1968.500000</td>\n",
       "      <td>1995.250000</td>\n",
       "      <td>1961.520020</td>\n",
       "      <td>1974.849976</td>\n",
       "      <td>1974.849976</td>\n",
       "      <td>4313500</td>\n",
       "    </tr>\n",
       "    <tr>\n",
       "      <th>2018-09-27</th>\n",
       "      <td>1993.239990</td>\n",
       "      <td>2016.160034</td>\n",
       "      <td>1988.579956</td>\n",
       "      <td>2012.979980</td>\n",
       "      <td>2012.979980</td>\n",
       "      <td>4329400</td>\n",
       "    </tr>\n",
       "    <tr>\n",
       "      <th>2018-09-28</th>\n",
       "      <td>2004.410034</td>\n",
       "      <td>2026.520020</td>\n",
       "      <td>1996.459961</td>\n",
       "      <td>2003.000000</td>\n",
       "      <td>2003.000000</td>\n",
       "      <td>4085100</td>\n",
       "    </tr>\n",
       "  </tbody>\n",
       "</table>\n",
       "</div>"
      ],
      "text/plain": [
       "                   Open         High          Low        Close    Adj Close  \\\n",
       "Date                                                                          \n",
       "2018-09-24  1903.790039  1936.880005  1865.000000  1934.359985  1934.359985   \n",
       "2018-09-25  1942.900024  1975.910034  1938.849976  1974.550049  1974.550049   \n",
       "2018-09-26  1968.500000  1995.250000  1961.520020  1974.849976  1974.849976   \n",
       "2018-09-27  1993.239990  2016.160034  1988.579956  2012.979980  2012.979980   \n",
       "2018-09-28  2004.410034  2026.520020  1996.459961  2003.000000  2003.000000   \n",
       "\n",
       "             Volume  \n",
       "Date                 \n",
       "2018-09-24  4213700  \n",
       "2018-09-25  4538400  \n",
       "2018-09-26  4313500  \n",
       "2018-09-27  4329400  \n",
       "2018-09-28  4085100  "
      ]
     },
     "execution_count": 4,
     "metadata": {},
     "output_type": "execute_result"
    }
   ],
   "source": [
    "# Select all rows from \n",
    "sep_2018 = df.loc['September-2018']\n",
    "sep_2018.tail()"
   ]
  },
  {
   "cell_type": "code",
   "execution_count": 5,
   "metadata": {},
   "outputs": [
    {
     "data": {
      "text/html": [
       "<div>\n",
       "<style scoped>\n",
       "    .dataframe tbody tr th:only-of-type {\n",
       "        vertical-align: middle;\n",
       "    }\n",
       "\n",
       "    .dataframe tbody tr th {\n",
       "        vertical-align: top;\n",
       "    }\n",
       "\n",
       "    .dataframe thead th {\n",
       "        text-align: right;\n",
       "    }\n",
       "</style>\n",
       "<table border=\"1\" class=\"dataframe\">\n",
       "  <thead>\n",
       "    <tr style=\"text-align: right;\">\n",
       "      <th></th>\n",
       "      <th>Open</th>\n",
       "      <th>High</th>\n",
       "      <th>Low</th>\n",
       "      <th>Close</th>\n",
       "      <th>Adj Close</th>\n",
       "      <th>Volume</th>\n",
       "    </tr>\n",
       "    <tr>\n",
       "      <th>Date</th>\n",
       "      <th></th>\n",
       "      <th></th>\n",
       "      <th></th>\n",
       "      <th></th>\n",
       "      <th></th>\n",
       "      <th></th>\n",
       "    </tr>\n",
       "  </thead>\n",
       "  <tbody>\n",
       "    <tr>\n",
       "      <th>2018-10-25</th>\n",
       "      <td>1703.339966</td>\n",
       "      <td>1794.810059</td>\n",
       "      <td>1692.010010</td>\n",
       "      <td>1782.170044</td>\n",
       "      <td>1782.170044</td>\n",
       "      <td>10285700</td>\n",
       "    </tr>\n",
       "    <tr>\n",
       "      <th>2018-10-26</th>\n",
       "      <td>1649.589966</td>\n",
       "      <td>1698.459961</td>\n",
       "      <td>1603.000000</td>\n",
       "      <td>1642.810059</td>\n",
       "      <td>1642.810059</td>\n",
       "      <td>14963800</td>\n",
       "    </tr>\n",
       "    <tr>\n",
       "      <th>2018-10-29</th>\n",
       "      <td>1660.000000</td>\n",
       "      <td>1665.739990</td>\n",
       "      <td>1495.000000</td>\n",
       "      <td>1538.880005</td>\n",
       "      <td>1538.880005</td>\n",
       "      <td>13866100</td>\n",
       "    </tr>\n",
       "    <tr>\n",
       "      <th>2018-10-30</th>\n",
       "      <td>1486.160034</td>\n",
       "      <td>1540.989990</td>\n",
       "      <td>1476.359985</td>\n",
       "      <td>1530.420044</td>\n",
       "      <td>1530.420044</td>\n",
       "      <td>12460100</td>\n",
       "    </tr>\n",
       "    <tr>\n",
       "      <th>2018-10-31</th>\n",
       "      <td>1569.989990</td>\n",
       "      <td>1623.910034</td>\n",
       "      <td>1565.089966</td>\n",
       "      <td>1598.010010</td>\n",
       "      <td>1598.010010</td>\n",
       "      <td>9390200</td>\n",
       "    </tr>\n",
       "  </tbody>\n",
       "</table>\n",
       "</div>"
      ],
      "text/plain": [
       "                   Open         High          Low        Close    Adj Close  \\\n",
       "Date                                                                          \n",
       "2018-10-25  1703.339966  1794.810059  1692.010010  1782.170044  1782.170044   \n",
       "2018-10-26  1649.589966  1698.459961  1603.000000  1642.810059  1642.810059   \n",
       "2018-10-29  1660.000000  1665.739990  1495.000000  1538.880005  1538.880005   \n",
       "2018-10-30  1486.160034  1540.989990  1476.359985  1530.420044  1530.420044   \n",
       "2018-10-31  1569.989990  1623.910034  1565.089966  1598.010010  1598.010010   \n",
       "\n",
       "              Volume  \n",
       "Date                  \n",
       "2018-10-25  10285700  \n",
       "2018-10-26  14963800  \n",
       "2018-10-29  13866100  \n",
       "2018-10-30  12460100  \n",
       "2018-10-31   9390200  "
      ]
     },
     "execution_count": 5,
     "metadata": {},
     "output_type": "execute_result"
    }
   ],
   "source": [
    "# Select all rows from September through October for 2018\n",
    "sep_oct_2018 = df.loc['09-2018' : '10-2018']\n",
    "sep_oct_2018.tail()"
   ]
  },
  {
   "cell_type": "markdown",
   "metadata": {},
   "source": [
    "### Plot Time Series Data"
   ]
  },
  {
   "cell_type": "code",
   "execution_count": 6,
   "metadata": {},
   "outputs": [
    {
     "data": {
      "text/plain": [
       "<matplotlib.axes._subplots.AxesSubplot at 0x7fbc6b0b8890>"
      ]
     },
     "execution_count": 6,
     "metadata": {},
     "output_type": "execute_result"
    },
    {
     "data": {
      "image/png": "[encoded data removed]",
      "text/plain": [
       "<Figure size 432x288 with 1 Axes>"
      ]
     },
     "metadata": {
      "needs_background": "light"
     },
     "output_type": "display_data"
    }
   ],
   "source": [
    "# Plot the closing prices using a line plot\n",
    "df.Close.plot()"
   ]
  },
  {
   "cell_type": "markdown",
   "metadata": {},
   "source": [
    "### Resample Time Series Data"
   ]
  },
  {
   "cell_type": "code",
   "execution_count": 20,
   "metadata": {},
   "outputs": [
    {
     "data": {
      "text/plain": [
       "Date\n",
       "2018-09-09    1986.177490\n",
       "2018-09-16    1975.243994\n",
       "2018-09-23    1926.962036\n",
       "2018-09-30    1979.947998\n",
       "2018-10-07    1945.500024\n",
       "Freq: W-SUN, Name: Close, dtype: float64"
      ]
     },
     "execution_count": 20,
     "metadata": {},
     "output_type": "execute_result"
    }
   ],
   "source": [
    "# Resample the closing prices to weekly and take the mean\n",
    "weekly_average = df['Close'].resample('W').mean()\n",
    "weekly_average.head()"
   ]
  },
  {
   "cell_type": "code",
   "execution_count": 21,
   "metadata": {},
   "outputs": [
    {
     "data": {
      "text/plain": [
       "<matplotlib.axes._subplots.AxesSubplot at 0x7fbc280d4490>"
      ]
     },
     "execution_count": 21,
     "metadata": {},
     "output_type": "execute_result"
    },
    {
     "data": {
      "image/png": "[encoded data removed]",
      "text/plain": [
       "<Figure size 432x288 with 1 Axes>"
      ]
     },
     "metadata": {
      "needs_background": "light"
     },
     "output_type": "display_data"
    }
   ],
   "source": [
    "# Plot the weekly average closing prices as a line chart\n",
    "weekly_average.plot()"
   ]
  },
  {
   "cell_type": "markdown",
   "metadata": {},
   "source": [
    "# Optional Challenge"
   ]
  },
  {
   "cell_type": "code",
   "execution_count": 8,
   "metadata": {},
   "outputs": [
    {
     "data": {
      "text/plain": [
       "<AxesSubplot:title={'center':'Highest Closing Price per Month - Amazon'}, xlabel='Date'>"
      ]
     },
     "execution_count": 8,
     "metadata": {},
     "output_type": "execute_result"
    },
    {
     "data": {
      "image/png": "[encoded data removed]",
      "text/plain": [
       "<Figure size 720x504 with 1 Axes>"
      ]
     },
     "metadata": {
      "needs_background": "light"
     },
     "output_type": "display_data"
    }
   ],
   "source": [
    "# Use resample to get the highest closing price per month\n",
    "monthly = df['Close'].resample('')\n",
    "\n",
    "# Create a bar chart of the result\n"
   ]
  }
 ],
 "metadata": {
  "kernelspec": {
   "display_name": "Python 3",
   "language": "python",
   "name": "python3"
  },
  "language_info": {
   "codemirror_mode": {
    "name": "ipython",
    "version": 3
   },
   "file_extension": ".py",
   "mimetype": "text/x-python",
   "name": "python",
   "nbconvert_exporter": "python",
   "pygments_lexer": "ipython3",
   "version": "3.7.9"
  }
 },
 "nbformat": 4,
 "nbformat_minor": 4
}
