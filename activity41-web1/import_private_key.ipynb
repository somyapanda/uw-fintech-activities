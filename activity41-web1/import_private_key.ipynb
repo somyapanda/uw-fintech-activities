{
 "cells": [
  {
   "cell_type": "code",
   "execution_count": 1,
   "id": "1ebc9beb-c250-45bf-a8d4-542d0a83b6e5",
   "metadata": {},
   "outputs": [],
   "source": [
    "import os\n",
    "from web3 import Web3\n",
    "from dotenv import load_dotenv"
   ]
  },
  {
   "cell_type": "code",
   "execution_count": 2,
   "id": "be3f7f83-379c-49c4-a506-ac973ffed43e",
   "metadata": {},
   "outputs": [
    {
     "data": {
      "text/plain": [
       "True"
      ]
     },
     "execution_count": 2,
     "metadata": {},
     "output_type": "execute_result"
    }
   ],
   "source": [
    "load_dotenv()"
   ]
  },
  {
   "cell_type": "code",
   "execution_count": 3,
   "id": "05ab9157-3465-4d65-9b33-f37cdff7b0d2",
   "metadata": {},
   "outputs": [],
   "source": [
    "w3 = Web3(Web3.HTTPProvider(\"http://127.0.0.1:8545\"))"
   ]
  },
  {
   "cell_type": "code",
   "execution_count": 4,
   "id": "7c8a3816-82ac-442f-a13b-18f21ae1f520",
   "metadata": {},
   "outputs": [
    {
     "data": {
      "text/plain": [
       "904625697166532776746648320380374280103671755200316906557262312061821325304"
      ]
     },
     "execution_count": 4,
     "metadata": {},
     "output_type": "execute_result"
    }
   ],
   "source": [
    "w3.eth.getBalance(\"0x18C91C1fc3A57C7961a510D23b454161317c73c4\")"
   ]
  },
  {
   "cell_type": "code",
   "execution_count": 5,
   "id": "64b8af46-660b-4a45-a800-8cc16dfd1306",
   "metadata": {},
   "outputs": [],
   "source": [
    "private_key = os.getenv(\"PRIVATE_KEY\")"
   ]
  }
 ],
 "metadata": {
  "kernelspec": {
   "display_name": "Python 3",
   "language": "python",
   "name": "python3"
  },
  "language_info": {
   "codemirror_mode": {
    "name": "ipython",
    "version": 3
   },
   "file_extension": ".py",
   "mimetype": "text/x-python",
   "name": "python",
   "nbconvert_exporter": "python",
   "pygments_lexer": "ipython3",
   "version": "3.7.10"
  }
 },
 "nbformat": 4,
 "nbformat_minor": 5
}
