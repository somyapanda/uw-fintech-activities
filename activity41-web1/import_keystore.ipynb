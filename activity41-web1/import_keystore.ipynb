{
 "cells": [
  {
   "cell_type": "code",
   "execution_count": 1,
   "id": "9a848ccc-4a69-4abe-9bda-7993d74064cd",
   "metadata": {},
   "outputs": [],
   "source": [
    "import os\n",
    "from web3 import Web3\n",
    "from dotenv import load_dotenv\n",
    "from web3.middleware import geth_poa_middleware\n",
    "from eth_account import Account"
   ]
  },
  {
   "cell_type": "code",
   "execution_count": 2,
   "id": "8e196a5a-1fac-4aa8-9ba1-346718d0d1a3",
   "metadata": {},
   "outputs": [],
   "source": [
    "from pathlib import Path"
   ]
  },
  {
   "cell_type": "code",
   "execution_count": 3,
   "id": "7da08f8c-1a2b-4553-a90f-a22957ecaf21",
   "metadata": {},
   "outputs": [
    {
     "data": {
      "text/plain": [
       "True"
      ]
     },
     "execution_count": 3,
     "metadata": {},
     "output_type": "execute_result"
    }
   ],
   "source": [
    "load_dotenv()"
   ]
  },
  {
   "cell_type": "code",
   "execution_count": 4,
   "id": "f1607660-5b7f-40e7-8961-30402d3939a3",
   "metadata": {},
   "outputs": [],
   "source": [
    "w3 = Web3(Web3.HTTPProvider(\"http://127.0.0.1:8545\"))\n",
    "w3.middleware_onion.inject(geth_poa_middleware, layer=0)"
   ]
  },
  {
   "cell_type": "code",
   "execution_count": 5,
   "id": "ba16f687-c1b9-4c65-8297-a648fc3e2f3c",
   "metadata": {},
   "outputs": [],
   "source": [
    "account_one = Account.from_key(os.getenv(\"PRIVATE_KEY\"))"
   ]
  },
  {
   "cell_type": "code",
   "execution_count": 6,
   "id": "900833bc-0512-401c-9895-8a146fc050ea",
   "metadata": {},
   "outputs": [
    {
     "name": "stdout",
     "output_type": "stream",
     "text": [
      "{\"address\":\"8849805797df36d0b7d71057c89f1217b18e5f05\",\"crypto\":{\"cipher\":\"aes-128-ctr\",\"ciphertext\":\"a2c21804551bd33fac65fad418382d9accfa61123ae98f9b7140e13e5b23746c\",\"cipherparams\":{\"iv\":\"30be3cef9ddf49651e51a56611dd86f2\"},\"kdf\":\"scrypt\",\"kdfparams\":{\"dklen\":32,\"n\":262144,\"p\":1,\"r\":8,\"salt\":\"d05ed0716060de8f21f657b09f2fd5df02ac6c19af54f63be617377cda0dabb9\"},\"mac\":\"894204e25916ac8b932767614beee9a7b4e3959fc644e0ff1a8c495edefb770f\"},\"id\":\"465332a7-6836-42e5-93c1-3b8d3c0a8e22\",\"version\":3}\n"
     ]
    },
    {
     "name": "stdin",
     "output_type": "stream",
     "text": [
      "Enter keystore password:  ····\n"
     ]
    }
   ],
   "source": [
    "from getpass import getpass\n",
    "ks_fname = \"UTC--2021-06-27T20-30-54.023984200Z--8849805797df36d0b7d71057c89f1217b18e5f05\"\n",
    "with open(Path(\"../../Blockchain-Tools/node2/keystore/\" + ks_fname)) as keyfile:\n",
    "    encrypted_key = keyfile.read()\n",
    "    print(encrypted_key)\n",
    "    private_key = w3.eth.account.decrypt(\n",
    "        encrypted_key, getpass(\"Enter keystore password: \")\n",
    "    )\n",
    "    account_two = Account.from_key(private_key)"
   ]
  },
  {
   "cell_type": "code",
   "execution_count": 7,
   "id": "7ffeba02-54ab-4ba2-a26f-ad806f80e502",
   "metadata": {},
   "outputs": [
    {
     "data": {
      "text/plain": [
       "'0x8849805797df36d0B7D71057c89F1217B18e5f05'"
      ]
     },
     "execution_count": 7,
     "metadata": {},
     "output_type": "execute_result"
    }
   ],
   "source": [
    "account_two.address"
   ]
  },
  {
   "cell_type": "code",
   "execution_count": 8,
   "id": "8762fd13-203e-4c77-bc25-87819b590f67",
   "metadata": {},
   "outputs": [],
   "source": [
    "def create_raw_tx(account, recipient, amount):\n",
    "    gasEstimate = w3.eth.estimateGas(\n",
    "        {\"from\": account.address, \"to\": recipient, \"value\": amount}\n",
    "    )\n",
    "    return {\n",
    "        \"from\": account.address,\n",
    "        \"to\": recipient,\n",
    "        \"value\": amount,\n",
    "        \"gasPrice\": w3.eth.gasPrice,\n",
    "        \"gas\": gasEstimate,\n",
    "        \"nonce\": w3.eth.getTransactionCount(account.address),\n",
    "    }"
   ]
  },
  {
   "cell_type": "code",
   "execution_count": 9,
   "id": "55d46161-8741-49f1-9635-d0390b692b59",
   "metadata": {},
   "outputs": [],
   "source": [
    "def send_tx(account, recipient, amount):\n",
    "    tx = create_raw_tx(account, recipient, amount)\n",
    "    signed_tx = account.sign_transaction(tx)\n",
    "    result = w3.eth.sendRawTransaction(signed_tx.rawTransaction)\n",
    "    print(result.hex())\n",
    "    return result.hex()"
   ]
  },
  {
   "cell_type": "code",
   "execution_count": 10,
   "id": "6f0ddc95-4d37-4bbe-a42f-27797b4aaf62",
   "metadata": {},
   "outputs": [
    {
     "name": "stdout",
     "output_type": "stream",
     "text": [
      "0x18C91C1fc3A57C7961a510D23b454161317c73c4\n",
      "0x8849805797df36d0B7D71057c89F1217B18e5f05\n"
     ]
    }
   ],
   "source": [
    "print(account_one.address)\n",
    "print(account_two.address)"
   ]
  },
  {
   "cell_type": "code",
   "execution_count": 12,
   "id": "03b58b35-bdba-45a9-ab07-56120c1acf85",
   "metadata": {},
   "outputs": [
    {
     "name": "stdout",
     "output_type": "stream",
     "text": [
      "0x7c0b857a3dc840237b67ac8db6ebcfa5bf5a39e6def3e2bf071c3f7c87d335e5\n"
     ]
    },
    {
     "data": {
      "text/plain": [
       "'0x7c0b857a3dc840237b67ac8db6ebcfa5bf5a39e6def3e2bf071c3f7c87d335e5'"
      ]
     },
     "execution_count": 12,
     "metadata": {},
     "output_type": "execute_result"
    }
   ],
   "source": [
    "send_tx(account_two, account_one.address, 1)"
   ]
  },
  {
   "cell_type": "code",
   "execution_count": null,
   "id": "d694cb9d-2886-4d8e-97d7-b4cea751e7b5",
   "metadata": {},
   "outputs": [],
   "source": []
  }
 ],
 "metadata": {
  "kernelspec": {
   "display_name": "Python 3",
   "language": "python",
   "name": "python3"
  },
  "language_info": {
   "codemirror_mode": {
    "name": "ipython",
    "version": 3
   },
   "file_extension": ".py",
   "mimetype": "text/x-python",
   "name": "python",
   "nbconvert_exporter": "python",
   "pygments_lexer": "ipython3",
   "version": "3.7.10"
  }
 },
 "nbformat": 4,
 "nbformat_minor": 5
}
