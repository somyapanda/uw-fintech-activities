{
 "cells": [
  {
   "cell_type": "code",
   "execution_count": 1,
   "id": "f43fece4-9430-4452-887c-d2fe596dccd2",
   "metadata": {},
   "outputs": [],
   "source": [
    "import os\n",
    "from web3 import Web3\n",
    "from dotenv import load_dotenv\n",
    "from web3.middleware import geth_poa_middleware\n",
    "from eth_account import Account"
   ]
  },
  {
   "cell_type": "code",
   "execution_count": 2,
   "id": "67f13fc4-dc83-4fbe-9673-6cbf84e3893b",
   "metadata": {},
   "outputs": [
    {
     "data": {
      "text/plain": [
       "True"
      ]
     },
     "execution_count": 2,
     "metadata": {},
     "output_type": "execute_result"
    }
   ],
   "source": [
    "load_dotenv()"
   ]
  },
  {
   "cell_type": "code",
   "execution_count": 3,
   "id": "d414ee27-603a-477c-aee5-0fda55893454",
   "metadata": {},
   "outputs": [
    {
     "data": {
      "text/plain": [
       "'0xb9617b7870f99b8bdd0b9098b3cd3c321048763a8a11a1301c20540838d980fd'"
      ]
     },
     "execution_count": 3,
     "metadata": {},
     "output_type": "execute_result"
    }
   ],
   "source": [
    "w3 = Web3(Web3.HTTPProvider(\"http://127.0.0.1:8545\"))\n",
    "w3.middleware_onion.inject(geth_poa_middleware, layer=0)\n",
    "\n",
    "private_key = os.getenv(\"PRIVATE_KEY\")\n",
    "private_key"
   ]
  },
  {
   "cell_type": "code",
   "execution_count": 4,
   "id": "ca1d0119-adb7-4eaf-a2ed-0c3484e8abaf",
   "metadata": {},
   "outputs": [
    {
     "data": {
      "text/plain": [
       "'0x18C91C1fc3A57C7961a510D23b454161317c73c4'"
      ]
     },
     "execution_count": 4,
     "metadata": {},
     "output_type": "execute_result"
    }
   ],
   "source": [
    "account_one = Account.from_key(private_key)\n",
    "account_one.address"
   ]
  },
  {
   "cell_type": "code",
   "execution_count": 5,
   "id": "70a7087a-b378-4ddc-aa37-2f6387bec60b",
   "metadata": {},
   "outputs": [],
   "source": [
    "def create_raw_tx(account, recipient, amount):\n",
    "    gasEstimate = w3.eth.estimateGas(\n",
    "        {\"from\": account.address, \"to\": recipient, \"value\": amount}\n",
    "    )\n",
    "    return {\n",
    "        \"from\": account.address,\n",
    "        \"to\": recipient,\n",
    "        \"value\": amount,\n",
    "        \"gasPrice\": w3.eth.gasPrice,\n",
    "        \"gas\": gasEstimate,\n",
    "        \"nonce\": w3.eth.getTransactionCount(account.address),\n",
    "    }"
   ]
  },
  {
   "cell_type": "code",
   "execution_count": 6,
   "id": "72fc9fe9-0901-4a31-a564-c5d9cfd33630",
   "metadata": {},
   "outputs": [],
   "source": [
    "def send_tx(account, recipient, amount):\n",
    "    # Call the create_raw_tx fuction to build the raw dictionary\n",
    "    tx = create_raw_tx(account, recipient, amount)\n",
    "\n",
    "    # Sign and send the trasaction\n",
    "    signed_tx = account.sign_transaction(tx)\n",
    "\n",
    "    result = w3.eth.sendRawTransaction(signed_tx.rawTransaction)\n",
    "    print(result.hex())\n",
    "    return result.hex()"
   ]
  },
  {
   "cell_type": "code",
   "execution_count": 7,
   "id": "11cb2e3c-861a-4e69-8bb0-b29bda97019a",
   "metadata": {},
   "outputs": [
    {
     "name": "stdout",
     "output_type": "stream",
     "text": [
      "0x60e8b8b6d968dc64bdaa7c2d75b3ce669f647ed464fddb22fee344c3dab31e29\n"
     ]
    },
    {
     "data": {
      "text/plain": [
       "'0x60e8b8b6d968dc64bdaa7c2d75b3ce669f647ed464fddb22fee344c3dab31e29'"
      ]
     },
     "execution_count": 7,
     "metadata": {},
     "output_type": "execute_result"
    }
   ],
   "source": [
    "send_tx(account_one, \"0x8849805797df36d0B7D71057c89F1217B18e5f05\", 1)"
   ]
  },
  {
   "cell_type": "code",
   "execution_count": 8,
   "id": "d173c68e-e0bf-46be-9d75-936d52f0f534",
   "metadata": {},
   "outputs": [
    {
     "name": "stdout",
     "output_type": "stream",
     "text": [
      "1E-18\n"
     ]
    }
   ],
   "source": [
    "print(w3.fromWei(1, 'ether'))"
   ]
  },
  {
   "cell_type": "code",
   "execution_count": 9,
   "id": "e24b99fd-9151-4c8f-8171-ede0146358da",
   "metadata": {},
   "outputs": [
    {
     "name": "stdout",
     "output_type": "stream",
     "text": [
      "1000000000000000000\n"
     ]
    }
   ],
   "source": [
    "print(w3.toWei(1, 'ether'))"
   ]
  },
  {
   "cell_type": "code",
   "execution_count": null,
   "id": "f39d20da-6776-43d1-8ac9-9d10b437aa7b",
   "metadata": {},
   "outputs": [],
   "source": []
  }
 ],
 "metadata": {
  "kernelspec": {
   "display_name": "Python 3",
   "language": "python",
   "name": "python3"
  },
  "language_info": {
   "codemirror_mode": {
    "name": "ipython",
    "version": 3
   },
   "file_extension": ".py",
   "mimetype": "text/x-python",
   "name": "python",
   "nbconvert_exporter": "python",
   "pygments_lexer": "ipython3",
   "version": "3.7.10"
  }
 },
 "nbformat": 4,
 "nbformat_minor": 5
}
