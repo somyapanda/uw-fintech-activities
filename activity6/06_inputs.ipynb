{
 "cells": [
  {
   "cell_type": "markdown",
   "metadata": {},
   "source": [
    "Declare a variable of `name` with an input and a string of \"Welcome to the Boba Shop! What is your name?\".\n",
    "\n",
    "```\n",
    "Check if `name` is not an empty string or equal to `None`.\n",
    "\n",
    "    If so, write a print with a string of \"Hello\" concatenated with the variable `name`.\n",
    "\n",
    "\n",
    "    Then, declare a variable of `beverage` with an input and a string of \"What kind of boba drink would you like?\".\n",
    "\n",
    "\n",
    "    Then, Declare a variable of `sweetness` with an input and a string of \"How sweet do you want your drink: 0, 50, 100, or 200?\".\n",
    "\n",
    "\n",
    "    If `sweetness` equals 50 print \"half sweetened\".\n",
    "\n",
    "    Else if `sweetness` 100 print \"normal sweet\".\n",
    "\n",
    "    Else if `sweetness` 200 print \"super sweet\".\n",
    "\n",
    "    Else print with a string of \"non-sweet\".\n",
    "\n",
    "\n",
    "    Then print the string of \"Your order of \" concatenated with the variable `beverage`, concatenated with \" boba with a sweet level of \", concatenated with the variable `sweetness`\n",
    "\n",
    "Else, print the string of \"You didn't give us your name! Goodbye\"\n",
    "```"
   ]
  },
  {
   "cell_type": "code",
   "execution_count": 1,
   "metadata": {},
   "outputs": [
    {
     "name": "stdin",
     "output_type": "stream",
     "text": [
      "Welcome to the Boba Shop! What is your name? Somya\n"
     ]
    },
    {
     "name": "stdout",
     "output_type": "stream",
     "text": [
      "Hello Somya\n"
     ]
    },
    {
     "name": "stdin",
     "output_type": "stream",
     "text": [
      "What kind of boba drink would you like? green tea\n",
      "How sweet do you want your drink: 0, 50, 100, or 200? 50\n"
     ]
    },
    {
     "name": "stdout",
     "output_type": "stream",
     "text": [
      "half sweetened\n",
      "Your order of green tea, boba with a sweet level of 50.\n"
     ]
    }
   ],
   "source": [
    "name = input(\"Welcome to the Boba Shop! What is your name?\")\n",
    "if name is not None and len(name):\n",
    "    print(f\"Hello {name}\")\n",
    "    beverage = input(\"What kind of boba drink would you like?\")\n",
    "    sweetness = input(\"How sweet do you want your drink: 0, 50, 100, or 200?\")\n",
    "    if int(sweetness) == 50:\n",
    "      print(\"half sweetened\")\n",
    "    elif int(sweetness) == 100:\n",
    "      print(\"normal sweet\")\n",
    "    elif int(sweetness) == 200:\n",
    "      print(\"super sweet\")\n",
    "    else:\n",
    "      print(\"non-sweet\")\n",
    "    print(f\"Your order of {beverage}, boba with a sweet level of {sweetness}.\")\n",
    "else:\n",
    "    print(\"You didn't give us your name! Goodbye\")"
   ]
  }
 ],
 "metadata": {
  "kernelspec": {
   "display_name": "Python 3",
   "language": "python",
   "name": "python3"
  },
  "language_info": {
   "codemirror_mode": {
    "name": "ipython",
    "version": 3
   },
   "file_extension": ".py",
   "mimetype": "text/x-python",
   "name": "python",
   "nbconvert_exporter": "python",
   "pygments_lexer": "ipython3",
   "version": "3.7.9"
  }
 },
 "nbformat": 4,
 "nbformat_minor": 4
}
