{
 "cells": [
  {
   "cell_type": "markdown",
   "metadata": {},
   "source": [
    "# Number Chain\n",
    "\n",
    "In this activity, you will \"chain up the numbers.\"\n",
    "\n",
    "## Instructions\n",
    "\n",
    "1. Using a while loop, ask the user \"How many numbers?\" and then print out a chain of ascending numbers starting at 0.\n",
    "\n",
    "2. After the results have printed, ask the user if they would like to continue.\n",
    "\n",
    "  * If \"y\", restart the process, starting at 0 again.\n",
    "\n",
    "  * If \"n\", exit the chain.\n"
   ]
  },
  {
   "cell_type": "markdown",
   "metadata": {},
   "source": [
    "Declare an initial variable to track game play."
   ]
  },
  {
   "cell_type": "markdown",
   "metadata": {},
   "source": [
    "Set the starting number"
   ]
  },
  {
   "cell_type": "markdown",
   "metadata": {},
   "source": [
    "While we are still playing..."
   ]
  },
  {
   "cell_type": "code",
   "execution_count": 1,
   "metadata": {},
   "outputs": [
    {
     "name": "stdin",
     "output_type": "stream",
     "text": [
      "How many numbers? 7\n"
     ]
    },
    {
     "name": "stdout",
     "output_type": "stream",
     "text": [
      "0\n",
      "1\n",
      "2\n",
      "3\n",
      "4\n",
      "5\n",
      "6\n"
     ]
    },
    {
     "name": "stdin",
     "output_type": "stream",
     "text": [
      "Start again: (y)es or (n)o?  y\n",
      "How many numbers? 8\n"
     ]
    },
    {
     "name": "stdout",
     "output_type": "stream",
     "text": [
      "0\n",
      "1\n",
      "2\n",
      "3\n",
      "4\n",
      "5\n",
      "6\n",
      "7\n"
     ]
    },
    {
     "name": "stdin",
     "output_type": "stream",
     "text": [
      "Start again: (y)es or (n)o?  n\n"
     ]
    }
   ],
   "source": [
    "user_ans = \"y\"\n",
    "start_num = 0\n",
    "while user_ans == \"y\":\n",
    "    # Ask the user to loop through\n",
    "    user_num = input(\"How many numbers?\")\n",
    "    if len(user_num) == 0 or not user_num.isnumeric():\n",
    "        print(\"Please enter a number\")\n",
    "        continue\n",
    "    # Loop through the numbers\n",
    "    for x in range(start_num, int(user_num)):\n",
    "        #Print the chain of ascending numbers in the given range\n",
    "        print(x)\n",
    "        \n",
    "    # Once complete...\n",
    "    user_ans = input(\"Start again: (y)es or (n)o? \")"
   ]
  },
  {
   "cell_type": "markdown",
   "metadata": {},
   "source": [
    "## Challenge\n",
    "\n",
    "Rather than just displaying numbers constantly starting at 0, have the numbers begin at the end of the previous chain."
   ]
  },
  {
   "cell_type": "markdown",
   "metadata": {},
   "source": [
    "Declare an initial variable to track game play."
   ]
  },
  {
   "cell_type": "markdown",
   "metadata": {},
   "source": [
    "Set the starting number"
   ]
  },
  {
   "cell_type": "markdown",
   "metadata": {},
   "source": [
    "While we are still playing..."
   ]
  },
  {
   "cell_type": "code",
   "execution_count": 1,
   "metadata": {},
   "outputs": [
    {
     "name": "stdin",
     "output_type": "stream",
     "text": [
      "How many numbers? 7\n"
     ]
    },
    {
     "name": "stdout",
     "output_type": "stream",
     "text": [
      "0\n",
      "1\n",
      "2\n",
      "3\n",
      "4\n",
      "5\n",
      "6\n"
     ]
    },
    {
     "name": "stdin",
     "output_type": "stream",
     "text": [
      "Start again: (y)es or (n)o?  y\n",
      "How many numbers? 8\n"
     ]
    },
    {
     "name": "stdout",
     "output_type": "stream",
     "text": [
      "7\n",
      "8\n",
      "9\n",
      "10\n",
      "11\n",
      "12\n",
      "13\n",
      "14\n"
     ]
    },
    {
     "name": "stdin",
     "output_type": "stream",
     "text": [
      "Start again: (y)es or (n)o?  n\n"
     ]
    }
   ],
   "source": [
    "user_ans = \"y\"\n",
    "start_num = 0\n",
    "while user_ans == \"y\":\n",
    "    # Ask the user to loop through\n",
    "    user_num = input(\"How many numbers?\")\n",
    "    if len(user_num) == 0 or not user_num.isnumeric():\n",
    "        print(\"Please enter a number\")\n",
    "        continue\n",
    "    # Loop through the numbers\n",
    "    for x in range(start_num, int(user_num) + start_num):\n",
    "        #Print the chain of ascending numbers in the given range\n",
    "        print(x)\n",
    "    #Set the next starting number as the last number of the loop\n",
    "    start_num += int(user_num)\n",
    "    # Once complete...\n",
    "    user_ans = input(\"Start again: (y)es or (n)o? \")"
   ]
  },
  {
   "cell_type": "code",
   "execution_count": null,
   "metadata": {},
   "outputs": [],
   "source": []
  }
 ],
 "metadata": {
  "kernelspec": {
   "display_name": "Python 3",
   "language": "python",
   "name": "python3"
  },
  "language_info": {
   "codemirror_mode": {
    "name": "ipython",
    "version": 3
   },
   "file_extension": ".py",
   "mimetype": "text/x-python",
   "name": "python",
   "nbconvert_exporter": "python",
   "pygments_lexer": "ipython3",
   "version": "3.7.9"
  }
 },
 "nbformat": 4,
 "nbformat_minor": 4
}
