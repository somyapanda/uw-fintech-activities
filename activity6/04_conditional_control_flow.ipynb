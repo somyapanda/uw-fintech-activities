{
 "cells": [
  {
   "cell_type": "markdown",
   "metadata": {},
   "source": [
    "######################\n",
    "# Create Character One\n",
    "######################\n",
    "\n",
    "Make a variable called `c1_name` and have it equal a string of \"Mr. Farley\".\n"
   ]
  },
  {
   "cell_type": "code",
   "execution_count": 1,
   "metadata": {},
   "outputs": [],
   "source": [
    "c1_name = \"Mr. Farley\""
   ]
  },
  {
   "cell_type": "markdown",
   "metadata": {},
   "source": [
    "Make a variable called `c1_age` and have it equal to an integer of 65.\n"
   ]
  },
  {
   "cell_type": "code",
   "execution_count": 2,
   "metadata": {},
   "outputs": [],
   "source": [
    "c1_age = 65"
   ]
  },
  {
   "cell_type": "markdown",
   "metadata": {},
   "source": [
    "Make a variable called `c1_profession` and have it equal to \"Web Developer\".\n"
   ]
  },
  {
   "cell_type": "code",
   "execution_count": 3,
   "metadata": {},
   "outputs": [],
   "source": [
    "c1_profession = \"Web Developer\""
   ]
  },
  {
   "cell_type": "markdown",
   "metadata": {},
   "source": [
    "\n",
    "Make a variable called `c1_salary` and have it equal to 100000.\n"
   ]
  },
  {
   "cell_type": "code",
   "execution_count": 4,
   "metadata": {},
   "outputs": [],
   "source": [
    "c1_salary = 100000.00"
   ]
  },
  {
   "cell_type": "markdown",
   "metadata": {},
   "source": [
    "\n",
    "\n",
    "Make a variable called `c1_species` and have it equal to \"cat\".\n"
   ]
  },
  {
   "cell_type": "code",
   "execution_count": 5,
   "metadata": {},
   "outputs": [],
   "source": [
    "c1_species = \"cat\""
   ]
  },
  {
   "cell_type": "markdown",
   "metadata": {},
   "source": [
    "\n",
    "\n",
    "Make a variable called `c1_location` and have it equal to \"San Francisco, CA\".\n"
   ]
  },
  {
   "cell_type": "code",
   "execution_count": 6,
   "metadata": {},
   "outputs": [],
   "source": [
    "c1_location = \"San Francisco, CA\""
   ]
  },
  {
   "cell_type": "markdown",
   "metadata": {},
   "source": [
    "\n",
    "\n",
    "Make a variable called `c1_monthly_rent` and have it equal to 2000.\n",
    "\n"
   ]
  },
  {
   "cell_type": "code",
   "execution_count": 7,
   "metadata": {},
   "outputs": [],
   "source": [
    "c1_monthly_rent = 2000"
   ]
  },
  {
   "cell_type": "markdown",
   "metadata": {},
   "source": [
    "\n",
    "Make a variable called `c1_monthly_expenses` and have it equal to 1500.\n"
   ]
  },
  {
   "cell_type": "code",
   "execution_count": 8,
   "metadata": {},
   "outputs": [],
   "source": [
    "c1_monthly_expenses = 1500"
   ]
  },
  {
   "cell_type": "markdown",
   "metadata": {},
   "source": [
    "\n",
    "\n",
    "Make a variable called `c1_yearly_rent` and have it equal to `c1_monthly_rent` * 12."
   ]
  },
  {
   "cell_type": "code",
   "execution_count": 9,
   "metadata": {},
   "outputs": [],
   "source": [
    "c1_yearly_rent = c1_monthly_rent * 12"
   ]
  },
  {
   "cell_type": "markdown",
   "metadata": {},
   "source": [
    "\n",
    "Make a variable called `c1_yearly_expenses` and have it equal to 1500.00 * 12\n",
    "\n"
   ]
  },
  {
   "cell_type": "code",
   "execution_count": 10,
   "metadata": {},
   "outputs": [],
   "source": [
    "c1_yearly_expenses = 1500.00 * 12"
   ]
  },
  {
   "cell_type": "markdown",
   "metadata": {},
   "source": [
    "\n",
    "Make a variable called `c1_savings` and have it equal to `c1_salary` - (`c1_yearly_rent` + `c1_yearly_expenses`)\n"
   ]
  },
  {
   "cell_type": "code",
   "execution_count": 11,
   "metadata": {},
   "outputs": [],
   "source": [
    "c1_savings = c1_salary - (c1_yearly_rent + c1_yearly_expenses)"
   ]
  },
  {
   "cell_type": "markdown",
   "metadata": {},
   "source": [
    "\n",
    "######################\n",
    "# Create Character Two\n",
    "######################\n",
    "\n",
    "Make a variable called `c2_name` and have it equal a string of \"Mr. Snuggles\".\n"
   ]
  },
  {
   "cell_type": "code",
   "execution_count": 12,
   "metadata": {},
   "outputs": [],
   "source": [
    "c2_name = \"Mr. Snuggles\""
   ]
  },
  {
   "cell_type": "markdown",
   "metadata": {},
   "source": [
    "\n",
    "\n",
    "Make a variable called `c2_age` and have it equal to an integer of 30.\n"
   ]
  },
  {
   "cell_type": "code",
   "execution_count": 13,
   "metadata": {},
   "outputs": [],
   "source": [
    "c2_age = 30"
   ]
  },
  {
   "cell_type": "markdown",
   "metadata": {},
   "source": [
    "\n",
    "\n",
    "Make a variable called `c2_species` and have it equal to \"mouse\".\n"
   ]
  },
  {
   "cell_type": "code",
   "execution_count": 14,
   "metadata": {},
   "outputs": [],
   "source": [
    "c2_species = \"mouse\""
   ]
  },
  {
   "cell_type": "markdown",
   "metadata": {},
   "source": [
    "\n",
    "Make a variable called `c2_profession` and have it equal \"Accountant\"\n",
    "\n"
   ]
  },
  {
   "cell_type": "code",
   "execution_count": 15,
   "metadata": {},
   "outputs": [],
   "source": [
    "c2_profession = \"Accountant\""
   ]
  },
  {
   "cell_type": "markdown",
   "metadata": {},
   "source": [
    "\n",
    "Make a variable called `c2_salary` and have it equal to 70000.\n"
   ]
  },
  {
   "cell_type": "code",
   "execution_count": 16,
   "metadata": {},
   "outputs": [],
   "source": [
    "c2_salary = 70000"
   ]
  },
  {
   "cell_type": "markdown",
   "metadata": {},
   "source": [
    "\n",
    "\n",
    "Make a variable called `c2_location` and have it equal to \"Oakland, CA\".\n",
    "\n"
   ]
  },
  {
   "cell_type": "code",
   "execution_count": 17,
   "metadata": {},
   "outputs": [],
   "source": [
    "c2_location = \"Oakland, CA\""
   ]
  },
  {
   "cell_type": "markdown",
   "metadata": {},
   "source": [
    "Make a variable called `c2_monthly_rent` and have it equal to 4000.\n"
   ]
  },
  {
   "cell_type": "code",
   "execution_count": 18,
   "metadata": {},
   "outputs": [],
   "source": [
    "c2_monthly_rent = 4000"
   ]
  },
  {
   "cell_type": "markdown",
   "metadata": {},
   "source": [
    "\n",
    "Make a variable called `c2_monthly_expenses` and have it equal to 500.\n"
   ]
  },
  {
   "cell_type": "code",
   "execution_count": 19,
   "metadata": {},
   "outputs": [],
   "source": [
    "c2_monthly_expenses = 500"
   ]
  },
  {
   "cell_type": "markdown",
   "metadata": {},
   "source": [
    "\n",
    "\n",
    "Make a variable called `c2_yearly_rent` and have it equal to `c2_monthly_rent` * 12.\n"
   ]
  },
  {
   "cell_type": "code",
   "execution_count": 20,
   "metadata": {},
   "outputs": [],
   "source": [
    "c2_yearly_rent = c2_monthly_rent * 12"
   ]
  },
  {
   "cell_type": "markdown",
   "metadata": {},
   "source": [
    "\n",
    "Make a variable called `c2_yearly_expenses` and have it equal to `c2_monthly_expenses` * 12.\n",
    "\n"
   ]
  },
  {
   "cell_type": "code",
   "execution_count": 21,
   "metadata": {},
   "outputs": [],
   "source": [
    "c2_yearly_expenses = c2_monthly_expenses * 12"
   ]
  },
  {
   "cell_type": "markdown",
   "metadata": {},
   "source": [
    "Make a variable called `c2_savings` and have it equal to `c2_salary` - (`c2_yearly_rent` + `c2_yearly_expenses`)\n"
   ]
  },
  {
   "cell_type": "code",
   "execution_count": 22,
   "metadata": {},
   "outputs": [],
   "source": [
    "c2_savings = c2_salary - (c1_yearly_rent + c2_yearly_expenses)"
   ]
  },
  {
   "cell_type": "markdown",
   "metadata": {},
   "source": [
    "\n",
    "\n",
    "##############\n",
    "# Conditionals\n",
    "##############\n",
    "\n",
    "Write an if-else statement to check if `c1_name` is equal to \"Mr. Farley\". If so, print a string of \"Hello Mr. Farley\" using the `c1_name` variable. If not, print a string of \"Hello stranger\".\n"
   ]
  },
  {
   "cell_type": "code",
   "execution_count": 23,
   "metadata": {},
   "outputs": [
    {
     "name": "stdout",
     "output_type": "stream",
     "text": [
      "Hello Mr. Farley\n"
     ]
    }
   ],
   "source": [
    "if c1_name == \"Mr. Farley\":\n",
    "    print(f\"Hello {c1_name}\")\n",
    "else:\n",
    "    print(\"Hello stranger\")"
   ]
  },
  {
   "cell_type": "markdown",
   "metadata": {},
   "source": [
    "\n",
    "\n",
    "Write an if-else statement to check if `c2_age` is greater than `c1_age`. If so, print a string of \"Mr. Farley is older than Mr. Snuggles\". Else if `c1_age` is greater than `c2_age`, print a string of \"Mr. Snuggles is older than Mr. Farley\". Else, `c1_age` must have to be equal to `c2_age`, therefore print a string of \"Mr. Farley is the same age as Mr. Snuggles\".\n"
   ]
  },
  {
   "cell_type": "code",
   "execution_count": 24,
   "metadata": {},
   "outputs": [
    {
     "name": "stdout",
     "output_type": "stream",
     "text": [
      "Mr. Snuggles is older than Mr. Farley\n"
     ]
    }
   ],
   "source": [
    "if c2_age > c1_age:\n",
    "    print(\"Mr. Farley is older than Mr. Snuggles\")\n",
    "elif c1_age > c2_age:\n",
    "    print(\"Mr. Snuggles is older than Mr. Farley\")\n",
    "else:\n",
    "    print(\"Mr. Farley is the same age as Mr. Snuggles\")"
   ]
  },
  {
   "cell_type": "markdown",
   "metadata": {},
   "source": [
    "\n",
    "\n",
    "Write an if-else statement to check if `c1_location` is equal to \"Oakland, CA\". If so, print a string of \"Mr. Farley comes from the home of the Raiders!\". Else if `c1_location` is equal to a string of \"San Francisco, CA\", print a string of \"Mr. Farley comes from the home of the 49ers!\". Else both conditions must not apply and therefore print a string \"Mr. Farley doesn't hail from a sports town.\"\n"
   ]
  },
  {
   "cell_type": "code",
   "execution_count": 25,
   "metadata": {},
   "outputs": [
    {
     "name": "stdout",
     "output_type": "stream",
     "text": [
      "Mr. Farley doesn't hail from a sports town.\n"
     ]
    }
   ],
   "source": [
    "if c1_location == \"Oakland, CA\":\n",
    "    print(\"Mr. Farley comes from the home of the Raiders!\")\n",
    "elif c2_location == \"San Francisco, CA\":\n",
    "    print(\"Mr. Farley comes from the home of the 49ers!\")\n",
    "else:\n",
    "    print(\"Mr. Farley doesn't hail from a sports town.\")"
   ]
  },
  {
   "cell_type": "markdown",
   "metadata": {},
   "source": [
    "\n",
    "\n",
    "Write an if-else statement to check if `c1_monthly_rent` is greater than `c2_monthly_rent`. If so, print a string of \"Mr. Farley pays more rent than Mr. Snuggles\". Else if `c1_monthly_rent` is less than `c2_monthly_rent`, print a string of \"Mr. Farley pays less rent than Mr. Snuggles\". Else, `c1_monthly_rent` must have to be equal to `c2_monthly_rent`, therefore print a string of \"Mr. Farley pays the same rent as Mr. Snuggles\".\n"
   ]
  },
  {
   "cell_type": "code",
   "execution_count": 26,
   "metadata": {},
   "outputs": [
    {
     "name": "stdout",
     "output_type": "stream",
     "text": [
      "Mr. Farley pays less rent than Mr. Snuggles\n"
     ]
    }
   ],
   "source": [
    "if c1_monthly_rent > c2_monthly_rent:\n",
    "    print(\"Mr. Farley pays more rent than Mr. Snuggles\")\n",
    "elif c1_monthly_rent < c2_monthly_rent:\n",
    "    print(\"Mr. Farley pays less rent than Mr. Snuggles\")\n",
    "else:\n",
    "    print(\"Mr. Farley pays the same rent as Mr. Snuggles\")"
   ]
  },
  {
   "cell_type": "markdown",
   "metadata": {},
   "source": [
    "\n",
    "\n",
    "Write an if-else statement to check if `c1_monthly_expenses` is greater than `c2_monthly_expenses`. If so, print a string of `Mr. Farley has more expenses than Mr. Snuggles`. Else if `c1_monthly_expenses` is less than `c2_monthly_expenses`, print a string of \"Mr. Farley pays less expenses than Mr. Snuggles\". Else, `c1_monthly_expenses` must have to be equal to `c2_monthly_expenses`, therefore print a string of \"Mr. Farley pays the same expenses at Mr. Snuggles\".\n"
   ]
  },
  {
   "cell_type": "code",
   "execution_count": 27,
   "metadata": {},
   "outputs": [
    {
     "name": "stdout",
     "output_type": "stream",
     "text": [
      "Mr. Farley has more expenses than Mr. Snuggles\n"
     ]
    }
   ],
   "source": [
    "if c1_monthly_expenses > c2_monthly_expenses:\n",
    "    print(\"Mr. Farley has more expenses than Mr. Snuggles\")\n",
    "elif c1_monthly_expenses < c2_monthly_expenses:\n",
    "    print(\"Mr. Farley pays less rent than Mr. Snuggles\")\n",
    "else:\n",
    "    print(\"Mr. Farley pays the same expenses as Mr. Snuggles\")"
   ]
  },
  {
   "cell_type": "markdown",
   "metadata": {},
   "source": [
    "\n",
    "\n",
    "Write an if-else statement to check if `c1_profession` is equal to \"Web Developer\" AND `c2_profession` is equal to \"Accountant\". If so, print a string of \"Look a Web Developer and an Accountant\", else print a string of \"They are professionals.\"\n",
    "\n"
   ]
  },
  {
   "cell_type": "code",
   "execution_count": 28,
   "metadata": {},
   "outputs": [
    {
     "name": "stdout",
     "output_type": "stream",
     "text": [
      "Look a Web Developer and an Accountant\n"
     ]
    }
   ],
   "source": [
    "if c1_profession ==  \"Web Developer\" and c2_profession == \"Accountant\":\n",
    "    print(\"Look a Web Developer and an Accountant\")\n",
    "else:\n",
    "    print(\"They are professionals.\")"
   ]
  }
 ],
 "metadata": {
  "kernelspec": {
   "display_name": "Python 3",
   "language": "python",
   "name": "python3"
  },
  "language_info": {
   "codemirror_mode": {
    "name": "ipython",
    "version": 3
   },
   "file_extension": ".py",
   "mimetype": "text/x-python",
   "name": "python",
   "nbconvert_exporter": "python",
   "pygments_lexer": "ipython3",
   "version": "3.7.9"
  }
 },
 "nbformat": 4,
 "nbformat_minor": 4
}
