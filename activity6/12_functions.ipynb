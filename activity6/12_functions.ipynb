{
 "cells": [
  {
   "cell_type": "code",
   "execution_count": 1,
   "metadata": {},
   "outputs": [],
   "source": [
    "# Define a function \"warble\" that takes in a string as an argument, adds \" arglebargle\" to \n",
    "# the end of it, and returns the result.\n",
    "def warble(string_parameter):\n",
    "     return (f\"{string_parameter} arglebargle\")"
   ]
  },
  {
   "cell_type": "code",
   "execution_count": 2,
   "metadata": {},
   "outputs": [
    {
     "name": "stdout",
     "output_type": "stream",
     "text": [
      "hello arglebargle\n"
     ]
    }
   ],
   "source": [
    "# Print the result of calling your \"warble\" function with the argument \"hello\".\n",
    "print(warble(\"hello\"))"
   ]
  },
  {
   "cell_type": "code",
   "execution_count": 3,
   "metadata": {},
   "outputs": [],
   "source": [
    "# Define a function \"wibble\" that takes a string as an argument, prints the argument,\n",
    "# prepends \"wibbly \" to the argument, and returns the result\n",
    "def wibble(string_para):\n",
    "    return(f\"wibbly {string_para}\")"
   ]
  },
  {
   "cell_type": "code",
   "execution_count": 4,
   "metadata": {},
   "outputs": [
    {
     "name": "stdout",
     "output_type": "stream",
     "text": [
      "wibbly bibbly\n"
     ]
    }
   ],
   "source": [
    "# Print the result of calling your \"wibble\" function with the argument \"bibbly\"\n",
    "print(wibble(\"bibbly\"))"
   ]
  },
  {
   "cell_type": "code",
   "execution_count": 5,
   "metadata": {},
   "outputs": [],
   "source": [
    "# Define a function \"print_sum\" that takes in two numbers as arguments and prints the sum of those two numbers.\n",
    "def print_sum(x, y):\n",
    "    sum = x + y\n",
    "    print(sum)"
   ]
  },
  {
   "cell_type": "code",
   "execution_count": 6,
   "metadata": {},
   "outputs": [],
   "source": [
    "# Define a function \"return_sum\" that takes in two numbers as arguments and returns the sum of those two numbers\n",
    "def return_sum(x, y):\n",
    "    return x + y"
   ]
  },
  {
   "cell_type": "code",
   "execution_count": 7,
   "metadata": {},
   "outputs": [],
   "source": [
    "# Using either \"return_sum\" and no mathematical operators, define a function \"triple_sum\" that takes in \n",
    "# 3 arguments and returns the sum of those 3 numbers.\n",
    "def triple_sum(x, y, z):\n",
    "    return x + y + z"
   ]
  },
  {
   "cell_type": "code",
   "execution_count": 8,
   "metadata": {},
   "outputs": [
    {
     "name": "stdout",
     "output_type": "stream",
     "text": [
      "7\n"
     ]
    }
   ],
   "source": [
    "print_sum(2, 5)"
   ]
  },
  {
   "cell_type": "code",
   "execution_count": 9,
   "metadata": {},
   "outputs": [
    {
     "data": {
      "text/plain": [
       "8"
      ]
     },
     "execution_count": 9,
     "metadata": {},
     "output_type": "execute_result"
    }
   ],
   "source": [
    "return_sum(3, 5)"
   ]
  },
  {
   "cell_type": "code",
   "execution_count": 10,
   "metadata": {},
   "outputs": [
    {
     "data": {
      "text/plain": [
       "14"
      ]
     },
     "execution_count": 10,
     "metadata": {},
     "output_type": "execute_result"
    }
   ],
   "source": [
    "triple_sum(2, 5, 7)"
   ]
  },
  {
   "cell_type": "code",
   "execution_count": 11,
   "metadata": {},
   "outputs": [],
   "source": [
    "# Define a function \"dance_party\" that takes in a string as an argument, that prints \"dance!\", updates\n",
    "# the string from calling \"wibble\" function with that argument, updates the string from calling \"warble\" \n",
    "# function with that argument, returns the updated string\n",
    "def dance_party(string_para):\n",
    "    print(\"dance!\")\n",
    "    print(f\"{string_para}\")\n",
    "    print(wibble(warble(string_para)))"
   ]
  },
  {
   "cell_type": "code",
   "execution_count": 12,
   "metadata": {},
   "outputs": [
    {
     "name": "stdout",
     "output_type": "stream",
     "text": [
      "dance!\n",
      "somya\n",
      "wibbly somya arglebargle\n"
     ]
    }
   ],
   "source": [
    "# Print the result of calling your \"dance_party\" function with your name as the argument\n",
    "dance_party(\"somya\")"
   ]
  },
  {
   "cell_type": "code",
   "execution_count": null,
   "metadata": {},
   "outputs": [],
   "source": []
  }
 ],
 "metadata": {
  "kernelspec": {
   "display_name": "Python 3",
   "language": "python",
   "name": "python3"
  },
  "language_info": {
   "codemirror_mode": {
    "name": "ipython",
    "version": 3
   },
   "file_extension": ".py",
   "mimetype": "text/x-python",
   "name": "python",
   "nbconvert_exporter": "python",
   "pygments_lexer": "ipython3",
   "version": "3.7.9"
  }
 },
 "nbformat": 4,
 "nbformat_minor": 4
}
