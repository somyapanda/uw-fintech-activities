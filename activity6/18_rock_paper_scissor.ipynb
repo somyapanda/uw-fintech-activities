{
 "cells": [
  {
   "cell_type": "markdown",
   "metadata": {},
   "source": [
    "# Rock, Paper, Scissors, Shoot\n",
    "\n",
    "In this activity, you will create an RPS game that takes user input from the command line and plays against the computer.\n"
   ]
  },
  {
   "cell_type": "code",
   "execution_count": 1,
   "metadata": {},
   "outputs": [
    {
     "data": {
      "text/plain": [
       "\"\\nImport the library `random`.\\nPrint the Title.\\nDeclare a variable `option` and take an input of `r`, `p`, or `s`.\\nDeclare a variable `computer_choice`.\\nDeclare a variable `user_choice`.\\nCompare the user's input to the computer's choice to determine if the user won,\\nlost or tied.\\n\\n\""
      ]
     },
     "execution_count": 1,
     "metadata": {},
     "output_type": "execute_result"
    }
   ],
   "source": [
    "\"\"\"\n",
    "Import the library `random`.\n",
    "Print the Title.\n",
    "Declare a variable `option` and take an input of `r`, `p`, or `s`.\n",
    "Declare a variable `computer_choice`.\n",
    "Declare a variable `user_choice`.\n",
    "Compare the user's input to the computer's choice to determine if the user won,\n",
    "lost or tied.\n",
    "\n",
    "\"\"\""
   ]
  },
  {
   "cell_type": "markdown",
   "metadata": {},
   "source": [
    "Incorporate the random library"
   ]
  },
  {
   "cell_type": "code",
   "execution_count": 2,
   "metadata": {},
   "outputs": [],
   "source": [
    "import random"
   ]
  },
  {
   "cell_type": "markdown",
   "metadata": {},
   "source": [
    "Print Title"
   ]
  },
  {
   "cell_type": "code",
   "execution_count": 3,
   "metadata": {},
   "outputs": [
    {
     "name": "stdout",
     "output_type": "stream",
     "text": [
      "Let's Play Rock Paper Scissors!\n"
     ]
    }
   ],
   "source": [
    "print(\"Let's Play Rock Paper Scissors!\")"
   ]
  },
  {
   "cell_type": "markdown",
   "metadata": {},
   "source": [
    "Specify the three options."
   ]
  },
  {
   "cell_type": "code",
   "execution_count": 4,
   "metadata": {},
   "outputs": [],
   "source": [
    "options = [\"r\", \"p\", \"s\"]"
   ]
  },
  {
   "cell_type": "markdown",
   "metadata": {},
   "source": [
    "Computer Selection"
   ]
  },
  {
   "cell_type": "code",
   "execution_count": 5,
   "metadata": {},
   "outputs": [],
   "source": [
    "computer_choice = random.choice(options)"
   ]
  },
  {
   "cell_type": "markdown",
   "metadata": {},
   "source": [
    "User Selection"
   ]
  },
  {
   "cell_type": "code",
   "execution_count": 7,
   "metadata": {},
   "outputs": [
    {
     "name": "stdin",
     "output_type": "stream",
     "text": [
      "Make your Choice: (r)ock, (p)aper, (s)cissors?  r\n"
     ]
    }
   ],
   "source": [
    "user_choice = input(\"Make your Choice: (r)ock, (p)aper, (s)cissors? \")"
   ]
  },
  {
   "cell_type": "markdown",
   "metadata": {},
   "source": [
    "Run Conditionals"
   ]
  },
  {
   "cell_type": "code",
   "execution_count": 8,
   "metadata": {},
   "outputs": [
    {
     "name": "stdout",
     "output_type": "stream",
     "text": [
      "You chose rock and the computer also chose rock.\n",
      "Ohh! It's a tie.\n"
     ]
    }
   ],
   "source": [
    "if (user_choice == \"r\" and computer_choice == \"p\"):\n",
    "    print(\"You chose rock and the computer chose paper.\")\n",
    "    print(\"Sorry, You lose.\")\n",
    "elif (user_choice == \"r\" and computer_choice == \"s\"):\n",
    "    print(\"You chose rock and the computer chose scissors.\")\n",
    "    print(\"Hoorey, You won.\")\n",
    "elif (user_choice == \"r\" and computer_choice == \"r\"):\n",
    "    print(\"You chose rock and the computer also chose rock.\")\n",
    "    print(\"Ohh! It's a tie.\")\n",
    "elif (user_choice == \"p\" and computer_choice == \"r\"):\n",
    "    print(\"You chose paper and the computer chose rock.\")\n",
    "    print(\"Hoorey, You won.\")\n",
    "elif (user_choice == \"p\" and computer_choice == \"p\"):\n",
    "    print(\"You chose paper and the computer also chose  paper.\")\n",
    "    print(\"Ohh! It's a tie.\")\n",
    "elif (user_choice == \"p\" and computer_choice == \"s\"):\n",
    "    print(\"You chose paper and the computer chose scissors.\")\n",
    "    print(\"sorry, You lose.\")\n",
    "elif (user_choice == \"s\" and computer_choice == \"r\"):\n",
    "    print(\"You chose scissors and the computer chose rock.\")\n",
    "    print(\"Sorry, You lose.\")\n",
    "elif (user_choice == \"s\" and computer_choice == \"p\"):\n",
    "    print(\"You chose scissors and the computer chose paper.\")\n",
    "    print(\"Hoorey, You won.\")\n",
    "elif (user_choice == \"s\" and computer_choice == \"s\"):\n",
    "    print(\"You chose scissors and the computer also chose scissors.\")\n",
    "    print(\"Ohh! It's a tie.\")\n",
    "else:\n",
    "    print(\"I don't know the game. Please explain me.\")\n",
    "    print(\"Next time choose from 'r', 'p' or 's'.\")"
   ]
  },
  {
   "cell_type": "code",
   "execution_count": null,
   "metadata": {},
   "outputs": [],
   "source": []
  }
 ],
 "metadata": {
  "kernelspec": {
   "display_name": "Python 3",
   "language": "python",
   "name": "python3"
  },
  "language_info": {
   "codemirror_mode": {
    "name": "ipython",
    "version": 3
   },
   "file_extension": ".py",
   "mimetype": "text/x-python",
   "name": "python",
   "nbconvert_exporter": "python",
   "pygments_lexer": "ipython3",
   "version": "3.7.9"
  }
 },
 "nbformat": 4,
 "nbformat_minor": 4
}
