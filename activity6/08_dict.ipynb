{
 "cells": [
  {
   "cell_type": "markdown",
   "metadata": {},
   "source": [
    "### Dictionaries and Bracket Notation\n",
    "\n",
    "In this activity, you are given two dictionaries. They are actually the same dictionary, except that one contains content, and the other doesn't. Your job is to convert the dictionary _without_ content into an exact replica of the dictionary that is commented out.\n",
    "\n",
    "You may not create a new dictionary; instead, use bracket notation to populate the empty `san_francisco` dictionary. You will know you have completed the challenge when your print statement matches the dictionary that is commented out.\n"
   ]
  },
  {
   "cell_type": "code",
   "execution_count": 1,
   "metadata": {},
   "outputs": [],
   "source": [
    "# Re-create the content of the commented out `san_francisco` dictionary by using bracket notation to manually add each of the key-value pairs (including nested objects).\n",
    "san_francisco = {\n",
    "   \"west_coast\": True,\n",
    "   \"has_multiple_bridges\": True,\n",
    "    \"known_for_pizza\": False,\n",
    "    \"coastal\": True,\n",
    "   \"snows\": False,\n",
    "    \"very_hot\": False,\n",
    "   \"mayor\": \"London Breed\",\n",
    "     \"state\": \"California\",\n",
    "     \"country\": \"USA\",\n",
    "     \"best_food\": \"burritos\",\n",
    "     \"sports_teams\": [\"Giants\", \"Warriors\", \"Forty-Niners\"],\n",
    "     \"tallest_building\": \"SalesForce Building\",\n",
    "    \"population\": 884363,\n",
    "     \"city_size\": \"large\",\n",
    "    \"median_house_price\": 1610000,\n",
    "     \"famous_residents\": [\"Maya Angelou\", \"Robert Frost\", \"Carlos Santana\"],\n",
    "     \"homeless_pop\": 1150,\n",
    "     \"political_leaning\": \"Democrat\",\n",
    "     \"notable_attractions\": [\"Alcatraz\", \"Golden Gate Bridge\", \"Fisherman's Wharf\"],\n",
    "     \"natural_disasters\": [\"Earthquakes\"],\n",
    " }"
   ]
  },
  {
   "cell_type": "code",
   "execution_count": 2,
   "metadata": {},
   "outputs": [
    {
     "name": "stdout",
     "output_type": "stream",
     "text": [
      "True\n",
      "True\n",
      "False\n",
      "True\n",
      "False\n",
      "False\n",
      "London Breed\n",
      "California\n",
      "USA\n",
      "burritos\n",
      "['Giants', 'Warriors', 'Forty-Niners']\n",
      "SalesForce Building\n",
      "large\n",
      "1610000\n",
      "['Maya Angelou', 'Robert Frost', 'Carlos Santana']\n",
      "1150\n",
      "['Alcatraz', 'Golden Gate Bridge', \"Fisherman's Wharf\"]\n",
      "['Earthquakes']\n"
     ]
    }
   ],
   "source": [
    "# Print the manually modified `san_francisco` dictionary and confirm the contents match the commented out version.\n",
    "print(san_francisco[\"west_coast\"])\n",
    "print(san_francisco[\"has_multiple_bridges\"])\n",
    "print(san_francisco[\"known_for_pizza\"]) \n",
    "print(san_francisco[\"coastal\"])\n",
    "print(san_francisco[\"snows\"])      \n",
    "print(san_francisco[\"very_hot\"]) \n",
    "print(san_francisco[\"mayor\"])\n",
    "print(san_francisco[\"state\"])\n",
    "print(san_francisco[\"country\"])\n",
    "print(san_francisco[\"best_food\"])\n",
    "print(san_francisco[\"sports_teams\"])\n",
    "print(san_francisco[\"tallest_building\"])\n",
    "print(san_francisco[\"city_size\"])\n",
    "print(san_francisco[\"median_house_price\"])\n",
    "print(san_francisco[\"famous_residents\"])\n",
    "print(san_francisco[\"homeless_pop\"])\n",
    "print(san_francisco[\"notable_attractions\"])\n",
    "print(san_francisco[\"natural_disasters\"])\n"
   ]
  },
  {
   "cell_type": "code",
   "execution_count": null,
   "metadata": {},
   "outputs": [],
   "source": []
  }
 ],
 "metadata": {
  "kernelspec": {
   "display_name": "Python 3",
   "language": "python",
   "name": "python3"
  },
  "language_info": {
   "codemirror_mode": {
    "name": "ipython",
    "version": 3
   },
   "file_extension": ".py",
   "mimetype": "text/x-python",
   "name": "python",
   "nbconvert_exporter": "python",
   "pygments_lexer": "ipython3",
   "version": "3.7.9"
  }
 },
 "nbformat": 4,
 "nbformat_minor": 4
}
