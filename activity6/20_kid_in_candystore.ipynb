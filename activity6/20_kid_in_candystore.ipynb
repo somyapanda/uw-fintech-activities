{
 "cells": [
  {
   "cell_type": "markdown",
   "metadata": {},
   "source": [
    "# Kid in a Candy Store\n",
    "\n",
    "In this activity, you will create the code a candy store will use in their state-of-the-art candy vending machine!\n",
    "\n",
    "## Instructions\n",
    "\n",
    "1. Create a loop that prints all of the candy in the store to the command line, with their index stored in brackets beside them, e.g., `\"[0] Snickers\"`\n",
    "\n",
    "2. Create a second loop that runs for a set number of times as determined by the variable `allowance`.\n",
    "\n",
    "  * For example, if `allowance` is equal to 5, the loop should run 5 times.\n",
    "\n",
    "  * Each time this loop runs, take in a user's input––preferably a number––and then add the candy with a matching index to the variable `candy_cart`.\n",
    "\n",
    "  * For example, if the user enters \"0\" as their input, \"Snickers\" should be added into the `candy_cart` list.\n",
    "\n",
    "3. Create a final loop to print all of the candy selected to the command line."
   ]
  },
  {
   "cell_type": "markdown",
   "metadata": {},
   "source": [
    "The list of candy that prints to the command line."
   ]
  },
  {
   "cell_type": "code",
   "execution_count": 1,
   "metadata": {},
   "outputs": [],
   "source": [
    "candy_names = [\n",
    "    \"Kit Kat\",\n",
    "    \"snickers\",\n",
    "    \"Pop Rocks\",\n",
    "    \"Cotton Candy\",\n",
    "    \"Almond Joy\",\n",
    "    \"M&M'S\",\n",
    "    \"Twix\",\n",
    "    \"TWIZZLERS\"\n",
    "]"
   ]
  },
  {
   "cell_type": "markdown",
   "metadata": {},
   "source": [
    "The amount of candy the user will be allowed to choose."
   ]
  },
  {
   "cell_type": "code",
   "execution_count": 2,
   "metadata": {},
   "outputs": [],
   "source": [
    "allowance = 5"
   ]
  },
  {
   "cell_type": "markdown",
   "metadata": {},
   "source": [
    "Create a list to store all the candy."
   ]
  },
  {
   "cell_type": "code",
   "execution_count": 3,
   "metadata": {},
   "outputs": [],
   "source": [
    "candy_cart = []"
   ]
  },
  {
   "cell_type": "markdown",
   "metadata": {},
   "source": [
    "Print all the candies to the screen with the index in brackets."
   ]
  },
  {
   "cell_type": "code",
   "execution_count": 4,
   "metadata": {},
   "outputs": [
    {
     "name": "stdout",
     "output_type": "stream",
     "text": [
      "[0] Kit Kat\n",
      "[1] snickers\n",
      "[2] Pop Rocks\n",
      "[3] Cotton Candy\n",
      "[4] Almond Joy\n",
      "[5] M&M'S\n",
      "[6] Twix\n",
      "[7] TWIZZLERS\n"
     ]
    }
   ],
   "source": [
    "for candy in candy_names:\n",
    "    print(f\"[{str(candy_names.index(candy))}] {candy}\")"
   ]
  },
  {
   "cell_type": "markdown",
   "metadata": {},
   "source": [
    "Run through the loop that allows the user to choose which candies they can take home with them."
   ]
  },
  {
   "cell_type": "code",
   "execution_count": null,
   "metadata": {},
   "outputs": [
    {
     "name": "stdout",
     "output_type": "stream",
     "text": [
      "[0]Kit Kat\n",
      "[1]snickers\n",
      "[2]Pop Rocks\n",
      "[3]Cotton Candy\n",
      "[4]Almond Joy\n",
      "[5]M&M'S\n",
      "[6]Twix\n",
      "[7]TWIZZLERS\n",
      "Which candy would you like to bring home?\n"
     ]
    },
    {
     "name": "stdin",
     "output_type": "stream",
     "text": [
      "Input the number of candies:  5\n"
     ]
    },
    {
     "name": "stdout",
     "output_type": "stream",
     "text": [
      "I brought home with me..\n",
      "M&M'S\n",
      "Which candy would you like to bring home?\n"
     ]
    },
    {
     "name": "stdin",
     "output_type": "stream",
     "text": [
      "Input the number of candies:  4\n"
     ]
    },
    {
     "name": "stdout",
     "output_type": "stream",
     "text": [
      "I brought home with me..\n",
      "M&M'S\n",
      "Almond Joy\n",
      "Which candy would you like to bring home?\n"
     ]
    }
   ],
   "source": [
    "#print(\"Which candy would you like to take home?\")\n",
    "for i in range(len(candy_names)):\n",
    "    print(\"[\" + str(i) + \"]\" + candy_names[i])\n",
    "    \n",
    "#Set answer to \"yes\" for while loop\n",
    "answer = \"yes\"\n",
    "\n",
    "while answer == \"yes\":\n",
    "    print(\"Which candy would you like to bring home?\")\n",
    "    user_num = input(\"Input the number of candies: \")\n",
    "    \n",
    "    # Add the candy with a matching index to the variable `candy_cart`.\n",
    "    candy_cart.append(candy_names[int(user_num)])\n",
    "    \n",
    "    #Loop through the candy_cart to say what candies to take home.\n",
    "    print(\"I brought home with me..\")\n",
    "    for candy in candy_cart:\n",
    "        print(candy)"
   ]
  },
  {
   "cell_type": "code",
   "execution_count": null,
   "metadata": {},
   "outputs": [],
   "source": []
  }
 ],
 "metadata": {
  "kernelspec": {
   "display_name": "Python 3",
   "language": "python",
   "name": "python3"
  },
  "language_info": {
   "codemirror_mode": {
    "name": "ipython",
    "version": 3
   },
   "file_extension": ".py",
   "mimetype": "text/x-python",
   "name": "python",
   "nbconvert_exporter": "python",
   "pygments_lexer": "ipython3",
   "version": "3.7.9"
  }
 },
 "nbformat": 4,
 "nbformat_minor": 4
}
