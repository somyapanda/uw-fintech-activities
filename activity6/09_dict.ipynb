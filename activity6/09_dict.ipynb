{
 "cells": [
  {
   "cell_type": "markdown",
   "metadata": {},
   "source": [
    "Use the `from` keyword to import the `shows` dictionary from the `show_data.py` file."
   ]
  },
  {
   "cell_type": "code",
   "execution_count": 1,
   "metadata": {},
   "outputs": [],
   "source": [
    "from show_data import shows"
   ]
  },
  {
   "cell_type": "markdown",
   "metadata": {},
   "source": [
    "QUESTION 1: Who is the actor that plays Squidward in Spongebob (kids)?"
   ]
  },
  {
   "cell_type": "code",
   "execution_count": 2,
   "metadata": {},
   "outputs": [
    {
     "name": "stdout",
     "output_type": "stream",
     "text": [
      "Roger Bumpass\n"
     ]
    }
   ],
   "source": [
    "spongebob_cast = shows[\"genre\"][\"kids\"][\"Spongebob\"][\"cast\"]\n",
    "for role in spongebob_cast:\n",
    "    if \"Squidward\" in role[\"character\"]:\n",
    "        print(role[\"actor\"])"
   ]
  },
  {
   "cell_type": "markdown",
   "metadata": {},
   "source": [
    "QUESTION 2: Patrick Warburton plays Joe Swanson in Family Guy (comedy). What is the link to his imdb page?"
   ]
  },
  {
   "cell_type": "code",
   "execution_count": 3,
   "metadata": {},
   "outputs": [
    {
     "data": {
      "text/plain": [
       "'https://www.imdb.com/name/nm0911320/?ref_=nv_sr_2'"
      ]
     },
     "execution_count": 3,
     "metadata": {},
     "output_type": "execute_result"
    }
   ],
   "source": [
    "shows[\"genre\"][\"comedy\"][\"family_guy\"][\"cast\"][4][\"imdb\"]"
   ]
  },
  {
   "cell_type": "markdown",
   "metadata": {},
   "source": [
    "QUESTION 3: Is the Walking Dead still running?\n"
   ]
  },
  {
   "cell_type": "code",
   "execution_count": 4,
   "metadata": {},
   "outputs": [
    {
     "name": "stdout",
     "output_type": "stream",
     "text": [
      "The Walking Dead is still running: True.\n"
     ]
    }
   ],
   "source": [
    "running = shows[\"genre\"][\"drama\"][\"the_walking_dead\"][\"still_running\"]\n",
    "print(f\"The Walking Dead is still running: {running}.\")"
   ]
  },
  {
   "cell_type": "markdown",
   "metadata": {},
   "source": [
    "QUESTION 4: Who plays Dexter in Dexter (drama) and who plays Dexter in Dexter's Lab (kids)?\n",
    "HINT: You can print multiple items at once by using a comma like this: print(thing1, thing2)\n"
   ]
  },
  {
   "cell_type": "code",
   "execution_count": 5,
   "metadata": {},
   "outputs": [
    {
     "name": "stdout",
     "output_type": "stream",
     "text": [
      "Michael C. Hall plays Dexter in Dexter (drama) and Christine Cavanaugh plays Dexter in Dexter's Lab (kids).\n"
     ]
    }
   ],
   "source": [
    "drama = shows[\"genre\"][\"drama\"][\"dexter\"][\"cast\"][0][\"actor\"]\n",
    "kids = shows[\"genre\"][\"kids\"][\"dexters_lab\"][\"cast\"][0][\"actor\"]\n",
    "print(f\"{drama} plays Dexter in Dexter (drama) and {kids} plays Dexter in Dexter's Lab (kids).\")"
   ]
  },
  {
   "cell_type": "markdown",
   "metadata": {},
   "source": [
    "QUESTION 5: Who are the creators of Stranger Things (drama)?\n"
   ]
  },
  {
   "cell_type": "code",
   "execution_count": 6,
   "metadata": {},
   "outputs": [
    {
     "name": "stdout",
     "output_type": "stream",
     "text": [
      "The creators of Stranger Things (drama) are ['Ross Duffer', 'Matt Duffer'].\n"
     ]
    }
   ],
   "source": [
    "creators = shows[\"genre\"][\"drama\"][\"stranger_things\"][\"creators\"]\n",
    "print(f\"The creators of Stranger Things (drama) are {creators}.\")"
   ]
  },
  {
   "cell_type": "markdown",
   "metadata": {},
   "source": [
    "QUESTION 6: Who hosts the Daily Show (talk)?\n"
   ]
  },
  {
   "cell_type": "code",
   "execution_count": 7,
   "metadata": {},
   "outputs": [
    {
     "name": "stdout",
     "output_type": "stream",
     "text": [
      "Trevor Noah hosts the Daily Show (talk).\n"
     ]
    }
   ],
   "source": [
    "hosts = shows[\"genre\"][\"talk\"][\"the_daily_show\"][\"host\"]\n",
    "print(f\"{hosts} hosts the Daily Show (talk).\")"
   ]
  },
  {
   "cell_type": "markdown",
   "metadata": {},
   "source": [
    "QUESTION 7: Who are all the hosts of the view (talk)\n",
    "Hint: You will need to use a loop for this one. You may not simply log the entire list, but must log each name individually\n"
   ]
  },
  {
   "cell_type": "code",
   "execution_count": 8,
   "metadata": {},
   "outputs": [
    {
     "name": "stdout",
     "output_type": "stream",
     "text": [
      "The hosts of the view (talk) is Whoopi Goldberg.\n",
      "The hosts of the view (talk) is Barbara Walters.\n",
      "The hosts of the view (talk) is Joy Behar.\n",
      "The hosts of the view (talk) is Star Jones.\n",
      "The hosts of the view (talk) is Meredith Vieira.\n"
     ]
    }
   ],
   "source": [
    "the_view_hosts = shows[\"genre\"][\"talk\"][\"the_view\"][\"host\"]\n",
    "for host in the_view_hosts:\n",
    "    print(f\"The hosts of the view (talk) is {host}.\")"
   ]
  },
  {
   "cell_type": "markdown",
   "metadata": {},
   "source": [
    "QUESTION 8: What are the show names of the Impractical Jokers (comedy).\n",
    "Hint: You will need to use a loop for this one. You may not simply log the entire list, but must log each name individually\n"
   ]
  },
  {
   "cell_type": "code",
   "execution_count": 9,
   "metadata": {},
   "outputs": [
    {
     "name": "stdout",
     "output_type": "stream",
     "text": [
      "The show names of the Impractical Jokers (comedy) is Murr.\n",
      "The show names of the Impractical Jokers (comedy) is Joe.\n",
      "The show names of the Impractical Jokers (comedy) is Sal.\n",
      "The show names of the Impractical Jokers (comedy) is Q.\n"
     ]
    }
   ],
   "source": [
    "cast = shows[\"genre\"][\"comedy\"][\"impractical_jokers\"][\"cast\"]\n",
    "for role in cast:\n",
    "    print(f\"The show names of the Impractical Jokers (comedy) is {role['showName']}.\")"
   ]
  },
  {
   "cell_type": "markdown",
   "metadata": {},
   "source": [
    "QUESTION 9: Who does Will Arnett play in Arrested Development (comedy)\n"
   ]
  },
  {
   "cell_type": "code",
   "execution_count": 10,
   "metadata": {},
   "outputs": [
    {
     "name": "stdout",
     "output_type": "stream",
     "text": [
      "The character played in Arrested Development (comedy) by Will Arnett is Gob Bluth.\n"
     ]
    }
   ],
   "source": [
    "arr_dev_cast = shows[\"genre\"][\"comedy\"][\"arrested_development\"][\"cast\"]\n",
    "for role in arr_dev_cast:\n",
    "    if role[\"actor\"] == \"Will Arnett\":\n",
    "        print(f\"The character played in Arrested Development (comedy) by Will Arnett is {role['character']}.\")"
   ]
  },
  {
   "cell_type": "markdown",
   "metadata": {},
   "source": [
    "QUESTION 10: Who plays Yami Yugi in Yu-Gi-Oh (kids)?\n"
   ]
  },
  {
   "cell_type": "code",
   "execution_count": 11,
   "metadata": {},
   "outputs": [
    {
     "name": "stdout",
     "output_type": "stream",
     "text": [
      "The actor who plays Yami Yugi in Yu-Gi-Oh (kids) is Dan Green.\n"
     ]
    }
   ],
   "source": [
    "yami_yugi_cast = shows[\"genre\"][\"kids\"][\"yu_gi_oh\"][\"cast\"]\n",
    "for role in yami_yugi_cast:\n",
    "    if role[\"character\"] == \"Yami Yugi\":\n",
    "        print(f\"The actor who plays Yami Yugi in Yu-Gi-Oh (kids) is {role['actor']}.\")"
   ]
  },
  {
   "cell_type": "markdown",
   "metadata": {},
   "source": [
    "QUESTION 11: How many seasons did the Office (comedy) run?\n"
   ]
  },
  {
   "cell_type": "code",
   "execution_count": 12,
   "metadata": {},
   "outputs": [
    {
     "name": "stdout",
     "output_type": "stream",
     "text": [
      "The Office (comedy) run 9.\n"
     ]
    }
   ],
   "source": [
    "print(f\"The Office (comedy) run {shows['genre']['comedy']['the_office']['num_seasons']}.\")"
   ]
  },
  {
   "cell_type": "markdown",
   "metadata": {},
   "source": [
    "QUESTION 12: Who are the main characters of the Office (comedy) (not the actors, but the actual character names)?\n"
   ]
  },
  {
   "cell_type": "code",
   "execution_count": 13,
   "metadata": {},
   "outputs": [
    {
     "name": "stdout",
     "output_type": "stream",
     "text": [
      "The main character of the Office (comedy) is Michael Scott.\n",
      "The main character of the Office (comedy) is John Krasinsky.\n",
      "The main character of the Office (comedy) is Dwight Schrute.\n",
      "The main character of the Office (comedy) is Pam Beasley.\n",
      "The main character of the Office (comedy) is Kelly Kapoor.\n"
     ]
    }
   ],
   "source": [
    "cast = shows[\"genre\"][\"comedy\"][\"the_office\"][\"cast\"]\n",
    "for role in cast:\n",
    "    print(f\"The main character of the Office (comedy) is {role['character']}.\") "
   ]
  },
  {
   "cell_type": "markdown",
   "metadata": {},
   "source": [
    "QUESTION 13: List the characters in Teen Titans (kids)\n"
   ]
  },
  {
   "cell_type": "code",
   "execution_count": 14,
   "metadata": {},
   "outputs": [
    {
     "data": {
      "text/plain": [
       "['Robin', 'Raven', 'Cyborg', 'Beast Boy', 'Starfire']"
      ]
     },
     "execution_count": 14,
     "metadata": {},
     "output_type": "execute_result"
    }
   ],
   "source": [
    "cast = shows[\"genre\"][\"kids\"][\"teen_titans\"][\"cast\"]\n",
    "[role[\"character\"] for role in cast]"
   ]
  },
  {
   "cell_type": "markdown",
   "metadata": {},
   "source": [
    "QUESTION 14: What is the link to the IMDB page for the actor who plays Mr. Krabs (Spongebob, kids)?\n"
   ]
  },
  {
   "cell_type": "code",
   "execution_count": 15,
   "metadata": {},
   "outputs": [
    {
     "name": "stdout",
     "output_type": "stream",
     "text": [
      "The link to the IMDB page for the actor who plays Mr. Krabs (Spongebob, kids) is https://www.imdb.com/name/nm0000317/?ref_=nv_sr_1.\n"
     ]
    }
   ],
   "source": [
    "spongebob_link = shows[\"genre\"][\"kids\"][\"Spongebob\"][\"cast\"]\n",
    "for role in spongebob_link:\n",
    "    if role[\"character\"] == \"Mr. Krabs\":\n",
    "        print(f\"The link to the IMDB page for the actor who plays Mr. Krabs (Spongebob, kids) is {role['imdb']}.\")"
   ]
  },
  {
   "cell_type": "markdown",
   "metadata": {},
   "source": [
    "QUESTION 15: Who plays Negan in The Walking Dead?\n"
   ]
  },
  {
   "cell_type": "code",
   "execution_count": 16,
   "metadata": {},
   "outputs": [
    {
     "name": "stdout",
     "output_type": "stream",
     "text": [
      "Jeffrey Dean Morgan plays Negan in The Walking Dead.\n"
     ]
    }
   ],
   "source": [
    "the_walking_dead_cast = shows[\"genre\"][\"drama\"][\"the_walking_dead\"][\"cast\"]\n",
    "for role in the_walking_dead_cast:\n",
    "    if role[\"character\"] == \"Negan\":\n",
    "        print(f\"{role['actor']} plays Negan in The Walking Dead.\")"
   ]
  },
  {
   "cell_type": "markdown",
   "metadata": {},
   "source": [
    "QUESTION 16: List the main cast of Dexter (drama) (the actors, not the characters)\n"
   ]
  },
  {
   "cell_type": "code",
   "execution_count": 17,
   "metadata": {},
   "outputs": [
    {
     "data": {
      "text/plain": [
       "['Michael C. Hall',\n",
       " 'Jennifer Carpenter',\n",
       " 'David Zayas',\n",
       " 'Desmond Harrington',\n",
       " 'James Remar']"
      ]
     },
     "execution_count": 17,
     "metadata": {},
     "output_type": "execute_result"
    }
   ],
   "source": [
    "dexter_cast = shows[\"genre\"][\"drama\"][\"dexter\"][\"cast\"]\n",
    "[role[\"actor\"] for role in dexter_cast]"
   ]
  },
  {
   "cell_type": "markdown",
   "metadata": {},
   "source": [
    "QUESTION 17: Is Game of Thrones(drama) still running?\n"
   ]
  },
  {
   "cell_type": "code",
   "execution_count": 18,
   "metadata": {},
   "outputs": [
    {
     "name": "stdout",
     "output_type": "stream",
     "text": [
      "No, Game of Thrones(drama) is not running anymore.\n"
     ]
    }
   ],
   "source": [
    "game_of_throne_cast = shows[\"genre\"][\"drama\"][\"game_of_thrones\"]\n",
    "for key, value in game_of_throne_cast.items():\n",
    "    if [\"still_running\"] == True:\n",
    "        print(\"Yes, Game of Thrones(drama) is still running.\" )\n",
    "    else:\n",
    "        print(\"No, Game of Thrones(drama) is not running anymore.\")\n",
    "    break"
   ]
  },
  {
   "cell_type": "markdown",
   "metadata": {},
   "source": [
    "QUESTION 18: Who does Peter Dinklage play in Game of Thrones (drama)?\n"
   ]
  },
  {
   "cell_type": "code",
   "execution_count": 19,
   "metadata": {},
   "outputs": [
    {
     "name": "stdout",
     "output_type": "stream",
     "text": [
      "Tyrion Lannister plays Peter Dinklage role in Game of Thrones (drama).\n"
     ]
    }
   ],
   "source": [
    "thrones_cast = shows[\"genre\"][\"drama\"][\"game_of_thrones\"][\"cast\"]\n",
    "for role in thrones_cast:\n",
    "    if role[\"actor\"] == \"Peter Dinklage\":\n",
    "        print(f\"{role['character']} plays Peter Dinklage role in Game of Thrones (drama).\")"
   ]
  },
  {
   "cell_type": "markdown",
   "metadata": {},
   "source": [
    "QUESTION 19: List the American Idol Judges\n"
   ]
  },
  {
   "cell_type": "code",
   "execution_count": 20,
   "metadata": {},
   "outputs": [
    {
     "data": {
      "text/plain": [
       "['Simon Cowell', 'Randy Jackson', 'Paula Abdul']"
      ]
     },
     "execution_count": 20,
     "metadata": {},
     "output_type": "execute_result"
    }
   ],
   "source": [
    "judge_list = shows[\"genre\"][\"reality\"][\"american_idol\"][\"judges\"]\n",
    "[judge for judge in judge_list]"
   ]
  },
  {
   "cell_type": "markdown",
   "metadata": {},
   "source": [
    "QUESTION 20: Who plays Dustin in Stanger Things (drama)?\n"
   ]
  },
  {
   "cell_type": "code",
   "execution_count": 21,
   "metadata": {},
   "outputs": [
    {
     "name": "stdout",
     "output_type": "stream",
     "text": [
      "Gaten Matarazzo plays Dustin in Stranger Things (drama)\n"
     ]
    }
   ],
   "source": [
    "cast = shows[\"genre\"][\"drama\"][\"stranger_things\"][\"cast\"]\n",
    "for role in cast:\n",
    "    if role[\"character\"] == \"Dustin\":\n",
    "        print(f\"{role['actor']} plays Dustin in Stranger Things (drama)\")"
   ]
  },
  {
   "cell_type": "code",
   "execution_count": null,
   "metadata": {},
   "outputs": [],
   "source": []
  }
 ],
 "metadata": {
  "kernelspec": {
   "display_name": "Python 3",
   "language": "python",
   "name": "python3"
  },
  "language_info": {
   "codemirror_mode": {
    "name": "ipython",
    "version": 3
   },
   "file_extension": ".py",
   "mimetype": "text/x-python",
   "name": "python",
   "nbconvert_exporter": "python",
   "pygments_lexer": "ipython3",
   "version": "3.7.9"
  }
 },
 "nbformat": 4,
 "nbformat_minor": 4
}
