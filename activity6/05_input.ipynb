{
 "cells": [
  {
   "cell_type": "markdown",
   "metadata": {},
   "source": [
    "Declare a variable `welcome_name` as an input with a string of \"Welcome to the sandwich shop, what do I call you? \".\n"
   ]
  },
  {
   "cell_type": "code",
   "execution_count": 1,
   "metadata": {},
   "outputs": [
    {
     "name": "stdin",
     "output_type": "stream",
     "text": [
      "Welcome to the sandwich shop, what do I call you? Somya\n"
     ]
    }
   ],
   "source": [
    "welcome_name = input(\"Welcome to the sandwich shop, what do I call you?\")"
   ]
  },
  {
   "cell_type": "markdown",
   "metadata": {},
   "source": [
    "Then print the string \"Hello\" concatenated with the variable `welcome_name`.\n"
   ]
  },
  {
   "cell_type": "code",
   "execution_count": 2,
   "metadata": {},
   "outputs": [
    {
     "name": "stdout",
     "output_type": "stream",
     "text": [
      "Hello, Somya\n"
     ]
    }
   ],
   "source": [
    "print(f\"Hello, {welcome_name}\")"
   ]
  },
  {
   "cell_type": "markdown",
   "metadata": {},
   "source": [
    "Declare a variable `question_sandwich` as an input with a string of \"Are you here for a sandwich? (Y/N) \".\n",
    "\n",
    "If `question_sandwich` is equal to \"Y\" or \"y\" declare a variable `food_prompt` as an input with a string of \"What kind of sandwich would you like?\".\n",
    "\n",
    "Then print a string of \"Please wait 10 min for your \" concatenated with the variable `food_prompt`.\n",
    "\n",
    "Else If `question_sandwich` is \"N\" or \"n\", print a string of \"If you don't want a sandwich what are you here for?!\".\n",
    "\n",
    "Else print a string of \"You did not write Y or N!\"\n"
   ]
  },
  {
   "cell_type": "code",
   "execution_count": 3,
   "metadata": {},
   "outputs": [
    {
     "name": "stdin",
     "output_type": "stream",
     "text": [
      "Are you here for a sandwich?Yes/No Yes\n",
      "What kind of sandwich would you like? cheese\n"
     ]
    },
    {
     "name": "stdout",
     "output_type": "stream",
     "text": [
      "Please wait 10 min for your cheese sandwich.\n"
     ]
    }
   ],
   "source": [
    "question_sandwich = input(\"Are you here for a sandwich?Yes/No\")\n",
    "if question_sandwich == \"Yes\":\n",
    "    food_prompt = input(\"What kind of sandwich would you like?\")\n",
    "    print(f\"Please wait 10 min for your {food_prompt} sandwich.\")\n",
    "if question_sandwich == \"No\":\n",
    "    print(\"If you don't want a sandwich what are you here for?!\")"
   ]
  },
  {
   "cell_type": "code",
   "execution_count": null,
   "metadata": {},
   "outputs": [],
   "source": []
  }
 ],
 "metadata": {
  "kernelspec": {
   "display_name": "Python 3",
   "language": "python",
   "name": "python3"
  },
  "language_info": {
   "codemirror_mode": {
    "name": "ipython",
    "version": 3
   },
   "file_extension": ".py",
   "mimetype": "text/x-python",
   "name": "python",
   "nbconvert_exporter": "python",
   "pygments_lexer": "ipython3",
   "version": "3.7.9"
  }
 },
 "nbformat": 4,
 "nbformat_minor": 4
}
