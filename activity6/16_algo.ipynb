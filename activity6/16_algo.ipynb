{
 "cells": [
  {
   "cell_type": "markdown",
   "metadata": {},
   "source": [
    "As part of this problem, first we will create a funtion `check_strength` which will take a string parameter `password`.\n",
    "\n",
    "`check_strength` will return a string `password_strength` which has the values:\n",
    "- very_weak \n",
    "- very_strong\n",
    "- average\n",
    "\n",
    "\n",
    "\n",
    "**very_weak**\n",
    "- Length of `password` <= 6\n",
    "- Contain only numbers\n",
    "\n",
    "Ex- \"23423\"\n",
    "\n",
    "**very_strong**\n",
    "- Length of `password` > 6\n",
    "- Contain at least one number and one letter\n",
    "\n",
    "Ex- \"23467564ref\"\n",
    "\n",
    "**average**\n",
    "- Any other `password`\n",
    "\n",
    "Ex- \"543erf\", \"2345622\", \"dgssa\""
   ]
  },
  {
   "cell_type": "code",
   "execution_count": 8,
   "metadata": {},
   "outputs": [],
   "source": [
    "import string"
   ]
  },
  {
   "cell_type": "code",
   "execution_count": 9,
   "metadata": {},
   "outputs": [],
   "source": [
    "def check_strength(password):\n",
    "    password_strength = None\n",
    "    contains_number = False\n",
    "    contains_letter = False\n",
    "    count = 0\n",
    "    for char in password:\n",
    "        count += 1\n",
    "        if char.isnumeric():\n",
    "            contains_number = True\n",
    "        elif char.isalpha():\n",
    "            contains_letter = True\n",
    "    if count <= 6 and contains_number and not contains_letter:\n",
    "        password_strength = \"very_weak\"\n",
    "        print(\"Your password is too weak\")\n",
    "    elif count > 6 and contains_number and contains_letter:\n",
    "        password_strength = \"very_strong\"\n",
    "        print(\"Your password is a strong password\")\n",
    "    else:\n",
    "        password_strength = \"average\"\n",
    "        print(\"Your password is of average strength\")     \n",
    "\n",
    "    return password_strength\n"
   ]
  },
  {
   "cell_type": "code",
   "execution_count": 10,
   "metadata": {},
   "outputs": [
    {
     "name": "stdout",
     "output_type": "stream",
     "text": [
      "Your password is too weak\n"
     ]
    }
   ],
   "source": [
    "assert check_strength(\"23423\") == \"very_weak\""
   ]
  },
  {
   "cell_type": "code",
   "execution_count": 11,
   "metadata": {},
   "outputs": [
    {
     "name": "stdout",
     "output_type": "stream",
     "text": [
      "Your password is a strong password\n"
     ]
    }
   ],
   "source": [
    "assert check_strength(\"23467564ref\") == \"very_strong\""
   ]
  },
  {
   "cell_type": "code",
   "execution_count": 12,
   "metadata": {},
   "outputs": [
    {
     "name": "stdout",
     "output_type": "stream",
     "text": [
      "Your password is of average strength\n",
      "Your password is of average strength\n",
      "Your password is of average strength\n"
     ]
    }
   ],
   "source": [
    "assert check_strength(\"543erf\") == \"average\"\n",
    "assert check_strength(\"2345622\") == \"average\"\n",
    "assert check_strength(\"dgssa\") == \"average\""
   ]
  },
  {
   "cell_type": "code",
   "execution_count": 14,
   "metadata": {},
   "outputs": [
    {
     "name": "stdin",
     "output_type": "stream",
     "text": [
      "Input your password: 23467564ref\n"
     ]
    },
    {
     "name": "stdout",
     "output_type": "stream",
     "text": [
      "Your password is a strong password\n"
     ]
    },
    {
     "data": {
      "text/plain": [
       "'very_strong'"
      ]
     },
     "execution_count": 14,
     "metadata": {},
     "output_type": "execute_result"
    }
   ],
   "source": [
    "user_input_password = input(\"Input your password:\")\n",
    "check_strength(user_input_password)"
   ]
  },
  {
   "cell_type": "code",
   "execution_count": null,
   "metadata": {},
   "outputs": [],
   "source": []
  }
 ],
 "metadata": {
  "kernelspec": {
   "display_name": "Python 3",
   "language": "python",
   "name": "python3"
  },
  "language_info": {
   "codemirror_mode": {
    "name": "ipython",
    "version": 3
   },
   "file_extension": ".py",
   "mimetype": "text/x-python",
   "name": "python",
   "nbconvert_exporter": "python",
   "pygments_lexer": "ipython3",
   "version": "3.7.9"
  }
 },
 "nbformat": 4,
 "nbformat_minor": 4
}
