{
 "cells": [
  {
   "cell_type": "markdown",
   "metadata": {},
   "source": [
    "Import Libraries"
   ]
  },
  {
   "cell_type": "code",
   "execution_count": 1,
   "metadata": {},
   "outputs": [],
   "source": [
    "import csv\n",
    "import os"
   ]
  },
  {
   "cell_type": "markdown",
   "metadata": {},
   "source": [
    "Prompt the user the video they are looking for."
   ]
  },
  {
   "cell_type": "code",
   "execution_count": 4,
   "metadata": {},
   "outputs": [
    {
     "name": "stdin",
     "output_type": "stream",
     "text": [
      "What video would you like to watch? Breaking Bad\n"
     ]
    }
   ],
   "source": [
    "user_video = input(\"What video would you like to watch?\")"
   ]
  },
  {
   "cell_type": "code",
   "execution_count": 8,
   "metadata": {},
   "outputs": [],
   "source": [
    "#Set the file path\n",
    "csv_path = os.path.join(\".\", \"Resources\", \"netflix_ratings.csv\")"
   ]
  },
  {
   "cell_type": "markdown",
   "metadata": {},
   "source": [
    "Set the variable to check if the video found"
   ]
  },
  {
   "cell_type": "code",
   "execution_count": 9,
   "metadata": {},
   "outputs": [],
   "source": [
    "found = False"
   ]
  },
  {
   "cell_type": "markdown",
   "metadata": {},
   "source": [
    "Open the CSV"
   ]
  },
  {
   "cell_type": "code",
   "execution_count": 11,
   "metadata": {},
   "outputs": [
    {
     "name": "stdout",
     "output_type": "stream",
     "text": [
      "Sorry about this, we don't seem to have what you are looking for!\n",
      "Sorry about this, we don't seem to have what you are looking for!\n",
      "Sorry about this, we don't seem to have what you are looking for!\n",
      "Sorry about this, we don't seem to have what you are looking for!\n",
      "Sorry about this, we don't seem to have what you are looking for!\n",
      "Sorry about this, we don't seem to have what you are looking for!\n",
      "Sorry about this, we don't seem to have what you are looking for!\n",
      "Breaking Bad is rated TV-MA with a rating of 97\n"
     ]
    }
   ],
   "source": [
    "with open(csv_path, newline=\"\") as csvfile:\n",
    "    csvreader = csv.reader(csvfile, delimiter=\",\")\n",
    "    \n",
    "    #Loop over for the video\n",
    "    for row in csvreader:\n",
    "        if row[0] == user_video:\n",
    "            print(row[0] + \" is rated \" + row[1] + \" with a rating of \" + row[5])\n",
    "            # Set the variable to confirm we have found the video\n",
    "            found = True\n",
    "            break\n",
    "        if found is False:\n",
    "            print(\"Sorry about this, we don't seem to have what you are looking for!\")\n",
    "            "
   ]
  },
  {
   "cell_type": "code",
   "execution_count": null,
   "metadata": {},
   "outputs": [],
   "source": []
  }
 ],
 "metadata": {
  "kernelspec": {
   "display_name": "Python 3",
   "language": "python",
   "name": "python3"
  },
  "language_info": {
   "codemirror_mode": {
    "name": "ipython",
    "version": 3
   },
   "file_extension": ".py",
   "mimetype": "text/x-python",
   "name": "python",
   "nbconvert_exporter": "python",
   "pygments_lexer": "ipython3",
   "version": "3.7.9"
  }
 },
 "nbformat": 4,
 "nbformat_minor": 4
}
