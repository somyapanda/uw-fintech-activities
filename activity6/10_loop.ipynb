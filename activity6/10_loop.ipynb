{
 "cells": [
  {
   "cell_type": "code",
   "execution_count": 1,
   "metadata": {},
   "outputs": [],
   "source": [
    "# Declare an empty list named `our_list`.\n",
    "our_list = []"
   ]
  },
  {
   "cell_type": "code",
   "execution_count": 2,
   "metadata": {},
   "outputs": [
    {
     "name": "stdout",
     "output_type": "stream",
     "text": [
      "[1]\n"
     ]
    }
   ],
   "source": [
    "# Use the `append` list function to append the number 1 into `our_list`.\n",
    "our_list.append(1)\n",
    "print(our_list)"
   ]
  },
  {
   "cell_type": "code",
   "execution_count": 3,
   "metadata": {},
   "outputs": [
    {
     "name": "stdout",
     "output_type": "stream",
     "text": [
      "[1, 'hello', 'False', 84, 'world']\n"
     ]
    }
   ],
   "source": [
    "# Append the string \"hello\" into `our_list`.\n",
    "# Append the Boolean \"False\" into `our_list`.\n",
    "# Append the number 84 into `our_list`.\n",
    "# Append the string \"world\" into `our_list`.\n",
    "our_list.append(\"hello\")\n",
    "our_list.append(\"False\")\n",
    "our_list.append(84)\n",
    "our_list.append(\"world\")\n",
    "# Print `our_list`\n",
    "print(our_list)"
   ]
  },
  {
   "cell_type": "code",
   "execution_count": 4,
   "metadata": {},
   "outputs": [
    {
     "name": "stdout",
     "output_type": "stream",
     "text": [
      "4\n",
      "7\n"
     ]
    }
   ],
   "source": [
    "# Declare a variable named `one_to_ten` and assign it a list containing the numbers from 1 to 10.\n",
    "one_to_ten = [1, 2, 3, 4, 5, 6, 7, 8, 9, 10]\n",
    "# Print the 4th element from `one_to_ten`\n",
    "# Print the 7th element from `one_to_ten`.\n",
    "print(one_to_ten[3])\n",
    "print(one_to_ten[6])"
   ]
  },
  {
   "cell_type": "code",
   "execution_count": 5,
   "metadata": {},
   "outputs": [
    {
     "name": "stdout",
     "output_type": "stream",
     "text": [
      "Number is less than 50\n",
      "65\n",
      "Number is less than 50\n",
      "Number is less than 50\n",
      "Number is less than 50\n",
      "Number is less than 50\n",
      "Number is less than 50\n",
      "94\n",
      "299\n",
      "Number is less than 50\n",
      "Number is less than 50\n",
      "Number is less than 50\n",
      "51\n",
      "Number is less than 50\n"
     ]
    }
   ],
   "source": [
    "# We've declared this list for you\n",
    "num_list = [2, 65, 3, 7, 39, 22, 11, 94, 299, 9, 20, 21, 51, 37]\n",
    "# Iterate through the provided `num_list` and create an if-else statement to print every number greater than 50\n",
    "for num in num_list:\n",
    "    if num > 50:\n",
    "        print(num)\n",
    "    else:\n",
    "        print(\"Number is less than 50\")"
   ]
  },
  {
   "cell_type": "code",
   "execution_count": 6,
   "metadata": {},
   "outputs": [
    {
     "name": "stdout",
     "output_type": "stream",
     "text": [
      "The index of the first occurrence of the number 11 is 6.\n"
     ]
    }
   ],
   "source": [
    "# Iterate through the provided `num_list` and use the `index` function to print the index of the first occurrence of the number 11.\n",
    "num_list.index(11)\n",
    "print(f\"The index of the first occurrence of the number 11 is {num_list.index(11)}.\")"
   ]
  },
  {
   "cell_type": "code",
   "execution_count": 7,
   "metadata": {},
   "outputs": [
    {
     "name": "stdout",
     "output_type": "stream",
     "text": [
      "The sum of all the numbers is 680\n"
     ]
    }
   ],
   "source": [
    "# Iterate through the provided `num_list` and print the sum of all the numbers \n",
    "print(f\"The sum of all the numbers is {sum(num_list)}\")"
   ]
  },
  {
   "cell_type": "code",
   "execution_count": 8,
   "metadata": {},
   "outputs": [
    {
     "name": "stdout",
     "output_type": "stream",
     "text": [
      "The sum of all the numbers greater than 50 is 509.\n"
     ]
    }
   ],
   "source": [
    "# Iterate through the provided `num_list` and create an if-else statement to print the sum of all the numbers greater than 50.\n",
    "num_list = [2, 65, 3, 7, 39, 22, 11, 94, 299, 9, 20, 21, 51, 37]\n",
    "num_sum = 0\n",
    "for num in num_list:\n",
    "    if num > 50:\n",
    "        num_sum += num\n",
    "print(f\"The sum of all the numbers greater than 50 is {num_sum}.\")"
   ]
  },
  {
   "cell_type": "code",
   "execution_count": 9,
   "metadata": {},
   "outputs": [
    {
     "name": "stdout",
     "output_type": "stream",
     "text": [
      "The sum of all the even numbers is 138.\n"
     ]
    }
   ],
   "source": [
    "# Iterate through the provided `num_list` and create an if-else statement to print the sum of all the even numbers.\n",
    "even_sum = 0\n",
    "for num in num_list:\n",
    "    if num % 2 == 0:\n",
    "        even_sum += num\n",
    "print(f\"The sum of all the even numbers is {even_sum}.\")"
   ]
  },
  {
   "cell_type": "code",
   "execution_count": 10,
   "metadata": {},
   "outputs": [],
   "source": [
    "fruits = [\n",
    "  \"Apple\", \"Orange\", \"Banana\", \"Pomelo\", \"Apple\", \"Kiwi\", \"Peach\", \"Banana\", \"Grape\", \"Tomato\",\n",
    "  \"Kiwi\", \"Apple\", \"Watermelon\", \"Lemon\", \"Pomelo\", \"Apple\", \"Banana\", \"Peach\", \"Apricot\", \"Grape\"]"
   ]
  },
  {
   "cell_type": "code",
   "execution_count": 11,
   "metadata": {},
   "outputs": [
    {
     "name": "stdout",
     "output_type": "stream",
     "text": [
      "The number of times 'Apple' appears in the list is 4 times.\n"
     ]
    }
   ],
   "source": [
    "# Iterate through the provided `fruits` list and print the number of times \"Apple\" appears in the list.\n",
    "count = 0\n",
    "for fruit in fruits:\n",
    "    if fruit == \"Apple\":\n",
    "        count += 1\n",
    "print(f\"The number of times 'Apple' appears in the list is {count} times.\")"
   ]
  },
  {
   "cell_type": "code",
   "execution_count": 12,
   "metadata": {},
   "outputs": [
    {
     "name": "stdout",
     "output_type": "stream",
     "text": [
      "The number of times 'Peach' appears in the list is 2 times.\n"
     ]
    }
   ],
   "source": [
    "# Iterate through the provided `fruits` list and print the number of times \"Peach\" appears in the list.\n",
    "count = 0\n",
    "for fruit in fruits:\n",
    "    if fruit == \"Peach\":\n",
    "        count += 1\n",
    "print(f\"The number of times 'Peach' appears in the list is {count} times.\")"
   ]
  },
  {
   "cell_type": "code",
   "execution_count": 13,
   "metadata": {},
   "outputs": [
    {
     "name": "stdout",
     "output_type": "stream",
     "text": [
      "The number of fruits that start with 'P' in the list is 4 times.\n"
     ]
    }
   ],
   "source": [
    "# Iterate through the provided `fruits` list and print the number of fruits that start with \"P\" in the list.\n",
    "count = 0\n",
    "for fruit in fruits:\n",
    "    if fruit[0] == \"P\":\n",
    "        count += 1\n",
    "print(f\"The number of fruits that start with 'P' in the list is {count} times.\")"
   ]
  },
  {
   "cell_type": "code",
   "execution_count": 14,
   "metadata": {},
   "outputs": [],
   "source": [
    "## Challenge"
   ]
  },
  {
   "cell_type": "code",
   "execution_count": 15,
   "metadata": {},
   "outputs": [],
   "source": [
    "# Create a new empty list named `unique_fruits`.\n",
    "unique_fruits = []"
   ]
  },
  {
   "cell_type": "code",
   "execution_count": 16,
   "metadata": {},
   "outputs": [
    {
     "name": "stdout",
     "output_type": "stream",
     "text": [
      "['Apple', 'Orange', 'Banana', 'Pomelo', 'Kiwi', 'Peach', 'Grape', 'Tomato', 'Watermelon', 'Lemon', 'Apricot']\n"
     ]
    }
   ],
   "source": [
    "# Iterate through `fruits` and populate `unique_fruits` with only unique values from `fruits`. Hint: try looking up \"not in\" conditionals for if statements\n",
    "for fruit in fruits:\n",
    "    if fruit not in unique_fruits:\n",
    "        unique_fruits.append(fruit)\n",
    "# Print out the `unique_fruits` list.\n",
    "print(unique_fruits) "
   ]
  },
  {
   "cell_type": "code",
   "execution_count": 17,
   "metadata": {},
   "outputs": [],
   "source": [
    "# In this challenge we're going to be working with nested lists.\n",
    "# You can store any type of data within an list- even other lists!\n",
    "two_dim_list = [\n",
    "  [54, 6, 7, 46, 78],\n",
    "  [43, 9, 6, 65, 65],\n",
    "  [32, 1, 44, 1, 23],\n",
    "  [55, 12, 2, 34, 2],\n",
    "  [2, 12, 44, 2, 12]]"
   ]
  },
  {
   "cell_type": "code",
   "execution_count": 18,
   "metadata": {},
   "outputs": [
    {
     "name": "stdout",
     "output_type": "stream",
     "text": [
      "6\n",
      "7\n"
     ]
    }
   ],
   "source": [
    "# Iterate through the first list inside `two_dim_list` and print all the numbers less than 25.\n",
    "for num in two_dim_list[0]:\n",
    "    if num < 25:\n",
    "        print(num)"
   ]
  },
  {
   "cell_type": "code",
   "execution_count": 19,
   "metadata": {},
   "outputs": [
    {
     "name": "stdout",
     "output_type": "stream",
     "text": [
      "9\n",
      "6\n"
     ]
    }
   ],
   "source": [
    "# Iterate through the second list inside `two_dim_list` and print all the numbers less than 25.\n",
    "for num in two_dim_list[1]:\n",
    "    if num < 25:\n",
    "        print(num)"
   ]
  },
  {
   "cell_type": "code",
   "execution_count": 20,
   "metadata": {},
   "outputs": [
    {
     "name": "stdout",
     "output_type": "stream",
     "text": [
      "2\n",
      "12\n",
      "2\n",
      "12\n"
     ]
    }
   ],
   "source": [
    "# Iterate through the fifth list inside `two_dim_list` and print all the numbers less than 25.\n",
    "for num in two_dim_list[4]:\n",
    "    if num < 25:\n",
    "        print(num)"
   ]
  },
  {
   "cell_type": "code",
   "execution_count": 21,
   "metadata": {},
   "outputs": [
    {
     "name": "stdout",
     "output_type": "stream",
     "text": [
      "7\n",
      "43\n",
      "9\n",
      "65\n",
      "65\n",
      "1\n",
      "1\n",
      "23\n",
      "55\n"
     ]
    }
   ],
   "source": [
    "# Iterate through `two_dim_list` and the lists inside of it and print all the odd numbers.\n",
    "for num_list in two_dim_list:\n",
    "    for num in num_list:\n",
    "        if num % 2 == 1:\n",
    "            print(num)"
   ]
  },
  {
   "cell_type": "code",
   "execution_count": 22,
   "metadata": {},
   "outputs": [
    {
     "name": "stdout",
     "output_type": "stream",
     "text": [
      "The sum of all the  numbers that are a multiple of 3 is  189.\n"
     ]
    }
   ],
   "source": [
    "# Iterate through `two_dim_list` and the lists inside of it and print the sum of all the numbers that are a multiple of 3.\n",
    "multiple_sum = 0\n",
    "for num_list in two_dim_list:\n",
    "    for num in num_list:\n",
    "        if num % 3 == 0:\n",
    "            multiple_sum += num\n",
    "print(f\"The sum of all the  numbers that are a multiple of 3 is  {multiple_sum}.\")"
   ]
  },
  {
   "cell_type": "code",
   "execution_count": null,
   "metadata": {},
   "outputs": [],
   "source": []
  }
 ],
 "metadata": {
  "kernelspec": {
   "display_name": "Python 3",
   "language": "python",
   "name": "python3"
  },
  "language_info": {
   "codemirror_mode": {
    "name": "ipython",
    "version": 3
   },
   "file_extension": ".py",
   "mimetype": "text/x-python",
   "name": "python",
   "nbconvert_exporter": "python",
   "pygments_lexer": "ipython3",
   "version": "3.7.9"
  }
 },
 "nbformat": 4,
 "nbformat_minor": 4
}
