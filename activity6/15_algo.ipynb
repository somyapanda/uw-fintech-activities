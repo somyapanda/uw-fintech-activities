{
 "cells": [
  {
   "cell_type": "markdown",
   "metadata": {},
   "source": [
    "Import the `random` library."
   ]
  },
  {
   "cell_type": "code",
   "execution_count": 1,
   "metadata": {},
   "outputs": [],
   "source": [
    "import random"
   ]
  },
  {
   "cell_type": "markdown",
   "metadata": {},
   "source": [
    "Create a function called `number_guess` that takes in an integer as an argument.\n",
    "If the number is 42, print(true). If it isn't 42, print(false)"
   ]
  },
  {
   "cell_type": "code",
   "execution_count": 2,
   "metadata": {},
   "outputs": [],
   "source": [
    "def number_guess(x):\n",
    "    if x == 42:\n",
    "        print(\"True\")\n",
    "    else:\n",
    "        print(\"False\")"
   ]
  },
  {
   "cell_type": "code",
   "execution_count": 3,
   "metadata": {},
   "outputs": [
    {
     "name": "stdout",
     "output_type": "stream",
     "text": [
      "True\n"
     ]
    }
   ],
   "source": [
    "number_guess(42)"
   ]
  },
  {
   "cell_type": "code",
   "execution_count": 4,
   "metadata": {},
   "outputs": [
    {
     "name": "stdout",
     "output_type": "stream",
     "text": [
      "False\n"
     ]
    }
   ],
   "source": [
    "number_guess(54)"
   ]
  },
  {
   "cell_type": "markdown",
   "metadata": {},
   "source": [
    "Create a function that takes in a list of numbers. The function should print the smallest number in the given list."
   ]
  },
  {
   "cell_type": "code",
   "execution_count": 5,
   "metadata": {},
   "outputs": [],
   "source": [
    "def print_smallest(numbers):\n",
    "    smallest = numbers[0]\n",
    "    for number in numbers:\n",
    "        if number < smallest:\n",
    "            smallest = number\n",
    "#  smallest = min(number, smallest)\n",
    "    print(smallest)"
   ]
  },
  {
   "cell_type": "code",
   "execution_count": 6,
   "metadata": {},
   "outputs": [],
   "source": [
    "numbers = [2, 4, 7, 8, 5, 1]"
   ]
  },
  {
   "cell_type": "code",
   "execution_count": 7,
   "metadata": {},
   "outputs": [
    {
     "name": "stdout",
     "output_type": "stream",
     "text": [
      "1\n"
     ]
    }
   ],
   "source": [
    "print_smallest(numbers)"
   ]
  },
  {
   "cell_type": "markdown",
   "metadata": {},
   "source": [
    "Create a function which takes in a list of strings. The function should print the shortest string in the list."
   ]
  },
  {
   "cell_type": "code",
   "execution_count": 8,
   "metadata": {},
   "outputs": [],
   "source": [
    "def print_shortest(strings):\n",
    "    shortest = strings[0]\n",
    "    for string in strings:\n",
    "        if len(string) < len(shortest):\n",
    "            shortest = string\n",
    "    print(shortest)"
   ]
  },
  {
   "cell_type": "code",
   "execution_count": 9,
   "metadata": {},
   "outputs": [],
   "source": [
    "strings = [\n",
    "    \"One Hundred\", \n",
    "    \"This is a long long long string\",\n",
    "    \"X\"\n",
    "]"
   ]
  },
  {
   "cell_type": "code",
   "execution_count": 10,
   "metadata": {},
   "outputs": [
    {
     "name": "stdout",
     "output_type": "stream",
     "text": [
      "X\n"
     ]
    }
   ],
   "source": [
    "print_shortest(strings)"
   ]
  },
  {
   "cell_type": "markdown",
   "metadata": {},
   "source": [
    "*Create a function that takes in three arguments: a high value, a low value and a list of numbers.\n",
    "The function should print a new list of numbers where the elements are greater than the low value and less than the high value.*\n",
    "\n",
    "To solve this problem, we are going to loop over the list of numbers `nums`.\n",
    "For each number `n` in `nums` we will compare `n` with the low value `l` and the high value `h`.\n",
    "If `n` is greater than `l` and less than `h`, than we append `n` into the new list `res`.\n",
    "Print `res`.\n",
    "\n",
    "**Input**\n",
    "```\n",
    "h = 25\n",
    "l = 14\n",
    "nums = [12, 45, 22, 34, 25]\n",
    "```\n",
    "\n",
    "**Output**\n",
    "```\n",
    "res = [22]\n",
    "```\n"
   ]
  },
  {
   "cell_type": "code",
   "execution_count": 11,
   "metadata": {},
   "outputs": [],
   "source": [
    "def print_new(h, l, nums):\n",
    "    res = []\n",
    "    for n in nums:\n",
    "        if n > l and n < h:\n",
    "            res.append(n)\n",
    "    print(res)"
   ]
  },
  {
   "cell_type": "code",
   "execution_count": 12,
   "metadata": {},
   "outputs": [
    {
     "name": "stdout",
     "output_type": "stream",
     "text": [
      "[22]\n"
     ]
    }
   ],
   "source": [
    "print_new(25, 14, [12, 45, 22, 34, 25] )"
   ]
  },
  {
   "cell_type": "code",
   "execution_count": null,
   "metadata": {},
   "outputs": [],
   "source": []
  }
 ],
 "metadata": {
  "kernelspec": {
   "display_name": "Python 3",
   "language": "python",
   "name": "python3"
  },
  "language_info": {
   "codemirror_mode": {
    "name": "ipython",
    "version": 3
   },
   "file_extension": ".py",
   "mimetype": "text/x-python",
   "name": "python",
   "nbconvert_exporter": "python",
   "pygments_lexer": "ipython3",
   "version": "3.7.9"
  }
 },
 "nbformat": 4,
 "nbformat_minor": 4
}
