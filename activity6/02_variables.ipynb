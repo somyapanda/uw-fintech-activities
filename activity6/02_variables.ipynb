{
 "cells": [
  {
   "cell_type": "markdown",
   "metadata": {},
   "source": [
    "# Variables\n",
    "\n",
    "#This is a comment - any code commented out is not run -\n",
    "#meaning that any code or text commented out is ignored.\n",
    "\n",
    "\"\"\"\n",
    "this is a multi-line comment\n",
    "You can comment out many lines at once.\n",
    "For the most part you will see single line comments\n",
    "but it is good to see this.\n",
    "As in single line comments, any code contained within multi-line comments are not run -\n",
    "meaning that any code commented out is ignored.\n",
    "\"\"\"\n",
    "\n",
    "## Topic: Strings\n",
    "\n",
    "Create a variable named `subject` with no value (None)\n"
   ]
  },
  {
   "cell_type": "code",
   "execution_count": 1,
   "metadata": {},
   "outputs": [],
   "source": [
    "subject = None\n",
    "subject"
   ]
  },
  {
   "cell_type": "markdown",
   "metadata": {},
   "source": [
    "Assign a value of \"Programmers to the variable `subject`.\n"
   ]
  },
  {
   "cell_type": "code",
   "execution_count": 2,
   "metadata": {},
   "outputs": [
    {
     "data": {
      "text/plain": [
       "'Programmers'"
      ]
     },
     "execution_count": 2,
     "metadata": {},
     "output_type": "execute_result"
    }
   ],
   "source": [
    "subject = \"Programmers\"\n",
    "subject"
   ]
  },
  {
   "cell_type": "markdown",
   "metadata": {},
   "source": [
    "Create a variable, `first_name`, and assign it a value of an empty string."
   ]
  },
  {
   "cell_type": "code",
   "execution_count": 3,
   "metadata": {},
   "outputs": [
    {
     "data": {
      "text/plain": [
       "''"
      ]
     },
     "execution_count": 3,
     "metadata": {},
     "output_type": "execute_result"
    }
   ],
   "source": [
    "first_name = \"\"\n",
    "first_name"
   ]
  },
  {
   "cell_type": "markdown",
   "metadata": {},
   "source": [
    "Assign a value of \"Ada\" to the variable `first_name`."
   ]
  },
  {
   "cell_type": "code",
   "execution_count": 4,
   "metadata": {},
   "outputs": [
    {
     "data": {
      "text/plain": [
       "'Ada'"
      ]
     },
     "execution_count": 4,
     "metadata": {},
     "output_type": "execute_result"
    }
   ],
   "source": [
    "first_name = \"Ada\"\n",
    "first_name"
   ]
  },
  {
   "cell_type": "markdown",
   "metadata": {},
   "source": [
    "Create a variable, `last_name`, and assign it a value of a string, \"Lovelace\"."
   ]
  },
  {
   "cell_type": "code",
   "execution_count": 5,
   "metadata": {},
   "outputs": [
    {
     "data": {
      "text/plain": [
       "'Lovelace'"
      ]
     },
     "execution_count": 5,
     "metadata": {},
     "output_type": "execute_result"
    }
   ],
   "source": [
    "last_name = \"Lovelace\"\n",
    "last_name"
   ]
  },
  {
   "cell_type": "markdown",
   "metadata": {},
   "source": [
    "Create a variable, `full_name`, and assign it a value of the combination of `first_name` and `last_name` with a space."
   ]
  },
  {
   "cell_type": "code",
   "execution_count": 6,
   "metadata": {},
   "outputs": [
    {
     "data": {
      "text/plain": [
       "'Ada Lovelace'"
      ]
     },
     "execution_count": 6,
     "metadata": {},
     "output_type": "execute_result"
    }
   ],
   "source": [
    "full_name = f\"{first_name} {last_name}\"\n",
    "full_name"
   ]
  },
  {
   "cell_type": "markdown",
   "metadata": {},
   "source": [
    "Create a variable, `profession`, and assign it a value of a string, \"Computer Programmer\"."
   ]
  },
  {
   "cell_type": "code",
   "execution_count": 7,
   "metadata": {},
   "outputs": [
    {
     "data": {
      "text/plain": [
       "'Computer Programmer'"
      ]
     },
     "execution_count": 7,
     "metadata": {},
     "output_type": "execute_result"
    }
   ],
   "source": [
    "profession = \"Computer Programmer\"\n",
    "profession"
   ]
  },
  {
   "cell_type": "markdown",
   "metadata": {},
   "source": [
    "Create a variable, `known_for`, and assign it a value of a string, \"First Computer Programmer\"."
   ]
  },
  {
   "cell_type": "code",
   "execution_count": 8,
   "metadata": {},
   "outputs": [
    {
     "data": {
      "text/plain": [
       "'First Computer Programmer'"
      ]
     },
     "execution_count": 8,
     "metadata": {},
     "output_type": "execute_result"
    }
   ],
   "source": [
    "known_for = \"First Computer Programmer\"\n",
    "known_for"
   ]
  },
  {
   "cell_type": "markdown",
   "metadata": {},
   "source": [
    "Create a variable, `first_algorithm`, and assign it a value of a string, \"Analytical Engine\"."
   ]
  },
  {
   "cell_type": "code",
   "execution_count": 9,
   "metadata": {},
   "outputs": [
    {
     "data": {
      "text/plain": [
       "'Analytical Engine'"
      ]
     },
     "execution_count": 9,
     "metadata": {},
     "output_type": "execute_result"
    }
   ],
   "source": [
    "first_algorithm = \"Analytical Engine\"\n",
    "first_algorithm"
   ]
  },
  {
   "cell_type": "markdown",
   "metadata": {},
   "source": [
    "Create a variable, `city_location`, and assign it a value of a string, \"London\"."
   ]
  },
  {
   "cell_type": "code",
   "execution_count": 10,
   "metadata": {},
   "outputs": [
    {
     "data": {
      "text/plain": [
       "'London'"
      ]
     },
     "execution_count": 10,
     "metadata": {},
     "output_type": "execute_result"
    }
   ],
   "source": [
    "city_location = \"London\"\n",
    "city_location"
   ]
  },
  {
   "cell_type": "markdown",
   "metadata": {},
   "source": [
    "Create a variable, `country_location`, and assign it a value of a string, \"England\"."
   ]
  },
  {
   "cell_type": "code",
   "execution_count": 11,
   "metadata": {},
   "outputs": [
    {
     "data": {
      "text/plain": [
       "'England'"
      ]
     },
     "execution_count": 11,
     "metadata": {},
     "output_type": "execute_result"
    }
   ],
   "source": [
    "country_location = \"England\"\n",
    "country_location"
   ]
  },
  {
   "cell_type": "markdown",
   "metadata": {},
   "source": [
    "Create a variable, `nationality`, and assign it a value of a string, \"British\"."
   ]
  },
  {
   "cell_type": "code",
   "execution_count": 12,
   "metadata": {},
   "outputs": [
    {
     "data": {
      "text/plain": [
       "'British'"
      ]
     },
     "execution_count": 12,
     "metadata": {},
     "output_type": "execute_result"
    }
   ],
   "source": [
    "nationality = \"British\"\n",
    "nationality"
   ]
  },
  {
   "cell_type": "markdown",
   "metadata": {},
   "source": [
    "## Topic: Integers\n",
    "\n",
    "Create a variable, `birth_year`, and assign it with an integer of 1815.\n"
   ]
  },
  {
   "cell_type": "code",
   "execution_count": 13,
   "metadata": {},
   "outputs": [
    {
     "data": {
      "text/plain": [
       "1815"
      ]
     },
     "execution_count": 13,
     "metadata": {},
     "output_type": "execute_result"
    }
   ],
   "source": [
    "birth_year = 1815\n",
    "birth_year"
   ]
  },
  {
   "cell_type": "markdown",
   "metadata": {},
   "source": [
    "Create a variable, `death_year`, and assign it with an integer of 1852."
   ]
  },
  {
   "cell_type": "code",
   "execution_count": 14,
   "metadata": {},
   "outputs": [
    {
     "data": {
      "text/plain": [
       "1852"
      ]
     },
     "execution_count": 14,
     "metadata": {},
     "output_type": "execute_result"
    }
   ],
   "source": [
    "death_year = 1852\n",
    "death_year"
   ]
  },
  {
   "cell_type": "markdown",
   "metadata": {},
   "source": [
    "Create a variable, `age_at_passing`, and assign it a value of death_year minus birth_year."
   ]
  },
  {
   "cell_type": "code",
   "execution_count": 15,
   "metadata": {},
   "outputs": [
    {
     "data": {
      "text/plain": [
       "37"
      ]
     },
     "execution_count": 15,
     "metadata": {},
     "output_type": "execute_result"
    }
   ],
   "source": [
    "age_at_passing = 37\n",
    "age_at_passing"
   ]
  },
  {
   "cell_type": "markdown",
   "metadata": {},
   "source": [
    "Create a variable, `year_of_publish`, and assign it with an integer of 1842."
   ]
  },
  {
   "cell_type": "code",
   "execution_count": 16,
   "metadata": {},
   "outputs": [
    {
     "data": {
      "text/plain": [
       "1842"
      ]
     },
     "execution_count": 16,
     "metadata": {},
     "output_type": "execute_result"
    }
   ],
   "source": [
    "year_of_publish = 1842\n",
    "year_of_publish"
   ]
  },
  {
   "cell_type": "markdown",
   "metadata": {},
   "source": [
    "## Topic: Print\n",
    "\n",
    "- Print: \"First Name: \" and `first_name`.\n",
    "- Print: \"Last Name: \" and `last_name`.\n",
    "- Print: \"Profession: \" and `profession`.\n",
    "- Print: \"BirthYear: \" and `birth_year`.\n"
   ]
  },
  {
   "cell_type": "code",
   "execution_count": 17,
   "metadata": {},
   "outputs": [
    {
     "name": "stdout",
     "output_type": "stream",
     "text": [
      "First Name: Ada\n",
      "Last Namr: Lovelace\n",
      "Profession: Computer Programmer\n",
      "BirthYear: 1815\n"
     ]
    }
   ],
   "source": [
    "print(f\"First Name: {first_name}\")\n",
    "print(f\"Last Namr: {last_name}\")\n",
    "print(f\"Profession: {profession}\")\n",
    "print(f\"BirthYear: {birth_year}\")"
   ]
  },
  {
   "cell_type": "markdown",
   "metadata": {},
   "source": [
    "## Topic: Concat Values\n",
    "\n",
    "Create and print a variable, `statement_one`, by assigning it a value of a concatenated string:\n",
    "\n",
    "\"Programmers: Ada Lovelace is a British Computer Programmer born in 1815.\"\n"
   ]
  },
  {
   "cell_type": "code",
   "execution_count": 18,
   "metadata": {},
   "outputs": [
    {
     "name": "stdout",
     "output_type": "stream",
     "text": [
      "Programmers: Ada Lovelace is a British Computer Programmer born in 1815.\n"
     ]
    }
   ],
   "source": [
    "statement_one = f\"{subject}: {first_name} {last_name} is a {nationality} {profession} born in {birth_year}.\"\n",
    "print(statement_one)"
   ]
  },
  {
   "cell_type": "markdown",
   "metadata": {},
   "source": [
    "Create and print a variable, `statement_two`, by assigning it a value of a concatenated string:\n",
    "\n",
    "\"She is commonly referred to as the First Computer Programmer.\""
   ]
  },
  {
   "cell_type": "code",
   "execution_count": 19,
   "metadata": {},
   "outputs": [
    {
     "name": "stdout",
     "output_type": "stream",
     "text": [
      "She is commonly referred to as the First Computer Programmer.\n"
     ]
    }
   ],
   "source": [
    "statement_two = f\"She is commonly referred to as the {known_for}.\"\n",
    "print(statement_two)"
   ]
  },
  {
   "cell_type": "markdown",
   "metadata": {},
   "source": [
    "Create and print a variable, `statement_three`, by assigning it a value of a concatenated string:\n",
    "\n",
    "\"In 1842 she published the first Algorithm, the Analytical Engine, at the age of 27.\""
   ]
  },
  {
   "cell_type": "code",
   "execution_count": 20,
   "metadata": {},
   "outputs": [
    {
     "name": "stdout",
     "output_type": "stream",
     "text": [
      "In 1842, she published the first Algorithm, the Analytical Engine, at the age of 37.\n"
     ]
    }
   ],
   "source": [
    "statement_three = f\"In {year_of_publish}, she published the first Algorithm, the {first_algorithm}, at the age of 37.\"\n",
    "print(statement_three)"
   ]
  },
  {
   "cell_type": "markdown",
   "metadata": {},
   "source": [
    "Create and print a variable, `statement_four`, by assigning it a value of a concatenated string:\n",
    "\n",
    "\"She was a British Citizen who lived in London, England until her passing in 1852 at the age of 37.\""
   ]
  },
  {
   "cell_type": "code",
   "execution_count": 21,
   "metadata": {},
   "outputs": [
    {
     "name": "stdout",
     "output_type": "stream",
     "text": [
      "She was a British Citizen who lived in London, England until her passing in 1852 at the age of 37.\n"
     ]
    }
   ],
   "source": [
    "statement_four = f\"She was a {nationality} Citizen who lived in {city_location}, {country_location} until her passing in {death_year} at the age of {age_at_passing}.\"\n",
    "print(statement_four)"
   ]
  },
  {
   "cell_type": "code",
   "execution_count": null,
   "metadata": {},
   "outputs": [],
   "source": []
  }
 ],
 "metadata": {
  "kernelspec": {
   "display_name": "Python 3",
   "language": "python",
   "name": "python3"
  },
  "language_info": {
   "codemirror_mode": {
    "name": "ipython",
    "version": 3
   },
   "file_extension": ".py",
   "mimetype": "text/x-python",
   "name": "python",
   "nbconvert_exporter": "python",
   "pygments_lexer": "ipython3",
   "version": "3.7.9"
  }
 },
 "nbformat": 4,
 "nbformat_minor": 4
}
