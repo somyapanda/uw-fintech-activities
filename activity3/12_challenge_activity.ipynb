{
 "cells": [
  {
   "cell_type": "code",
   "execution_count": 1,
   "metadata": {},
   "outputs": [
    {
     "data": {
      "text/plain": [
       "'\\nConditionally Yours\\n\\nPseudocode:\\n1. Initialize variables original_price, current_price, increase, percent_increase, recommendation, threshold_to_buy, and threshold_to_sell\\n2. Compute increase\\n3. Compute percent_increase\\n4. IF percent_increase is greater than or equal to threshold_to_sell\\n        THEN Set recommendation to \"sell\"\\n    ELSE IF percent_increase is less than or equal to threshold_to_buy\\n        THEN set recommendation to \"buy\"\\n    ELSE IF percent_increase is less than threshold_to_sell and greater than threshold_to_buy\\n        THEN set recommendation to \"hold\"\\n    ELSE\\n        THEN print(\"Not enough data to make a decision. Need human input\")\\n5. Print(\"Recommendation: \" + recommendation)\\n6. Initialize variable balance as float\\n7. Compute balance_check\\n8. Print balance\\n9. IF recommendation equals \"buy\" and balance_check is greater than current_price\\n        THEN print(recommendation)\\n    ELSE IF recommendation equals buy and balance_check is less than current_price\\n        THEN print(\"You should buy, but you don\\'t have enough capital\")\\n    ELSE\\n        print(recommendation)\\n'"
      ]
     },
     "execution_count": 1,
     "metadata": {},
     "output_type": "execute_result"
    }
   ],
   "source": [
    "\"\"\"\n",
    "Conditionally Yours\n",
    "\n",
    "Pseudocode:\n",
    "1. Initialize variables original_price, current_price, increase, percent_increase, recommendation, threshold_to_buy, and threshold_to_sell\n",
    "2. Compute increase\n",
    "3. Compute percent_increase\n",
    "4. IF percent_increase is greater than or equal to threshold_to_sell\n",
    "        THEN Set recommendation to \"sell\"\n",
    "    ELSE IF percent_increase is less than or equal to threshold_to_buy\n",
    "        THEN set recommendation to \"buy\"\n",
    "    ELSE IF percent_increase is less than threshold_to_sell and greater than threshold_to_buy\n",
    "        THEN set recommendation to \"hold\"\n",
    "    ELSE\n",
    "        THEN print(\"Not enough data to make a decision. Need human input\")\n",
    "5. Print(\"Recommendation: \" + recommendation)\n",
    "6. Initialize variable balance as float\n",
    "7. Compute balance_check\n",
    "8. Print balance\n",
    "9. IF recommendation equals \"buy\" and balance_check is greater than current_price\n",
    "        THEN print(recommendation)\n",
    "    ELSE IF recommendation equals buy and balance_check is less than current_price\n",
    "        THEN print(\"You should buy, but you don't have enough capital\")\n",
    "    ELSE\n",
    "        print(recommendation)\n",
    "\"\"\""
   ]
  },
  {
   "cell_type": "markdown",
   "metadata": {},
   "source": [
    "Initilize variables for original_price, current_price, increase, percent_increase, recommendation, threshold_to_buy and threshold_to_sell"
   ]
  },
  {
   "cell_type": "code",
   "execution_count": 2,
   "metadata": {},
   "outputs": [],
   "source": [
    "original_price = 360.35\n",
    "current_price = 293.33\n",
    "threshold_to_buy = -10.00\n",
    "threshold_to_sell = 20.00\n",
    "recommendation = \"buy\""
   ]
  },
  {
   "cell_type": "markdown",
   "metadata": {},
   "source": [
    "Compute increase"
   ]
  },
  {
   "cell_type": "code",
   "execution_count": 6,
   "metadata": {},
   "outputs": [],
   "source": [
    "increase = current_price - original_price"
   ]
  },
  {
   "cell_type": "code",
   "execution_count": 7,
   "metadata": {},
   "outputs": [
    {
     "name": "stdout",
     "output_type": "stream",
     "text": [
      "Increased price is: -67.02000000000004.\n"
     ]
    }
   ],
   "source": [
    "print(f\"Increased price is: {increase}.\")"
   ]
  },
  {
   "cell_type": "markdown",
   "metadata": {},
   "source": [
    "Compute percent increase"
   ]
  },
  {
   "cell_type": "code",
   "execution_count": 4,
   "metadata": {},
   "outputs": [],
   "source": [
    "percent_increase = (increase / original_price) * 100"
   ]
  },
  {
   "cell_type": "markdown",
   "metadata": {},
   "source": [
    "Print percent increase"
   ]
  },
  {
   "cell_type": "code",
   "execution_count": 5,
   "metadata": {},
   "outputs": [
    {
     "name": "stdout",
     "output_type": "stream",
     "text": [
      "Netflix's stock price changed by: -18.598584709310405.\n"
     ]
    }
   ],
   "source": [
    "print(f\"Netflix's stock price changed by: {percent_increase}.\")"
   ]
  },
  {
   "cell_type": "markdown",
   "metadata": {},
   "source": [
    "Determine if stock should be bought or sold"
   ]
  },
  {
   "cell_type": "code",
   "execution_count": 12,
   "metadata": {},
   "outputs": [
    {
     "name": "stdout",
     "output_type": "stream",
     "text": [
      "Recommendation: buy\n",
      "\n",
      "But wait a minute... lets check your excess equity first.\n"
     ]
    }
   ],
   "source": [
    "if percent_increase >= threshold_to_sell:\n",
    "    recommendation = \"sell\"\n",
    "elif percent_increase <= threshold_to_buy:\n",
    "    recommendation = \"buy\"\n",
    "elif percent_increase < threshold_to_sell and percent_increase > threshold_to_buy:\n",
    "    recommendation = \"hold\"\n",
    "else:\n",
    "    print(\"Not enough data to make a decision. Need human input.\")\n",
    "print(\"Recommendation: \" + recommendation)\n",
    "print()\n",
    "print(\"But wait a minute... lets check your excess equity first.\")"
   ]
  },
  {
   "cell_type": "markdown",
   "metadata": {},
   "source": [
    "Challenge:\n"
   ]
  },
  {
   "cell_type": "markdown",
   "metadata": {},
   "source": [
    "Create float for portfolio balance"
   ]
  },
  {
   "cell_type": "code",
   "execution_count": 13,
   "metadata": {},
   "outputs": [],
   "source": [
    "balance = 5000.00"
   ]
  },
  {
   "cell_type": "markdown",
   "metadata": {},
   "source": [
    "Create float for balance check "
   ]
  },
  {
   "cell_type": "code",
   "execution_count": 14,
   "metadata": {},
   "outputs": [],
   "source": [
    "balance_check = balance * 5"
   ]
  },
  {
   "cell_type": "markdown",
   "metadata": {},
   "source": [
    "Compare balance to recommendation"
   ]
  },
  {
   "cell_type": "code",
   "execution_count": 15,
   "metadata": {},
   "outputs": [
    {
     "name": "stdout",
     "output_type": "stream",
     "text": [
      "You currently have $5000.0 in excess equity available in your portfolio.\n"
     ]
    }
   ],
   "source": [
    "print(f\"You currently have ${balance} in excess equity available in your portfolio.\")"
   ]
  },
  {
   "cell_type": "code",
   "execution_count": 17,
   "metadata": {},
   "outputs": [
    {
     "name": "stdout",
     "output_type": "stream",
     "text": [
      "Final Recommendation: buy\n"
     ]
    }
   ],
   "source": [
    "if recommendation == \"buy\" and balance_check > current_price:\n",
    "    print(\"Final Recommendation: \" + recommendation)\n",
    "elif recommendation == \"buy\" and balance_check < current_price:\n",
    "    print(\"Final Recommendation: You should buy. But you don't have enough available capital.\")\n",
    "else:\n",
    "    print(\"Final Recommendation: \" + recommendation)\n"
   ]
  },
  {
   "cell_type": "code",
   "execution_count": null,
   "metadata": {},
   "outputs": [],
   "source": []
  }
 ],
 "metadata": {
  "kernelspec": {
   "display_name": "Python 3",
   "language": "python",
   "name": "python3"
  },
  "language_info": {
   "codemirror_mode": {
    "name": "ipython",
    "version": 3
   },
   "file_extension": ".py",
   "mimetype": "text/x-python",
   "name": "python",
   "nbconvert_exporter": "python",
   "pygments_lexer": "ipython3",
   "version": "3.7.9"
  }
 },
 "nbformat": 4,
 "nbformat_minor": 4
}
