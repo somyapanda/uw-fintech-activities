{
 "cells": [
  {
   "cell_type": "code",
   "execution_count": 1,
   "metadata": {},
   "outputs": [
    {
     "data": {
      "text/plain": [
       "'\\n  Pseudocode for a cheer-leading program:\\n  \\n  1. Initialize \"cheer\" variable to a string to be cheered\\n  2. Create a for loop and iterate through each character in \"cheer\" variable\\n      2.1 Print each letter to screen with a cheer\\n  3. Print exclamations to screen (\"Woohoo!!!\")\\n'"
      ]
     },
     "execution_count": 1,
     "metadata": {},
     "output_type": "execute_result"
    }
   ],
   "source": [
    "\"\"\"\n",
    "  Pseudocode for a cheer-leading program:\n",
    "  \n",
    "  1. Initialize \"cheer\" variable to a string to be cheered\n",
    "  2. Create a for loop and iterate through each character in \"cheer\" variable\n",
    "      2.1 Print each letter to screen with a cheer\n",
    "  3. Print exclamations to screen (\"Woohoo!!!\")\n",
    "\"\"\"\n",
    "\n"
   ]
  },
  {
   "cell_type": "markdown",
   "metadata": {},
   "source": [
    "Create a variable named cheer"
   ]
  },
  {
   "cell_type": "code",
   "execution_count": 2,
   "metadata": {},
   "outputs": [],
   "source": [
    "cheer = \"Python\""
   ]
  },
  {
   "cell_type": "markdown",
   "metadata": {},
   "source": [
    "Below strings can be used to add fun"
   ]
  },
  {
   "cell_type": "code",
   "execution_count": 3,
   "metadata": {},
   "outputs": [],
   "source": [
    "cheer_symbol = \"*\\O/*\"\n",
    "cheer_symbol_2 = \"ヘ( ^o^)ノ＼(^_^ )\""
   ]
  },
  {
   "cell_type": "markdown",
   "metadata": {},
   "source": [
    "Loop through string"
   ]
  },
  {
   "cell_type": "code",
   "execution_count": 4,
   "metadata": {},
   "outputs": [
    {
     "name": "stdout",
     "output_type": "stream",
     "text": [
      "Give me a P!\n",
      "P!\n",
      "Give me a y!\n",
      "y!\n",
      "Give me a t!\n",
      "t!\n",
      "Give me a h!\n",
      "h!\n",
      "Give me a o!\n",
      "o!\n",
      "Give me a n!\n",
      "n!\n"
     ]
    }
   ],
   "source": [
    "for x in cheer:\n",
    "    #Print each letter with a cheer\n",
    "    print(\"Give me a \" + x + \"!\")\n",
    "    print(x + \"!\")\n",
    "    "
   ]
  },
  {
   "cell_type": "markdown",
   "metadata": {},
   "source": [
    "Print excitement to screen"
   ]
  },
  {
   "cell_type": "code",
   "execution_count": 5,
   "metadata": {},
   "outputs": [
    {
     "name": "stdout",
     "output_type": "stream",
     "text": [
      "\n",
      "What does that spell?!\n",
      "Python!\n",
      "Woohoo! Go Python!\n",
      "*\\O/**\\O/**\\O/*\n",
      "ヘ( ^o^)ノ＼(^_^ )\n"
     ]
    }
   ],
   "source": [
    "print(\"\\nWhat does that spell?!\")\n",
    "print(cheer + \"!\\nWoohoo! Go \" + cheer + \"!\")\n",
    "print(cheer_symbol * 3)\n",
    "print(cheer_symbol_2)\n"
   ]
  },
  {
   "cell_type": "code",
   "execution_count": 6,
   "metadata": {},
   "outputs": [
    {
     "data": {
      "text/plain": [
       "'\\nPseudocode for calculating simple interest:\\n\\n  1. Initialize \"principal\", \"interest_rate\", \"time_period\" variables to a float\\n  2. Compute \"simple_interest\" by multiplying principal, interest_rate and time_period\\n  3. Print(simple_interest)\\n '"
      ]
     },
     "execution_count": 6,
     "metadata": {},
     "output_type": "execute_result"
    }
   ],
   "source": [
    "\"\"\"\n",
    "Pseudocode for calculating simple interest:\n",
    "\n",
    "  1. Initialize \"principal\", \"interest_rate\", \"time_period\" variables to a float\n",
    "  2. Compute \"simple_interest\" by multiplying principal, interest_rate and time_period\n",
    "  3. Print(simple_interest)\n",
    " \"\"\" \n"
   ]
  },
  {
   "cell_type": "markdown",
   "metadata": {},
   "source": [
    "Declare floats for principal, interest_rate and time_period\n"
   ]
  },
  {
   "cell_type": "code",
   "execution_count": 7,
   "metadata": {},
   "outputs": [],
   "source": [
    "principal = 20000.00\n",
    "interest_rate = 0.02\n",
    "time_period = 4.0"
   ]
  },
  {
   "cell_type": "markdown",
   "metadata": {},
   "source": [
    "Compute simple interest"
   ]
  },
  {
   "cell_type": "code",
   "execution_count": 8,
   "metadata": {},
   "outputs": [],
   "source": [
    "simple_interest = principal * interest_rate * time_period"
   ]
  },
  {
   "cell_type": "markdown",
   "metadata": {},
   "source": [
    "Print Results"
   ]
  },
  {
   "cell_type": "code",
   "execution_count": 9,
   "metadata": {},
   "outputs": [
    {
     "name": "stdout",
     "output_type": "stream",
     "text": [
      "Simple interest for this purchase would be: 1600.0.\n"
     ]
    }
   ],
   "source": [
    "print(f\"Simple interest for this purchase would be: {simple_interest}.\")"
   ]
  },
  {
   "cell_type": "code",
   "execution_count": 10,
   "metadata": {},
   "outputs": [
    {
     "data": {
      "text/plain": [
       "'\\nPseudocode for determining if credit should be acquired based off of simple interest:\\n\\n1. Initialize \"principal\", \"interest_rate\" variables to a float\\n2. Initialize \"time_period\" variable to an integer\\n3. Compute \"simple_interest\" by multiplying \"principal\", \"interest_rate\" and \"time_period\"\\n4. Determine if credit should be accepted\\n    IF \"simple_interest\" is less than or equal to 2000\\n        THEN print(\"We highly recommend you get this line of credit. Total simple interest paid is less than $2000\")\\n     ELSEIF \"simple_interest\" is greater than 2000 but less than or equal to 4000\\n         THEN print(\"This is an okay deal. You might find better. Total simple interest paid will between $2000 and $4000\")\\n     ELSE\\n         print(\"Totalsimple interest paid will be over $4,000. Do not accept this line of credit\")\\n  '"
      ]
     },
     "execution_count": 10,
     "metadata": {},
     "output_type": "execute_result"
    }
   ],
   "source": [
    "\"\"\"\n",
    "Pseudocode for determining if credit should be acquired based off of simple interest:\n",
    "\n",
    "1. Initialize \"principal\", \"interest_rate\" variables to a float\n",
    "2. Initialize \"time_period\" variable to an integer\n",
    "3. Compute \"simple_interest\" by multiplying \"principal\", \"interest_rate\" and \"time_period\"\n",
    "4. Determine if credit should be accepted\n",
    "    IF \"simple_interest\" is less than or equal to 2000\n",
    "        THEN print(\"We highly recommend you get this line of credit. Total simple interest paid is less than $2000\")\n",
    "     ELSEIF \"simple_interest\" is greater than 2000 but less than or equal to 4000\n",
    "         THEN print(\"This is an okay deal. You might find better. Total simple interest paid will between $2000 and $4000\")\n",
    "     ELSE\n",
    "         print(\"Totalsimple interest paid will be over $4,000. Do not accept this line of credit\")\n",
    "  \"\"\"       \n",
    "         \n",
    "       \n",
    "  \n",
    "         \n",
    "         "
   ]
  },
  {
   "cell_type": "markdown",
   "metadata": {},
   "source": [
    "Declare floats for principal, interest_rate and time_period"
   ]
  },
  {
   "cell_type": "code",
   "execution_count": 11,
   "metadata": {},
   "outputs": [],
   "source": [
    "principal = 20000.00\n",
    "interest_rate = 0.02\n",
    "time_period = 4.0"
   ]
  },
  {
   "cell_type": "markdown",
   "metadata": {},
   "source": [
    "Compute simple interest"
   ]
  },
  {
   "cell_type": "code",
   "execution_count": 12,
   "metadata": {},
   "outputs": [],
   "source": [
    "simple_interest = principal * interest_rate * time_period"
   ]
  },
  {
   "cell_type": "markdown",
   "metadata": {},
   "source": [
    "Print Results"
   ]
  },
  {
   "cell_type": "code",
   "execution_count": 13,
   "metadata": {},
   "outputs": [
    {
     "name": "stdout",
     "output_type": "stream",
     "text": [
      "Simple interest for this purchase would be: 1600.0.\n"
     ]
    }
   ],
   "source": [
    "print(f\"Simple interest for this purchase would be: {simple_interest}.\")"
   ]
  },
  {
   "cell_type": "markdown",
   "metadata": {},
   "source": [
    "Determine if credit should be accepted"
   ]
  },
  {
   "cell_type": "code",
   "execution_count": 14,
   "metadata": {},
   "outputs": [
    {
     "name": "stdout",
     "output_type": "stream",
     "text": [
      "I highly recommend you get this line of credit. Total simple interest paid is less than $2,000.\n"
     ]
    }
   ],
   "source": [
    "if simple_interest <= 2000.0:\n",
    "    print(\"I highly recommend you get this line of credit. Total simple interest paid is less than $2,000.\")\n",
    "elif simple_interest > 2000.0 <= 4000.0:\n",
    "    print(\"This is an okay deal. You might find better. Total simple interest paid will between $2,000 and $4,000.\")\n",
    "else:\n",
    "    print(\"Total simple interest paid will be over $4,000. Do not accept this line of credit.\")"
   ]
  },
  {
   "cell_type": "code",
   "execution_count": null,
   "metadata": {},
   "outputs": [],
   "source": []
  }
 ],
 "metadata": {
  "kernelspec": {
   "display_name": "Python 3",
   "language": "python",
   "name": "python3"
  },
  "language_info": {
   "codemirror_mode": {
    "name": "ipython",
    "version": 3
   },
   "file_extension": ".py",
   "mimetype": "text/x-python",
   "name": "python",
   "nbconvert_exporter": "python",
   "pygments_lexer": "ipython3",
   "version": "3.7.9"
  }
 },
 "nbformat": 4,
 "nbformat_minor": 4
}
