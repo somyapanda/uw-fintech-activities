{
 "cells": [
  {
   "cell_type": "code",
   "execution_count": 21,
   "metadata": {},
   "outputs": [
    {
     "data": {
      "text/plain": [
       "'\\nConditionally Yours\\n\\nPseudocode:\\n1. Initialize variables original_price, current_price, increase, percent_increase, recommendation, threshold_to_buy, and threshold_to_sell\\n2. Compute increase\\n3. Compute percent_increase\\n4. IF percent_increase is greater than or equal to threshold_to_sell\\n        THEN Set recommendation to \"sell\"\\n    ELSE IF percent_increase is less than or equal to threshold_to_buy\\n        THEN set recommendation to \"buy\"\\n    ELSE IF percent_increase is less than threshold_to_sell and greater than threshold_to_buy\\n        THEN set recommendation to \"hold\"\\n    ELSE\\n        THEN print(\"Not enough data to make a decision. Need human input\")\\n5. Print(\"Recommendation: \" + recommendation)\\n'"
      ]
     },
     "execution_count": 21,
     "metadata": {},
     "output_type": "execute_result"
    }
   ],
   "source": [
    "\"\"\"\n",
    "Conditionally Yours\n",
    "\n",
    "Pseudocode:\n",
    "1. Initialize variables original_price, current_price, increase, percent_increase, recommendation, threshold_to_buy, and threshold_to_sell\n",
    "2. Compute increase\n",
    "3. Compute percent_increase\n",
    "4. IF percent_increase is greater than or equal to threshold_to_sell\n",
    "        THEN Set recommendation to \"sell\"\n",
    "    ELSE IF percent_increase is less than or equal to threshold_to_buy\n",
    "        THEN set recommendation to \"buy\"\n",
    "    ELSE IF percent_increase is less than threshold_to_sell and greater than threshold_to_buy\n",
    "        THEN set recommendation to \"hold\"\n",
    "    ELSE\n",
    "        THEN print(\"Not enough data to make a decision. Need human input\")\n",
    "5. Print(\"Recommendation: \" + recommendation)\n",
    "\"\"\""
   ]
  },
  {
   "cell_type": "markdown",
   "metadata": {},
   "source": [
    "Declare floats for original_price, current_price, increase, percent_increase, recommendation, threshold_to_buy, and threshold_to_sell"
   ]
  },
  {
   "cell_type": "code",
   "execution_count": 37,
   "metadata": {},
   "outputs": [],
   "source": [
    "original_price = 198.87\n",
    "current_price = 254.32\n",
    "threshold_to_sell = 20.0\n",
    "threshold_to_buy = -20.0\n",
    "recommendation = \"Not Available\""
   ]
  },
  {
   "cell_type": "markdown",
   "metadata": {},
   "source": [
    "Compute increase"
   ]
  },
  {
   "cell_type": "code",
   "execution_count": 38,
   "metadata": {},
   "outputs": [],
   "source": [
    "increase = current_price - original_price"
   ]
  },
  {
   "cell_type": "markdown",
   "metadata": {},
   "source": [
    "Print Results"
   ]
  },
  {
   "cell_type": "code",
   "execution_count": 33,
   "metadata": {},
   "outputs": [
    {
     "name": "stdout",
     "output_type": "stream",
     "text": [
      "Stock price increased by: 55.44999999999999.\n"
     ]
    }
   ],
   "source": [
    "print(f\"Stock price increased by: {increase}.\")"
   ]
  },
  {
   "cell_type": "markdown",
   "metadata": {},
   "source": [
    "Compute percentage increase"
   ]
  },
  {
   "cell_type": "code",
   "execution_count": 34,
   "metadata": {},
   "outputs": [],
   "source": [
    "percent_increase = increase / original_price * 100"
   ]
  },
  {
   "cell_type": "code",
   "execution_count": 35,
   "metadata": {},
   "outputs": [
    {
     "name": "stdout",
     "output_type": "stream",
     "text": [
      "Percentage increased by: 27.882536330265996.\n"
     ]
    }
   ],
   "source": [
    "print(f\"Percentage increased by: {percent_increase}.\")"
   ]
  },
  {
   "cell_type": "markdown",
   "metadata": {},
   "source": [
    "Determine if stock should be purchased or sold:"
   ]
  },
  {
   "cell_type": "code",
   "execution_count": 39,
   "metadata": {},
   "outputs": [
    {
     "name": "stdout",
     "output_type": "stream",
     "text": [
      "The recommendation is to sell the stock\n",
      "Recommendation: Sell\n"
     ]
    }
   ],
   "source": [
    "if percent_increase >= threshold_to_sell:\n",
    "    print(\"The recommendation is to sell the stock\")\n",
    "    recommendation = \"Sell\"\n",
    "elif percent_increase <= threshold_to_buy:\n",
    "    print(\"The recommendation is to buy the stock\")\n",
    "    recommendation = \"Buy\"\n",
    "elif (percent_increase < threshold_to_sell) or (percent_increase > threshold_to_buy):\n",
    "    print(\"The recommendation is to hold the stock\")\n",
    "    recommendation = \"Hold\"\n",
    "else:\n",
    "    print(\"Not enough data to make a decision. Need human input\")\n",
    "print(\"Recommendation: \" + recommendation)\n"
   ]
  },
  {
   "cell_type": "code",
   "execution_count": null,
   "metadata": {},
   "outputs": [],
   "source": []
  }
 ],
 "metadata": {
  "kernelspec": {
   "display_name": "Python 3",
   "language": "python",
   "name": "python3"
  },
  "language_info": {
   "codemirror_mode": {
    "name": "ipython",
    "version": 3
   },
   "file_extension": ".py",
   "mimetype": "text/x-python",
   "name": "python",
   "nbconvert_exporter": "python",
   "pygments_lexer": "ipython3",
   "version": "3.7.9"
  }
 },
 "nbformat": 4,
 "nbformat_minor": 4
}
