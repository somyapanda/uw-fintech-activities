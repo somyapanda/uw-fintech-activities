{
 "cells": [
  {
   "cell_type": "markdown",
   "metadata": {},
   "source": [
    "# Percentage Increase Bonus Activity\n",
    "Formulas\n",
    "Increase = Current Price - Original Price\n",
    "Percent Increase = Increase / Original x 100"
   ]
  },
  {
   "cell_type": "code",
   "execution_count": 1,
   "metadata": {},
   "outputs": [],
   "source": [
    "# Create float variable for original_price\n",
    "original_price = 198.87"
   ]
  },
  {
   "cell_type": "code",
   "execution_count": 2,
   "metadata": {},
   "outputs": [],
   "source": [
    "# Create float variable for current_price\n",
    "current_price = 254.32"
   ]
  },
  {
   "cell_type": "code",
   "execution_count": 3,
   "metadata": {},
   "outputs": [],
   "source": [
    "# Calculate difference between current_price and original_price\n",
    "difference = current_price - original_price"
   ]
  },
  {
   "cell_type": "code",
   "execution_count": 4,
   "metadata": {},
   "outputs": [],
   "source": [
    "# Calculate percentage_increase\n",
    "percentage_increase = (difference) / original_price * 100"
   ]
  },
  {
   "cell_type": "code",
   "execution_count": 5,
   "metadata": {},
   "outputs": [
    {
     "name": "stdout",
     "output_type": "stream",
     "text": [
      "Apple's original stock price was $198.87\n"
     ]
    }
   ],
   "source": [
    "# Print original_price\n",
    "print(f\"Apple's original stock price was ${original_price}\")"
   ]
  },
  {
   "cell_type": "code",
   "execution_count": 6,
   "metadata": {},
   "outputs": [
    {
     "name": "stdout",
     "output_type": "stream",
     "text": [
      "Apple's current stock price is $254.32\n"
     ]
    }
   ],
   "source": [
    "# Print current_price\n",
    "print(f\"Apple's current stock price is ${current_price}\")"
   ]
  },
  {
   "cell_type": "code",
   "execution_count": 7,
   "metadata": {},
   "outputs": [
    {
     "name": "stdout",
     "output_type": "stream",
     "text": [
      "Apple's stock increased by 27.88%\n",
      "Apple's stock increased by 27.88%\n"
     ]
    }
   ],
   "source": [
    "# Print percent_increase to 2 decimal places using string format\n",
    "print(\"Apple's stock increased by {:.2f}%\".format(percentage_increase))\n",
    "print(f\"Apple's stock increased by {percentage_increase:.2f}%\")"
   ]
  }
 ],
 "metadata": {
  "kernelspec": {
   "display_name": "Python 3",
   "language": "python",
   "name": "python3"
  },
  "language_info": {
   "codemirror_mode": {
    "name": "ipython",
    "version": 3
   },
   "file_extension": ".py",
   "mimetype": "text/x-python",
   "name": "python",
   "nbconvert_exporter": "python",
   "pygments_lexer": "ipython3",
   "version": "3.7.9"
  }
 },
 "nbformat": 4,
 "nbformat_minor": 4
}
