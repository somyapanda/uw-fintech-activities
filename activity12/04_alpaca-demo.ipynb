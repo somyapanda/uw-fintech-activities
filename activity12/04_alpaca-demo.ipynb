{
 "cells": [
  {
   "cell_type": "markdown",
   "metadata": {},
   "source": [
    "# Alpaca Demo"
   ]
  },
  {
   "cell_type": "code",
   "execution_count": 16,
   "metadata": {},
   "outputs": [],
   "source": [
    "# Initial imports\n",
    "import os\n",
    "import requests\n",
    "import pandas as pd\n",
    "from dotenv import load_dotenv\n",
    "import alpaca_trade_api as tradeapi\n",
    "\n",
    "%matplotlib inline"
   ]
  },
  {
   "cell_type": "code",
   "execution_count": 17,
   "metadata": {},
   "outputs": [
    {
     "data": {
      "text/plain": [
       "True"
      ]
     },
     "execution_count": 17,
     "metadata": {},
     "output_type": "execute_result"
    }
   ],
   "source": [
    "# Load .env environment variables\n",
    "load_dotenv()"
   ]
  },
  {
   "cell_type": "code",
   "execution_count": 18,
   "metadata": {},
   "outputs": [],
   "source": [
    "# Set Alpaca API key and secret\n",
    "alpaca_api_key = os.getenv(\"ALPACA_API_KEY\")\n",
    "alpaca_secret_key = os.getenv(\"ALPACA_SECRET_KEY\")"
   ]
  },
  {
   "cell_type": "code",
   "execution_count": 19,
   "metadata": {},
   "outputs": [
    {
     "name": "stdout",
     "output_type": "stream",
     "text": [
      "Key type: <class 'str'>\n",
      "Secret type: <class 'str'>\n"
     ]
    }
   ],
   "source": [
    "# Verify that Alpaca key and secret were correctly loaded\n",
    "print(f\"Key type: {type(alpaca_api_key)}\")\n",
    "print(f\"Secret type: {type(alpaca_api_key)}\")"
   ]
  },
  {
   "cell_type": "code",
   "execution_count": 20,
   "metadata": {},
   "outputs": [],
   "source": [
    "# Create the Alpaca API object\n",
    "alpaca = tradeapi.REST(\n",
    "    alpaca_api_key,\n",
    "    alpaca_secret_key,\n",
    "    api_version=\"v2\"\n",
    ")"
   ]
  },
  {
   "cell_type": "code",
   "execution_count": 21,
   "metadata": {},
   "outputs": [
    {
     "name": "stdout",
     "output_type": "stream",
     "text": [
      "2021-03-12T00:00:00-05:00\n"
     ]
    }
   ],
   "source": [
    "# Format current date as ISO format\n",
    "today = pd.Timestamp(\"2021-03-12\", tz=\"America/New_York\").isoformat()\n",
    "print(today)"
   ]
  },
  {
   "cell_type": "code",
   "execution_count": 22,
   "metadata": {},
   "outputs": [],
   "source": [
    "# Set the tickers\n",
    "tickers = [\"FB\", \"TWTR\"]"
   ]
  },
  {
   "cell_type": "code",
   "execution_count": 23,
   "metadata": {},
   "outputs": [],
   "source": [
    "# Set timeframe to one day ('1D') for the Alpaca API\n",
    "timeframe = \"1D\""
   ]
  },
  {
   "cell_type": "code",
   "execution_count": 24,
   "metadata": {},
   "outputs": [
    {
     "data": {
      "text/html": [
       "<div>\n",
       "<style scoped>\n",
       "    .dataframe tbody tr th:only-of-type {\n",
       "        vertical-align: middle;\n",
       "    }\n",
       "\n",
       "    .dataframe tbody tr th {\n",
       "        vertical-align: top;\n",
       "    }\n",
       "\n",
       "    .dataframe thead tr th {\n",
       "        text-align: left;\n",
       "    }\n",
       "\n",
       "    .dataframe thead tr:last-of-type th {\n",
       "        text-align: right;\n",
       "    }\n",
       "</style>\n",
       "<table border=\"1\" class=\"dataframe\">\n",
       "  <thead>\n",
       "    <tr>\n",
       "      <th></th>\n",
       "      <th colspan=\"5\" halign=\"left\">FB</th>\n",
       "      <th colspan=\"5\" halign=\"left\">TWTR</th>\n",
       "    </tr>\n",
       "    <tr>\n",
       "      <th></th>\n",
       "      <th>open</th>\n",
       "      <th>high</th>\n",
       "      <th>low</th>\n",
       "      <th>close</th>\n",
       "      <th>volume</th>\n",
       "      <th>open</th>\n",
       "      <th>high</th>\n",
       "      <th>low</th>\n",
       "      <th>close</th>\n",
       "      <th>volume</th>\n",
       "    </tr>\n",
       "    <tr>\n",
       "      <th>time</th>\n",
       "      <th></th>\n",
       "      <th></th>\n",
       "      <th></th>\n",
       "      <th></th>\n",
       "      <th></th>\n",
       "      <th></th>\n",
       "      <th></th>\n",
       "      <th></th>\n",
       "      <th></th>\n",
       "      <th></th>\n",
       "    </tr>\n",
       "  </thead>\n",
       "  <tbody>\n",
       "    <tr>\n",
       "      <th>2021-03-12 00:00:00-05:00</th>\n",
       "      <td>269.14</td>\n",
       "      <td>269.74</td>\n",
       "      <td>264.02</td>\n",
       "      <td>268.44</td>\n",
       "      <td>18935898</td>\n",
       "      <td>67.72</td>\n",
       "      <td>68.815</td>\n",
       "      <td>66.6448</td>\n",
       "      <td>68.1</td>\n",
       "      <td>13126520</td>\n",
       "    </tr>\n",
       "  </tbody>\n",
       "</table>\n",
       "</div>"
      ],
      "text/plain": [
       "                               FB                                     TWTR  \\\n",
       "                             open    high     low   close    volume   open   \n",
       "time                                                                         \n",
       "2021-03-12 00:00:00-05:00  269.14  269.74  264.02  268.44  18935898  67.72   \n",
       "\n",
       "                                                            \n",
       "                             high      low close    volume  \n",
       "time                                                        \n",
       "2021-03-12 00:00:00-05:00  68.815  66.6448  68.1  13126520  "
      ]
     },
     "execution_count": 24,
     "metadata": {},
     "output_type": "execute_result"
    }
   ],
   "source": [
    "# Get current closing prices for FB and TWTR\n",
    "df_portfolio = alpaca.get_barset(tickers, timeframe, start=today, end=today).df\n",
    "\n",
    "\n",
    "# Display sample data\n",
    "df_portfolio"
   ]
  },
  {
   "cell_type": "code",
   "execution_count": 25,
   "metadata": {},
   "outputs": [],
   "source": [
    "# Format start and end dates as ISO format for one year period\n",
    "start = pd.Timestamp(\"2020-03-12\", tz=\"America/New_York\").isoformat()\n",
    "end = pd.Timestamp(\"2021-03-12\", tz=\"America/New_York\").isoformat()"
   ]
  },
  {
   "cell_type": "code",
   "execution_count": 27,
   "metadata": {},
   "outputs": [
    {
     "data": {
      "text/html": [
       "<div>\n",
       "<style scoped>\n",
       "    .dataframe tbody tr th:only-of-type {\n",
       "        vertical-align: middle;\n",
       "    }\n",
       "\n",
       "    .dataframe tbody tr th {\n",
       "        vertical-align: top;\n",
       "    }\n",
       "\n",
       "    .dataframe thead tr th {\n",
       "        text-align: left;\n",
       "    }\n",
       "\n",
       "    .dataframe thead tr:last-of-type th {\n",
       "        text-align: right;\n",
       "    }\n",
       "</style>\n",
       "<table border=\"1\" class=\"dataframe\">\n",
       "  <thead>\n",
       "    <tr>\n",
       "      <th></th>\n",
       "      <th colspan=\"5\" halign=\"left\">FB</th>\n",
       "      <th colspan=\"5\" halign=\"left\">TWTR</th>\n",
       "    </tr>\n",
       "    <tr>\n",
       "      <th></th>\n",
       "      <th>open</th>\n",
       "      <th>high</th>\n",
       "      <th>low</th>\n",
       "      <th>close</th>\n",
       "      <th>volume</th>\n",
       "      <th>open</th>\n",
       "      <th>high</th>\n",
       "      <th>low</th>\n",
       "      <th>close</th>\n",
       "      <th>volume</th>\n",
       "    </tr>\n",
       "    <tr>\n",
       "      <th>time</th>\n",
       "      <th></th>\n",
       "      <th></th>\n",
       "      <th></th>\n",
       "      <th></th>\n",
       "      <th></th>\n",
       "      <th></th>\n",
       "      <th></th>\n",
       "      <th></th>\n",
       "      <th></th>\n",
       "      <th></th>\n",
       "    </tr>\n",
       "  </thead>\n",
       "  <tbody>\n",
       "    <tr>\n",
       "      <th>2020-03-12 00:00:00-04:00</th>\n",
       "      <td>159.540</td>\n",
       "      <td>166.6000</td>\n",
       "      <td>154.3400</td>\n",
       "      <td>154.46</td>\n",
       "      <td>39090919</td>\n",
       "      <td>29.08</td>\n",
       "      <td>29.6900</td>\n",
       "      <td>26.7000</td>\n",
       "      <td>26.760</td>\n",
       "      <td>28670135.0</td>\n",
       "    </tr>\n",
       "    <tr>\n",
       "      <th>2020-03-13 00:00:00-04:00</th>\n",
       "      <td>163.160</td>\n",
       "      <td>170.7900</td>\n",
       "      <td>157.6000</td>\n",
       "      <td>170.62</td>\n",
       "      <td>29428089</td>\n",
       "      <td>28.83</td>\n",
       "      <td>29.4100</td>\n",
       "      <td>26.4001</td>\n",
       "      <td>29.285</td>\n",
       "      <td>25921287.0</td>\n",
       "    </tr>\n",
       "    <tr>\n",
       "      <th>2020-03-16 00:00:00-04:00</th>\n",
       "      <td>152.320</td>\n",
       "      <td>159.1300</td>\n",
       "      <td>143.1000</td>\n",
       "      <td>145.96</td>\n",
       "      <td>72152076</td>\n",
       "      <td>26.12</td>\n",
       "      <td>28.3500</td>\n",
       "      <td>23.9200</td>\n",
       "      <td>24.040</td>\n",
       "      <td>25978212.0</td>\n",
       "    </tr>\n",
       "    <tr>\n",
       "      <th>2020-03-17 00:00:00-04:00</th>\n",
       "      <td>150.740</td>\n",
       "      <td>153.9400</td>\n",
       "      <td>140.0000</td>\n",
       "      <td>149.42</td>\n",
       "      <td>31562530</td>\n",
       "      <td>24.38</td>\n",
       "      <td>25.8400</td>\n",
       "      <td>23.1800</td>\n",
       "      <td>24.450</td>\n",
       "      <td>25998817.0</td>\n",
       "    </tr>\n",
       "    <tr>\n",
       "      <th>2020-03-18 00:00:00-04:00</th>\n",
       "      <td>139.750</td>\n",
       "      <td>148.1800</td>\n",
       "      <td>137.1006</td>\n",
       "      <td>147.05</td>\n",
       "      <td>29533901</td>\n",
       "      <td>22.95</td>\n",
       "      <td>23.4900</td>\n",
       "      <td>20.0000</td>\n",
       "      <td>21.995</td>\n",
       "      <td>24628807.0</td>\n",
       "    </tr>\n",
       "    <tr>\n",
       "      <th>2020-03-19 00:00:00-04:00</th>\n",
       "      <td>146.620</td>\n",
       "      <td>159.9294</td>\n",
       "      <td>144.8000</td>\n",
       "      <td>153.03</td>\n",
       "      <td>70865214</td>\n",
       "      <td>22.11</td>\n",
       "      <td>25.1700</td>\n",
       "      <td>20.6558</td>\n",
       "      <td>24.130</td>\n",
       "      <td>25547288.0</td>\n",
       "    </tr>\n",
       "    <tr>\n",
       "      <th>2020-03-20 00:00:00-04:00</th>\n",
       "      <td>156.020</td>\n",
       "      <td>159.2700</td>\n",
       "      <td>148.0000</td>\n",
       "      <td>149.73</td>\n",
       "      <td>30645720</td>\n",
       "      <td>24.87</td>\n",
       "      <td>25.8638</td>\n",
       "      <td>23.7000</td>\n",
       "      <td>23.945</td>\n",
       "      <td>25989075.0</td>\n",
       "    </tr>\n",
       "    <tr>\n",
       "      <th>2020-03-23 00:00:00-04:00</th>\n",
       "      <td>149.660</td>\n",
       "      <td>152.3100</td>\n",
       "      <td>142.2500</td>\n",
       "      <td>147.80</td>\n",
       "      <td>26881306</td>\n",
       "      <td>23.80</td>\n",
       "      <td>25.2500</td>\n",
       "      <td>23.5000</td>\n",
       "      <td>24.680</td>\n",
       "      <td>19113456.0</td>\n",
       "    </tr>\n",
       "    <tr>\n",
       "      <th>2020-03-24 00:00:00-04:00</th>\n",
       "      <td>155.205</td>\n",
       "      <td>161.3100</td>\n",
       "      <td>152.5700</td>\n",
       "      <td>161.22</td>\n",
       "      <td>25999531</td>\n",
       "      <td>25.79</td>\n",
       "      <td>26.4600</td>\n",
       "      <td>24.1300</td>\n",
       "      <td>25.850</td>\n",
       "      <td>30889576.0</td>\n",
       "    </tr>\n",
       "    <tr>\n",
       "      <th>2020-03-25 00:00:00-04:00</th>\n",
       "      <td>158.920</td>\n",
       "      <td>162.9900</td>\n",
       "      <td>153.0600</td>\n",
       "      <td>156.16</td>\n",
       "      <td>62557455</td>\n",
       "      <td>25.85</td>\n",
       "      <td>27.4600</td>\n",
       "      <td>24.5200</td>\n",
       "      <td>25.980</td>\n",
       "      <td>23763942.0</td>\n",
       "    </tr>\n",
       "  </tbody>\n",
       "</table>\n",
       "</div>"
      ],
      "text/plain": [
       "                                FB                                        \\\n",
       "                              open      high       low   close    volume   \n",
       "time                                                                       \n",
       "2020-03-12 00:00:00-04:00  159.540  166.6000  154.3400  154.46  39090919   \n",
       "2020-03-13 00:00:00-04:00  163.160  170.7900  157.6000  170.62  29428089   \n",
       "2020-03-16 00:00:00-04:00  152.320  159.1300  143.1000  145.96  72152076   \n",
       "2020-03-17 00:00:00-04:00  150.740  153.9400  140.0000  149.42  31562530   \n",
       "2020-03-18 00:00:00-04:00  139.750  148.1800  137.1006  147.05  29533901   \n",
       "2020-03-19 00:00:00-04:00  146.620  159.9294  144.8000  153.03  70865214   \n",
       "2020-03-20 00:00:00-04:00  156.020  159.2700  148.0000  149.73  30645720   \n",
       "2020-03-23 00:00:00-04:00  149.660  152.3100  142.2500  147.80  26881306   \n",
       "2020-03-24 00:00:00-04:00  155.205  161.3100  152.5700  161.22  25999531   \n",
       "2020-03-25 00:00:00-04:00  158.920  162.9900  153.0600  156.16  62557455   \n",
       "\n",
       "                            TWTR                                        \n",
       "                            open     high      low   close      volume  \n",
       "time                                                                    \n",
       "2020-03-12 00:00:00-04:00  29.08  29.6900  26.7000  26.760  28670135.0  \n",
       "2020-03-13 00:00:00-04:00  28.83  29.4100  26.4001  29.285  25921287.0  \n",
       "2020-03-16 00:00:00-04:00  26.12  28.3500  23.9200  24.040  25978212.0  \n",
       "2020-03-17 00:00:00-04:00  24.38  25.8400  23.1800  24.450  25998817.0  \n",
       "2020-03-18 00:00:00-04:00  22.95  23.4900  20.0000  21.995  24628807.0  \n",
       "2020-03-19 00:00:00-04:00  22.11  25.1700  20.6558  24.130  25547288.0  \n",
       "2020-03-20 00:00:00-04:00  24.87  25.8638  23.7000  23.945  25989075.0  \n",
       "2020-03-23 00:00:00-04:00  23.80  25.2500  23.5000  24.680  19113456.0  \n",
       "2020-03-24 00:00:00-04:00  25.79  26.4600  24.1300  25.850  30889576.0  \n",
       "2020-03-25 00:00:00-04:00  25.85  27.4600  24.5200  25.980  23763942.0  "
      ]
     },
     "execution_count": 27,
     "metadata": {},
     "output_type": "execute_result"
    }
   ],
   "source": [
    "# Get closing prices for FB and TWTR from the last year\n",
    "df_portfolio_year = alpaca.get_barset(\n",
    "    tickers, \n",
    "    timeframe, \n",
    "    start = start, \n",
    "    end = end, \n",
    "    limit = 1000\n",
    ").df\n",
    "# Display sample data\n",
    "df_portfolio_year.head(10)"
   ]
  },
  {
   "cell_type": "code",
   "execution_count": 29,
   "metadata": {},
   "outputs": [
    {
     "data": {
      "text/html": [
       "<div>\n",
       "<style scoped>\n",
       "    .dataframe tbody tr th:only-of-type {\n",
       "        vertical-align: middle;\n",
       "    }\n",
       "\n",
       "    .dataframe tbody tr th {\n",
       "        vertical-align: top;\n",
       "    }\n",
       "\n",
       "    .dataframe thead th {\n",
       "        text-align: right;\n",
       "    }\n",
       "</style>\n",
       "<table border=\"1\" class=\"dataframe\">\n",
       "  <thead>\n",
       "    <tr style=\"text-align: right;\">\n",
       "      <th></th>\n",
       "      <th>FB</th>\n",
       "      <th>TWTR</th>\n",
       "    </tr>\n",
       "  </thead>\n",
       "  <tbody>\n",
       "    <tr>\n",
       "      <th>2020-03-12</th>\n",
       "      <td>154.46</td>\n",
       "      <td>26.760</td>\n",
       "    </tr>\n",
       "    <tr>\n",
       "      <th>2020-03-13</th>\n",
       "      <td>170.62</td>\n",
       "      <td>29.285</td>\n",
       "    </tr>\n",
       "    <tr>\n",
       "      <th>2020-03-16</th>\n",
       "      <td>145.96</td>\n",
       "      <td>24.040</td>\n",
       "    </tr>\n",
       "    <tr>\n",
       "      <th>2020-03-17</th>\n",
       "      <td>149.42</td>\n",
       "      <td>24.450</td>\n",
       "    </tr>\n",
       "    <tr>\n",
       "      <th>2020-03-18</th>\n",
       "      <td>147.05</td>\n",
       "      <td>21.995</td>\n",
       "    </tr>\n",
       "    <tr>\n",
       "      <th>2020-03-19</th>\n",
       "      <td>153.03</td>\n",
       "      <td>24.130</td>\n",
       "    </tr>\n",
       "    <tr>\n",
       "      <th>2020-03-20</th>\n",
       "      <td>149.73</td>\n",
       "      <td>23.945</td>\n",
       "    </tr>\n",
       "    <tr>\n",
       "      <th>2020-03-23</th>\n",
       "      <td>147.80</td>\n",
       "      <td>24.680</td>\n",
       "    </tr>\n",
       "    <tr>\n",
       "      <th>2020-03-24</th>\n",
       "      <td>161.22</td>\n",
       "      <td>25.850</td>\n",
       "    </tr>\n",
       "    <tr>\n",
       "      <th>2020-03-25</th>\n",
       "      <td>156.16</td>\n",
       "      <td>25.980</td>\n",
       "    </tr>\n",
       "  </tbody>\n",
       "</table>\n",
       "</div>"
      ],
      "text/plain": [
       "                FB    TWTR\n",
       "2020-03-12  154.46  26.760\n",
       "2020-03-13  170.62  29.285\n",
       "2020-03-16  145.96  24.040\n",
       "2020-03-17  149.42  24.450\n",
       "2020-03-18  147.05  21.995\n",
       "2020-03-19  153.03  24.130\n",
       "2020-03-20  149.73  23.945\n",
       "2020-03-23  147.80  24.680\n",
       "2020-03-24  161.22  25.850\n",
       "2020-03-25  156.16  25.980"
      ]
     },
     "execution_count": 29,
     "metadata": {},
     "output_type": "execute_result"
    }
   ],
   "source": [
    "# Create and empty DataFrame for closing prices\n",
    "df_closing_prices = pd.DataFrame()\n",
    "# Fetch the closing prices of FB and TWTR\n",
    "df_closing_prices[\"FB\"] = df_portfolio_year[\"FB\"][\"close\"]\n",
    "df_closing_prices[\"TWTR\"] = df_portfolio_year[\"TWTR\"][\"close\"]\n",
    "\n",
    "# Drop the time component of the date\n",
    "df_closing_prices.index = df_closing_prices.index.date\n",
    "# Display sample data\n",
    "df_closing_prices.head(10)"
   ]
  },
  {
   "cell_type": "code",
   "execution_count": 31,
   "metadata": {},
   "outputs": [
    {
     "data": {
      "text/html": [
       "<div>\n",
       "<style scoped>\n",
       "    .dataframe tbody tr th:only-of-type {\n",
       "        vertical-align: middle;\n",
       "    }\n",
       "\n",
       "    .dataframe tbody tr th {\n",
       "        vertical-align: top;\n",
       "    }\n",
       "\n",
       "    .dataframe thead th {\n",
       "        text-align: right;\n",
       "    }\n",
       "</style>\n",
       "<table border=\"1\" class=\"dataframe\">\n",
       "  <thead>\n",
       "    <tr style=\"text-align: right;\">\n",
       "      <th></th>\n",
       "      <th>FB</th>\n",
       "      <th>TWTR</th>\n",
       "    </tr>\n",
       "  </thead>\n",
       "  <tbody>\n",
       "    <tr>\n",
       "      <th>2020-03-13</th>\n",
       "      <td>0.104623</td>\n",
       "      <td>0.094357</td>\n",
       "    </tr>\n",
       "    <tr>\n",
       "      <th>2020-03-16</th>\n",
       "      <td>-0.144532</td>\n",
       "      <td>-0.179102</td>\n",
       "    </tr>\n",
       "    <tr>\n",
       "      <th>2020-03-17</th>\n",
       "      <td>0.023705</td>\n",
       "      <td>0.017055</td>\n",
       "    </tr>\n",
       "    <tr>\n",
       "      <th>2020-03-18</th>\n",
       "      <td>-0.015861</td>\n",
       "      <td>-0.100409</td>\n",
       "    </tr>\n",
       "    <tr>\n",
       "      <th>2020-03-19</th>\n",
       "      <td>0.040666</td>\n",
       "      <td>0.097068</td>\n",
       "    </tr>\n",
       "  </tbody>\n",
       "</table>\n",
       "</div>"
      ],
      "text/plain": [
       "                  FB      TWTR\n",
       "2020-03-13  0.104623  0.094357\n",
       "2020-03-16 -0.144532 -0.179102\n",
       "2020-03-17  0.023705  0.017055\n",
       "2020-03-18 -0.015861 -0.100409\n",
       "2020-03-19  0.040666  0.097068"
      ]
     },
     "execution_count": 31,
     "metadata": {},
     "output_type": "execute_result"
    }
   ],
   "source": [
    "# Compute daily returns\n",
    "df_daily_returns = df_closing_prices.pct_change().dropna()\n",
    "# Display sample data\n",
    "df_daily_returns.head()"
   ]
  },
  {
   "cell_type": "code",
   "execution_count": 32,
   "metadata": {},
   "outputs": [
    {
     "data": {
      "text/plain": [
       "<AxesSubplot:title={'center':'Daily Returns of FB and TWTR over the Last Year'}>"
      ]
     },
     "execution_count": 32,
     "metadata": {},
     "output_type": "execute_result"
    },
    {
     "data": {
      "image/png": "[encoded data removed]",
      "text/plain": [
       "<Figure size 432x288 with 1 Axes>"
      ]
     },
     "metadata": {
      "needs_background": "light"
     },
     "output_type": "display_data"
    }
   ],
   "source": [
    "# Plot daily returns\n",
    "df_daily_returns.plot(title=\"Daily Returns of FB and TWTR over the Last Year\")"
   ]
  },
  {
   "cell_type": "code",
   "execution_count": null,
   "metadata": {},
   "outputs": [],
   "source": []
  }
 ],
 "metadata": {
  "kernelspec": {
   "display_name": "Python 3",
   "language": "python",
   "name": "python3"
  },
  "language_info": {
   "codemirror_mode": {
    "name": "ipython",
    "version": 3
   },
   "file_extension": ".py",
   "mimetype": "text/x-python",
   "name": "python",
   "nbconvert_exporter": "python",
   "pygments_lexer": "ipython3",
   "version": "3.7.9"
  }
 },
 "nbformat": 4,
 "nbformat_minor": 4
}
