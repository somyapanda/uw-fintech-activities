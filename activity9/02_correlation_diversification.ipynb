{
 "cells": [
  {
   "cell_type": "markdown",
   "metadata": {},
   "source": [
    "### Instructor Demo: Diversification\n",
    "\n",
    "This program reads in the CSV datasets of several stocks and calculates a correlation table and heatmap to determine the semiconductor stock that is least correlated to `JNJ` and `HD`."
   ]
  },
  {
   "cell_type": "code",
   "execution_count": 1,
   "metadata": {},
   "outputs": [],
   "source": [
    "# Import libraries and dependencies\n",
    "import pandas as pd\n",
    "from pathlib import Path\n",
    "import seaborn as sns\n",
    "%matplotlib inline"
   ]
  },
  {
   "cell_type": "markdown",
   "metadata": {},
   "source": [
    "### Read CSV in as DataFrame"
   ]
  },
  {
   "cell_type": "code",
   "execution_count": 2,
   "metadata": {},
   "outputs": [
    {
     "data": {
      "text/html": [
       "<div>\n",
       "<style scoped>\n",
       "    .dataframe tbody tr th:only-of-type {\n",
       "        vertical-align: middle;\n",
       "    }\n",
       "\n",
       "    .dataframe tbody tr th {\n",
       "        vertical-align: top;\n",
       "    }\n",
       "\n",
       "    .dataframe thead th {\n",
       "        text-align: right;\n",
       "    }\n",
       "</style>\n",
       "<table border=\"1\" class=\"dataframe\">\n",
       "  <thead>\n",
       "    <tr style=\"text-align: right;\">\n",
       "      <th></th>\n",
       "      <th>INTC</th>\n",
       "    </tr>\n",
       "    <tr>\n",
       "      <th>date</th>\n",
       "      <th></th>\n",
       "    </tr>\n",
       "  </thead>\n",
       "  <tbody>\n",
       "    <tr>\n",
       "      <th>5/14/19</th>\n",
       "      <td>45.17</td>\n",
       "    </tr>\n",
       "    <tr>\n",
       "      <th>5/13/19</th>\n",
       "      <td>44.76</td>\n",
       "    </tr>\n",
       "    <tr>\n",
       "      <th>5/10/19</th>\n",
       "      <td>46.20</td>\n",
       "    </tr>\n",
       "    <tr>\n",
       "      <th>5/9/19</th>\n",
       "      <td>46.62</td>\n",
       "    </tr>\n",
       "    <tr>\n",
       "      <th>5/8/19</th>\n",
       "      <td>49.24</td>\n",
       "    </tr>\n",
       "  </tbody>\n",
       "</table>\n",
       "</div>"
      ],
      "text/plain": [
       "          INTC\n",
       "date          \n",
       "5/14/19  45.17\n",
       "5/13/19  44.76\n",
       "5/10/19  46.20\n",
       "5/9/19   46.62\n",
       "5/8/19   49.24"
      ]
     },
     "execution_count": 2,
     "metadata": {},
     "output_type": "execute_result"
    }
   ],
   "source": [
    "# Set file paths\n",
    "hd_data = Path(\"./Resources/HD.csv\")\n",
    "jnj_data = Path(\"./Resources/JNJ.csv\")\n",
    "intc_data = Path(\"./Resources/INTC.csv\")\n",
    "amd_data = Path(\"./Resources/AMD.csv\")\n",
    "mu_data = Path(\"./Resources/MU.csv\")\n",
    "nvda_data = Path(\"./Resources/NVDA.csv\")\n",
    "tsm_data = Path(\"./Resources/TSM.csv\")\n",
    "\n",
    "# Read the individual CSV datasets\n",
    "hd = pd.read_csv(hd_data, index_col=\"date\")\n",
    "jnj = pd.read_csv(jnj_data, index_col=\"date\")\n",
    "intc = pd.read_csv(intc_data, index_col=\"date\")\n",
    "amd = pd.read_csv(amd_data, index_col=\"date\")\n",
    "mu = pd.read_csv(mu_data, index_col=\"date\")\n",
    "nvda = pd.read_csv(nvda_data, index_col=\"date\")\n",
    "tsm = pd.read_csv(tsm_data, index_col=\"date\")\n",
    "\n",
    "intc.head()"
   ]
  },
  {
   "cell_type": "markdown",
   "metadata": {},
   "source": [
    "### Combine the DataFrames"
   ]
  },
  {
   "cell_type": "code",
   "execution_count": 3,
   "metadata": {},
   "outputs": [
    {
     "data": {
      "text/html": [
       "<div>\n",
       "<style scoped>\n",
       "    .dataframe tbody tr th:only-of-type {\n",
       "        vertical-align: middle;\n",
       "    }\n",
       "\n",
       "    .dataframe tbody tr th {\n",
       "        vertical-align: top;\n",
       "    }\n",
       "\n",
       "    .dataframe thead th {\n",
       "        text-align: right;\n",
       "    }\n",
       "</style>\n",
       "<table border=\"1\" class=\"dataframe\">\n",
       "  <thead>\n",
       "    <tr style=\"text-align: right;\">\n",
       "      <th></th>\n",
       "      <th>HD</th>\n",
       "      <th>JNJ</th>\n",
       "      <th>INTC</th>\n",
       "      <th>AMD</th>\n",
       "      <th>MU</th>\n",
       "      <th>NVDA</th>\n",
       "      <th>TSM</th>\n",
       "    </tr>\n",
       "    <tr>\n",
       "      <th>date</th>\n",
       "      <th></th>\n",
       "      <th></th>\n",
       "      <th></th>\n",
       "      <th></th>\n",
       "      <th></th>\n",
       "      <th></th>\n",
       "      <th></th>\n",
       "    </tr>\n",
       "  </thead>\n",
       "  <tbody>\n",
       "    <tr>\n",
       "      <th>5/14/19</th>\n",
       "      <td>191.62</td>\n",
       "      <td>66.97</td>\n",
       "      <td>45.17</td>\n",
       "      <td>27.32</td>\n",
       "      <td>38.51</td>\n",
       "      <td>162.04</td>\n",
       "      <td>41.97</td>\n",
       "    </tr>\n",
       "    <tr>\n",
       "      <th>5/13/19</th>\n",
       "      <td>190.34</td>\n",
       "      <td>66.49</td>\n",
       "      <td>44.76</td>\n",
       "      <td>26.24</td>\n",
       "      <td>37.38</td>\n",
       "      <td>158.45</td>\n",
       "      <td>40.99</td>\n",
       "    </tr>\n",
       "    <tr>\n",
       "      <th>5/10/19</th>\n",
       "      <td>194.58</td>\n",
       "      <td>67.22</td>\n",
       "      <td>46.20</td>\n",
       "      <td>27.96</td>\n",
       "      <td>38.94</td>\n",
       "      <td>168.82</td>\n",
       "      <td>42.83</td>\n",
       "    </tr>\n",
       "    <tr>\n",
       "      <th>5/9/19</th>\n",
       "      <td>194.58</td>\n",
       "      <td>66.04</td>\n",
       "      <td>46.62</td>\n",
       "      <td>27.21</td>\n",
       "      <td>39.27</td>\n",
       "      <td>170.19</td>\n",
       "      <td>43.25</td>\n",
       "    </tr>\n",
       "    <tr>\n",
       "      <th>5/8/19</th>\n",
       "      <td>195.17</td>\n",
       "      <td>66.02</td>\n",
       "      <td>49.24</td>\n",
       "      <td>27.09</td>\n",
       "      <td>39.75</td>\n",
       "      <td>173.92</td>\n",
       "      <td>43.70</td>\n",
       "    </tr>\n",
       "  </tbody>\n",
       "</table>\n",
       "</div>"
      ],
      "text/plain": [
       "             HD    JNJ   INTC    AMD     MU    NVDA    TSM\n",
       "date                                                      \n",
       "5/14/19  191.62  66.97  45.17  27.32  38.51  162.04  41.97\n",
       "5/13/19  190.34  66.49  44.76  26.24  37.38  158.45  40.99\n",
       "5/10/19  194.58  67.22  46.20  27.96  38.94  168.82  42.83\n",
       "5/9/19   194.58  66.04  46.62  27.21  39.27  170.19  43.25\n",
       "5/8/19   195.17  66.02  49.24  27.09  39.75  173.92  43.70"
      ]
     },
     "execution_count": 3,
     "metadata": {},
     "output_type": "execute_result"
    }
   ],
   "source": [
    "# Use the `concat` function to combine the DataFrames by matching indexes (or in this case `date`)\n",
    "combined_df = pd.concat([hd, jnj, intc, amd, mu, nvda,  tsm], axis='columns', join='inner')\n",
    "combined_df.head()"
   ]
  },
  {
   "cell_type": "markdown",
   "metadata": {},
   "source": [
    "### Calculate Daily Returns"
   ]
  },
  {
   "cell_type": "code",
   "execution_count": 4,
   "metadata": {},
   "outputs": [
    {
     "data": {
      "text/html": [
       "<div>\n",
       "<style scoped>\n",
       "    .dataframe tbody tr th:only-of-type {\n",
       "        vertical-align: middle;\n",
       "    }\n",
       "\n",
       "    .dataframe tbody tr th {\n",
       "        vertical-align: top;\n",
       "    }\n",
       "\n",
       "    .dataframe thead th {\n",
       "        text-align: right;\n",
       "    }\n",
       "</style>\n",
       "<table border=\"1\" class=\"dataframe\">\n",
       "  <thead>\n",
       "    <tr style=\"text-align: right;\">\n",
       "      <th></th>\n",
       "      <th>HD</th>\n",
       "      <th>JNJ</th>\n",
       "      <th>INTC</th>\n",
       "      <th>AMD</th>\n",
       "      <th>MU</th>\n",
       "      <th>NVDA</th>\n",
       "      <th>TSM</th>\n",
       "    </tr>\n",
       "    <tr>\n",
       "      <th>date</th>\n",
       "      <th></th>\n",
       "      <th></th>\n",
       "      <th></th>\n",
       "      <th></th>\n",
       "      <th></th>\n",
       "      <th></th>\n",
       "      <th></th>\n",
       "    </tr>\n",
       "  </thead>\n",
       "  <tbody>\n",
       "    <tr>\n",
       "      <th>5/13/19</th>\n",
       "      <td>-0.006680</td>\n",
       "      <td>-0.007167</td>\n",
       "      <td>-0.009077</td>\n",
       "      <td>-0.039531</td>\n",
       "      <td>-0.029343</td>\n",
       "      <td>-0.022155</td>\n",
       "      <td>-0.023350</td>\n",
       "    </tr>\n",
       "    <tr>\n",
       "      <th>5/10/19</th>\n",
       "      <td>0.022276</td>\n",
       "      <td>0.010979</td>\n",
       "      <td>0.032172</td>\n",
       "      <td>0.065549</td>\n",
       "      <td>0.041734</td>\n",
       "      <td>0.065447</td>\n",
       "      <td>0.044889</td>\n",
       "    </tr>\n",
       "    <tr>\n",
       "      <th>5/9/19</th>\n",
       "      <td>0.000000</td>\n",
       "      <td>-0.017554</td>\n",
       "      <td>0.009091</td>\n",
       "      <td>-0.026824</td>\n",
       "      <td>0.008475</td>\n",
       "      <td>0.008115</td>\n",
       "      <td>0.009806</td>\n",
       "    </tr>\n",
       "    <tr>\n",
       "      <th>5/8/19</th>\n",
       "      <td>0.003032</td>\n",
       "      <td>-0.000303</td>\n",
       "      <td>0.056199</td>\n",
       "      <td>-0.004410</td>\n",
       "      <td>0.012223</td>\n",
       "      <td>0.021917</td>\n",
       "      <td>0.010405</td>\n",
       "    </tr>\n",
       "    <tr>\n",
       "      <th>5/7/19</th>\n",
       "      <td>-0.002049</td>\n",
       "      <td>0.004696</td>\n",
       "      <td>0.025183</td>\n",
       "      <td>-0.015873</td>\n",
       "      <td>0.012830</td>\n",
       "      <td>-0.004657</td>\n",
       "      <td>0.001373</td>\n",
       "    </tr>\n",
       "    <tr>\n",
       "      <th>...</th>\n",
       "      <td>...</td>\n",
       "      <td>...</td>\n",
       "      <td>...</td>\n",
       "      <td>...</td>\n",
       "      <td>...</td>\n",
       "      <td>...</td>\n",
       "      <td>...</td>\n",
       "    </tr>\n",
       "    <tr>\n",
       "      <th>5/20/09</th>\n",
       "      <td>0.041066</td>\n",
       "      <td>0.014214</td>\n",
       "      <td>0.026350</td>\n",
       "      <td>0.036866</td>\n",
       "      <td>0.048035</td>\n",
       "      <td>0.006205</td>\n",
       "      <td>0.010571</td>\n",
       "    </tr>\n",
       "    <tr>\n",
       "      <th>5/19/09</th>\n",
       "      <td>0.033571</td>\n",
       "      <td>0.004672</td>\n",
       "      <td>0.004493</td>\n",
       "      <td>-0.024444</td>\n",
       "      <td>0.010417</td>\n",
       "      <td>-0.028777</td>\n",
       "      <td>0.011407</td>\n",
       "    </tr>\n",
       "    <tr>\n",
       "      <th>5/18/09</th>\n",
       "      <td>0.056435</td>\n",
       "      <td>-0.015742</td>\n",
       "      <td>-0.008307</td>\n",
       "      <td>-0.056948</td>\n",
       "      <td>-0.035052</td>\n",
       "      <td>-0.019048</td>\n",
       "      <td>-0.008463</td>\n",
       "    </tr>\n",
       "    <tr>\n",
       "      <th>5/15/09</th>\n",
       "      <td>-0.062260</td>\n",
       "      <td>-0.037802</td>\n",
       "      <td>-0.021263</td>\n",
       "      <td>-0.031401</td>\n",
       "      <td>-0.094017</td>\n",
       "      <td>-0.057174</td>\n",
       "      <td>-0.050241</td>\n",
       "    </tr>\n",
       "    <tr>\n",
       "      <th>5/14/09</th>\n",
       "      <td>0.005328</td>\n",
       "      <td>0.020023</td>\n",
       "      <td>0.023041</td>\n",
       "      <td>0.057357</td>\n",
       "      <td>0.073113</td>\n",
       "      <td>-0.025172</td>\n",
       "      <td>0.027954</td>\n",
       "    </tr>\n",
       "  </tbody>\n",
       "</table>\n",
       "<p>2516 rows × 7 columns</p>\n",
       "</div>"
      ],
      "text/plain": [
       "               HD       JNJ      INTC       AMD        MU      NVDA       TSM\n",
       "date                                                                         \n",
       "5/13/19 -0.006680 -0.007167 -0.009077 -0.039531 -0.029343 -0.022155 -0.023350\n",
       "5/10/19  0.022276  0.010979  0.032172  0.065549  0.041734  0.065447  0.044889\n",
       "5/9/19   0.000000 -0.017554  0.009091 -0.026824  0.008475  0.008115  0.009806\n",
       "5/8/19   0.003032 -0.000303  0.056199 -0.004410  0.012223  0.021917  0.010405\n",
       "5/7/19  -0.002049  0.004696  0.025183 -0.015873  0.012830 -0.004657  0.001373\n",
       "...           ...       ...       ...       ...       ...       ...       ...\n",
       "5/20/09  0.041066  0.014214  0.026350  0.036866  0.048035  0.006205  0.010571\n",
       "5/19/09  0.033571  0.004672  0.004493 -0.024444  0.010417 -0.028777  0.011407\n",
       "5/18/09  0.056435 -0.015742 -0.008307 -0.056948 -0.035052 -0.019048 -0.008463\n",
       "5/15/09 -0.062260 -0.037802 -0.021263 -0.031401 -0.094017 -0.057174 -0.050241\n",
       "5/14/09  0.005328  0.020023  0.023041  0.057357  0.073113 -0.025172  0.027954\n",
       "\n",
       "[2516 rows x 7 columns]"
      ]
     },
     "execution_count": 4,
     "metadata": {},
     "output_type": "execute_result"
    }
   ],
   "source": [
    "# Use the `pct_change` function to calculate daily returns for each stock\n",
    "daily_returns = combined_df.pct_change().dropna()\n",
    "daily_returns"
   ]
  },
  {
   "cell_type": "markdown",
   "metadata": {},
   "source": [
    "### Calculate Correlation"
   ]
  },
  {
   "cell_type": "code",
   "execution_count": 5,
   "metadata": {},
   "outputs": [
    {
     "data": {
      "text/html": [
       "<div>\n",
       "<style scoped>\n",
       "    .dataframe tbody tr th:only-of-type {\n",
       "        vertical-align: middle;\n",
       "    }\n",
       "\n",
       "    .dataframe tbody tr th {\n",
       "        vertical-align: top;\n",
       "    }\n",
       "\n",
       "    .dataframe thead th {\n",
       "        text-align: right;\n",
       "    }\n",
       "</style>\n",
       "<table border=\"1\" class=\"dataframe\">\n",
       "  <thead>\n",
       "    <tr style=\"text-align: right;\">\n",
       "      <th></th>\n",
       "      <th>HD</th>\n",
       "      <th>JNJ</th>\n",
       "      <th>INTC</th>\n",
       "      <th>AMD</th>\n",
       "      <th>MU</th>\n",
       "      <th>NVDA</th>\n",
       "      <th>TSM</th>\n",
       "    </tr>\n",
       "  </thead>\n",
       "  <tbody>\n",
       "    <tr>\n",
       "      <th>HD</th>\n",
       "      <td>1.000000</td>\n",
       "      <td>0.746358</td>\n",
       "      <td>0.933007</td>\n",
       "      <td>0.587748</td>\n",
       "      <td>0.840312</td>\n",
       "      <td>0.849410</td>\n",
       "      <td>0.974018</td>\n",
       "    </tr>\n",
       "    <tr>\n",
       "      <th>JNJ</th>\n",
       "      <td>0.746358</td>\n",
       "      <td>1.000000</td>\n",
       "      <td>0.758800</td>\n",
       "      <td>0.457306</td>\n",
       "      <td>0.806984</td>\n",
       "      <td>0.626053</td>\n",
       "      <td>0.764274</td>\n",
       "    </tr>\n",
       "    <tr>\n",
       "      <th>INTC</th>\n",
       "      <td>0.933007</td>\n",
       "      <td>0.758800</td>\n",
       "      <td>1.000000</td>\n",
       "      <td>0.666676</td>\n",
       "      <td>0.893173</td>\n",
       "      <td>0.866886</td>\n",
       "      <td>0.935083</td>\n",
       "    </tr>\n",
       "    <tr>\n",
       "      <th>AMD</th>\n",
       "      <td>0.587748</td>\n",
       "      <td>0.457306</td>\n",
       "      <td>0.666676</td>\n",
       "      <td>1.000000</td>\n",
       "      <td>0.588189</td>\n",
       "      <td>0.791445</td>\n",
       "      <td>0.652670</td>\n",
       "    </tr>\n",
       "    <tr>\n",
       "      <th>MU</th>\n",
       "      <td>0.840312</td>\n",
       "      <td>0.806984</td>\n",
       "      <td>0.893173</td>\n",
       "      <td>0.588189</td>\n",
       "      <td>1.000000</td>\n",
       "      <td>0.843455</td>\n",
       "      <td>0.868179</td>\n",
       "    </tr>\n",
       "    <tr>\n",
       "      <th>NVDA</th>\n",
       "      <td>0.849410</td>\n",
       "      <td>0.626053</td>\n",
       "      <td>0.866886</td>\n",
       "      <td>0.791445</td>\n",
       "      <td>0.843455</td>\n",
       "      <td>1.000000</td>\n",
       "      <td>0.904970</td>\n",
       "    </tr>\n",
       "    <tr>\n",
       "      <th>TSM</th>\n",
       "      <td>0.974018</td>\n",
       "      <td>0.764274</td>\n",
       "      <td>0.935083</td>\n",
       "      <td>0.652670</td>\n",
       "      <td>0.868179</td>\n",
       "      <td>0.904970</td>\n",
       "      <td>1.000000</td>\n",
       "    </tr>\n",
       "  </tbody>\n",
       "</table>\n",
       "</div>"
      ],
      "text/plain": [
       "            HD       JNJ      INTC       AMD        MU      NVDA       TSM\n",
       "HD    1.000000  0.746358  0.933007  0.587748  0.840312  0.849410  0.974018\n",
       "JNJ   0.746358  1.000000  0.758800  0.457306  0.806984  0.626053  0.764274\n",
       "INTC  0.933007  0.758800  1.000000  0.666676  0.893173  0.866886  0.935083\n",
       "AMD   0.587748  0.457306  0.666676  1.000000  0.588189  0.791445  0.652670\n",
       "MU    0.840312  0.806984  0.893173  0.588189  1.000000  0.843455  0.868179\n",
       "NVDA  0.849410  0.626053  0.866886  0.791445  0.843455  1.000000  0.904970\n",
       "TSM   0.974018  0.764274  0.935083  0.652670  0.868179  0.904970  1.000000"
      ]
     },
     "execution_count": 5,
     "metadata": {},
     "output_type": "execute_result"
    }
   ],
   "source": [
    "# Use the `corr` function to calculate correlations for each stock pair\n",
    "correlation = combined_df.corr()\n",
    "correlation"
   ]
  },
  {
   "cell_type": "markdown",
   "metadata": {},
   "source": [
    "### Plot Correlation"
   ]
  },
  {
   "cell_type": "code",
   "execution_count": 6,
   "metadata": {},
   "outputs": [
    {
     "data": {
      "text/plain": [
       "<AxesSubplot:>"
      ]
     },
     "execution_count": 6,
     "metadata": {},
     "output_type": "execute_result"
    },
    {
     "data": {
      "image/png": "[encoded data removed]",
      "text/plain": [
       "<Figure size 432x288 with 2 Axes>"
      ]
     },
     "metadata": {
      "needs_background": "light"
     },
     "output_type": "display_data"
    }
   ],
   "source": [
    "# Create a heatmap from the correlation values\n",
    "sns.heatmap(correlation)"
   ]
  },
  {
   "cell_type": "code",
   "execution_count": 7,
   "metadata": {},
   "outputs": [
    {
     "data": {
      "text/plain": [
       "<AxesSubplot:>"
      ]
     },
     "execution_count": 7,
     "metadata": {},
     "output_type": "execute_result"
    },
    {
     "data": {
      "image/png": "[encoded data removed]",
      "text/plain": [
       "<Figure size 432x288 with 2 Axes>"
      ]
     },
     "metadata": {
      "needs_background": "light"
     },
     "output_type": "display_data"
    }
   ],
   "source": [
    "# Create a heatmap from the correlation values and adjust the scale\n",
    "sns.heatmap(correlation, vmin=-1, vmax=1)"
   ]
  },
  {
   "cell_type": "markdown",
   "metadata": {},
   "source": [
    "### Which semiconductor stock would be the best candidate to add to the existing portfolio?"
   ]
  },
  {
   "cell_type": "markdown",
   "metadata": {},
   "source": [
    "AMD, JNJ and MU would be the best candidate to add to the existing portfolio."
   ]
  },
  {
   "cell_type": "code",
   "execution_count": null,
   "metadata": {},
   "outputs": [],
   "source": []
  }
 ],
 "metadata": {
  "kernelspec": {
   "display_name": "Python 3",
   "language": "python",
   "name": "python3"
  },
  "language_info": {
   "codemirror_mode": {
    "name": "ipython",
    "version": 3
   },
   "file_extension": ".py",
   "mimetype": "text/x-python",
   "name": "python",
   "nbconvert_exporter": "python",
   "pygments_lexer": "ipython3",
   "version": "3.7.9"
  }
 },
 "nbformat": 4,
 "nbformat_minor": 4
}
