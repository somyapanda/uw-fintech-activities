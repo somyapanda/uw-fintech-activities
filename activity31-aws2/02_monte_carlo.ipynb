{
 "cells": [
  {
   "cell_type": "code",
   "execution_count": 1,
   "id": "iraqi-density",
   "metadata": {},
   "outputs": [
    {
     "name": "stdout",
     "output_type": "stream",
     "text": [
      "Collecting alpaca_trade_api\n",
      "  Downloading alpaca_trade_api-1.2.1-py3-none-any.whl (39 kB)\n",
      "Requirement already satisfied: pandas in /home/ec2-user/anaconda3/envs/python3/lib/python3.6/site-packages (from alpaca_trade_api) (1.1.5)\n",
      "Collecting websockets<9,>=8.0\n",
      "  Downloading websockets-8.1-cp36-cp36m-manylinux2010_x86_64.whl (78 kB)\n",
      "\u001b[K     |████████████████████████████████| 78 kB 4.7 MB/s eta 0:00:011\n",
      "\u001b[?25hRequirement already satisfied: urllib3<2,>1.24 in /home/ec2-user/anaconda3/envs/python3/lib/python3.6/site-packages (from alpaca_trade_api) (1.26.4)\n",
      "Requirement already satisfied: requests<3,>2 in /home/ec2-user/anaconda3/envs/python3/lib/python3.6/site-packages (from alpaca_trade_api) (2.25.1)\n",
      "Requirement already satisfied: websocket-client<1,>=0.56.0 in /home/ec2-user/anaconda3/envs/python3/lib/python3.6/site-packages (from alpaca_trade_api) (0.59.0)\n",
      "Requirement already satisfied: numpy in /home/ec2-user/anaconda3/envs/python3/lib/python3.6/site-packages (from alpaca_trade_api) (1.19.5)\n",
      "Requirement already satisfied: msgpack==1.0.2 in /home/ec2-user/anaconda3/envs/python3/lib/python3.6/site-packages (from alpaca_trade_api) (1.0.2)\n",
      "Requirement already satisfied: idna<3,>=2.5 in /home/ec2-user/anaconda3/envs/python3/lib/python3.6/site-packages (from requests<3,>2->alpaca_trade_api) (2.10)\n",
      "Requirement already satisfied: certifi>=2017.4.17 in /home/ec2-user/anaconda3/envs/python3/lib/python3.6/site-packages (from requests<3,>2->alpaca_trade_api) (2020.12.5)\n",
      "Requirement already satisfied: chardet<5,>=3.0.2 in /home/ec2-user/anaconda3/envs/python3/lib/python3.6/site-packages (from requests<3,>2->alpaca_trade_api) (3.0.4)\n",
      "Requirement already satisfied: six in /home/ec2-user/anaconda3/envs/python3/lib/python3.6/site-packages (from websocket-client<1,>=0.56.0->alpaca_trade_api) (1.15.0)\n",
      "Requirement already satisfied: python-dateutil>=2.7.3 in /home/ec2-user/anaconda3/envs/python3/lib/python3.6/site-packages (from pandas->alpaca_trade_api) (2.8.1)\n",
      "Requirement already satisfied: pytz>=2017.2 in /home/ec2-user/anaconda3/envs/python3/lib/python3.6/site-packages (from pandas->alpaca_trade_api) (2021.1)\n",
      "Installing collected packages: websockets, alpaca-trade-api\n",
      "Successfully installed alpaca-trade-api-1.2.1 websockets-8.1\n"
     ]
    }
   ],
   "source": [
    "# Initial imports\n",
    "import os\n",
    "import requests\n",
    "import pandas as pd\n",
    "import numpy as np\n",
    "!pip install alpaca_trade_api\n",
    "import alpaca_trade_api as tradeapi\n",
    "from dotenv import load_dotenv\n",
    "\n",
    "%matplotlib inline"
   ]
  },
  {
   "cell_type": "code",
   "execution_count": 5,
   "id": "persistent-landscape",
   "metadata": {},
   "outputs": [
    {
     "data": {
      "text/plain": [
       "True"
      ]
     },
     "execution_count": 5,
     "metadata": {},
     "output_type": "execute_result"
    }
   ],
   "source": [
    "load_dotenv()"
   ]
  },
  {
   "cell_type": "code",
   "execution_count": 6,
   "id": "greek-firmware",
   "metadata": {},
   "outputs": [],
   "source": [
    "# Set Alpaca API key and secret\n",
    "alpaca_api_key = os.getenv(\"ALPACA_API_KEY\")\n",
    "alpaca_secret_key = os.getenv(\"ALPACA_SECRET_KEY\")"
   ]
  },
  {
   "cell_type": "code",
   "execution_count": 8,
   "id": "union-detector",
   "metadata": {},
   "outputs": [],
   "source": [
    "api = tradeapi.REST(alpaca_api_key, alpaca_secret_key, api_version='v2')"
   ]
  },
  {
   "cell_type": "markdown",
   "id": "demanding-bleeding",
   "metadata": {},
   "source": [
    "## Fetch Tickers Data"
   ]
  },
  {
   "cell_type": "code",
   "execution_count": 9,
   "id": "bizarre-river",
   "metadata": {},
   "outputs": [],
   "source": [
    "def get_ticker_prices(ticker):\n",
    "    \n",
    "    # Set timeframe to '1D'\n",
    "    timeframe = '1D'\n",
    "\n",
    "    # Make the API cal and store in DataFrame    \n",
    "    data_df = api.get_barset(\n",
    "        ticker,\n",
    "        timeframe,\n",
    "        limit=None,\n",
    "        after=None,\n",
    "        until=None,\n",
    "    ).df\n",
    "    \n",
    "    # Clean DataFrame to show only close prices \n",
    "    df = pd.DataFrame({'close_'+ticker.lower():data_df[ticker]['close']})\n",
    "    return df"
   ]
  },
  {
   "cell_type": "code",
   "execution_count": 10,
   "id": "golden-shower",
   "metadata": {},
   "outputs": [
    {
     "data": {
      "text/html": [
       "<div>\n",
       "<style scoped>\n",
       "    .dataframe tbody tr th:only-of-type {\n",
       "        vertical-align: middle;\n",
       "    }\n",
       "\n",
       "    .dataframe tbody tr th {\n",
       "        vertical-align: top;\n",
       "    }\n",
       "\n",
       "    .dataframe thead th {\n",
       "        text-align: right;\n",
       "    }\n",
       "</style>\n",
       "<table border=\"1\" class=\"dataframe\">\n",
       "  <thead>\n",
       "    <tr style=\"text-align: right;\">\n",
       "      <th></th>\n",
       "      <th>close_spy</th>\n",
       "      <th>close_agg</th>\n",
       "    </tr>\n",
       "    <tr>\n",
       "      <th>time</th>\n",
       "      <th></th>\n",
       "      <th></th>\n",
       "    </tr>\n",
       "  </thead>\n",
       "  <tbody>\n",
       "    <tr>\n",
       "      <th>2020-12-14 00:00:00-05:00</th>\n",
       "      <td>364.61</td>\n",
       "      <td>117.97</td>\n",
       "    </tr>\n",
       "    <tr>\n",
       "      <th>2020-12-15 00:00:00-05:00</th>\n",
       "      <td>369.57</td>\n",
       "      <td>118.03</td>\n",
       "    </tr>\n",
       "    <tr>\n",
       "      <th>2020-12-16 00:00:00-05:00</th>\n",
       "      <td>370.14</td>\n",
       "      <td>117.97</td>\n",
       "    </tr>\n",
       "    <tr>\n",
       "      <th>2020-12-17 00:00:00-05:00</th>\n",
       "      <td>372.21</td>\n",
       "      <td>117.84</td>\n",
       "    </tr>\n",
       "    <tr>\n",
       "      <th>2020-12-18 00:00:00-05:00</th>\n",
       "      <td>369.13</td>\n",
       "      <td>117.81</td>\n",
       "    </tr>\n",
       "  </tbody>\n",
       "</table>\n",
       "</div>"
      ],
      "text/plain": [
       "                           close_spy  close_agg\n",
       "time                                           \n",
       "2020-12-14 00:00:00-05:00     364.61     117.97\n",
       "2020-12-15 00:00:00-05:00     369.57     118.03\n",
       "2020-12-16 00:00:00-05:00     370.14     117.97\n",
       "2020-12-17 00:00:00-05:00     372.21     117.84\n",
       "2020-12-18 00:00:00-05:00     369.13     117.81"
      ]
     },
     "execution_count": 10,
     "metadata": {},
     "output_type": "execute_result"
    }
   ],
   "source": [
    "# Obtain ticker prices, join data and display preview\n",
    "spy_data = get_ticker_prices(\"SPY\")\n",
    "agg_data = get_ticker_prices(\"AGG\")\n",
    "tickers_data = spy_data.join(agg_data)\n",
    "tickers_data.head()"
   ]
  },
  {
   "cell_type": "markdown",
   "id": "stainless-pennsylvania",
   "metadata": {},
   "source": [
    "### Monte Carlo Simulation Code"
   ]
  },
  {
   "cell_type": "code",
   "execution_count": 11,
   "id": "permanent-oklahoma",
   "metadata": {},
   "outputs": [
    {
     "name": "stdout",
     "output_type": "stream",
     "text": [
      "****************************************************************************************************\n",
      "Daily ROI\n",
      "****************************************************************************************************\n"
     ]
    },
    {
     "data": {
      "text/html": [
       "<div>\n",
       "<style scoped>\n",
       "    .dataframe tbody tr th:only-of-type {\n",
       "        vertical-align: middle;\n",
       "    }\n",
       "\n",
       "    .dataframe tbody tr th {\n",
       "        vertical-align: top;\n",
       "    }\n",
       "\n",
       "    .dataframe thead th {\n",
       "        text-align: right;\n",
       "    }\n",
       "</style>\n",
       "<table border=\"1\" class=\"dataframe\">\n",
       "  <thead>\n",
       "    <tr style=\"text-align: right;\">\n",
       "      <th></th>\n",
       "      <th>close_spy</th>\n",
       "      <th>close_agg</th>\n",
       "    </tr>\n",
       "    <tr>\n",
       "      <th>time</th>\n",
       "      <th></th>\n",
       "      <th></th>\n",
       "    </tr>\n",
       "  </thead>\n",
       "  <tbody>\n",
       "    <tr>\n",
       "      <th>2020-12-14 00:00:00-05:00</th>\n",
       "      <td>NaN</td>\n",
       "      <td>NaN</td>\n",
       "    </tr>\n",
       "    <tr>\n",
       "      <th>2020-12-15 00:00:00-05:00</th>\n",
       "      <td>0.013604</td>\n",
       "      <td>0.000509</td>\n",
       "    </tr>\n",
       "    <tr>\n",
       "      <th>2020-12-16 00:00:00-05:00</th>\n",
       "      <td>0.001542</td>\n",
       "      <td>-0.000508</td>\n",
       "    </tr>\n",
       "    <tr>\n",
       "      <th>2020-12-17 00:00:00-05:00</th>\n",
       "      <td>0.005592</td>\n",
       "      <td>-0.001102</td>\n",
       "    </tr>\n",
       "    <tr>\n",
       "      <th>2020-12-18 00:00:00-05:00</th>\n",
       "      <td>-0.008275</td>\n",
       "      <td>-0.000255</td>\n",
       "    </tr>\n",
       "  </tbody>\n",
       "</table>\n",
       "</div>"
      ],
      "text/plain": [
       "                           close_spy  close_agg\n",
       "time                                           \n",
       "2020-12-14 00:00:00-05:00        NaN        NaN\n",
       "2020-12-15 00:00:00-05:00   0.013604   0.000509\n",
       "2020-12-16 00:00:00-05:00   0.001542  -0.000508\n",
       "2020-12-17 00:00:00-05:00   0.005592  -0.001102\n",
       "2020-12-18 00:00:00-05:00  -0.008275  -0.000255"
      ]
     },
     "metadata": {},
     "output_type": "display_data"
    }
   ],
   "source": [
    "# Calculate the daily roi for the stocks\n",
    "daily_returns = tickers_data.pct_change()\n",
    "print(\"*\" * 100)\n",
    "print(\"Daily ROI\")\n",
    "print(\"*\" * 100)\n",
    "display(daily_returns.head())\n",
    "\n",
    "# volatility\n",
    "daily_volatility = daily_returns.std()\n",
    "spy_volatility = daily_volatility[\"close_spy\"]\n",
    "agg_volatility = daily_volatility[\"close_agg\"]\n",
    "\n",
    "# Save the last day's closing price\n",
    "spy_last_price = tickers_data[\"close_spy\"][-1]\n",
    "agg_last_price = tickers_data[\"close_agg\"][-1]"
   ]
  },
  {
   "cell_type": "code",
   "execution_count": 12,
   "id": "offensive-anime",
   "metadata": {},
   "outputs": [],
   "source": [
    "# Setup the Monte Carlo Parameters\n",
    "number_simulations = 10\n",
    "number_records = 252 * 30  # Years to retirement\n",
    "monte_carlo = pd.DataFrame()"
   ]
  },
  {
   "cell_type": "code",
   "execution_count": 13,
   "id": "backed-apache",
   "metadata": {},
   "outputs": [
    {
     "name": "stdout",
     "output_type": "stream",
     "text": [
      "Running Simulation 0...\n",
      "Running Simulation 1...\n",
      "Running Simulation 2...\n",
      "Running Simulation 3...\n",
      "Running Simulation 4...\n",
      "Running Simulation 5...\n",
      "Running Simulation 6...\n",
      "Running Simulation 7...\n",
      "Running Simulation 8...\n",
      "Running Simulation 9...\n"
     ]
    }
   ],
   "source": [
    "# Run the Monte Carlo Simulation\n",
    "for x in range(number_simulations):\n",
    "\n",
    "    print(f\"Running Simulation {x}...\")\n",
    "\n",
    "    # Create the initial simulated prices array seeded with the last closing price\n",
    "    spy_prices = [spy_last_price]\n",
    "    agg_prices = [agg_last_price]\n",
    "\n",
    "    # Simulate the returns for 20 years\n",
    "    for iteration in range(number_records):\n",
    "        spy_prices.append(\n",
    "            spy_prices[-1]\n",
    "            * (1 + np.random.normal(daily_returns.mean()[\"close_spy\"], spy_volatility))\n",
    "        )\n",
    "        agg_prices.append(\n",
    "            agg_prices[-1]\n",
    "            * (1 + np.random.normal(daily_returns.mean()[\"close_agg\"], agg_volatility))\n",
    "        )\n",
    "\n",
    "    # Create a DataFrame of the simulated prices\n",
    "    portfolio = pd.DataFrame(\n",
    "        {\"SPY Simulated Prices\": spy_prices, \"AGG Simulated Prices\": agg_prices}\n",
    "    )\n",
    "\n",
    "    # Calculate the Portfolio Daily Returns\n",
    "    portfolio_returns = portfolio.pct_change()\n",
    "\n",
    "    # Set the Portfolio Weights (Assume a 60/40 stocks to bonds ratio)\n",
    "    stocks_weight = 0.60\n",
    "    bonds_weight = 0.40\n",
    "\n",
    "    # Calculate the weighted portfolio return:\n",
    "    portfolio_returns = (\n",
    "        stocks_weight * portfolio_returns[\"SPY Simulated Prices\"]\n",
    "        + bonds_weight * portfolio_returns[\"AGG Simulated Prices\"]\n",
    "    )\n",
    "\n",
    "    # Calculate the normalized, cumulative return series\n",
    "    monte_carlo[x] = (1 + portfolio_returns.fillna(0)).cumprod()"
   ]
  },
  {
   "cell_type": "code",
   "execution_count": 14,
   "id": "after-dylan",
   "metadata": {},
   "outputs": [
    {
     "data": {
      "text/html": [
       "<div>\n",
       "<style scoped>\n",
       "    .dataframe tbody tr th:only-of-type {\n",
       "        vertical-align: middle;\n",
       "    }\n",
       "\n",
       "    .dataframe tbody tr th {\n",
       "        vertical-align: top;\n",
       "    }\n",
       "\n",
       "    .dataframe thead th {\n",
       "        text-align: right;\n",
       "    }\n",
       "</style>\n",
       "<table border=\"1\" class=\"dataframe\">\n",
       "  <thead>\n",
       "    <tr style=\"text-align: right;\">\n",
       "      <th></th>\n",
       "      <th>0</th>\n",
       "      <th>1</th>\n",
       "      <th>2</th>\n",
       "      <th>3</th>\n",
       "      <th>4</th>\n",
       "      <th>5</th>\n",
       "      <th>6</th>\n",
       "      <th>7</th>\n",
       "      <th>8</th>\n",
       "      <th>9</th>\n",
       "    </tr>\n",
       "  </thead>\n",
       "  <tbody>\n",
       "    <tr>\n",
       "      <th>0</th>\n",
       "      <td>1.000000</td>\n",
       "      <td>1.000000</td>\n",
       "      <td>1.000000</td>\n",
       "      <td>1.000000</td>\n",
       "      <td>1.000000</td>\n",
       "      <td>1.000000</td>\n",
       "      <td>1.000000</td>\n",
       "      <td>1.000000</td>\n",
       "      <td>1.000000</td>\n",
       "      <td>1.000000</td>\n",
       "    </tr>\n",
       "    <tr>\n",
       "      <th>1</th>\n",
       "      <td>0.994667</td>\n",
       "      <td>1.006978</td>\n",
       "      <td>0.990480</td>\n",
       "      <td>1.002744</td>\n",
       "      <td>1.005619</td>\n",
       "      <td>0.995867</td>\n",
       "      <td>0.991660</td>\n",
       "      <td>1.008406</td>\n",
       "      <td>0.996366</td>\n",
       "      <td>1.010512</td>\n",
       "    </tr>\n",
       "    <tr>\n",
       "      <th>2</th>\n",
       "      <td>0.992197</td>\n",
       "      <td>1.011578</td>\n",
       "      <td>0.999894</td>\n",
       "      <td>1.006301</td>\n",
       "      <td>1.002848</td>\n",
       "      <td>0.991278</td>\n",
       "      <td>0.991392</td>\n",
       "      <td>1.015453</td>\n",
       "      <td>0.999046</td>\n",
       "      <td>1.009895</td>\n",
       "    </tr>\n",
       "    <tr>\n",
       "      <th>3</th>\n",
       "      <td>0.995075</td>\n",
       "      <td>1.015928</td>\n",
       "      <td>1.000296</td>\n",
       "      <td>1.005783</td>\n",
       "      <td>1.008343</td>\n",
       "      <td>0.994998</td>\n",
       "      <td>0.993832</td>\n",
       "      <td>1.016624</td>\n",
       "      <td>1.001385</td>\n",
       "      <td>1.010903</td>\n",
       "    </tr>\n",
       "    <tr>\n",
       "      <th>4</th>\n",
       "      <td>1.001420</td>\n",
       "      <td>1.017973</td>\n",
       "      <td>0.997630</td>\n",
       "      <td>1.001126</td>\n",
       "      <td>1.013619</td>\n",
       "      <td>0.990350</td>\n",
       "      <td>0.998825</td>\n",
       "      <td>1.027104</td>\n",
       "      <td>1.001239</td>\n",
       "      <td>1.017305</td>\n",
       "    </tr>\n",
       "  </tbody>\n",
       "</table>\n",
       "</div>"
      ],
      "text/plain": [
       "          0         1         2         3         4         5         6  \\\n",
       "0  1.000000  1.000000  1.000000  1.000000  1.000000  1.000000  1.000000   \n",
       "1  0.994667  1.006978  0.990480  1.002744  1.005619  0.995867  0.991660   \n",
       "2  0.992197  1.011578  0.999894  1.006301  1.002848  0.991278  0.991392   \n",
       "3  0.995075  1.015928  1.000296  1.005783  1.008343  0.994998  0.993832   \n",
       "4  1.001420  1.017973  0.997630  1.001126  1.013619  0.990350  0.998825   \n",
       "\n",
       "          7         8         9  \n",
       "0  1.000000  1.000000  1.000000  \n",
       "1  1.008406  0.996366  1.010512  \n",
       "2  1.015453  0.999046  1.009895  \n",
       "3  1.016624  1.001385  1.010903  \n",
       "4  1.027104  1.001239  1.017305  "
      ]
     },
     "execution_count": 14,
     "metadata": {},
     "output_type": "execute_result"
    }
   ],
   "source": [
    "# Check that the simulation ran successfully\n",
    "monte_carlo.head()"
   ]
  },
  {
   "cell_type": "code",
   "execution_count": 15,
   "id": "exempt-description",
   "metadata": {},
   "outputs": [
    {
     "data": {
      "text/plain": [
       "<AxesSubplot:title={'center':'Simulated Retirement Portfolio'}>"
      ]
     },
     "execution_count": 15,
     "metadata": {},
     "output_type": "execute_result"
    },
    {
     "data": {
      "image/png": "[encoded data removed]",
      "text/plain": [
       "<Figure size 432x288 with 1 Axes>"
      ]
     },
     "metadata": {
      "needs_background": "light"
     },
     "output_type": "display_data"
    }
   ],
   "source": [
    "# Visualize the Simulation\n",
    "monte_carlo.plot(legend=None, title=\"Simulated Retirement Portfolio\")"
   ]
  },
  {
   "cell_type": "code",
   "execution_count": null,
   "id": "brilliant-tunnel",
   "metadata": {},
   "outputs": [],
   "source": []
  }
 ],
 "metadata": {
  "kernelspec": {
   "display_name": "Python 3",
   "language": "python",
   "name": "python3"
  },
  "language_info": {
   "codemirror_mode": {
    "name": "ipython",
    "version": 3
   },
   "file_extension": ".py",
   "mimetype": "text/x-python",
   "name": "python",
   "nbconvert_exporter": "python",
   "pygments_lexer": "ipython3",
   "version": "3.7.9"
  }
 },
 "nbformat": 4,
 "nbformat_minor": 5
}
