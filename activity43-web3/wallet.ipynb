{
 "cells": [
  {
   "cell_type": "code",
   "execution_count": 1,
   "id": "f13e2da5-5a06-4b96-b0be-d33f38b77fa6",
   "metadata": {},
   "outputs": [],
   "source": [
    "import subprocess\n",
    "import json\n",
    "from dotenv import load_dotenv\n",
    "import os"
   ]
  },
  {
   "cell_type": "code",
   "execution_count": 2,
   "id": "c91c7f6b-fb72-400c-a03c-256a3c638810",
   "metadata": {},
   "outputs": [],
   "source": [
    "# Load and set environment variables\n",
    "load_dotenv()\n",
    "mnemonic=os.getenv(\"mnemonic\")"
   ]
  },
  {
   "cell_type": "code",
   "execution_count": 3,
   "id": "f6cce828-1b0f-4c5d-833f-c02b77a4393a",
   "metadata": {},
   "outputs": [],
   "source": [
    "command = 'php ../../Blockchain-Tools/hd-wallet-derive/hd-wallet-derive.php -g --mnemonic=mnemonic --cols=path,address,privkey,pubkey --format=json'"
   ]
  },
  {
   "cell_type": "code",
   "execution_count": 4,
   "id": "1ae40f15-1379-4499-a637-f21974865b78",
   "metadata": {},
   "outputs": [],
   "source": [
    "p = subprocess.Popen(command, stdout=subprocess.PIPE, shell=True)\n",
    "output, err = p.communicate() \n",
    "p_status = p.wait()"
   ]
  },
  {
   "cell_type": "code",
   "execution_count": 6,
   "id": "9c032b11-3f1e-4f1c-85a1-8c1f37f3f74e",
   "metadata": {},
   "outputs": [
    {
     "name": "stdout",
     "output_type": "stream",
     "text": [
      "16oW9TCUycMQ7KH7pnZxUT8KBsqCHAeGMT\n"
     ]
    }
   ],
   "source": [
    "keys = json.loads(output)\n",
    "print(keys[0]['address'])"
   ]
  },
  {
   "cell_type": "code",
   "execution_count": null,
   "id": "12f2dcad-a193-4e6c-b85e-7bcc51fd93d9",
   "metadata": {},
   "outputs": [],
   "source": []
  }
 ],
 "metadata": {
  "kernelspec": {
   "display_name": "Python 3",
   "language": "python",
   "name": "python3"
  },
  "language_info": {
   "codemirror_mode": {
    "name": "ipython",
    "version": 3
   },
   "file_extension": ".py",
   "mimetype": "text/x-python",
   "name": "python",
   "nbconvert_exporter": "python",
   "pygments_lexer": "ipython3",
   "version": "3.7.10"
  }
 },
 "nbformat": 4,
 "nbformat_minor": 5
}
