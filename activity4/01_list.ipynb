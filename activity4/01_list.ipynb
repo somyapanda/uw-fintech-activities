{
 "cells": [
  {
   "cell_type": "code",
   "execution_count": 3,
   "metadata": {},
   "outputs": [
    {
     "data": {
      "text/plain": [
       "'\\nInstructor Demo: Lists.\\n\\nThis script showcases basic operations of Python Lists.\\n'"
      ]
     },
     "execution_count": 3,
     "metadata": {},
     "output_type": "execute_result"
    }
   ],
   "source": [
    "# coding:\n",
    "\"\"\"\n",
    "Instructor Demo: Lists.\n",
    "\n",
    "This script showcases basic operations of Python Lists.\n",
    "\"\"\""
   ]
  },
  {
   "cell_type": "code",
   "execution_count": 8,
   "metadata": {},
   "outputs": [],
   "source": [
    "#Cheer-leading python exercise\n",
    "#Create a variable named cheer\n",
    "cheer = [\"Python\", \"FinTech\", \"Money\"]"
   ]
  },
  {
   "cell_type": "code",
   "execution_count": 9,
   "metadata": {},
   "outputs": [],
   "source": [
    "#Below strings can be used to add fun\n",
    "cheer_symbol = \"*\\O/*\"\n",
    "cheer_symbol_2 = \"ヘ( ^o^)ノ＼(^_^ )\""
   ]
  },
  {
   "cell_type": "code",
   "execution_count": 20,
   "metadata": {},
   "outputs": [
    {
     "name": "stdout",
     "output_type": "stream",
     "text": [
      "\n",
      "Give me a P!\n",
      "P!\n",
      "\n",
      "What does that spell?!\n",
      "Python!\n",
      "Woohoo! Go Python!\n",
      "*\\O/**\\O/**\\O/*\n",
      "ヘ( ^o^)ノ＼(^_^ )\n",
      "\n",
      "\n",
      "Give me a y!\n",
      "y!\n",
      "\n",
      "What does that spell?!\n",
      "Python!\n",
      "Woohoo! Go Python!\n",
      "*\\O/**\\O/**\\O/*\n",
      "ヘ( ^o^)ノ＼(^_^ )\n",
      "\n",
      "\n",
      "Give me a t!\n",
      "t!\n",
      "\n",
      "What does that spell?!\n",
      "Python!\n",
      "Woohoo! Go Python!\n",
      "*\\O/**\\O/**\\O/*\n",
      "ヘ( ^o^)ノ＼(^_^ )\n",
      "\n",
      "\n",
      "Give me a h!\n",
      "h!\n",
      "\n",
      "What does that spell?!\n",
      "Python!\n",
      "Woohoo! Go Python!\n",
      "*\\O/**\\O/**\\O/*\n",
      "ヘ( ^o^)ノ＼(^_^ )\n",
      "\n",
      "\n",
      "Give me a o!\n",
      "o!\n",
      "\n",
      "What does that spell?!\n",
      "Python!\n",
      "Woohoo! Go Python!\n",
      "*\\O/**\\O/**\\O/*\n",
      "ヘ( ^o^)ノ＼(^_^ )\n",
      "\n",
      "\n",
      "Give me a n!\n",
      "n!\n",
      "\n",
      "What does that spell?!\n",
      "Python!\n",
      "Woohoo! Go Python!\n",
      "*\\O/**\\O/**\\O/*\n",
      "ヘ( ^o^)ノ＼(^_^ )\n",
      "\n",
      "\n",
      "Give me a F!\n",
      "F!\n",
      "\n",
      "What does that spell?!\n",
      "FinTech!\n",
      "Woohoo! Go FinTech!\n",
      "*\\O/**\\O/**\\O/*\n",
      "ヘ( ^o^)ノ＼(^_^ )\n",
      "\n",
      "\n",
      "Give me a i!\n",
      "i!\n",
      "\n",
      "What does that spell?!\n",
      "FinTech!\n",
      "Woohoo! Go FinTech!\n",
      "*\\O/**\\O/**\\O/*\n",
      "ヘ( ^o^)ノ＼(^_^ )\n",
      "\n",
      "\n",
      "Give me a n!\n",
      "n!\n",
      "\n",
      "What does that spell?!\n",
      "FinTech!\n",
      "Woohoo! Go FinTech!\n",
      "*\\O/**\\O/**\\O/*\n",
      "ヘ( ^o^)ノ＼(^_^ )\n",
      "\n",
      "\n",
      "Give me a T!\n",
      "T!\n",
      "\n",
      "What does that spell?!\n",
      "FinTech!\n",
      "Woohoo! Go FinTech!\n",
      "*\\O/**\\O/**\\O/*\n",
      "ヘ( ^o^)ノ＼(^_^ )\n",
      "\n",
      "\n",
      "Give me a e!\n",
      "e!\n",
      "\n",
      "What does that spell?!\n",
      "FinTech!\n",
      "Woohoo! Go FinTech!\n",
      "*\\O/**\\O/**\\O/*\n",
      "ヘ( ^o^)ノ＼(^_^ )\n",
      "\n",
      "\n",
      "Give me a c!\n",
      "c!\n",
      "\n",
      "What does that spell?!\n",
      "FinTech!\n",
      "Woohoo! Go FinTech!\n",
      "*\\O/**\\O/**\\O/*\n",
      "ヘ( ^o^)ノ＼(^_^ )\n",
      "\n",
      "\n",
      "Give me a h!\n",
      "h!\n",
      "\n",
      "What does that spell?!\n",
      "FinTech!\n",
      "Woohoo! Go FinTech!\n",
      "*\\O/**\\O/**\\O/*\n",
      "ヘ( ^o^)ノ＼(^_^ )\n",
      "\n",
      "\n",
      "Give me a M!\n",
      "M!\n",
      "\n",
      "What does that spell?!\n",
      "Money!\n",
      "Woohoo! Go Money!\n",
      "*\\O/**\\O/**\\O/*\n",
      "ヘ( ^o^)ノ＼(^_^ )\n",
      "\n",
      "\n",
      "Give me a o!\n",
      "o!\n",
      "\n",
      "What does that spell?!\n",
      "Money!\n",
      "Woohoo! Go Money!\n",
      "*\\O/**\\O/**\\O/*\n",
      "ヘ( ^o^)ノ＼(^_^ )\n",
      "\n",
      "\n",
      "Give me a n!\n",
      "n!\n",
      "\n",
      "What does that spell?!\n",
      "Money!\n",
      "Woohoo! Go Money!\n",
      "*\\O/**\\O/**\\O/*\n",
      "ヘ( ^o^)ノ＼(^_^ )\n",
      "\n",
      "\n",
      "Give me a e!\n",
      "e!\n",
      "\n",
      "What does that spell?!\n",
      "Money!\n",
      "Woohoo! Go Money!\n",
      "*\\O/**\\O/**\\O/*\n",
      "ヘ( ^o^)ノ＼(^_^ )\n",
      "\n",
      "\n",
      "Give me a y!\n",
      "y!\n",
      "\n",
      "What does that spell?!\n",
      "Money!\n",
      "Woohoo! Go Money!\n",
      "*\\O/**\\O/**\\O/*\n",
      "ヘ( ^o^)ノ＼(^_^ )\n",
      "\n"
     ]
    }
   ],
   "source": [
    "#Loop through string\n",
    "for i in range(len(cheer)):\n",
    "    for x in cheer[i]:\n",
    "        #Print each letter with a cheer\n",
    "        print(\"\\nGive me a \" + x + \"!\")\n",
    "        print(x + \"!\")\n",
    "        #Print excitement to screen\n",
    "        print(\"\\nWhat does that spell?!\")\n",
    "        print(cheer[i] + \"!\\nWoohoo! Go \" + cheer[i] + \"!\")\n",
    "        print(cheer_symbol * 3)\n",
    "        print(cheer_symbol_2)\n",
    "        print()\n",
    "    "
   ]
  },
  {
   "cell_type": "code",
   "execution_count": 23,
   "metadata": {},
   "outputs": [
    {
     "name": "stdout",
     "output_type": "stream",
     "text": [
      "Creating a list of Pokemon...\n",
      "['Pikachu', 'Charizard', 'Bulbasaur', 'Gyarados', 'Dragonite', 'Onyx']\n"
     ]
    }
   ],
   "source": [
    "# Create a list of Pokemon\n",
    "print(\"Creating a list of Pokemon...\")\n",
    "pokemon = [\"Pikachu\", \"Charizard\", \"Bulbasaur\", \"Gyarados\", \"Dragonite\", \"Onyx\"]\n",
    "print(pokemon)"
   ]
  },
  {
   "cell_type": "code",
   "execution_count": 25,
   "metadata": {},
   "outputs": [
    {
     "name": "stdout",
     "output_type": "stream",
     "text": [
      "Printing the third Pokemon...\n",
      "Bulbasaur\n"
     ]
    }
   ],
   "source": [
    "#Print element at index 2\n",
    "print(\"Printing the third Pokemon...\")\n",
    "print(pokemon[2])"
   ]
  },
  {
   "cell_type": "code",
   "execution_count": 26,
   "metadata": {},
   "outputs": [
    {
     "name": "stdout",
     "output_type": "stream",
     "text": [
      "Printing 3rd Pokemon to the 5th Pokemon...\n",
      "['Bulbasaur', 'Gyarados', 'Dragonite']\n"
     ]
    }
   ],
   "source": [
    "#Print elements from index 2 to index 5\n",
    "print(\"Printing 3rd Pokemon to the 5th Pokemon...\")\n",
    "print(pokemon[2:5])"
   ]
  },
  {
   "cell_type": "code",
   "execution_count": 27,
   "metadata": {},
   "outputs": [
    {
     "name": "stdout",
     "output_type": "stream",
     "text": [
      "Printing every Pokemon after the first three...\n",
      "['Gyarados', 'Dragonite', 'Onyx']\n"
     ]
    }
   ],
   "source": [
    "# Print elements from index 3 to the end of the list\n",
    "print(\"Printing every Pokemon after the first three...\")\n",
    "print(pokemon[3:])"
   ]
  },
  {
   "cell_type": "code",
   "execution_count": 28,
   "metadata": {},
   "outputs": [
    {
     "name": "stdout",
     "output_type": "stream",
     "text": [
      "Printing every pokemon upto the 3rd Pokemon...\n",
      "['Pikachu', 'Charizard', 'Bulbasaur']\n"
     ]
    }
   ],
   "source": [
    "# Print elements from beginning of list to index 3\n",
    "print(\"Printing every pokemon upto the 3rd Pokemon...\")\n",
    "print(pokemon[:3])"
   ]
  },
  {
   "cell_type": "code",
   "execution_count": 29,
   "metadata": {},
   "outputs": [
    {
     "name": "stdout",
     "output_type": "stream",
     "text": [
      "Printing every other Pokemon...\n",
      "['Pikachu', 'Bulbasaur', 'Dragonite']\n"
     ]
    }
   ],
   "source": [
    "#Print every other element\n",
    "print(\"Printing every other Pokemon...\")\n",
    "print(pokemon[::2])"
   ]
  },
  {
   "cell_type": "code",
   "execution_count": 30,
   "metadata": {},
   "outputs": [
    {
     "name": "stdout",
     "output_type": "stream",
     "text": [
      "Printing the last Pokemon on the list...\n",
      "Onyx\n"
     ]
    }
   ],
   "source": [
    "#Print the last element of the list\n",
    "print(\"Printing the last Pokemon on the list...\")\n",
    "print(pokemon[-1])"
   ]
  },
  {
   "cell_type": "code",
   "execution_count": 31,
   "metadata": {},
   "outputs": [
    {
     "name": "stdout",
     "output_type": "stream",
     "text": [
      "Determining the index of Pokemon 'Dragonite'\n",
      "4\n"
     ]
    }
   ],
   "source": [
    "#Find the index of the particular element name\n",
    "print(\"Determining the index of Pokemon 'Dragonite'\")\n",
    "print(pokemon.index(\"Dragonite\"))"
   ]
  },
  {
   "cell_type": "code",
   "execution_count": 32,
   "metadata": {},
   "outputs": [
    {
     "name": "stdout",
     "output_type": "stream",
     "text": [
      "Changing Pokemon name from 'Pikachu' to 'Simon'\n",
      "['Simon', 'Charizard', 'Bulbasaur', 'Gyarados', 'Dragonite', 'Onyx']\n"
     ]
    }
   ],
   "source": [
    "#Change a specified element within the list at the given index\n",
    "print(\"Changing Pokemon name from 'Pikachu' to 'Simon'\")\n",
    "pokemon[0] = \"Simon\"\n",
    "print(pokemon)"
   ]
  },
  {
   "cell_type": "code",
   "execution_count": 33,
   "metadata": {},
   "outputs": [
    {
     "name": "stdout",
     "output_type": "stream",
     "text": [
      "Adding a new Pokemon to the end of the list...\n",
      "['Simon', 'Charizard', 'Bulbasaur', 'Gyarados', 'Dragonite', 'Onyx', 'Boro']\n"
     ]
    }
   ],
   "source": [
    "#Add an element to the end of the list\n",
    "print(\"Adding a new Pokemon to the end of the list...\")\n",
    "pokemon.append(\"Boro\")\n",
    "print(pokemon)"
   ]
  },
  {
   "cell_type": "code",
   "execution_count": 34,
   "metadata": {},
   "outputs": [
    {
     "name": "stdout",
     "output_type": "stream",
     "text": [
      "Removing Pokemon from the list...\n",
      "['Simon', 'Charizard', 'Bulbasaur', 'Gyarados', 'Onyx', 'Boro']\n"
     ]
    }
   ],
   "source": [
    "# Remove an element from the list based on the given element name\n",
    "print(\"Removing Pokemon from the list...\")\n",
    "pokemon.remove(\"Dragonite\")\n",
    "print(pokemon)"
   ]
  },
  {
   "cell_type": "code",
   "execution_count": 37,
   "metadata": {},
   "outputs": [
    {
     "name": "stdout",
     "output_type": "stream",
     "text": [
      "Removing Pokemon from the list based on given index...\n",
      "['Charizard', 'Bulbasaur', 'Gyarados', 'Onyx', 'Boro']\n"
     ]
    }
   ],
   "source": [
    "# Remove an element from the list based on the given index\n",
    "print(\"Removing Pokemon from the list based on given index...\")\n",
    "Simon_index = pokemon.index(\"Simon\")\n",
    "pokemon.pop(Simon_index)\n",
    "print(pokemon)"
   ]
  },
  {
   "cell_type": "code",
   "execution_count": 39,
   "metadata": {},
   "outputs": [
    {
     "name": "stdout",
     "output_type": "stream",
     "text": [
      "Calculating the number of Pokemon...\n",
      "5\n"
     ]
    }
   ],
   "source": [
    "# Calculate the number of elements within the list\n",
    "print(\"Calculating the number of Pokemon...\")\n",
    "print(len(pokemon))"
   ]
  },
  {
   "cell_type": "code",
   "execution_count": null,
   "metadata": {},
   "outputs": [],
   "source": []
  }
 ],
 "metadata": {
  "kernelspec": {
   "display_name": "Python 3",
   "language": "python",
   "name": "python3"
  },
  "language_info": {
   "codemirror_mode": {
    "name": "ipython",
    "version": 3
   },
   "file_extension": ".py",
   "mimetype": "text/x-python",
   "name": "python",
   "nbconvert_exporter": "python",
   "pygments_lexer": "ipython3",
   "version": "3.7.9"
  }
 },
 "nbformat": 4,
 "nbformat_minor": 4
}
