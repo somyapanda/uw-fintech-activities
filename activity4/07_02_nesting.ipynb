{
 "cells": [
  {
   "cell_type": "code",
   "execution_count": 1,
   "metadata": {},
   "outputs": [
    {
     "data": {
      "text/plain": [
       "'\\nInstructor Demo: Nesting.\\n\\nThis script showcases how to traverse dictionary of lists.\\n'"
      ]
     },
     "execution_count": 1,
     "metadata": {},
     "output_type": "execute_result"
    }
   ],
   "source": [
    "# -*- coding: -*-\n",
    "\"\"\"\n",
    "Instructor Demo: Nesting.\n",
    "\n",
    "This script showcases how to traverse dictionary of lists.\n",
    "\"\"\""
   ]
  },
  {
   "cell_type": "code",
   "execution_count": 2,
   "metadata": {},
   "outputs": [],
   "source": [
    "#Dict\n",
    "stock_dict = {\n",
    "    \"APPL\" : 101.32,\n",
    "    \"MU\" : 54.33,\n",
    "    \"AMD\" : 34.12,\n",
    "    \"TWTR\" : 25\n",
    "}"
   ]
  },
  {
   "cell_type": "code",
   "execution_count": 3,
   "metadata": {},
   "outputs": [],
   "source": [
    "#Dictionary of Lists\n",
    "stock_nested_list = {\n",
    "    \"APPL\" : [\"Apple\", 101.32, \"NASDAQ\", 937.7],\n",
    "    \"MU\" : [\"Micron Technology\", 54.33, \"NASDAQ\", 48.03],\n",
    "    \"AMD\" : [\"Advanced Micro Devices\", 34.12, \"NASDAQ\", 29.94],\n",
    "    \"TWTR\" : [\"Twitter\", 25, \"NASDAQ\", 26.42]\n",
    "}"
   ]
  },
  {
   "cell_type": "code",
   "execution_count": 4,
   "metadata": {},
   "outputs": [],
   "source": [
    "#Retrieve entry for APPL\n",
    "appl_entry = stock_nested_list[\"APPL\"]"
   ]
  },
  {
   "cell_type": "code",
   "execution_count": 5,
   "metadata": {},
   "outputs": [],
   "source": [
    "# Retrieve name, stock_price, and exchange for APPL entry\n",
    "appl_name = stock_nested_list[\"APPL\"][0]\n",
    "appl_stock_price = stock_nested_list[\"APPL\"][1]\n",
    "appl_exchange = stock_nested_list[\"APPL\"][2]"
   ]
  },
  {
   "cell_type": "code",
   "execution_count": 6,
   "metadata": {},
   "outputs": [
    {
     "name": "stdout",
     "output_type": "stream",
     "text": [
      "APPL ticker stands for Apple. APPL stock price is currently 101.32, and it is available on NASDAQ.\n"
     ]
    }
   ],
   "source": [
    "# Print results to screen\n",
    "print(f\"APPL ticker stands for {appl_name}. APPL stock price is currently {appl_stock_price}, and it is available on {appl_exchange}.\")"
   ]
  },
  {
   "cell_type": "code",
   "execution_count": null,
   "metadata": {},
   "outputs": [],
   "source": []
  }
 ],
 "metadata": {
  "kernelspec": {
   "display_name": "Python 3",
   "language": "python",
   "name": "python3"
  },
  "language_info": {
   "codemirror_mode": {
    "name": "ipython",
    "version": 3
   },
   "file_extension": ".py",
   "mimetype": "text/x-python",
   "name": "python",
   "nbconvert_exporter": "python",
   "pygments_lexer": "ipython3",
   "version": "3.7.9"
  }
 },
 "nbformat": 4,
 "nbformat_minor": 4
}
