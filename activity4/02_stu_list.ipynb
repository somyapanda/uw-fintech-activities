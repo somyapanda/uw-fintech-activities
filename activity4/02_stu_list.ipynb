{
 "cells": [
  {
   "cell_type": "code",
   "execution_count": 1,
   "metadata": {},
   "outputs": [
    {
     "data": {
      "text/plain": [
       "'\\nStudent Do: Grocery List.\\n\\nThis script showcases basic operations of Python Lists to help Sally\\norganize her grocery shopping list.\\n'"
      ]
     },
     "execution_count": 1,
     "metadata": {},
     "output_type": "execute_result"
    }
   ],
   "source": [
    "# -*- coding: -*-\n",
    "\"\"\"\n",
    "Student Do: Grocery List.\n",
    "\n",
    "This script showcases basic operations of Python Lists to help Sally\n",
    "organize her grocery shopping list.\n",
    "\"\"\""
   ]
  },
  {
   "cell_type": "code",
   "execution_count": 2,
   "metadata": {},
   "outputs": [
    {
     "name": "stdout",
     "output_type": "stream",
     "text": [
      "['onion', 'potato', 'apple', 'garlic', 'ginger', 'blueberries', 'kale']\n"
     ]
    }
   ],
   "source": [
    "#  Create a list of groceries\n",
    "groceries = [\"onion\", \"potato\", \"apple\", \"garlic\", \"ginger\", \"blueberries\", \"kale\"]\n",
    "print(groceries)"
   ]
  },
  {
   "cell_type": "code",
   "execution_count": 3,
   "metadata": {},
   "outputs": [
    {
     "name": "stdout",
     "output_type": "stream",
     "text": [
      "['onion', 'potato']\n"
     ]
    }
   ],
   "source": [
    "# Find the first two items on the list\n",
    "print(groceries[:2])"
   ]
  },
  {
   "cell_type": "code",
   "execution_count": 4,
   "metadata": {},
   "outputs": [
    {
     "name": "stdout",
     "output_type": "stream",
     "text": [
      "['apple', 'garlic', 'ginger', 'blueberries', 'kale']\n"
     ]
    }
   ],
   "source": [
    "# Find the last five items on the list\n",
    "print(groceries[2:])"
   ]
  },
  {
   "cell_type": "code",
   "execution_count": 5,
   "metadata": {},
   "outputs": [
    {
     "name": "stdout",
     "output_type": "stream",
     "text": [
      "What is every other item on the list, starting from the second item?\n",
      "['potato', 'garlic', 'blueberries']\n",
      "\n"
     ]
    }
   ],
   "source": [
    "# Find every other item on the list, starting from the second item\n",
    "print(\"What is every other item on the list, starting from the second item?\")\n",
    "print(groceries[1::2])\n",
    "print()"
   ]
  },
  {
   "cell_type": "code",
   "execution_count": 6,
   "metadata": {},
   "outputs": [
    {
     "name": "stdout",
     "output_type": "stream",
     "text": [
      "['onion', 'potato', 'apple', 'garlic', 'ginger', 'blueberries', 'kale', 'sugar']\n"
     ]
    }
   ],
   "source": [
    "# Add an element to the end of the list\n",
    "groceries.append(\"sugar\")\n",
    "print(groceries)"
   ]
  },
  {
   "cell_type": "code",
   "execution_count": 7,
   "metadata": {},
   "outputs": [
    {
     "name": "stdout",
     "output_type": "stream",
     "text": [
      "['onion', 'tamato', 'apple', 'garlic', 'ginger', 'blueberries', 'kale', 'sugar']\n"
     ]
    }
   ],
   "source": [
    "# Changes a specified element within the list at the given index\n",
    "groceries[1] = \"tamato\"\n",
    "print(groceries)"
   ]
  },
  {
   "cell_type": "code",
   "execution_count": 8,
   "metadata": {},
   "outputs": [
    {
     "name": "stdout",
     "output_type": "stream",
     "text": [
      "8\n"
     ]
    }
   ],
   "source": [
    "# Calculate how many items you have in the list\n",
    "print(len(groceries))"
   ]
  },
  {
   "cell_type": "code",
   "execution_count": 9,
   "metadata": {},
   "outputs": [],
   "source": [
    "# ----------------------Go to the grocery store---------------------------\")"
   ]
  },
  {
   "cell_type": "code",
   "execution_count": 10,
   "metadata": {},
   "outputs": [
    {
     "name": "stdout",
     "output_type": "stream",
     "text": [
      "7\n",
      "['onion', 'tamato', 'apple', 'garlic', 'ginger', 'blueberries', 'kale', 'sugar']\n"
     ]
    }
   ],
   "source": [
    "# Find the index of the particular element name\n",
    "print(groceries.index(\"sugar\"))\n",
    "print(groceries)"
   ]
  },
  {
   "cell_type": "code",
   "execution_count": 11,
   "metadata": {},
   "outputs": [
    {
     "name": "stdout",
     "output_type": "stream",
     "text": [
      "None\n",
      "['onion', 'tamato', 'apple', 'garlic', 'ginger', 'blueberries', 'kale']\n"
     ]
    }
   ],
   "source": [
    "# Remove an element from the list based on the given element name\n",
    "print(groceries.remove(\"sugar\"))\n",
    "print(groceries)"
   ]
  },
  {
   "cell_type": "code",
   "execution_count": 12,
   "metadata": {},
   "outputs": [
    {
     "name": "stdout",
     "output_type": "stream",
     "text": [
      "['onion', 'tamato', 'apple', 'ginger', 'blueberries', 'kale']\n"
     ]
    }
   ],
   "source": [
    "# Remove an element from the list based on the given index\n",
    "garlic_index = groceries.index(\"garlic\")\n",
    "groceries.pop(garlic_index)\n",
    "print(groceries)"
   ]
  },
  {
   "cell_type": "code",
   "execution_count": 13,
   "metadata": {},
   "outputs": [
    {
     "name": "stdout",
     "output_type": "stream",
     "text": [
      "kale\n",
      "['onion', 'tamato', 'apple', 'ginger', 'blueberries']\n"
     ]
    }
   ],
   "source": [
    "# Remove the last element from the list\n",
    "print(groceries.pop())\n",
    "print(groceries)"
   ]
  },
  {
   "cell_type": "code",
   "execution_count": 14,
   "metadata": {},
   "outputs": [
    {
     "name": "stdout",
     "output_type": "stream",
     "text": [
      "You continue on your journey purchasing groceries...\n"
     ]
    }
   ],
   "source": [
    "print(\"You continue on your journey purchasing groceries...\")"
   ]
  },
  {
   "cell_type": "code",
   "execution_count": null,
   "metadata": {},
   "outputs": [],
   "source": []
  }
 ],
 "metadata": {
  "kernelspec": {
   "display_name": "Python 3",
   "language": "python",
   "name": "python3"
  },
  "language_info": {
   "codemirror_mode": {
    "name": "ipython",
    "version": 3
   },
   "file_extension": ".py",
   "mimetype": "text/x-python",
   "name": "python",
   "nbconvert_exporter": "python",
   "pygments_lexer": "ipython3",
   "version": "3.7.9"
  }
 },
 "nbformat": 4,
 "nbformat_minor": 4
}
