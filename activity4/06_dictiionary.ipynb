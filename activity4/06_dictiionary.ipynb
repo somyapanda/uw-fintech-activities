{
 "cells": [
  {
   "cell_type": "code",
   "execution_count": 1,
   "metadata": {},
   "outputs": [
    {
     "data": {
      "text/plain": [
       "'\\nStudent Activity: Market Capitalization.\\n\\nThis script showcases the use of Python Dicts to determine the\\nbank names associated with the corresponding market cap ranges.\\n'"
      ]
     },
     "execution_count": 1,
     "metadata": {},
     "output_type": "execute_result"
    }
   ],
   "source": [
    "# -*- coding: -*-\n",
    "\"\"\"\n",
    "Student Activity: Market Capitalization.\n",
    "\n",
    "This script showcases the use of Python Dicts to determine the\n",
    "bank names associated with the corresponding market cap ranges.\n",
    "\"\"\""
   ]
  },
  {
   "cell_type": "code",
   "execution_count": 2,
   "metadata": {},
   "outputs": [],
   "source": [
    "# Banks and Market Caps\n",
    "#-----------------------\n",
    "# JP Morgan Chase: 327\n",
    "# Bank of America: 302\n",
    "# Citigroup: 173\n",
    "# Wells Fargo: 273\n",
    "# Goldman Sachs: 87\n",
    "# Morgan Stanley: 72\n",
    "# U.S. Bancorp: 83\n",
    "# TD Bank: 108\n",
    "# PNC Financial Services: 67\n",
    "# Capital One: 47\n",
    "# FNB Corporation: 4\n",
    "# First Hawaiian Bank: 3\n",
    "# Ally Financial: 12\n",
    "# Wachovia: 145\n",
    "# Republic Bancorp: .97"
   ]
  },
  {
   "cell_type": "code",
   "execution_count": 3,
   "metadata": {},
   "outputs": [],
   "source": [
    "#Initialize a dictionary of banks and market caps (in billions)\n",
    "banks = {\n",
    "    \"JP Morgan Chase\" : \"327\",\n",
    "    \"Bank of America\" : \"302\",\n",
    "    \"Citigroup\" : \"173\",\n",
    "    \"Wells Fargo\" : \"273\",\n",
    "    \"Goldman Sachs\" : \"87\",\n",
    "    \"Morgan Stanley\" : \"72\",\n",
    "    \"U.S. Bancorp\" : \"83\",\n",
    "    \"TD Bank\" : \"108\",\n",
    "    \"PNC Financial Services\" : \"67\",\n",
    "    \"Capital One\" : \"47\",\n",
    "    \"FNB Corporation\" : \"4\",\n",
    "    \"First Hawaiian Bank\" : \"3\",\n",
    "    \"Ally Financial\" : \"12\",\n",
    "    \"Wachovia\" : \"145\", \n",
    "    \"Republic Bancorp\" : \".97\"\n",
    "}"
   ]
  },
  {
   "cell_type": "code",
   "execution_count": 4,
   "metadata": {},
   "outputs": [
    {
     "name": "stdout",
     "output_type": "stream",
     "text": [
      "{'JP Morgan Chase': '327', 'Bank of America': '302', 'Citigroup': 345, 'Wells Fargo': '273', 'Goldman Sachs': '87', 'Morgan Stanley': '72', 'U.S. Bancorp': '83', 'TD Bank': '108', 'PNC Financial Services': '67', 'Capital One': '47', 'FNB Corporation': '4', 'First Hawaiian Bank': '3', 'Ally Financial': '12', 'Wachovia': '145', 'Republic Bancorp': '.97'}\n"
     ]
    }
   ],
   "source": [
    "#Change the market cap for 'Citigroup'\n",
    "banks[\"Citigroup\"] = 345\n",
    "print(banks)"
   ]
  },
  {
   "cell_type": "code",
   "execution_count": 5,
   "metadata": {},
   "outputs": [
    {
     "name": "stdout",
     "output_type": "stream",
     "text": [
      "{'JP Morgan Chase': '327', 'Bank of America': '302', 'Citigroup': 345, 'Wells Fargo': '273', 'Goldman Sachs': '87', 'Morgan Stanley': '72', 'U.S. Bancorp': '83', 'TD Bank': '108', 'PNC Financial Services': '67', 'Capital One': '47', 'FNB Corporation': '4', 'First Hawaiian Bank': '3', 'Ally Financial': '12', 'Wachovia': '145', 'Republic Bancorp': '.97', 'Union Bank': 43}\n"
     ]
    }
   ],
   "source": [
    "#Add a new bank and market cap pair\n",
    "banks[\"Union Bank\"] = 43\n",
    "print(banks)"
   ]
  },
  {
   "cell_type": "code",
   "execution_count": 6,
   "metadata": {},
   "outputs": [
    {
     "name": "stdout",
     "output_type": "stream",
     "text": [
      "{'JP Morgan Chase': '327', 'Bank of America': '302', 'Wells Fargo': '273', 'Goldman Sachs': '87', 'Morgan Stanley': '72', 'U.S. Bancorp': '83', 'TD Bank': '108', 'PNC Financial Services': '67', 'Capital One': '47', 'FNB Corporation': '4', 'First Hawaiian Bank': '3', 'Ally Financial': '12', 'Wachovia': '145', 'Republic Bancorp': '.97', 'Union Bank': 43}\n"
     ]
    }
   ],
   "source": [
    "#Remove a bank from the dictionary\n",
    "del banks[\"Citigroup\"]\n",
    "print(banks)"
   ]
  },
  {
   "cell_type": "code",
   "execution_count": 7,
   "metadata": {},
   "outputs": [],
   "source": [
    "#Initialize metric variables\n",
    "total_market_cap = 0\n",
    "bank_count = 0\n",
    "average_market_cap = 0"
   ]
  },
  {
   "cell_type": "code",
   "execution_count": 8,
   "metadata": {},
   "outputs": [],
   "source": [
    "#Initialize minimum key-value pair\n",
    "minimum_key = \"\"\n",
    "minimum_value = 0"
   ]
  },
  {
   "cell_type": "code",
   "execution_count": 9,
   "metadata": {},
   "outputs": [],
   "source": [
    "#Initialize maximum key-value pair\n",
    "maximum_key = \"\"\n",
    "maximum_value = 0"
   ]
  },
  {
   "cell_type": "code",
   "execution_count": 10,
   "metadata": {},
   "outputs": [],
   "source": [
    "# Mega Cap: Firms with a market capitalization over $300 billion.\n",
    "# Large Cap: Firms with a market capitalization over 10 billion. ...\n",
    "# Mid Cap: A market capitalization between $2 and $10 billion.\n",
    "# Small Cap: A market capitalization between $300 million and $2 billion."
   ]
  },
  {
   "cell_type": "code",
   "execution_count": 11,
   "metadata": {},
   "outputs": [],
   "source": [
    "#Initialize market cap lists\n",
    "mega_cap = []\n",
    "large_cap = []\n",
    "mid_cap = []\n",
    "small_cap = []"
   ]
  },
  {
   "cell_type": "code",
   "execution_count": 12,
   "metadata": {},
   "outputs": [
    {
     "name": "stdout",
     "output_type": "stream",
     "text": [
      "Name: JP Morgan Chase | Market Cap: 327\n",
      "Name: Bank of America | Market Cap: 302\n",
      "Name: Wells Fargo | Market Cap: 273\n",
      "Name: Goldman Sachs | Market Cap: 87\n",
      "Name: Morgan Stanley | Market Cap: 72\n",
      "Name: U.S. Bancorp | Market Cap: 83\n",
      "Name: TD Bank | Market Cap: 108\n",
      "Name: PNC Financial Services | Market Cap: 67\n",
      "Name: Capital One | Market Cap: 47\n",
      "Name: FNB Corporation | Market Cap: 4\n",
      "Name: First Hawaiian Bank | Market Cap: 3\n",
      "Name: Ally Financial | Market Cap: 12\n",
      "Name: Wachovia | Market Cap: 145\n",
      "Name: Republic Bancorp | Market Cap: .97\n",
      "Name: Union Bank | Market Cap: 43\n",
      "\n"
     ]
    }
   ],
   "source": [
    "#Iterate over key-value pairs of the dictionary\n",
    "for bank_name, market_cap in banks.items():\n",
    "    print(f\"Name: {bank_name} | Market Cap: {market_cap}\")\n",
    "    \n",
    "    #Calculate sum of market caps and number of banks in the dictionary\n",
    "    total_market_cap += float(market_cap) \n",
    "    bank_count += 1\n",
    "    \n",
    "    #Logic to determine min value and associated key\n",
    "    if minimum_value == 0:\n",
    "        minimum_value = market_cap\n",
    "        minimum_key = bank_name\n",
    "    elif float(market_cap) < float(minimum_value):\n",
    "        minimum_value = market_cap\n",
    "        minimum_key = bank_name\n",
    "    #Logic to determine max value and associated key\n",
    "    if float(market_cap) > float(maximum_value):\n",
    "        maximum_value = market_cap\n",
    "        maximum_key = bank_name\n",
    "    #Group banks by categories of market caps\n",
    "    if float(market_cap) >= 300:\n",
    "        mega_cap.append(bank_name)\n",
    "    elif float(market_cap) >= 10 and float(market_cap) < 300:\n",
    "        large_cap.append(bank_name)\n",
    "    elif float(market_cap) >= 2 and float(market_cap) < 10:\n",
    "        mid_cap.append(bank_name)\n",
    "    elif float(market_cap) < 2:\n",
    "        small_cap.append(bank_name)\n",
    "print()"
   ]
  },
  {
   "cell_type": "code",
   "execution_count": 87,
   "metadata": {},
   "outputs": [],
   "source": [
    "#Calculate average market cap of banks in the dictionary\n",
    "average_market_cap = round(total_market_cap / bank_count, 2)"
   ]
  },
  {
   "cell_type": "code",
   "execution_count": 89,
   "metadata": {},
   "outputs": [
    {
     "name": "stdout",
     "output_type": "stream",
     "text": [
      "Total Market Capitalization: 1573.97\n",
      "Total Number of Banks: 15\n",
      "Average Market Capitalization: 104.93\n",
      "Largest Bank: JP Morgan Chase\n",
      "Smallest Bank: Republic Bancorp\n",
      "------------------------------------------------\n",
      "Mega Cap Banks: ['JP Morgan Chase', 'Bank of America']\n",
      "Large Cap Banks: ['Wells Fargo', 'Goldman Sachs', 'Morgan Stanley', 'U.S. Bancorp', 'TD Bank', 'PNC Financial Services', 'Capital One', 'Ally Financial', 'Wachovia', 'Union Bank']\n",
      "Mid Cap Banks: ['FNB Corporation', 'First Hawaiian Bank']\n",
      "Small Cap Banks: ['Republic Bancorp']\n",
      "\n"
     ]
    }
   ],
   "source": [
    "#Print the metrics\n",
    "print(f\"Total Market Capitalization: {total_market_cap}\")\n",
    "print(f\"Total Number of Banks: {bank_count}\")\n",
    "print(f\"Average Market Capitalization: {average_market_cap}\")\n",
    "print(f\"Largest Bank: {maximum_key}\")\n",
    "print(f\"Smallest Bank: {minimum_key}\")\n",
    "print(\"------------------------------------------------\")\n",
    "print(f\"Mega Cap Banks: {mega_cap}\")\n",
    "print(f\"Large Cap Banks: {large_cap}\")\n",
    "print(f\"Mid Cap Banks: {mid_cap}\")\n",
    "print(f\"Small Cap Banks: {small_cap}\")\n",
    "print()\n"
   ]
  },
  {
   "cell_type": "code",
   "execution_count": null,
   "metadata": {},
   "outputs": [],
   "source": []
  },
  {
   "cell_type": "code",
   "execution_count": null,
   "metadata": {},
   "outputs": [],
   "source": []
  }
 ],
 "metadata": {
  "kernelspec": {
   "display_name": "Python 3",
   "language": "python",
   "name": "python3"
  },
  "language_info": {
   "codemirror_mode": {
    "name": "ipython",
    "version": 3
   },
   "file_extension": ".py",
   "mimetype": "text/x-python",
   "name": "python",
   "nbconvert_exporter": "python",
   "pygments_lexer": "ipython3",
   "version": "3.7.9"
  }
 },
 "nbformat": 4,
 "nbformat_minor": 4
}
