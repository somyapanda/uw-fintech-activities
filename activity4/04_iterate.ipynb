{
 "cells": [
  {
   "cell_type": "code",
   "execution_count": 1,
   "metadata": {},
   "outputs": [
    {
     "data": {
      "text/plain": [
       "'\\nStudent Do: Trading Log.\\n\\nThis script demonstrates how to perform basic analysis of trading profits/losses\\nover the course of a month (20 business days).\\n'"
      ]
     },
     "execution_count": 1,
     "metadata": {},
     "output_type": "execute_result"
    }
   ],
   "source": [
    "# -*- coding:  -*-\n",
    "\"\"\"\n",
    "Student Do: Trading Log.\n",
    "\n",
    "This script demonstrates how to perform basic analysis of trading profits/losses\n",
    "over the course of a month (20 business days).\n",
    "\"\"\""
   ]
  },
  {
   "cell_type": "code",
   "execution_count": 2,
   "metadata": {},
   "outputs": [],
   "source": [
    "#Initialize the metric variables\n",
    "count = 0\n",
    "total = 0\n",
    "minimum = 0\n",
    "maximum = 0\n",
    "average = 0"
   ]
  },
  {
   "cell_type": "code",
   "execution_count": 3,
   "metadata": {},
   "outputs": [],
   "source": [
    "#Initialize list to hold profitable and unprofitable day profits/losses\n",
    "profitable_days = []\n",
    "unprofitable_days = []"
   ]
  },
  {
   "cell_type": "code",
   "execution_count": 4,
   "metadata": {},
   "outputs": [],
   "source": [
    "#List of trading profits/losses\n",
    "trading_pnl = [ -224,  352, 252, 354, -544,\n",
    "                -650,   56, 123, -43,  254,\n",
    "                 325, -123,  47, 321,  123,\n",
    "                 133, -151, 613, 232, -311 ]"
   ]
  },
  {
   "cell_type": "code",
   "execution_count": 5,
   "metadata": {},
   "outputs": [],
   "source": [
    "#Iterate over each element of the list\n",
    "for day_pnl in trading_pnl:\n",
    "    #Cumulatively sum up the total and count\n",
    "    total += day_pnl\n",
    "    count += 1\n",
    "    #Write logic to determine minimum and maximum values\n",
    "    if minimum == 0:\n",
    "        minimum = day_pnl\n",
    "    elif day_pnl < minimum:\n",
    "        minimum = day_pnl\n",
    "    elif day_pnl > maximum:\n",
    "        maximum = day_pnl\n",
    "    #Write logic to determine profitable vs. unprofitable days\n",
    "    if day_pnl > 0:\n",
    "        profitable_days.append(day_pnl)\n",
    "    elif day_pnl <= 0:\n",
    "        unprofitable_days.append(day_pnl)"
   ]
  },
  {
   "cell_type": "code",
   "execution_count": 6,
   "metadata": {},
   "outputs": [],
   "source": [
    "#Calculate the average\n",
    "average = round(total / count, 2)"
   ]
  },
  {
   "cell_type": "code",
   "execution_count": 7,
   "metadata": {},
   "outputs": [],
   "source": [
    "#Calculate count metrics\n",
    "profitable_count = len(profitable_days)\n",
    "unprofitable_count = len(unprofitable_days)"
   ]
  },
  {
   "cell_type": "code",
   "execution_count": 8,
   "metadata": {},
   "outputs": [],
   "source": [
    "#Calculate percentage metrics\n",
    "percentage_profitable = (profitable_count / count) * 100\n",
    "percentage_unprofitable = (unprofitable_count / count) * 100"
   ]
  },
  {
   "cell_type": "code",
   "execution_count": 9,
   "metadata": {},
   "outputs": [
    {
     "name": "stdout",
     "output_type": "stream",
     "text": [
      "---------Summary Statistics----------\n",
      "Number of total days: 20\n",
      "Number of Profitable days: [352, 252, 354, 56, 123, 254, 325, 47, 321, 123, 133, 613, 232]\n",
      "Number of Unprofitable days: [-224, -544, -650, -43, -123, -151, -311]\n",
      "Percentage of Profitable days: 65.0%\n",
      "Percentage of Unprofitable days: 35.0%\n",
      "-----------------------------------------\n",
      "Profitable Days: [352, 252, 354, 56, 123, 254, 325, 47, 321, 123, 133, 613, 232]\n",
      "Unprofitable Days: [-224, -544, -650, -43, -123, -151, -311]\n",
      "-------------------------------------\n",
      "Total Profits/Losses: 1139\n",
      "Daily Average: 56.95\n",
      "Worst Loss: -650\n",
      "Best Gain: 613\n"
     ]
    }
   ],
   "source": [
    "#Print out the summary statistics\n",
    "print(\"---------Summary Statistics----------\")\n",
    "print(f\"Number of total days: {count}\")\n",
    "print(f\"Number of Profitable days: {profitable_days}\")\n",
    "print(f\"Number of Unprofitable days: {unprofitable_days}\")\n",
    "print(f\"Percentage of Profitable days: {percentage_profitable}%\")\n",
    "print(f\"Percentage of Unprofitable days: {percentage_unprofitable}%\")\n",
    "print(\"-----------------------------------------\")\n",
    "print(f\"Profitable Days: {profitable_days}\")\n",
    "print(f\"Unprofitable Days: {unprofitable_days}\")\n",
    "print(\"-------------------------------------\")\n",
    "print(f\"Total Profits/Losses: {total}\")\n",
    "print(f\"Daily Average: {average}\")\n",
    "print(f\"Worst Loss: {minimum}\")\n",
    "print(f\"Best Gain: {maximum}\")"
   ]
  }
 ],
 "metadata": {
  "kernelspec": {
   "display_name": "Python 3",
   "language": "python",
   "name": "python3"
  },
  "language_info": {
   "codemirror_mode": {
    "name": "ipython",
    "version": 3
   },
   "file_extension": ".py",
   "mimetype": "text/x-python",
   "name": "python",
   "nbconvert_exporter": "python",
   "pygments_lexer": "ipython3",
   "version": "3.7.9"
  }
 },
 "nbformat": 4,
 "nbformat_minor": 4
}
