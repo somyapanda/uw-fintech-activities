{
 "cells": [
  {
   "cell_type": "code",
   "execution_count": 1,
   "metadata": {},
   "outputs": [
    {
     "data": {
      "text/plain": [
       "'\\nDetermine the Compound Annual Growth Rate for an investment\\n'"
      ]
     },
     "execution_count": 1,
     "metadata": {},
     "output_type": "execute_result"
    }
   ],
   "source": [
    "\"\"\"\n",
    "Determine the Compound Annual Growth Rate for an investment\n",
    "\"\"\""
   ]
  },
  {
   "cell_type": "code",
   "execution_count": 2,
   "metadata": {},
   "outputs": [],
   "source": [
    "# Declare a variable beginning_balance as a float\n",
    "beginning_balance = 29000.00"
   ]
  },
  {
   "cell_type": "code",
   "execution_count": 3,
   "metadata": {},
   "outputs": [],
   "source": [
    "# Declare a variable ending_balance as float\n",
    "ending_balance = 45000.10"
   ]
  },
  {
   "cell_type": "code",
   "execution_count": 4,
   "metadata": {},
   "outputs": [],
   "source": [
    "# Declare a variable years as an int\n",
    "years = 1.0"
   ]
  },
  {
   "cell_type": "code",
   "execution_count": 5,
   "metadata": {},
   "outputs": [],
   "source": [
    "# Define a function called calculate_compound_growth_rate with three arguments: beginning_balance, ending_balance, years. Function should output growth_rate.\n",
    "def calculate_compound_growth(beginning_balance, ending_balance, years):\n",
    "    growth_rate = (ending_balance / beginning_balance) ** (1/years) - 1\n",
    "    \n",
    "    return growth_rate"
   ]
  },
  {
   "cell_type": "code",
   "execution_count": 6,
   "metadata": {},
   "outputs": [],
   "source": [
    "# Call calculate_compound_growth_rate using beginning_balance, ending_balance, and years. \n",
    "year_one_growth = calculate_compound_growth(beginning_balance, ending_balance, years)"
   ]
  },
  {
   "cell_type": "code",
   "execution_count": 7,
   "metadata": {},
   "outputs": [],
   "source": [
    "# Update beginning_balance and ending balance for year two, and then execute calculate_compound_growth_rate\n",
    "beginning_balance = 45000.12\n",
    "ending_balance = 47000.00"
   ]
  },
  {
   "cell_type": "code",
   "execution_count": 8,
   "metadata": {},
   "outputs": [],
   "source": [
    "# Call calculate_compound_growth_rate using beginning_balance, ending_balance, and years. Capture as year_two_growth.\n",
    "year_two_growth = calculate_compound_growth(beginning_balance, ending_balance, years)"
   ]
  },
  {
   "cell_type": "code",
   "execution_count": 9,
   "metadata": {},
   "outputs": [],
   "source": [
    "# Update beginning_balance and ending balance for year three, and then execute calculate_compound_growth_rate\n",
    "beginning_balance = 46000.00\n",
    "ending_balance = 48000.00"
   ]
  },
  {
   "cell_type": "code",
   "execution_count": 10,
   "metadata": {},
   "outputs": [],
   "source": [
    "# Call calculate_compound_growth_rate using beginning_balance, ending_balance, and years. Capture as year_three_growth.\n",
    "year_three_growth = calculate_compound_growth(beginning_balance, ending_balance, years)"
   ]
  },
  {
   "cell_type": "code",
   "execution_count": 11,
   "metadata": {},
   "outputs": [],
   "source": [
    "# Use Python round() function to round year_one_growth, year_two_growth, and year_three_growth. Capture these as new variables.\n",
    "year_one_growth_rnd = round(year_one_growth, 2)\n",
    "year_two_growth_rnd = round(year_two_growth, 2)\n",
    "year_three_growth_rnd = round(year_three_growth, 2)"
   ]
  },
  {
   "cell_type": "code",
   "execution_count": 12,
   "metadata": {},
   "outputs": [
    {
     "name": "stdout",
     "output_type": "stream",
     "text": [
      "The Compound annual growth for 2016: 0.55%\n",
      "The Compound annual growth for 2016: 0.04%\n",
      "The Compound annual growth for 2016: 0.04%\n"
     ]
    }
   ],
   "source": [
    "#Print year_one_growth, year_two_growth, year_three_growth as percents using string formatting\n",
    "print(f\"The Compound annual growth for 2016: {year_one_growth_rnd}%\")\n",
    "print(f\"The Compound annual growth for 2016: {year_two_growth_rnd}%\")\n",
    "print(f\"The Compound annual growth for 2016: {year_three_growth_rnd}%\")"
   ]
  },
  {
   "cell_type": "code",
   "execution_count": 13,
   "metadata": {},
   "outputs": [],
   "source": [
    "# Chellenge"
   ]
  },
  {
   "cell_type": "code",
   "execution_count": 14,
   "metadata": {},
   "outputs": [],
   "source": [
    "# Create a global, empty list\n",
    "growth_rates = list()"
   ]
  },
  {
   "cell_type": "code",
   "execution_count": 15,
   "metadata": {},
   "outputs": [],
   "source": [
    "#Define a function called\n",
    "def calculate_compound_growth_rate_list(beginning_balance, ending_balance, years):\n",
    "    growth_rate = (ending_balance / beginning_balance)**(1 / years) - 1\n",
    "    \n",
    "    # Populate growth_rates list using add() function\n",
    "    growth_rates.append(growth_rate)"
   ]
  },
  {
   "cell_type": "code",
   "execution_count": 16,
   "metadata": {},
   "outputs": [],
   "source": [
    "# Call calculate_compound_growth_rate_list and populate growth_rates with 2016 values (beginning_balance and ending_balance)\n",
    "beginning_balance = 29000.00\n",
    "ending_balance = 45000.10\n",
    "calculate_compound_growth_rate_list(beginning_balance, ending_balance, years)"
   ]
  },
  {
   "cell_type": "code",
   "execution_count": 17,
   "metadata": {},
   "outputs": [],
   "source": [
    "# Call calculate_compound_growth_rate_list and populate growth_rates with 2017 values (beginning_balance and ending_balance)\n",
    "beginning_balance = 45000.00\n",
    "ending_balance = 47000.00\n",
    "calculate_compound_growth_rate_list(beginning_balance, ending_balance, years)"
   ]
  },
  {
   "cell_type": "code",
   "execution_count": 18,
   "metadata": {},
   "outputs": [],
   "source": [
    "# Call calculate_compound_growth_rate_list and populate growth_rates with 2018 values (beginning_balance and ending_balance)\n",
    "beginning_balance = 47000.00\n",
    "ending_balance = 48930.00\n",
    "calculate_compound_growth_rate_list(beginning_balance, ending_balance, years)"
   ]
  },
  {
   "cell_type": "code",
   "execution_count": 19,
   "metadata": {},
   "outputs": [
    {
     "name": "stdout",
     "output_type": "stream",
     "text": [
      "Growth rates list:  [0.5517275862068964, 0.04444444444444451, 0.04106382978723411]\n"
     ]
    }
   ],
   "source": [
    "# Print growth_rates list\n",
    "print(\"Growth rates list: \", growth_rates)"
   ]
  }
 ],
 "metadata": {
  "kernelspec": {
   "display_name": "Python 3",
   "language": "python",
   "name": "python3"
  },
  "language_info": {
   "codemirror_mode": {
    "name": "ipython",
    "version": 3
   },
   "file_extension": ".py",
   "mimetype": "text/x-python",
   "name": "python",
   "nbconvert_exporter": "python",
   "pygments_lexer": "ipython3",
   "version": "3.7.9"
  }
 },
 "nbformat": 4,
 "nbformat_minor": 4
}
