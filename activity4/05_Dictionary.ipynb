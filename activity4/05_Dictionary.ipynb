{
 "cells": [
  {
   "cell_type": "code",
   "execution_count": 1,
   "metadata": {},
   "outputs": [
    {
     "data": {
      "text/plain": [
       "'\\nInstructor Demo: Dicts.\\nThis script showcases basic operations of Python Dicts.\\n'"
      ]
     },
     "execution_count": 1,
     "metadata": {},
     "output_type": "execute_result"
    }
   ],
   "source": [
    "# -*- coding: -*-\n",
    "\"\"\"\n",
    "Instructor Demo: Dicts.\n",
    "This script showcases basic operations of Python Dicts.\n",
    "\"\"\""
   ]
  },
  {
   "cell_type": "code",
   "execution_count": 2,
   "metadata": {},
   "outputs": [],
   "source": [
    "#Initialize a dictionary containing top traders for each month in 2019\n",
    "top_traders = {\n",
    "    \"january\" : \"Karen\",\n",
    "    \"february\" : \"Harold\",\n",
    "    \"march\" : \"Sam\"\n",
    "}"
   ]
  },
  {
   "cell_type": "code",
   "execution_count": 3,
   "metadata": {},
   "outputs": [
    {
     "name": "stdout",
     "output_type": "stream",
     "text": [
      "Dictionary: {'january': 'Karen', 'february': 'Harold', 'march': 'Sam'}\n"
     ]
    }
   ],
   "source": [
    "print(f\"Dictionary: {top_traders}\")"
   ]
  },
  {
   "cell_type": "code",
   "execution_count": 4,
   "metadata": {},
   "outputs": [],
   "source": [
    "#Initialize a dictionary\n",
    "trading_pnl = {\n",
    "    \"title\" : \"Trading Log\",\n",
    "    \"03-18-2019\": -224,\n",
    "    \"03-19-2019\": 352,\n",
    "    \"03-20-2019\": 252,\n",
    "    \"03-21-2019\": 354,\n",
    "    \"03-22-2019\": -544,\n",
    "    \"03-23-2019\": -650,\n",
    "    \"03-24-2019\": 56,\n",
    "    \"03-25-2019\": 123,\n",
    "    \"03-26-2019\": -43,\n",
    "    \"03-27-2019\": 254,\n",
    "    \"03-28-2019\": 325,\n",
    "    \"03-29-2019\": -123,\n",
    "    \"03-30-2019\": 47,\n",
    "    \"03-31-2019\": 321,\n",
    "    \"04-01-2019\": 123,\n",
    "    \"04-02-2019\": 133,\n",
    "    \"04-03-2019\": -151,\n",
    "    \"04-04-2019\": 613,\n",
    "    \"04-05-2019\": 232,\n",
    "    \"04-06-2019\": -311\n",
    "}"
   ]
  },
  {
   "cell_type": "code",
   "execution_count": 5,
   "metadata": {},
   "outputs": [
    {
     "name": "stdout",
     "output_type": "stream",
     "text": [
      "\n",
      "Dictionary: {'title': 'Trading Log', '03-18-2019': -224, '03-19-2019': 352, '03-20-2019': 252, '03-21-2019': 354, '03-22-2019': -544, '03-23-2019': -650, '03-24-2019': 56, '03-25-2019': 123, '03-26-2019': -43, '03-27-2019': 254, '03-28-2019': 325, '03-29-2019': -123, '03-30-2019': 47, '03-31-2019': 321, '04-01-2019': 123, '04-02-2019': 133, '04-03-2019': -151, '04-04-2019': 613, '04-05-2019': 232, '04-06-2019': -311}\n"
     ]
    }
   ],
   "source": [
    "# Print out dictionary, initial print() to serve as spacing between command line input\n",
    "print()\n",
    "print(f\"Dictionary: {trading_pnl}\")"
   ]
  },
  {
   "cell_type": "code",
   "execution_count": 6,
   "metadata": {},
   "outputs": [
    {
     "name": "stdout",
     "output_type": "stream",
     "text": [
      "03-21-2019: 354\n"
     ]
    }
   ],
   "source": [
    "#Print out specific value of a key\n",
    "print(f\"03-21-2019: {trading_pnl['03-21-2019']}\")"
   ]
  },
  {
   "cell_type": "code",
   "execution_count": 7,
   "metadata": {},
   "outputs": [
    {
     "name": "stdout",
     "output_type": "stream",
     "text": [
      "{'title': 'Trading Log', '03-18-2019': -224, '03-19-2019': 352, '03-20-2019': 252, '03-21-2019': 354, '03-22-2019': -544, '03-23-2019': -650, '03-24-2019': 56, '03-25-2019': 123, '03-26-2019': -43, '03-27-2019': 254, '03-28-2019': 325, '03-29-2019': -123, '03-30-2019': 47, '03-31-2019': 321, '04-01-2019': 123, '04-02-2019': 133, '04-03-2019': -151, '04-04-2019': 613, '04-05-2019': 232, '04-06-2019': -311, '05-12-2019': 456}\n"
     ]
    }
   ],
   "source": [
    "#Add a new key-value pair\n",
    "trading_pnl[\"05-12-2019\"] = 456\n",
    "print(trading_pnl)"
   ]
  },
  {
   "cell_type": "code",
   "execution_count": 8,
   "metadata": {},
   "outputs": [
    {
     "name": "stdout",
     "output_type": "stream",
     "text": [
      "{'title': 'Trading Log', '03-18-2019': -224, '03-19-2019': 352, '03-20-2019': 252, '03-21-2019': 354, '03-22-2019': -544, '03-23-2019': -650, '03-24-2019': 56, '03-25-2019': 123, '03-26-2019': -43, '03-27-2019': 254, '03-28-2019': 325, '03-29-2019': -123, '03-30-2019': 47, '03-31-2019': 321, '04-01-2019': 123, '04-02-2019': 133, '04-03-2019': -151, '04-04-2019': 613, '04-05-2019': 232, '04-06-2019': -311, '05-12-2019': 432}\n"
     ]
    }
   ],
   "source": [
    "#Modify a key value\n",
    "trading_pnl[\"05-12-2019\"] = 432\n",
    "print(trading_pnl)"
   ]
  },
  {
   "cell_type": "code",
   "execution_count": 9,
   "metadata": {},
   "outputs": [
    {
     "name": "stdout",
     "output_type": "stream",
     "text": [
      "{'title': 'Trading Log', '03-18-2019': -224, '03-19-2019': 352, '03-20-2019': 252, '03-21-2019': 354, '03-22-2019': -544, '03-23-2019': -650, '03-24-2019': 56, '03-25-2019': 123, '03-26-2019': -43, '03-27-2019': 254, '03-28-2019': 325, '03-29-2019': -123, '03-30-2019': 47, '03-31-2019': 321, '04-01-2019': 123, '04-02-2019': 133, '04-03-2019': -151, '04-04-2019': 613, '04-05-2019': 232, '04-06-2019': -311}\n"
     ]
    }
   ],
   "source": [
    "#Delete a key-value pair\n",
    "del(trading_pnl[\"05-12-2019\"])\n",
    "print(trading_pnl)"
   ]
  },
  {
   "cell_type": "code",
   "execution_count": 10,
   "metadata": {},
   "outputs": [
    {
     "name": "stdout",
     "output_type": "stream",
     "text": [
      "Yes, '03-22-2019' is one of the keys in the trading_pnl dictionary\n"
     ]
    }
   ],
   "source": [
    "#Check if key exists\n",
    "if \"03-22-2019\" in trading_pnl:\n",
    "    print(\"Yes, '03-22-2019' is one of the keys in the trading_pnl dictionary\")\n",
    "else:\n",
    "    print(\"'03-22-2019' doesnot exists\")"
   ]
  },
  {
   "cell_type": "code",
   "execution_count": 11,
   "metadata": {},
   "outputs": [
    {
     "name": "stdout",
     "output_type": "stream",
     "text": [
      "Key: title\n",
      "Key: 03-18-2019\n",
      "Key: 03-19-2019\n",
      "Key: 03-20-2019\n",
      "Key: 03-21-2019\n",
      "Key: 03-22-2019\n",
      "Key: 03-23-2019\n",
      "Key: 03-24-2019\n",
      "Key: 03-25-2019\n",
      "Key: 03-26-2019\n",
      "Key: 03-27-2019\n",
      "Key: 03-28-2019\n",
      "Key: 03-29-2019\n",
      "Key: 03-30-2019\n",
      "Key: 03-31-2019\n",
      "Key: 04-01-2019\n",
      "Key: 04-02-2019\n",
      "Key: 04-03-2019\n",
      "Key: 04-04-2019\n",
      "Key: 04-05-2019\n",
      "Key: 04-06-2019\n"
     ]
    }
   ],
   "source": [
    "#Print out dictionary keys via a for loop\n",
    "for key in trading_pnl:\n",
    "    print(f\"Key: {key}\")"
   ]
  },
  {
   "cell_type": "code",
   "execution_count": 12,
   "metadata": {},
   "outputs": [
    {
     "name": "stdout",
     "output_type": "stream",
     "text": [
      "Value: Trading Log\n",
      "Value: -224\n",
      "Value: 352\n",
      "Value: 252\n",
      "Value: 354\n",
      "Value: -544\n",
      "Value: -650\n",
      "Value: 56\n",
      "Value: 123\n",
      "Value: -43\n",
      "Value: 254\n",
      "Value: 325\n",
      "Value: -123\n",
      "Value: 47\n",
      "Value: 321\n",
      "Value: 123\n",
      "Value: 133\n",
      "Value: -151\n",
      "Value: 613\n",
      "Value: 232\n",
      "Value: -311\n"
     ]
    }
   ],
   "source": [
    "#Print out dict values\n",
    "for key in trading_pnl:\n",
    "    print(f\"Value: {trading_pnl[key]}\")"
   ]
  },
  {
   "cell_type": "code",
   "execution_count": 13,
   "metadata": {},
   "outputs": [
    {
     "name": "stdout",
     "output_type": "stream",
     "text": [
      "Key: title, Value: Trading Log\n",
      "Key: 03-18-2019, Value: -224\n",
      "Key: 03-19-2019, Value: 352\n",
      "Key: 03-20-2019, Value: 252\n",
      "Key: 03-21-2019, Value: 354\n",
      "Key: 03-22-2019, Value: -544\n",
      "Key: 03-23-2019, Value: -650\n",
      "Key: 03-24-2019, Value: 56\n",
      "Key: 03-25-2019, Value: 123\n",
      "Key: 03-26-2019, Value: -43\n",
      "Key: 03-27-2019, Value: 254\n",
      "Key: 03-28-2019, Value: 325\n",
      "Key: 03-29-2019, Value: -123\n",
      "Key: 03-30-2019, Value: 47\n",
      "Key: 03-31-2019, Value: 321\n",
      "Key: 04-01-2019, Value: 123\n",
      "Key: 04-02-2019, Value: 133\n",
      "Key: 04-03-2019, Value: -151\n",
      "Key: 04-04-2019, Value: 613\n",
      "Key: 04-05-2019, Value: 232\n",
      "Key: 04-06-2019, Value: -311\n"
     ]
    }
   ],
   "source": [
    "#Print out dict key-value pairs\n",
    "for key, value in trading_pnl.items():\n",
    "    print(f\"Key: {key}, Value: {value}\")"
   ]
  }
 ],
 "metadata": {
  "kernelspec": {
   "display_name": "Python 3",
   "language": "python",
   "name": "python3"
  },
  "language_info": {
   "codemirror_mode": {
    "name": "ipython",
    "version": 3
   },
   "file_extension": ".py",
   "mimetype": "text/x-python",
   "name": "python",
   "nbconvert_exporter": "python",
   "pygments_lexer": "ipython3",
   "version": "3.7.9"
  }
 },
 "nbformat": 4,
 "nbformat_minor": 4
}
