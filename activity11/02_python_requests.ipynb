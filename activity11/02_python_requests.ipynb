{
 "cells": [
  {
   "cell_type": "markdown",
   "metadata": {},
   "source": [
    "# Ice Breakers on Request\n",
    "\n",
    "Your company has recently begun engaging in table talk sessions aimed towards helping the team continue to build soft and conversational skills by having co-workers engage each other for 5 minutes. You're tired of asking basic questions about hometowns and occupations, so you've decided to crawl the web for some new content to use. Your goal is to have ice breakers available on request. You've found 6 APIs that you feel could provide some good, random material for table/small talk.\n",
    "\n",
    "Submit `GET` requests using the Python `requests` library for one of the below `request urls`. Then, interpret the JSON output and find an interesting fact or joke to share with the class. Save that fact/joke, or another value from the JSON output, as a variable.\n",
    "\n",
    "APIS\n",
    "\n",
    "* Random Programming Jokes -> https://official-joke-api.appspot.com/jokes/programming/random\n",
    "\n",
    "* Random Jokes ->  https://official-joke-api.appspot.com/jokes/random\n",
    "\n",
    "* Cat Facts -> https://cat-fact.herokuapp.com/facts\n",
    "\n",
    "* U.S. Dept of Treasury Spending Stats -> https://api.usaspending.gov//api/v2/references/agency/456/\n",
    "\n",
    "* U.S. GDP Data -> http://api.worldbank.org/v2/country/us?format=json\n",
    "\n",
    "## Instructions\n",
    "\n",
    "1. Choose one of the above APIs to work with for this assignment.\n",
    "\n",
    "2. Execute the `requests.get` function using one of the `request urls`, and store the output in a variable named `response_data`.\n",
    "\n",
    "3. Retrieve the status code of the request.\n",
    "\n",
    "4. Execute `response_data.content` to extract the data from the request. Store the data in a variable named `response_content`, and output the data to the screen.\n",
    "\n",
    "5. Use the `json` function to format `response_content` as JSON. Store the output as a variable named `data`.\n",
    "\n",
    "6. Import the `json` package, and use `json.dumps` to print `response_content` to the screen with formatting. Use the `indent=4` parameter to format with indentation.\n",
    "\n",
    "7. Decipher the JSON data, and identify an interesting fact/joke to share with the class. Write it down to tell the class during the activity review.\n",
    "\n",
    "8. Select an element from the JSON and store it into a new variable. Hint: JSON attribute names are like keys in dictionaries (i.e., `response_content.fact` or `response_content.joke`).\n",
    "\n",
    "### Challenge\n",
    "\n",
    "If time remains, use the `GET` function to explore the other APIs.\n",
    "\n",
    "### Hint\n",
    "\n",
    "Selecting values from JSON data requires data be accessed first by parent object and then child. When an API returns output with multiple `JSON Objects`, `indices` have to be specified to indicate which object/record should be selected. For example,\n",
    "\n",
    "  ```python\n",
    "  selected_value = data['all'][0]['text']\n",
    "  ```\n"
   ]
  },
  {
   "cell_type": "markdown",
   "metadata": {},
   "source": [
    "### Import requests library"
   ]
  },
  {
   "cell_type": "code",
   "execution_count": 1,
   "metadata": {},
   "outputs": [],
   "source": [
    "import requests"
   ]
  },
  {
   "cell_type": "markdown",
   "metadata": {},
   "source": [
    "### Declare `request_urls`"
   ]
  },
  {
   "cell_type": "code",
   "execution_count": 2,
   "metadata": {},
   "outputs": [],
   "source": [
    "# Declare `url` variables\n",
    "prog_joke_url = \"https://official-joke-api.appspot.com/jokes/programming/random\"\n",
    "rand_joke_url = \"https://official-joke-api.appspot.com/jokes/random\"\n",
    "cat_facts_url = \"https://cat-fact.herokuapp.com/facts\"\n",
    "dot_spending_url = \"https://api.usaspending.gov//api/v2/references/agency/456/\"\n",
    "us_gdp_data_url = \"http://api.worldbank.org/v2/country/us?format=json\""
   ]
  },
  {
   "cell_type": "markdown",
   "metadata": {},
   "source": [
    "### Execute `GET` request using `requests` library"
   ]
  },
  {
   "cell_type": "code",
   "execution_count": 3,
   "metadata": {},
   "outputs": [],
   "source": [
    "# Execute `GET` request with url\n",
    "response_data = requests.get(prog_joke_url)"
   ]
  },
  {
   "cell_type": "markdown",
   "metadata": {},
   "source": [
    "### Get response `status code`"
   ]
  },
  {
   "cell_type": "code",
   "execution_count": 4,
   "metadata": {},
   "outputs": [
    {
     "name": "stdout",
     "output_type": "stream",
     "text": [
      "200\n"
     ]
    }
   ],
   "source": [
    "# Print `response_data variable`\n",
    "print(response_data.status_code)"
   ]
  },
  {
   "cell_type": "markdown",
   "metadata": {},
   "source": [
    "### Extract response `content`"
   ]
  },
  {
   "cell_type": "code",
   "execution_count": 5,
   "metadata": {},
   "outputs": [],
   "source": [
    "# Store response using `content` attribute\n",
    "response_content = response_data.content"
   ]
  },
  {
   "cell_type": "markdown",
   "metadata": {},
   "source": [
    "### Convert output to JSON"
   ]
  },
  {
   "cell_type": "code",
   "execution_count": 6,
   "metadata": {},
   "outputs": [],
   "source": [
    "# Format data as JSON\n",
    "data = response_data.json()"
   ]
  },
  {
   "cell_type": "markdown",
   "metadata": {},
   "source": [
    "### Format data with `json.dumps`"
   ]
  },
  {
   "cell_type": "code",
   "execution_count": 7,
   "metadata": {},
   "outputs": [
    {
     "name": "stdout",
     "output_type": "stream",
     "text": [
      "[\n",
      "    {\n",
      "        \"id\": 377,\n",
      "        \"type\": \"programming\",\n",
      "        \"setup\": \"Knock-knock.\",\n",
      "        \"punchline\": \"A race condition. Who is there?\"\n",
      "    }\n",
      "]\n"
     ]
    }
   ],
   "source": [
    "import json\n",
    "\n",
    "# Use json.dumps to format data\n",
    "print(json.dumps(data,indent=4))"
   ]
  },
  {
   "cell_type": "markdown",
   "metadata": {},
   "source": [
    "### Select value and store as variable"
   ]
  },
  {
   "cell_type": "code",
   "execution_count": 8,
   "metadata": {},
   "outputs": [],
   "source": [
    "# Select a programming joke \n",
    "selected_value = data[0]['setup']\n",
    "selected_value_2 = data[0]['punchline']\n",
    "\n",
    "# Select a cat joke from JSON output\n",
    "#selected_value = data['all'][0]['text']"
   ]
  },
  {
   "cell_type": "code",
   "execution_count": 9,
   "metadata": {},
   "outputs": [
    {
     "name": "stdout",
     "output_type": "stream",
     "text": [
      "Knock-knock.\n",
      "A race condition. Who is there?\n"
     ]
    }
   ],
   "source": [
    "# Print selected values\n",
    "print(selected_value)\n",
    "print(selected_value_2)"
   ]
  },
  {
   "cell_type": "code",
   "execution_count": null,
   "metadata": {},
   "outputs": [],
   "source": []
  }
 ],
 "metadata": {
  "kernelspec": {
   "display_name": "Python 3",
   "language": "python",
   "name": "python3"
  },
  "language_info": {
   "codemirror_mode": {
    "name": "ipython",
    "version": 3
   },
   "file_extension": ".py",
   "mimetype": "text/x-python",
   "name": "python",
   "nbconvert_exporter": "python",
   "pygments_lexer": "ipython3",
   "version": "3.7.9"
  }
 },
 "nbformat": 4,
 "nbformat_minor": 4
}
