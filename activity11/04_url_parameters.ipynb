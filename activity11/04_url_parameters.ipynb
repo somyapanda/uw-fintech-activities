{
 "cells": [
  {
   "cell_type": "markdown",
   "metadata": {},
   "source": [
    "# House of Requests\n",
    "\n",
    "You've been challenged to a game of BlackJack, but you don't have any playing cards on-hand. Instead of spending money to buy a set, find a way to programmatically play the game. Use the `Deck of Cards API`, an API that simulates card games through API calls, to play against a classmate or an imaginary dealer. The player with the number of points closest to 21 is the winner!\n",
    "\n",
    "While you won't actually win any real prizes in this game, you will get the opportunity to crush opponents in Python BlackJack and gain the respect of your peers.\n",
    "\n",
    "API URLs (store these as variables)\n",
    "\n",
    "* Create a deck and shuffle -> `f\"https://deckofcardsapi.com/api/deck/new/shuffle/?deck_count=6\" `\n",
    "\n",
    "* Draw cards -> `f\"https://deckofcardsapi.com/api/deck/{deck_id}/draw/?count=2\"`\n",
    "\n",
    "* Shuffle pre-existing deck -> `f\"https://deckofcardsapi.com/api/deck/{deck_id}/shuffle/\"`\n",
    "\n",
    "Rules of the Game\n",
    "\n",
    "* The first to 21 wins!\n",
    "\n",
    "* Scoring over 21 means you automatically lose.\n",
    "\n",
    "* Each player-turn consists of one to two drawings. Decide if you should draw two or three cards for your turn. The closer to 21 you are, the less rounds you should take, unless you're feeling risky.\n",
    "\n",
    "  * An initial drawing of 2 cards\n",
    "\n",
    "  * A second drawing of 1 additional card (optional)\n",
    "\n",
    "## Instructions\n",
    "\n",
    "Prep for the Game\n",
    "\n",
    "1. Submit a `parameterized` `GET` request to create and shuffle a deck of cards.\n",
    "\n",
    "2. Extract the value of `deck ID` from the JSON output, and store it as a variable. This value will be interpolated into the `Draw Cards` and `Shuffling Deck` `request urls`.\n",
    "\n",
    "3. `Parameterize` the `request url`. Pass in the `deck_id`, and set the `count` parameter to 2 via interpolation.\n",
    "\n",
    "Player 1 Turn\n",
    "\n",
    "4. Execute a `GET` request using the `draw_cards_url`.\n",
    "\n",
    "5. Parse the JSON and extract values for elements `suit` and `value` for each card. Store `suit` and `value` for each card into respective variables (i.e. `player_1_card_1`).\n",
    "\n",
    "6. Manually add the numeric values to determine your points. How close to 21 did you get? If you scored 21 or below, you can consider drawing another card for yourself, or you can decide to end your turn, and let the dealer go next.\n",
    "\n",
    "    * Cards with numbers from 2 to 10 gain respective points (have their face value).\n",
    "\n",
    "    * Jacks, Queens, and Kings gain 10 points.\n",
    "\n",
    "    * Aces might be counted as 11 or 1 point, depending on the value needed for a best hand.\n",
    "\n",
    "7. If you're taking another turn, complete step 8. Otherwise, skip to step 9.\n",
    "\n",
    "8. `Parameterize` the `request url` to return 1 additional card for you. Re-calculate your total points.\n",
    "\n",
    "Player 2 Turn\n",
    "\n",
    "9. Execute a `GET` request using a parameterized `request url` that will draw `2` cards for the dealer. Hint: Make sure to check the latest `request_url` parameters. `Count` might not equal `2`.\n",
    "\n",
    "10. Repeat steps 5-8 for the dealer, and then compare scores. The player closest to 21 wins! Anyone with more than 21 points automatically loses.\n",
    "\n",
    "### Hint\n",
    "\n",
    "Interpolation can be achieved by using the literal `f` prefix before a string. Consult the [documentation](https://www.programiz.com/python-programming/string-interpolation) for assistance.\n",
    "\n",
    "When extracting values from the `Draw Cards` request, an index will have to be provided to extract values whenever more than one card is returned (i.e. `drawn_cards['cards'][0]['value'] + \" of \" + drawn_cards['cards'][0]['suit']`).\n"
   ]
  },
  {
   "cell_type": "markdown",
   "metadata": {},
   "source": [
    "Use the `Deck of Cards` API to play a game of BlackJack with a partner. Parameterize the `Deck of Cards` API `request urls` in order to create the deck of cards, as well as draw cards for the game."
   ]
  },
  {
   "cell_type": "code",
   "execution_count": 1,
   "metadata": {},
   "outputs": [],
   "source": [
    "import requests\n",
    "import json"
   ]
  },
  {
   "cell_type": "markdown",
   "metadata": {},
   "source": [
    "## Prep for the Game"
   ]
  },
  {
   "cell_type": "code",
   "execution_count": 2,
   "metadata": {},
   "outputs": [
    {
     "data": {
      "text/plain": [
       "{'success': True,\n",
       " 'deck_id': 'q9gmq4zxj8av',\n",
       " 'remaining': 312,\n",
       " 'shuffled': True}"
      ]
     },
     "execution_count": 2,
     "metadata": {},
     "output_type": "execute_result"
    }
   ],
   "source": [
    "# Declare request url to create deck id\n",
    "create_deck_url = \"https://deckofcardsapi.com/api/deck/new/shuffle/?deck_count=6\"\n",
    "\n",
    "# Execute create deck url\n",
    "response_data = requests.get(create_deck_url).json()\n",
    "response_data"
   ]
  },
  {
   "cell_type": "markdown",
   "metadata": {},
   "source": [
    "### Parse JSON and extract `deck_id`"
   ]
  },
  {
   "cell_type": "code",
   "execution_count": 3,
   "metadata": {},
   "outputs": [
    {
     "name": "stdout",
     "output_type": "stream",
     "text": [
      "q9gmq4zxj8av\n"
     ]
    }
   ],
   "source": [
    "# Select deck_id\n",
    "deck_id = response_data['deck_id']\n",
    "print(deck_id)"
   ]
  },
  {
   "cell_type": "markdown",
   "metadata": {},
   "source": [
    "### Declare request urls to draw cards and shuffle deck"
   ]
  },
  {
   "cell_type": "code",
   "execution_count": 4,
   "metadata": {},
   "outputs": [
    {
     "name": "stdout",
     "output_type": "stream",
     "text": [
      "https://deckofcardsapi.com/api/deck/q9gmq4zxj8av/draw/?count=2\n",
      "https://deckofcardsapi.com/api/deck/q9gmq4zxj8av/shuffle/\n"
     ]
    }
   ],
   "source": [
    "# Declare draw_cards_url and shuffle_deck_url\n",
    "# Use string interpolation to incorporate the deck_id\n",
    "draw_cards_url = f\"https://deckofcardsapi.com/api/deck/{deck_id}/draw/?count=2\"\n",
    "shuffle_deck_url = f\"https://deckofcardsapi.com/api/deck/{deck_id}/shuffle/\"\n",
    "print(draw_cards_url)\n",
    "print(shuffle_deck_url)"
   ]
  },
  {
   "cell_type": "markdown",
   "metadata": {},
   "source": [
    "## Player 1 Turn"
   ]
  },
  {
   "cell_type": "markdown",
   "metadata": {},
   "source": [
    "### Draw two cards"
   ]
  },
  {
   "cell_type": "code",
   "execution_count": 5,
   "metadata": {},
   "outputs": [],
   "source": [
    "# Draw two cards\n",
    "drawn_cards = requests.get(draw_cards_url).json()"
   ]
  },
  {
   "cell_type": "markdown",
   "metadata": {},
   "source": [
    "### Parse and extract `value` and `suit` elements from JSON output, for each card"
   ]
  },
  {
   "cell_type": "code",
   "execution_count": 6,
   "metadata": {},
   "outputs": [
    {
     "name": "stdout",
     "output_type": "stream",
     "text": [
      "7 of DIAMONDS\n",
      "ACE of HEARTS\n"
     ]
    }
   ],
   "source": [
    "# Select returned card's value and suit (i.e. 3 of clubs)\n",
    "player_1_card_1 = drawn_cards['cards'][0]['value'] + \" of \" + drawn_cards['cards'][0]['suit']\n",
    "player_1_card_2 = drawn_cards['cards'][1]['value'] + \" of \" + drawn_cards['cards'][1]['suit'] \n",
    "# Print player cards\n",
    "print(player_1_card_1)\n",
    "print(player_1_card_2)"
   ]
  },
  {
   "cell_type": "markdown",
   "metadata": {},
   "source": [
    "### Decide whether to draw another card or skip to next player turn"
   ]
  },
  {
   "cell_type": "code",
   "execution_count": 7,
   "metadata": {},
   "outputs": [
    {
     "name": "stdout",
     "output_type": "stream",
     "text": [
      "8 of CLUBS\n"
     ]
    }
   ],
   "source": [
    "# Draw a third card\n",
    "draw_cards_url = f\"https://deckofcardsapi.com/api/deck/{deck_id}/draw/?count=1\"\n",
    "drawn_cards = requests.get(draw_cards_url).json()\n",
    "# Select returned card's value and suit (i.e. 3 of clubs)\n",
    "player_1_card_3 = drawn_cards['cards'][0]['value'] + \" of \" + drawn_cards['cards'][0]['suit']\n",
    "\n",
    "# Print player card\n",
    "print(player_1_card_3)"
   ]
  },
  {
   "cell_type": "markdown",
   "metadata": {},
   "source": [
    "### Manually calculate player 1 points and enter below"
   ]
  },
  {
   "cell_type": "markdown",
   "metadata": {},
   "source": [
    "Player 1 points = "
   ]
  },
  {
   "cell_type": "raw",
   "metadata": {},
   "source": []
  },
  {
   "cell_type": "markdown",
   "metadata": {},
   "source": [
    "## Player 2 / Dealer Turn"
   ]
  },
  {
   "cell_type": "code",
   "execution_count": 8,
   "metadata": {},
   "outputs": [
    {
     "name": "stdout",
     "output_type": "stream",
     "text": [
      "10 of DIAMONDS\n",
      "5 of HEARTS\n",
      "QUEEN of CLUBS\n"
     ]
    }
   ],
   "source": [
    "# Draw two cards for player 1\n",
    "draw_cards_url = f\"https://deckofcardsapi.com/api/deck/{deck_id}/draw/?count=2\"\n",
    "drawn_cards = requests.get(draw_cards_url).json()\n",
    "# Select card value and suit \n",
    "player_2_card_1 = drawn_cards['cards'][0]['value'] + \" of \" + drawn_cards['cards'][0]['suit']\n",
    "player_2_card_2 = drawn_cards['cards'][1]['value'] + \" of \" + drawn_cards['cards'][1]['suit']\n",
    "\n",
    "# Print player cards\n",
    "print(player_2_card_1)\n",
    "print(player_2_card_2)\n",
    "\n",
    "# Draw third card for player 2\n",
    "draw_cards_url = f\"https://deckofcardsapi.com/api/deck/{deck_id}/draw/?count=1\"\n",
    "drawn_cards = requests.get(draw_cards_url).json()\n",
    "player_2_card_3 = drawn_cards['cards'][0]['value'] + \" of \" + drawn_cards['cards'][0]['suit']\n",
    "\n",
    "# Print player card\n",
    "print(player_2_card_3)"
   ]
  },
  {
   "cell_type": "markdown",
   "metadata": {},
   "source": [
    "### Manually calculate player 2 points and enter below"
   ]
  },
  {
   "cell_type": "markdown",
   "metadata": {},
   "source": [
    "Player 2 points ="
   ]
  },
  {
   "cell_type": "raw",
   "metadata": {},
   "source": []
  }
 ],
 "metadata": {
  "kernelspec": {
   "display_name": "Python 3",
   "language": "python",
   "name": "python3"
  },
  "language_info": {
   "codemirror_mode": {
    "name": "ipython",
    "version": 3
   },
   "file_extension": ".py",
   "mimetype": "text/x-python",
   "name": "python",
   "nbconvert_exporter": "python",
   "pygments_lexer": "ipython3",
   "version": "3.7.9"
  }
 },
 "nbformat": 4,
 "nbformat_minor": 4
}
