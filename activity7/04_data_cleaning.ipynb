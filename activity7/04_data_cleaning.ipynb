{
 "cells": [
  {
   "cell_type": "markdown",
   "metadata": {},
   "source": [
    "**Data Cleaning**:\n",
    "\n",
    "This program goes reads in a CSV file, and perfoms a number of data quality checks. Data values that fail the checks are then cleansed."
   ]
  },
  {
   "cell_type": "markdown",
   "metadata": {},
   "source": [
    "Initialize imports"
   ]
  },
  {
   "cell_type": "code",
   "execution_count": 1,
   "metadata": {},
   "outputs": [],
   "source": [
    "import pandas as pd\n",
    "from pathlib import Path"
   ]
  },
  {
   "cell_type": "markdown",
   "metadata": {},
   "source": [
    "Read in CSV and take a sample"
   ]
  },
  {
   "cell_type": "markdown",
   "metadata": {},
   "source": [
    "Set the file path."
   ]
  },
  {
   "cell_type": "code",
   "execution_count": 2,
   "metadata": {},
   "outputs": [],
   "source": [
    "file_path = \"./order_data.csv\""
   ]
  },
  {
   "cell_type": "markdown",
   "metadata": {},
   "source": [
    "Take a sample of data."
   ]
  },
  {
   "cell_type": "code",
   "execution_count": 3,
   "metadata": {},
   "outputs": [
    {
     "data": {
      "text/html": [
       "<div>\n",
       "<style scoped>\n",
       "    .dataframe tbody tr th:only-of-type {\n",
       "        vertical-align: middle;\n",
       "    }\n",
       "\n",
       "    .dataframe tbody tr th {\n",
       "        vertical-align: top;\n",
       "    }\n",
       "\n",
       "    .dataframe thead th {\n",
       "        text-align: right;\n",
       "    }\n",
       "</style>\n",
       "<table border=\"1\" class=\"dataframe\">\n",
       "  <thead>\n",
       "    <tr style=\"text-align: right;\">\n",
       "      <th></th>\n",
       "      <th>customer_no</th>\n",
       "      <th>order_total</th>\n",
       "      <th>order_date</th>\n",
       "    </tr>\n",
       "    <tr>\n",
       "      <th>order_no</th>\n",
       "      <th></th>\n",
       "      <th></th>\n",
       "      <th></th>\n",
       "    </tr>\n",
       "  </thead>\n",
       "  <tbody>\n",
       "    <tr>\n",
       "      <th>45235825</th>\n",
       "      <td>TV4663</td>\n",
       "      <td>65.42</td>\n",
       "      <td>04-29-2019</td>\n",
       "    </tr>\n",
       "    <tr>\n",
       "      <th>2356363</th>\n",
       "      <td>2124</td>\n",
       "      <td>258936.12</td>\n",
       "      <td>04-29-2019</td>\n",
       "    </tr>\n",
       "    <tr>\n",
       "      <th>413853121</th>\n",
       "      <td>CM458565</td>\n",
       "      <td>NaN</td>\n",
       "      <td>4/24/2019</td>\n",
       "    </tr>\n",
       "    <tr>\n",
       "      <th>4465241327</th>\n",
       "      <td>AK45765</td>\n",
       "      <td>$1103.36</td>\n",
       "      <td>04-25-2019</td>\n",
       "    </tr>\n",
       "    <tr>\n",
       "      <th>452519232</th>\n",
       "      <td>NaN</td>\n",
       "      <td>$141.25</td>\n",
       "      <td>01-10-2019</td>\n",
       "    </tr>\n",
       "  </tbody>\n",
       "</table>\n",
       "</div>"
      ],
      "text/plain": [
       "           customer_no order_total  order_date\n",
       "order_no                                      \n",
       "45235825        TV4663       65.42  04-29-2019\n",
       "2356363           2124   258936.12  04-29-2019\n",
       "413853121     CM458565         NaN   4/24/2019\n",
       "4465241327     AK45765    $1103.36  04-25-2019\n",
       "452519232          NaN     $141.25  01-10-2019"
      ]
     },
     "execution_count": 3,
     "metadata": {},
     "output_type": "execute_result"
    }
   ],
   "source": [
    "csv_path = Path(file_path)\n",
    "data_df = pd.read_csv(csv_path, index_col=\"order_no\")\n",
    "data_df.sample(5)"
   ]
  },
  {
   "cell_type": "markdown",
   "metadata": {},
   "source": [
    "Identify DataFrame Data Types"
   ]
  },
  {
   "cell_type": "markdown",
   "metadata": {},
   "source": [
    "Retrieve DataFrame data types."
   ]
  },
  {
   "cell_type": "code",
   "execution_count": 4,
   "metadata": {},
   "outputs": [
    {
     "data": {
      "text/plain": [
       "customer_no    object\n",
       "order_total    object\n",
       "order_date     object\n",
       "dtype: object"
      ]
     },
     "execution_count": 4,
     "metadata": {},
     "output_type": "execute_result"
    }
   ],
   "source": [
    "data_df.dtypes"
   ]
  },
  {
   "cell_type": "markdown",
   "metadata": {},
   "source": [
    "Assess data quality by identifying the number of rows"
   ]
  },
  {
   "cell_type": "markdown",
   "metadata": {},
   "source": [
    "Identify Series count."
   ]
  },
  {
   "cell_type": "code",
   "execution_count": 5,
   "metadata": {},
   "outputs": [
    {
     "data": {
      "text/plain": [
       "customer_no    7\n",
       "order_total    7\n",
       "order_date     8\n",
       "dtype: int64"
      ]
     },
     "execution_count": 5,
     "metadata": {},
     "output_type": "execute_result"
    }
   ],
   "source": [
    "data_df.count()"
   ]
  },
  {
   "cell_type": "markdown",
   "metadata": {},
   "source": [
    "Assess data quality by identifying the number of times a value occurs"
   ]
  },
  {
   "cell_type": "markdown",
   "metadata": {},
   "source": [
    "Identify frequency values."
   ]
  },
  {
   "cell_type": "code",
   "execution_count": 6,
   "metadata": {},
   "outputs": [
    {
     "data": {
      "text/plain": [
       "$141.25      2\n",
       "$1103.36     2\n",
       "65.42        1\n",
       "258936.12    1\n",
       "14.00        1\n",
       "Name: order_total, dtype: int64"
      ]
     },
     "execution_count": 6,
     "metadata": {},
     "output_type": "execute_result"
    }
   ],
   "source": [
    "data_df[\"order_total\"].value_counts()"
   ]
  },
  {
   "cell_type": "code",
   "execution_count": 7,
   "metadata": {},
   "outputs": [
    {
     "data": {
      "text/plain": [
       "CM458565    2\n",
       "AK45765     2\n",
       "2124        1\n",
       "TV4663      1\n",
       "CJ458565    1\n",
       "Name: customer_no, dtype: int64"
      ]
     },
     "execution_count": 7,
     "metadata": {},
     "output_type": "execute_result"
    }
   ],
   "source": [
    "data_df[\"customer_no\"].value_counts()"
   ]
  },
  {
   "cell_type": "markdown",
   "metadata": {},
   "source": [
    "Assess data quality by checking for nulls"
   ]
  },
  {
   "cell_type": "markdown",
   "metadata": {},
   "source": [
    "Check for null values."
   ]
  },
  {
   "cell_type": "code",
   "execution_count": 8,
   "metadata": {},
   "outputs": [
    {
     "data": {
      "text/html": [
       "<div>\n",
       "<style scoped>\n",
       "    .dataframe tbody tr th:only-of-type {\n",
       "        vertical-align: middle;\n",
       "    }\n",
       "\n",
       "    .dataframe tbody tr th {\n",
       "        vertical-align: top;\n",
       "    }\n",
       "\n",
       "    .dataframe thead th {\n",
       "        text-align: right;\n",
       "    }\n",
       "</style>\n",
       "<table border=\"1\" class=\"dataframe\">\n",
       "  <thead>\n",
       "    <tr style=\"text-align: right;\">\n",
       "      <th></th>\n",
       "      <th>customer_no</th>\n",
       "      <th>order_total</th>\n",
       "      <th>order_date</th>\n",
       "    </tr>\n",
       "    <tr>\n",
       "      <th>order_no</th>\n",
       "      <th></th>\n",
       "      <th></th>\n",
       "      <th></th>\n",
       "    </tr>\n",
       "  </thead>\n",
       "  <tbody>\n",
       "    <tr>\n",
       "      <th>452517125</th>\n",
       "      <td>False</td>\n",
       "      <td>False</td>\n",
       "      <td>False</td>\n",
       "    </tr>\n",
       "    <tr>\n",
       "      <th>45251825</th>\n",
       "      <td>False</td>\n",
       "      <td>False</td>\n",
       "      <td>False</td>\n",
       "    </tr>\n",
       "    <tr>\n",
       "      <th>4465241327</th>\n",
       "      <td>False</td>\n",
       "      <td>False</td>\n",
       "      <td>False</td>\n",
       "    </tr>\n",
       "    <tr>\n",
       "      <th>4465241327</th>\n",
       "      <td>False</td>\n",
       "      <td>False</td>\n",
       "      <td>False</td>\n",
       "    </tr>\n",
       "    <tr>\n",
       "      <th>413853121</th>\n",
       "      <td>False</td>\n",
       "      <td>True</td>\n",
       "      <td>False</td>\n",
       "    </tr>\n",
       "    <tr>\n",
       "      <th>45235825</th>\n",
       "      <td>False</td>\n",
       "      <td>False</td>\n",
       "      <td>False</td>\n",
       "    </tr>\n",
       "    <tr>\n",
       "      <th>2356363</th>\n",
       "      <td>False</td>\n",
       "      <td>False</td>\n",
       "      <td>False</td>\n",
       "    </tr>\n",
       "    <tr>\n",
       "      <th>452519232</th>\n",
       "      <td>True</td>\n",
       "      <td>False</td>\n",
       "      <td>False</td>\n",
       "    </tr>\n",
       "  </tbody>\n",
       "</table>\n",
       "</div>"
      ],
      "text/plain": [
       "            customer_no  order_total  order_date\n",
       "order_no                                        \n",
       "452517125         False        False       False\n",
       "45251825          False        False       False\n",
       "4465241327        False        False       False\n",
       "4465241327        False        False       False\n",
       "413853121         False         True       False\n",
       "45235825          False        False       False\n",
       "2356363           False        False       False\n",
       "452519232          True        False       False"
      ]
     },
     "execution_count": 8,
     "metadata": {},
     "output_type": "execute_result"
    }
   ],
   "source": [
    "data_df.isnull()"
   ]
  },
  {
   "cell_type": "markdown",
   "metadata": {},
   "source": [
    "Assess data quality by determining the percentage of nulls"
   ]
  },
  {
   "cell_type": "markdown",
   "metadata": {},
   "source": [
    "Determine percentage of nulls."
   ]
  },
  {
   "cell_type": "code",
   "execution_count": 9,
   "metadata": {},
   "outputs": [
    {
     "data": {
      "text/plain": [
       "customer_no    12.5\n",
       "order_total    12.5\n",
       "order_date      0.0\n",
       "dtype: float64"
      ]
     },
     "execution_count": 9,
     "metadata": {},
     "output_type": "execute_result"
    }
   ],
   "source": [
    "data_df.isnull().mean() * 100"
   ]
  },
  {
   "cell_type": "markdown",
   "metadata": {},
   "source": [
    "Determine number of nulls"
   ]
  },
  {
   "cell_type": "code",
   "execution_count": 10,
   "metadata": {},
   "outputs": [
    {
     "data": {
      "text/plain": [
       "customer_no    1\n",
       "order_total    1\n",
       "order_date     0\n",
       "dtype: int64"
      ]
     },
     "execution_count": 10,
     "metadata": {},
     "output_type": "execute_result"
    }
   ],
   "source": [
    "data_df.isnull().sum()"
   ]
  },
  {
   "cell_type": "markdown",
   "metadata": {},
   "source": [
    "Cleanse data by filling nulls with default value (i.e. \"Unknown\", 0, or mean() is common)"
   ]
  },
  {
   "cell_type": "markdown",
   "metadata": {},
   "source": [
    "Cleanse nulls from DataFrame by filling na."
   ]
  },
  {
   "cell_type": "code",
   "execution_count": 11,
   "metadata": {},
   "outputs": [
    {
     "data": {
      "text/html": [
       "<div>\n",
       "<style scoped>\n",
       "    .dataframe tbody tr th:only-of-type {\n",
       "        vertical-align: middle;\n",
       "    }\n",
       "\n",
       "    .dataframe tbody tr th {\n",
       "        vertical-align: top;\n",
       "    }\n",
       "\n",
       "    .dataframe thead th {\n",
       "        text-align: right;\n",
       "    }\n",
       "</style>\n",
       "<table border=\"1\" class=\"dataframe\">\n",
       "  <thead>\n",
       "    <tr style=\"text-align: right;\">\n",
       "      <th></th>\n",
       "      <th>customer_no</th>\n",
       "      <th>order_total</th>\n",
       "      <th>order_date</th>\n",
       "    </tr>\n",
       "    <tr>\n",
       "      <th>order_no</th>\n",
       "      <th></th>\n",
       "      <th></th>\n",
       "      <th></th>\n",
       "    </tr>\n",
       "  </thead>\n",
       "  <tbody>\n",
       "    <tr>\n",
       "      <th>452517125</th>\n",
       "      <td>CM458565</td>\n",
       "      <td>$141.25</td>\n",
       "      <td>01-10-2019</td>\n",
       "    </tr>\n",
       "    <tr>\n",
       "      <th>45251825</th>\n",
       "      <td>CJ458565</td>\n",
       "      <td>14.00</td>\n",
       "      <td>04/25/2019</td>\n",
       "    </tr>\n",
       "    <tr>\n",
       "      <th>4465241327</th>\n",
       "      <td>AK45765</td>\n",
       "      <td>$1103.36</td>\n",
       "      <td>04-25-2019</td>\n",
       "    </tr>\n",
       "    <tr>\n",
       "      <th>4465241327</th>\n",
       "      <td>AK45765</td>\n",
       "      <td>$1103.36</td>\n",
       "      <td>04-25-2019</td>\n",
       "    </tr>\n",
       "    <tr>\n",
       "      <th>413853121</th>\n",
       "      <td>CM458565</td>\n",
       "      <td>NaN</td>\n",
       "      <td>4/24/2019</td>\n",
       "    </tr>\n",
       "    <tr>\n",
       "      <th>45235825</th>\n",
       "      <td>TV4663</td>\n",
       "      <td>65.42</td>\n",
       "      <td>04-29-2019</td>\n",
       "    </tr>\n",
       "    <tr>\n",
       "      <th>2356363</th>\n",
       "      <td>2124</td>\n",
       "      <td>258936.12</td>\n",
       "      <td>04-29-2019</td>\n",
       "    </tr>\n",
       "    <tr>\n",
       "      <th>452519232</th>\n",
       "      <td>Unknown</td>\n",
       "      <td>$141.25</td>\n",
       "      <td>01-10-2019</td>\n",
       "    </tr>\n",
       "  </tbody>\n",
       "</table>\n",
       "</div>"
      ],
      "text/plain": [
       "           customer_no order_total  order_date\n",
       "order_no                                      \n",
       "452517125     CM458565     $141.25  01-10-2019\n",
       "45251825      CJ458565       14.00  04/25/2019\n",
       "4465241327     AK45765    $1103.36  04-25-2019\n",
       "4465241327     AK45765    $1103.36  04-25-2019\n",
       "413853121     CM458565         NaN   4/24/2019\n",
       "45235825        TV4663       65.42  04-29-2019\n",
       "2356363           2124   258936.12  04-29-2019\n",
       "452519232      Unknown     $141.25  01-10-2019"
      ]
     },
     "execution_count": 11,
     "metadata": {},
     "output_type": "execute_result"
    }
   ],
   "source": [
    "data_df[\"customer_no\"] = data_df[\"customer_no\"].fillna(\"Unknown\")\n",
    "data_df"
   ]
  },
  {
   "cell_type": "markdown",
   "metadata": {},
   "source": [
    "Cleanse data by dropping nulls"
   ]
  },
  {
   "cell_type": "markdown",
   "metadata": {},
   "source": [
    "Cleaning nulls from DataFrame by dropping."
   ]
  },
  {
   "cell_type": "code",
   "execution_count": 12,
   "metadata": {},
   "outputs": [
    {
     "data": {
      "text/html": [
       "<div>\n",
       "<style scoped>\n",
       "    .dataframe tbody tr th:only-of-type {\n",
       "        vertical-align: middle;\n",
       "    }\n",
       "\n",
       "    .dataframe tbody tr th {\n",
       "        vertical-align: top;\n",
       "    }\n",
       "\n",
       "    .dataframe thead th {\n",
       "        text-align: right;\n",
       "    }\n",
       "</style>\n",
       "<table border=\"1\" class=\"dataframe\">\n",
       "  <thead>\n",
       "    <tr style=\"text-align: right;\">\n",
       "      <th></th>\n",
       "      <th>customer_no</th>\n",
       "      <th>order_total</th>\n",
       "      <th>order_date</th>\n",
       "    </tr>\n",
       "    <tr>\n",
       "      <th>order_no</th>\n",
       "      <th></th>\n",
       "      <th></th>\n",
       "      <th></th>\n",
       "    </tr>\n",
       "  </thead>\n",
       "  <tbody>\n",
       "    <tr>\n",
       "      <th>452517125</th>\n",
       "      <td>CM458565</td>\n",
       "      <td>$141.25</td>\n",
       "      <td>01-10-2019</td>\n",
       "    </tr>\n",
       "    <tr>\n",
       "      <th>45251825</th>\n",
       "      <td>CJ458565</td>\n",
       "      <td>14.00</td>\n",
       "      <td>04/25/2019</td>\n",
       "    </tr>\n",
       "    <tr>\n",
       "      <th>4465241327</th>\n",
       "      <td>AK45765</td>\n",
       "      <td>$1103.36</td>\n",
       "      <td>04-25-2019</td>\n",
       "    </tr>\n",
       "    <tr>\n",
       "      <th>4465241327</th>\n",
       "      <td>AK45765</td>\n",
       "      <td>$1103.36</td>\n",
       "      <td>04-25-2019</td>\n",
       "    </tr>\n",
       "    <tr>\n",
       "      <th>45235825</th>\n",
       "      <td>TV4663</td>\n",
       "      <td>65.42</td>\n",
       "      <td>04-29-2019</td>\n",
       "    </tr>\n",
       "    <tr>\n",
       "      <th>2356363</th>\n",
       "      <td>2124</td>\n",
       "      <td>258936.12</td>\n",
       "      <td>04-29-2019</td>\n",
       "    </tr>\n",
       "    <tr>\n",
       "      <th>452519232</th>\n",
       "      <td>Unknown</td>\n",
       "      <td>$141.25</td>\n",
       "      <td>01-10-2019</td>\n",
       "    </tr>\n",
       "  </tbody>\n",
       "</table>\n",
       "</div>"
      ],
      "text/plain": [
       "           customer_no order_total  order_date\n",
       "order_no                                      \n",
       "452517125     CM458565     $141.25  01-10-2019\n",
       "45251825      CJ458565       14.00  04/25/2019\n",
       "4465241327     AK45765    $1103.36  04-25-2019\n",
       "4465241327     AK45765    $1103.36  04-25-2019\n",
       "45235825        TV4663       65.42  04-29-2019\n",
       "2356363           2124   258936.12  04-29-2019\n",
       "452519232      Unknown     $141.25  01-10-2019"
      ]
     },
     "execution_count": 12,
     "metadata": {},
     "output_type": "execute_result"
    }
   ],
   "source": [
    "data_droppedna_df = data_df.dropna().copy()\n",
    "data_droppedna_df"
   ]
  },
  {
   "cell_type": "markdown",
   "metadata": {},
   "source": [
    "Check the number of nulls again.\n"
   ]
  },
  {
   "cell_type": "code",
   "execution_count": 13,
   "metadata": {},
   "outputs": [
    {
     "data": {
      "text/plain": [
       "customer_no    0\n",
       "order_total    1\n",
       "order_date     0\n",
       "dtype: int64"
      ]
     },
     "execution_count": 13,
     "metadata": {},
     "output_type": "execute_result"
    }
   ],
   "source": [
    "data_df.isnull().sum()"
   ]
  },
  {
   "cell_type": "markdown",
   "metadata": {},
   "source": [
    "Assess data quality by checking for duplicate rows"
   ]
  },
  {
   "cell_type": "markdown",
   "metadata": {},
   "source": [
    "Check duplicate rows.\n"
   ]
  },
  {
   "cell_type": "code",
   "execution_count": 14,
   "metadata": {},
   "outputs": [
    {
     "data": {
      "text/plain": [
       "order_no\n",
       "452517125     False\n",
       "45251825      False\n",
       "4465241327    False\n",
       "4465241327     True\n",
       "413853121     False\n",
       "45235825      False\n",
       "2356363       False\n",
       "452519232     False\n",
       "dtype: bool"
      ]
     },
     "execution_count": 14,
     "metadata": {},
     "output_type": "execute_result"
    }
   ],
   "source": [
    "data_df.duplicated()"
   ]
  },
  {
   "cell_type": "markdown",
   "metadata": {},
   "source": [
    "Assess data quality by checking for duplicate customer_no values"
   ]
  },
  {
   "cell_type": "markdown",
   "metadata": {},
   "source": [
    "Check duplicates for specific field."
   ]
  },
  {
   "cell_type": "code",
   "execution_count": 15,
   "metadata": {},
   "outputs": [
    {
     "data": {
      "text/plain": [
       "order_no\n",
       "452517125     False\n",
       "45251825      False\n",
       "4465241327    False\n",
       "4465241327     True\n",
       "413853121      True\n",
       "45235825      False\n",
       "2356363       False\n",
       "452519232     False\n",
       "Name: customer_no, dtype: bool"
      ]
     },
     "execution_count": 15,
     "metadata": {},
     "output_type": "execute_result"
    }
   ],
   "source": [
    "data_df[\"customer_no\"].duplicated()"
   ]
  },
  {
   "cell_type": "markdown",
   "metadata": {},
   "source": [
    "Cleanse data by dropping duplicates"
   ]
  },
  {
   "cell_type": "code",
   "execution_count": 16,
   "metadata": {},
   "outputs": [
    {
     "data": {
      "text/plain": [
       "order_no\n",
       "452517125     False\n",
       "45251825      False\n",
       "4465241327    False\n",
       "413853121      True\n",
       "45235825      False\n",
       "2356363       False\n",
       "452519232     False\n",
       "Name: customer_no, dtype: bool"
      ]
     },
     "execution_count": 16,
     "metadata": {},
     "output_type": "execute_result"
    }
   ],
   "source": [
    "data_df = data_df.drop_duplicates().copy()\n",
    "data_df[\"customer_no\"].duplicated()"
   ]
  },
  {
   "cell_type": "markdown",
   "metadata": {},
   "source": [
    "Assess data quality by using head function to sample data and identify currency symbols"
   ]
  },
  {
   "cell_type": "markdown",
   "metadata": {},
   "source": [
    "Identify if numeric field with $ symbol"
   ]
  },
  {
   "cell_type": "code",
   "execution_count": 17,
   "metadata": {},
   "outputs": [
    {
     "data": {
      "text/html": [
       "<div>\n",
       "<style scoped>\n",
       "    .dataframe tbody tr th:only-of-type {\n",
       "        vertical-align: middle;\n",
       "    }\n",
       "\n",
       "    .dataframe tbody tr th {\n",
       "        vertical-align: top;\n",
       "    }\n",
       "\n",
       "    .dataframe thead th {\n",
       "        text-align: right;\n",
       "    }\n",
       "</style>\n",
       "<table border=\"1\" class=\"dataframe\">\n",
       "  <thead>\n",
       "    <tr style=\"text-align: right;\">\n",
       "      <th></th>\n",
       "      <th>customer_no</th>\n",
       "      <th>order_total</th>\n",
       "      <th>order_date</th>\n",
       "    </tr>\n",
       "    <tr>\n",
       "      <th>order_no</th>\n",
       "      <th></th>\n",
       "      <th></th>\n",
       "      <th></th>\n",
       "    </tr>\n",
       "  </thead>\n",
       "  <tbody>\n",
       "    <tr>\n",
       "      <th>452517125</th>\n",
       "      <td>CM458565</td>\n",
       "      <td>$141.25</td>\n",
       "      <td>01-10-2019</td>\n",
       "    </tr>\n",
       "    <tr>\n",
       "      <th>45251825</th>\n",
       "      <td>CJ458565</td>\n",
       "      <td>14.00</td>\n",
       "      <td>04/25/2019</td>\n",
       "    </tr>\n",
       "    <tr>\n",
       "      <th>4465241327</th>\n",
       "      <td>AK45765</td>\n",
       "      <td>$1103.36</td>\n",
       "      <td>04-25-2019</td>\n",
       "    </tr>\n",
       "    <tr>\n",
       "      <th>413853121</th>\n",
       "      <td>CM458565</td>\n",
       "      <td>NaN</td>\n",
       "      <td>4/24/2019</td>\n",
       "    </tr>\n",
       "    <tr>\n",
       "      <th>45235825</th>\n",
       "      <td>TV4663</td>\n",
       "      <td>65.42</td>\n",
       "      <td>04-29-2019</td>\n",
       "    </tr>\n",
       "  </tbody>\n",
       "</table>\n",
       "</div>"
      ],
      "text/plain": [
       "           customer_no order_total  order_date\n",
       "order_no                                      \n",
       "452517125     CM458565     $141.25  01-10-2019\n",
       "45251825      CJ458565       14.00  04/25/2019\n",
       "4465241327     AK45765    $1103.36  04-25-2019\n",
       "413853121     CM458565         NaN   4/24/2019\n",
       "45235825        TV4663       65.42  04-29-2019"
      ]
     },
     "execution_count": 17,
     "metadata": {},
     "output_type": "execute_result"
    }
   ],
   "source": [
    "data_df.head()"
   ]
  },
  {
   "cell_type": "markdown",
   "metadata": {},
   "source": [
    "Cleanse data by replacing currency symbols"
   ]
  },
  {
   "cell_type": "markdown",
   "metadata": {},
   "source": [
    "Clean identified numeric fields with $ symbol."
   ]
  },
  {
   "cell_type": "code",
   "execution_count": 18,
   "metadata": {},
   "outputs": [
    {
     "data": {
      "text/plain": [
       "order_no\n",
       "452517125        141.25\n",
       "45251825          14.00\n",
       "4465241327      1103.36\n",
       "413853121           NaN\n",
       "45235825          65.42\n",
       "2356363       258936.12\n",
       "452519232        141.25\n",
       "Name: order_total, dtype: object"
      ]
     },
     "execution_count": 18,
     "metadata": {},
     "output_type": "execute_result"
    }
   ],
   "source": [
    "data_df[\"order_total\"] = data_df[\"order_total\"].str.replace(\"$\", \"\")\n",
    "data_df[\"order_total\"]"
   ]
  },
  {
   "cell_type": "markdown",
   "metadata": {},
   "source": [
    "Cleanse null from DataFrame by filling na"
   ]
  },
  {
   "cell_type": "code",
   "execution_count": 19,
   "metadata": {},
   "outputs": [
    {
     "data": {
      "text/plain": [
       "order_no\n",
       "452517125        141.25\n",
       "45251825          14.00\n",
       "4465241327      1103.36\n",
       "413853121             0\n",
       "45235825          65.42\n",
       "2356363       258936.12\n",
       "452519232        141.25\n",
       "Name: order_total, dtype: object"
      ]
     },
     "execution_count": 19,
     "metadata": {},
     "output_type": "execute_result"
    }
   ],
   "source": [
    "data_df[\"order_total\"] = data_df[\"order_total\"].fillna(0)\n",
    "data_df[\"order_total\"]"
   ]
  },
  {
   "cell_type": "markdown",
   "metadata": {},
   "source": [
    "Retrieve data types to confirm what needs to be converted."
   ]
  },
  {
   "cell_type": "code",
   "execution_count": 20,
   "metadata": {},
   "outputs": [
    {
     "data": {
      "text/plain": [
       "customer_no    object\n",
       "order_total    object\n",
       "order_date     object\n",
       "dtype: object"
      ]
     },
     "execution_count": 20,
     "metadata": {},
     "output_type": "execute_result"
    }
   ],
   "source": [
    "data_df.dtypes"
   ]
  },
  {
   "cell_type": "markdown",
   "metadata": {},
   "source": [
    "Convert `order_total` from `object` to `float`."
   ]
  },
  {
   "cell_type": "code",
   "execution_count": 21,
   "metadata": {},
   "outputs": [],
   "source": [
    "data_df[\"order_total\"] = data_df[\"order_total\"].astype(\"float\")"
   ]
  },
  {
   "cell_type": "markdown",
   "metadata": {},
   "source": [
    "Confirm conversion worked as expected"
   ]
  },
  {
   "cell_type": "code",
   "execution_count": 22,
   "metadata": {},
   "outputs": [
    {
     "data": {
      "text/plain": [
       "customer_no     object\n",
       "order_total    float64\n",
       "order_date      object\n",
       "dtype: object"
      ]
     },
     "execution_count": 22,
     "metadata": {},
     "output_type": "execute_result"
    }
   ],
   "source": [
    "data_df.dtypes"
   ]
  },
  {
   "cell_type": "code",
   "execution_count": 23,
   "metadata": {},
   "outputs": [
    {
     "data": {
      "text/html": [
       "<div>\n",
       "<style scoped>\n",
       "    .dataframe tbody tr th:only-of-type {\n",
       "        vertical-align: middle;\n",
       "    }\n",
       "\n",
       "    .dataframe tbody tr th {\n",
       "        vertical-align: top;\n",
       "    }\n",
       "\n",
       "    .dataframe thead th {\n",
       "        text-align: right;\n",
       "    }\n",
       "</style>\n",
       "<table border=\"1\" class=\"dataframe\">\n",
       "  <thead>\n",
       "    <tr style=\"text-align: right;\">\n",
       "      <th></th>\n",
       "      <th>customer_no</th>\n",
       "      <th>order_total</th>\n",
       "      <th>order_date</th>\n",
       "    </tr>\n",
       "    <tr>\n",
       "      <th>order_no</th>\n",
       "      <th></th>\n",
       "      <th></th>\n",
       "      <th></th>\n",
       "    </tr>\n",
       "  </thead>\n",
       "  <tbody>\n",
       "    <tr>\n",
       "      <th>452517125</th>\n",
       "      <td>CM458565</td>\n",
       "      <td>141.25</td>\n",
       "      <td>01-10-2019</td>\n",
       "    </tr>\n",
       "    <tr>\n",
       "      <th>45251825</th>\n",
       "      <td>CJ458565</td>\n",
       "      <td>14.00</td>\n",
       "      <td>04/25/2019</td>\n",
       "    </tr>\n",
       "    <tr>\n",
       "      <th>4465241327</th>\n",
       "      <td>AK45765</td>\n",
       "      <td>1103.36</td>\n",
       "      <td>04-25-2019</td>\n",
       "    </tr>\n",
       "    <tr>\n",
       "      <th>413853121</th>\n",
       "      <td>CM458565</td>\n",
       "      <td>0.00</td>\n",
       "      <td>4/24/2019</td>\n",
       "    </tr>\n",
       "    <tr>\n",
       "      <th>45235825</th>\n",
       "      <td>TV4663</td>\n",
       "      <td>65.42</td>\n",
       "      <td>04-29-2019</td>\n",
       "    </tr>\n",
       "    <tr>\n",
       "      <th>2356363</th>\n",
       "      <td>2124</td>\n",
       "      <td>258936.12</td>\n",
       "      <td>04-29-2019</td>\n",
       "    </tr>\n",
       "    <tr>\n",
       "      <th>452519232</th>\n",
       "      <td>Unknown</td>\n",
       "      <td>141.25</td>\n",
       "      <td>01-10-2019</td>\n",
       "    </tr>\n",
       "  </tbody>\n",
       "</table>\n",
       "</div>"
      ],
      "text/plain": [
       "           customer_no  order_total  order_date\n",
       "order_no                                       \n",
       "452517125     CM458565       141.25  01-10-2019\n",
       "45251825      CJ458565        14.00  04/25/2019\n",
       "4465241327     AK45765      1103.36  04-25-2019\n",
       "413853121     CM458565         0.00   4/24/2019\n",
       "45235825        TV4663        65.42  04-29-2019\n",
       "2356363           2124    258936.12  04-29-2019\n",
       "452519232      Unknown       141.25  01-10-2019"
      ]
     },
     "execution_count": 23,
     "metadata": {},
     "output_type": "execute_result"
    }
   ],
   "source": [
    "data_df"
   ]
  },
  {
   "cell_type": "code",
   "execution_count": null,
   "metadata": {},
   "outputs": [],
   "source": []
  }
 ],
 "metadata": {
  "kernelspec": {
   "display_name": "Python 3",
   "language": "python",
   "name": "python3"
  },
  "language_info": {
   "codemirror_mode": {
    "name": "ipython",
    "version": 3
   },
   "file_extension": ".py",
   "mimetype": "text/x-python",
   "name": "python",
   "nbconvert_exporter": "python",
   "pygments_lexer": "ipython3",
   "version": "3.7.9"
  }
 },
 "nbformat": 4,
 "nbformat_minor": 4
}
