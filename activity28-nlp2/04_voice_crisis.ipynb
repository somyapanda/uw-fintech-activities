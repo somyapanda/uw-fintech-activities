{
 "cells": [
  {
   "cell_type": "markdown",
   "metadata": {},
   "source": [
    "# The Voice of the Crisis\n",
    "\n",
    "Despite it happening over a decade ago, the financial crisis of 2008 is still on the news due to its effects in global economy. On this activity you will retrieve news articles about this historical economic fact in English and French to capture the voice of the crisis in two different languages."
   ]
  },
  {
   "cell_type": "code",
   "execution_count": 1,
   "metadata": {},
   "outputs": [
    {
     "data": {
      "text/plain": [
       "True"
      ]
     },
     "execution_count": 1,
     "metadata": {},
     "output_type": "execute_result"
    }
   ],
   "source": [
    "# Initial imports\n",
    "import os\n",
    "import pandas as pd\n",
    "from pathlib import Path\n",
    "from newsapi import NewsApiClient\n",
    "from dotenv import load_dotenv\n",
    "load_dotenv()\n"
   ]
  },
  {
   "cell_type": "code",
   "execution_count": 2,
   "metadata": {},
   "outputs": [],
   "source": [
    "# Retrieve the News API key\n",
    "api_key = os.getenv(\"news_api\")"
   ]
  },
  {
   "cell_type": "code",
   "execution_count": 3,
   "metadata": {},
   "outputs": [],
   "source": [
    "# Create the newsapi client\n",
    "newsapi = NewsApiClient(api_key=api_key)"
   ]
  },
  {
   "cell_type": "markdown",
   "metadata": {},
   "source": [
    "## Getting News Articles in English\n",
    "\n",
    "In this section you have to fetch all the news articles using the News API with the keywords `financial`, `crisis`, and `2008` in English.\n",
    "\n"
   ]
  },
  {
   "cell_type": "code",
   "execution_count": 4,
   "metadata": {},
   "outputs": [
    {
     "data": {
      "text/plain": [
       "2873"
      ]
     },
     "execution_count": 4,
     "metadata": {},
     "output_type": "execute_result"
    }
   ],
   "source": [
    "# Fetch news about the financial crisis on 2008 in English\n",
    "crisis_news_en = newsapi.get_everything(\n",
    "    q=\"financial AND crisis AND 2008\",\n",
    "    language=\"en\"\n",
    ")\n",
    "\n",
    "# Show the total number of news\n",
    "crisis_news_en[\"totalResults\"]"
   ]
  },
  {
   "cell_type": "markdown",
   "metadata": {},
   "source": [
    "## Getting News Articles in French\n",
    "\n",
    "Fetching news on French will require keywords on this language, so retrieve all the news articles using the News API using the keywords `crise`, `financière`, and `2008`."
   ]
  },
  {
   "cell_type": "code",
   "execution_count": 5,
   "metadata": {},
   "outputs": [
    {
     "data": {
      "text/plain": [
       "143"
      ]
     },
     "execution_count": 5,
     "metadata": {},
     "output_type": "execute_result"
    }
   ],
   "source": [
    "# Fetch news about the financial crisis on 2008 in French\n",
    "crisis_news_fr = newsapi.get_everything(\n",
    "    q=\"crise AND financière  AND 2008\",\n",
    "    language=\"fr\"\n",
    ")\n",
    "\n",
    "# Show the total number of news\n",
    "crisis_news_fr[\"totalResults\"]"
   ]
  },
  {
   "cell_type": "markdown",
   "metadata": {},
   "source": [
    "## Create a DataFrame with All the Results\n",
    "\n",
    "The first task on this section is to create a function called `create_df(news, language)` that will transform the `articles` list in a DataFrame. This function will receive two parameters: `news` is the articles list and `language` is a string to specify the language of the news articles.\n",
    "\n",
    "The resulting DataFrame should have the following columns:\n",
    "\n",
    "* Title: The article's title\n",
    "* Description: The article's description\n",
    "* Text: The article's content\n",
    "* Date: The date when the article was published on the format `YYY-MM-DD` (eg. 2019-07-11)\n",
    "* Language: A string specifying the news language (`en` for English, `fr` for French)"
   ]
  },
  {
   "cell_type": "code",
   "execution_count": 6,
   "metadata": {},
   "outputs": [],
   "source": [
    "def create_df(news, language):\n",
    "    articles = []\n",
    "    for article in news:\n",
    "        try:\n",
    "            title = article[\"title\"]\n",
    "            description = article[\"description\"]\n",
    "            text = article[\"content\"]\n",
    "            date = article[\"publishedAt\"][:10]\n",
    "\n",
    "            articles.append({\n",
    "                \"title\": title,\n",
    "                \"description\": description,\n",
    "                \"text\": text,\n",
    "                \"date\": date,\n",
    "                \"language\": language\n",
    "            })\n",
    "        except AttributeError:\n",
    "            pass\n",
    "\n",
    "    return pd.DataFrame(articles)"
   ]
  },
  {
   "cell_type": "markdown",
   "metadata": {},
   "source": [
    "Use the create_df() function to create a DataFrame for the English news and another for the French news."
   ]
  },
  {
   "cell_type": "code",
   "execution_count": 7,
   "metadata": {},
   "outputs": [],
   "source": [
    "# Create a DataFrame with the news in English\n",
    "crisis_en_df = create_df(crisis_news_en[\"articles\"], \"en\")\n",
    "\n",
    "# Create a DataFrame with the news in French\n",
    "crisis_fr_df = create_df(crisis_news_fr[\"articles\"], \"fr\")"
   ]
  },
  {
   "cell_type": "markdown",
   "metadata": {},
   "source": [
    "Concatenate both DataFrames having the English news at the top and the French news at the bottom."
   ]
  },
  {
   "cell_type": "code",
   "execution_count": 8,
   "metadata": {},
   "outputs": [],
   "source": [
    "crisis_df = pd.concat([crisis_en_df, crisis_fr_df])"
   ]
  },
  {
   "cell_type": "code",
   "execution_count": 9,
   "metadata": {},
   "outputs": [
    {
     "data": {
      "text/html": [
       "<div>\n",
       "<style scoped>\n",
       "    .dataframe tbody tr th:only-of-type {\n",
       "        vertical-align: middle;\n",
       "    }\n",
       "\n",
       "    .dataframe tbody tr th {\n",
       "        vertical-align: top;\n",
       "    }\n",
       "\n",
       "    .dataframe thead th {\n",
       "        text-align: right;\n",
       "    }\n",
       "</style>\n",
       "<table border=\"1\" class=\"dataframe\">\n",
       "  <thead>\n",
       "    <tr style=\"text-align: right;\">\n",
       "      <th></th>\n",
       "      <th>title</th>\n",
       "      <th>description</th>\n",
       "      <th>text</th>\n",
       "      <th>date</th>\n",
       "      <th>language</th>\n",
       "    </tr>\n",
       "  </thead>\n",
       "  <tbody>\n",
       "    <tr>\n",
       "      <th>0</th>\n",
       "      <td>UPDATE 1-Nomura logs biggest quarterly loss in...</td>\n",
       "      <td>Nomura Holdings Inc, Japan's biggest brokerage...</td>\n",
       "      <td>By Reuters Staff\\r\\nFILE PHOTO: The logo of No...</td>\n",
       "      <td>2021-04-27</td>\n",
       "      <td>en</td>\n",
       "    </tr>\n",
       "    <tr>\n",
       "      <th>1</th>\n",
       "      <td>Quinn Emanuel is big winner in new $14 mln fee...</td>\n",
       "      <td>A judge overseeing a long-running legal battle...</td>\n",
       "      <td>A judge overseeing a long-running legal battle...</td>\n",
       "      <td>2021-04-29</td>\n",
       "      <td>en</td>\n",
       "    </tr>\n",
       "    <tr>\n",
       "      <th>2</th>\n",
       "      <td>Nomura logs biggest quarterly loss in over a d...</td>\n",
       "      <td>Nomura Holdings Inc (8604.T), Japan's biggest ...</td>\n",
       "      <td>The logo of Nomura Securities is seen at the c...</td>\n",
       "      <td>2021-04-27</td>\n",
       "      <td>en</td>\n",
       "    </tr>\n",
       "    <tr>\n",
       "      <th>3</th>\n",
       "      <td>Fed chair: As world evolves, 'cyber risk' beco...</td>\n",
       "      <td>Federal Reserve Chairman Jerome Powell says th...</td>\n",
       "      <td>Inyo County Sheriffs OfficeAlexander Lofgren, ...</td>\n",
       "      <td>2021-04-12</td>\n",
       "      <td>en</td>\n",
       "    </tr>\n",
       "    <tr>\n",
       "      <th>4</th>\n",
       "      <td>What is bitcoin? Why the digital currency beca...</td>\n",
       "      <td>BITCOIN ($ BTC) was introduced by \"Satoshi Nak...</td>\n",
       "      <td>This article was translated from our Spanish e...</td>\n",
       "      <td>2021-04-06</td>\n",
       "      <td>en</td>\n",
       "    </tr>\n",
       "  </tbody>\n",
       "</table>\n",
       "</div>"
      ],
      "text/plain": [
       "                                               title  \\\n",
       "0  UPDATE 1-Nomura logs biggest quarterly loss in...   \n",
       "1  Quinn Emanuel is big winner in new $14 mln fee...   \n",
       "2  Nomura logs biggest quarterly loss in over a d...   \n",
       "3  Fed chair: As world evolves, 'cyber risk' beco...   \n",
       "4  What is bitcoin? Why the digital currency beca...   \n",
       "\n",
       "                                         description  \\\n",
       "0  Nomura Holdings Inc, Japan's biggest brokerage...   \n",
       "1  A judge overseeing a long-running legal battle...   \n",
       "2  Nomura Holdings Inc (8604.T), Japan's biggest ...   \n",
       "3  Federal Reserve Chairman Jerome Powell says th...   \n",
       "4  BITCOIN ($ BTC) was introduced by \"Satoshi Nak...   \n",
       "\n",
       "                                                text        date language  \n",
       "0  By Reuters Staff\\r\\nFILE PHOTO: The logo of No...  2021-04-27       en  \n",
       "1  A judge overseeing a long-running legal battle...  2021-04-29       en  \n",
       "2  The logo of Nomura Securities is seen at the c...  2021-04-27       en  \n",
       "3  Inyo County Sheriffs OfficeAlexander Lofgren, ...  2021-04-12       en  \n",
       "4  This article was translated from our Spanish e...  2021-04-06       en  "
      ]
     },
     "execution_count": 9,
     "metadata": {},
     "output_type": "execute_result"
    }
   ],
   "source": [
    "# Show the head articles (they are in English)\n",
    "crisis_df.head()"
   ]
  },
  {
   "cell_type": "code",
   "execution_count": 10,
   "metadata": {},
   "outputs": [
    {
     "data": {
      "text/html": [
       "<div>\n",
       "<style scoped>\n",
       "    .dataframe tbody tr th:only-of-type {\n",
       "        vertical-align: middle;\n",
       "    }\n",
       "\n",
       "    .dataframe tbody tr th {\n",
       "        vertical-align: top;\n",
       "    }\n",
       "\n",
       "    .dataframe thead th {\n",
       "        text-align: right;\n",
       "    }\n",
       "</style>\n",
       "<table border=\"1\" class=\"dataframe\">\n",
       "  <thead>\n",
       "    <tr style=\"text-align: right;\">\n",
       "      <th></th>\n",
       "      <th>title</th>\n",
       "      <th>description</th>\n",
       "      <th>text</th>\n",
       "      <th>date</th>\n",
       "      <th>language</th>\n",
       "    </tr>\n",
       "  </thead>\n",
       "  <tbody>\n",
       "    <tr>\n",
       "      <th>15</th>\n",
       "      <td>Eva Joly : «Aucun destin présidentiel n’émerge...</td>\n",
       "      <td>L’ex-eurodéputée et candidate écologiste à la ...</td>\n",
       "      <td>On limaginait prendre du champ. Rien de tout ç...</td>\n",
       "      <td>2021-04-16</td>\n",
       "      <td>fr</td>\n",
       "    </tr>\n",
       "    <tr>\n",
       "      <th>16</th>\n",
       "      <td>Qui sont les nouveaux investisseurs en Bourse ?</td>\n",
       "      <td>Le surplus d’épargne né de la crise financière...</td>\n",
       "      <td>En 2020, une nouvelle classe de boursicoteurs ...</td>\n",
       "      <td>2021-04-16</td>\n",
       "      <td>fr</td>\n",
       "    </tr>\n",
       "    <tr>\n",
       "      <th>17</th>\n",
       "      <td>L’impact de la crise commence en haut</td>\n",
       "      <td>L’ouvrage collectif, réalisé sous la direction...</td>\n",
       "      <td>Le livre. Comment évoluent les politiques publ...</td>\n",
       "      <td>2021-04-08</td>\n",
       "      <td>fr</td>\n",
       "    </tr>\n",
       "    <tr>\n",
       "      <th>18</th>\n",
       "      <td>Du krach de 1929 à la faillite de Lehman Broth...</td>\n",
       "      <td>Alors que la flambée des Bourses américaines f...</td>\n",
       "      <td>Des traders au New York Stock Exchange, le 15 ...</td>\n",
       "      <td>2021-04-18</td>\n",
       "      <td>fr</td>\n",
       "    </tr>\n",
       "    <tr>\n",
       "      <th>19</th>\n",
       "      <td>\"Après le Covid, la France face à sa révolutio...</td>\n",
       "      <td>Gabriel Gaspard, chef d’entreprise à la retrai...</td>\n",
       "      <td>L'heure de vérité pour la France arrive. Les É...</td>\n",
       "      <td>2021-04-20</td>\n",
       "      <td>fr</td>\n",
       "    </tr>\n",
       "  </tbody>\n",
       "</table>\n",
       "</div>"
      ],
      "text/plain": [
       "                                                title  \\\n",
       "15  Eva Joly : «Aucun destin présidentiel n’émerge...   \n",
       "16    Qui sont les nouveaux investisseurs en Bourse ?   \n",
       "17              L’impact de la crise commence en haut   \n",
       "18  Du krach de 1929 à la faillite de Lehman Broth...   \n",
       "19  \"Après le Covid, la France face à sa révolutio...   \n",
       "\n",
       "                                          description  \\\n",
       "15  L’ex-eurodéputée et candidate écologiste à la ...   \n",
       "16  Le surplus d’épargne né de la crise financière...   \n",
       "17  L’ouvrage collectif, réalisé sous la direction...   \n",
       "18  Alors que la flambée des Bourses américaines f...   \n",
       "19  Gabriel Gaspard, chef d’entreprise à la retrai...   \n",
       "\n",
       "                                                 text        date language  \n",
       "15  On limaginait prendre du champ. Rien de tout ç...  2021-04-16       fr  \n",
       "16  En 2020, une nouvelle classe de boursicoteurs ...  2021-04-16       fr  \n",
       "17  Le livre. Comment évoluent les politiques publ...  2021-04-08       fr  \n",
       "18  Des traders au New York Stock Exchange, le 15 ...  2021-04-18       fr  \n",
       "19  L'heure de vérité pour la France arrive. Les É...  2021-04-20       fr  "
      ]
     },
     "execution_count": 10,
     "metadata": {},
     "output_type": "execute_result"
    }
   ],
   "source": [
    "# Show the tail articles (they are in French)\n",
    "crisis_df.tail()"
   ]
  },
  {
   "cell_type": "markdown",
   "metadata": {},
   "source": [
    "Save tha final DataFrame as a CSV file for further analysis in the forthcoming activities."
   ]
  },
  {
   "cell_type": "code",
   "execution_count": 12,
   "metadata": {},
   "outputs": [],
   "source": [
    "file_path = Path(\"crisis_news_en_fr.csv\")\n",
    "crisis_df.to_csv(file_path, index=False, encoding='utf-8-sig')"
   ]
  },
  {
   "cell_type": "code",
   "execution_count": null,
   "metadata": {},
   "outputs": [],
   "source": []
  }
 ],
 "metadata": {
  "file_extension": ".py",
  "kernelspec": {
   "display_name": "Python 3",
   "language": "python",
   "name": "python3"
  },
  "language_info": {
   "codemirror_mode": {
    "name": "ipython",
    "version": 3
   },
   "file_extension": ".py",
   "mimetype": "text/x-python",
   "name": "python",
   "nbconvert_exporter": "python",
   "pygments_lexer": "ipython3",
   "version": "3.7.7"
  },
  "mimetype": "text/x-python",
  "name": "python",
  "npconvert_exporter": "python",
  "pygments_lexer": "ipython3",
  "version": 3
 },
 "nbformat": 4,
 "nbformat_minor": 4
}
